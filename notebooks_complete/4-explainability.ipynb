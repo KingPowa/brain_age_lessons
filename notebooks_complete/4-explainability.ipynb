{
 "cells": [
  {
   "cell_type": "markdown",
   "id": "828b27b9",
   "metadata": {},
   "source": [
    "We will now introduce some explainability technique we can use to explain our brain age prediction.\n",
    "\n",
    "Explainability is the branch of AI that allows to explain the predictions of Deep Learning based models, which will be otherwise not possible to interpret. \n",
    "\n",
    "For example, we have seen that our DL pipeline obtained results superior to simple regression. We can infer that this is highly probably related to some specific features we introduced in the input, but we will hardly get access to this information. Deep Learning based models usually comes at the cost of processing data in ways not understandable for a person. If with regression we could somewhat understand how a specific feature contributed to the regression result, this is not possible with Deep Learning, unless we rely on advanced approaches.\n",
    "\n",
    "We will introduce here 2 types of explainability:\n",
    "- ante-hoc, which we will demonstrate via an advanced Regression model, XGBoost\n",
    "- post-hoc, which we will informally demostrate via our best DL based architecture"
   ]
  },
  {
   "cell_type": "code",
   "execution_count": 1,
   "id": "ef02c00c",
   "metadata": {},
   "outputs": [],
   "source": [
    "# !pip install xgboost\n",
    "# !pip install captum"
   ]
  },
  {
   "cell_type": "code",
   "execution_count": 2,
   "id": "13c12d9f",
   "metadata": {},
   "outputs": [],
   "source": [
    "# Imports\n",
    "# General purpose\n",
    "import os\n",
    "from collections import Counter\n",
    "from typing import List, Literal\n",
    "# # DL\n",
    "import torch as th\n",
    "import numpy as np\n",
    "import torch.nn as nn\n",
    "import torch.nn.functional as F\n",
    "# Data\n",
    "import monai.transforms as mtr\n",
    "from torch.utils.data import Dataset, DataLoader\n",
    "import pandas as pd\n",
    "from sklearn.model_selection import train_test_split\n",
    "from sklearn.model_selection import StratifiedKFold, GridSearchCV, RandomizedSearchCV\n",
    "from sklearn.preprocessing import StandardScaler, OneHotEncoder\n",
    "from sklearn.pipeline import Pipeline\n",
    "from sklearn.compose import ColumnTransformer\n",
    "# Visualize\n",
    "import matplotlib.pyplot as plt\n",
    "import tqdm\n",
    "# Fit\n",
    "from xgboost import XGBRegressor\n",
    "from scipy.stats import randint, uniform\n",
    "from sklearn.linear_model import LinearRegression\n",
    "from sklearn.kernel_ridge import KernelRidge\n",
    "from sklearn.metrics import mean_absolute_error, r2_score\n",
    "from sklearn.base import clone\n",
    "import numpy.random as nr\n",
    "# Explain\n",
    "from xgboost import plot_importance\n",
    "from sklearn.inspection import permutation_importance\n",
    "from captum.attr import (\n",
    "    InputXGradient,\n",
    "    IntegratedGradients,\n",
    "    LRP,\n",
    "    FeatureAblation,\n",
    "    ShapleyValueSampling,\n",
    ")"
   ]
  },
  {
   "cell_type": "code",
   "execution_count": 80,
   "id": "8a738b68",
   "metadata": {},
   "outputs": [],
   "source": [
    "# We will use this as our demogprahic dataset\n",
    "masterfile_path = \"../data/IXI/subjects.csv\"\n",
    "masterfile = pd.read_csv(masterfile_path)\n",
    "masterfile = masterfile[masterfile[\"age\"] != -1.0]\n",
    "thickness_df = pd.read_csv(\"../data/IXI/thickness.csv\")\n",
    "merged = thickness_df.merge(masterfile, on='subject_id', how='inner')\n",
    "merged['age'] = pd.to_numeric(merged['age'], errors='coerce')\n",
    "merged['mean_thickness_weighted'] = pd.to_numeric(merged['mean_thickness_weighted'], errors='coerce')\n",
    "merged['mean_thickness_simple'] = pd.to_numeric(merged['mean_thickness_simple'], errors='coerce')\n",
    "merged = merged.dropna(subset=['age', 'sex', 'mean_thickness_weighted', 'mean_thickness_simple'])\n",
    "\n",
    "# Let's extract the per thickness matrix\n",
    "def make_thickness_matrix(df,\n",
    "                          sample_id_cols=['subject_id', 'session', 'run'],\n",
    "                          metadata_cols=['age', 'sex', 'scanner', 'site', 'diagnosis', 'dataset_name', 'registered_mni'],\n",
    "                          value_col='mean_thickness_weighted',\n",
    "                          hemi_col='hemi',\n",
    "                          region_col='region',\n",
    "                          aggfunc='mean'):\n",
    "    df = df.copy()\n",
    "    df['sample_id'] = df[sample_id_cols].astype(str).agg('_'.join, axis=1)\n",
    "\n",
    "    # pivoting\n",
    "    index_cols = ['sample_id'] + list(sample_id_cols) + list(metadata_cols)\n",
    "    pivot = df.pivot_table(\n",
    "        index=index_cols,\n",
    "        columns=[hemi_col, region_col],\n",
    "        values=value_col,\n",
    "        aggfunc=aggfunc  # if duplicates exist (e.g., multiple entries), aggregate\n",
    "    )\n",
    "\n",
    "    pivot.columns = [f\"{hemi}_{region}\" for hemi, region in sorted(pivot.columns)]\n",
    "    wide_df = pivot.reset_index()\n",
    "\n",
    "    return wide_df\n",
    "\n",
    "merged['sample_id'] = merged[['subject_id', 'session', 'run']].astype(str).agg('_'.join, axis=1)\n",
    "coverage = (merged\n",
    "            .drop_duplicates(subset=['sample_id', 'hemi', 'region'])\n",
    "            .groupby(['hemi', 'region'])['sample_id']\n",
    "            .nunique()\n",
    "            .sort_values(ascending=True))\n",
    "\n",
    "merged_filtered = merged[~((merged[\"region\"] == 'temporalpole') & (merged[\"hemi\"] == \"rh\") | (merged[\"region\"] == \"unknown\"))]\n",
    "merged_filtered\n",
    "\n",
    "proper_thickness_matrix_df = make_thickness_matrix(\n",
    "    df=merged_filtered,\n",
    "    value_col='mean_thickness_weighted'\n",
    ")\n",
    "\n",
    "test_set = proper_thickness_matrix_df[proper_thickness_matrix_df[\"scanner\"] == \"GE-1.5T\"]\n",
    "train_set = proper_thickness_matrix_df[proper_thickness_matrix_df[\"scanner\"] != \"GE-1.5T\"]\n",
    "\n",
    "labels_features = [c for c in train_set.columns if \"lh\" in c or \"rh\" in c]\n",
    "X = train_set[labels_features].values  # start with one raw thickness measure\n",
    "y = train_set['age'].values\n",
    "\n",
    "# Validation of about ~20%\n",
    "indices = np.arange(len(train_set))\n",
    "tr_idx, te_idx = train_test_split(indices, test_size=0.2, random_state=0)\n",
    "\n",
    "X_tr = X[tr_idx]\n",
    "X_te = X[te_idx]\n",
    "y_tr = y[tr_idx]\n",
    "y_te = y[te_idx]"
   ]
  },
  {
   "cell_type": "code",
   "execution_count": 4,
   "id": "d9d3236e",
   "metadata": {},
   "outputs": [
    {
     "data": {
      "text/plain": [
       "(66, 494)"
      ]
     },
     "execution_count": 4,
     "metadata": {},
     "output_type": "execute_result"
    }
   ],
   "source": [
    "test_set[\"subject_id\"].nunique(), train_set[\"subject_id\"].nunique()"
   ]
  },
  {
   "cell_type": "markdown",
   "id": "f728bbd5",
   "metadata": {},
   "source": [
    "# Ante-Hoc\n",
    "\n",
    "Some methods are \"Ante-Hoc\" explainable by design. It means they provide _tangible_ tools to interpret their decisions. As an example, let's consider LinearRegression."
   ]
  },
  {
   "cell_type": "code",
   "execution_count": 5,
   "id": "5bfc5d33",
   "metadata": {},
   "outputs": [
    {
     "name": "stderr",
     "output_type": "stream",
     "text": [
      "/home/afrotscher/miniconda3/envs/myenv/lib/python3.10/site-packages/sklearn/model_selection/_split.py:776: UserWarning: The least populated class in y has only 2 members, which is less than n_splits=5.\n",
      "  warnings.warn(\n",
      "/home/afrotscher/miniconda3/envs/myenv/lib/python3.10/site-packages/sklearn/model_selection/_split.py:776: UserWarning: The least populated class in y has only 2 members, which is less than n_splits=5.\n",
      "  warnings.warn(\n",
      "/home/afrotscher/miniconda3/envs/myenv/lib/python3.10/site-packages/sklearn/model_selection/_split.py:776: UserWarning: The least populated class in y has only 2 members, which is less than n_splits=5.\n",
      "  warnings.warn(\n",
      "/home/afrotscher/miniconda3/envs/myenv/lib/python3.10/site-packages/sklearn/model_selection/_split.py:776: UserWarning: The least populated class in y has only 2 members, which is less than n_splits=5.\n",
      "  warnings.warn(\n"
     ]
    },
    {
     "name": "stdout",
     "output_type": "stream",
     "text": [
      "Thickness only R²: 0.4415798003747483 MAE: 10.002472490583761\n",
      "Thickness + scanner R²: 0.4343853842094282 MAE: 10.074729683064058\n",
      "Thickness + sex R²: 0.45725472356039076 MAE: 9.822401729461607\n",
      "Thickness + scanner + sex R²: 0.45153730870766373 MAE: 9.8750650010662\n"
     ]
    }
   ],
   "source": [
    "# let's write a little function that allows us to test quickly various model\n",
    "def evaluate_models_with_cv(df: pd.DataFrame,\n",
    "                            labels_features,\n",
    "                            include_scanner=False,\n",
    "                            include_sex=False,\n",
    "                            model_reg=None,\n",
    "                            n_splits=5,\n",
    "                            random_state=0,):\n",
    "    internal_df = df.copy()\n",
    "    internal_df[\"age_bin\"] = pd.cut(df[\"age\"], bins=10, labels=False, include_lowest=True)\n",
    "    internal_df[\"stratify_key\"] = internal_df[\"age_bin\"].astype(str) + \"_\" + internal_df[\"sex\"].astype(str)\n",
    "\n",
    "    if model_reg is None:\n",
    "        model_reg = LinearRegression()\n",
    "\n",
    "    covariates = []\n",
    "    if include_scanner:\n",
    "        covariates.append(\"scanner\")\n",
    "    if include_sex:\n",
    "        covariates.append(\"sex\")\n",
    "\n",
    "    transformers = [(\"num\", StandardScaler(), labels_features)]\n",
    "    if covariates: # only if we have covariates we append\n",
    "        transformers.append(\n",
    "            (\"cat\", OneHotEncoder(drop=\"first\", sparse_output=False), covariates)\n",
    "        )\n",
    "\n",
    "    preprocessor = ColumnTransformer(transformers=transformers, remainder=\"drop\")\n",
    "\n",
    "    model = Pipeline([\n",
    "        (\"preproc\", preprocessor),\n",
    "        (\"reg\", model_reg)\n",
    "    ])\n",
    "\n",
    "    X: pd.DataFrame = df[labels_features + covariates]\n",
    "    y = df[\"age\"].values\n",
    "\n",
    "    kf = StratifiedKFold(n_splits=n_splits, shuffle=True, random_state=random_state)\n",
    "    preds = np.zeros(len(y))\n",
    "\n",
    "    for train_idx, val_idx in kf.split(np.arange(len(X)), y=internal_df[\"stratify_key\"].values):\n",
    "        X_tr = X.iloc[train_idx]\n",
    "        X_val = X.iloc[val_idx]\n",
    "        y_tr = y[train_idx]\n",
    "\n",
    "        m = clone(model)\n",
    "        m.fit(X_tr, y_tr)\n",
    "        preds[val_idx] = m.predict(X_val)\n",
    "\n",
    "    return {\n",
    "        \"r2\": r2_score(y, preds),\n",
    "        \"mae\": mean_absolute_error(y, preds),\n",
    "        \"preds\": preds,\n",
    "        \"fitted_whole_model\": clone(model).fit(X, y)\n",
    "    }\n",
    "\n",
    "# Evaluate\n",
    "res_base = evaluate_models_with_cv(train_set, labels_features, include_scanner=False)\n",
    "res_scanner = evaluate_models_with_cv(train_set, labels_features, include_scanner=True)\n",
    "res_sex = evaluate_models_with_cv(train_set, labels_features, include_sex=True)\n",
    "res_both = evaluate_models_with_cv(train_set, labels_features, include_scanner=True, include_sex=True)\n",
    "\n",
    "print(\"Thickness only R²:\", res_base[\"r2\"], \"MAE:\", res_base[\"mae\"])\n",
    "print(\"Thickness + scanner R²:\", res_scanner[\"r2\"], \"MAE:\", res_scanner[\"mae\"])\n",
    "print(\"Thickness + sex R²:\", res_sex[\"r2\"], \"MAE:\", res_sex[\"mae\"])\n",
    "print(\"Thickness + scanner + sex R²:\", res_both[\"r2\"], \"MAE:\", res_both[\"mae\"])\n"
   ]
  },
  {
   "cell_type": "code",
   "execution_count": 6,
   "id": "8f694147",
   "metadata": {},
   "outputs": [
    {
     "name": "stdout",
     "output_type": "stream",
     "text": [
      "MAE (Test Set): 14.273 +/- 9.290, R²: -0.132\n"
     ]
    }
   ],
   "source": [
    "X_test_set = test_set[labels_features + [\"sex\"]]\n",
    "y_test_set = test_set[\"age\"].values\n",
    "\n",
    "def mae_fn(y_true, y_pred):\n",
    "    abs_errors = np.abs(y_true - y_pred)\n",
    "    return abs_errors.mean(), abs_errors.std()\n",
    "\n",
    "y_test_pred = res_sex[\"fitted_whole_model\"].predict(X_test_set)\n",
    "mae_m, mae_std = mae_fn(y_test_set.reshape(-1,1), y_test_pred.reshape(-1,1)) # Why mae? :)\n",
    "r2 = r2_score(y_test_set, y_test_pred)\n",
    "print(f\"MAE (Test Set): {mae_m:.3f} +/- {mae_std:.3f}, R²: {r2:.3f}\")"
   ]
  },
  {
   "cell_type": "markdown",
   "id": "3f1fbc67",
   "metadata": {},
   "source": [
    "One intuitive way to understand the decision of our classifier is investigating the weights \n",
    "Let's get the weights from the sex model"
   ]
  },
  {
   "cell_type": "code",
   "execution_count": 7,
   "id": "84c64792",
   "metadata": {},
   "outputs": [
    {
     "data": {
      "text/plain": [
       "array([-2.0976938 ,  1.06513789,  0.13614705, -0.4225422 ,  1.24938307,\n",
       "       -2.1239698 ,  3.25360649,  2.91527726,  0.11858473,  1.27080641,\n",
       "        1.42748377, -1.74442726, -2.14577825,  0.05766091,  3.16709098,\n",
       "        0.57196616, -1.2432182 , -0.01288543, -4.30379396,  1.67124551,\n",
       "        0.50009887, -0.21453328, -2.77104325,  0.67758204,  1.09860582,\n",
       "        1.67309673, -4.62123649, -0.19819684, -1.33109859,  0.53251043,\n",
       "        0.02525821, -0.7572721 ,  0.99161265, -0.82895668,  0.65575015,\n",
       "       -1.68927998, -1.15998876,  2.1037062 ,  0.30513379, -1.99706259,\n",
       "        1.13862325, -1.09074313,  2.11191781, -0.80796867, -0.20227567,\n",
       "       -2.32719993,  0.83884676, -2.62983277, -0.26295951, -0.21839982,\n",
       "        1.51909855,  0.80782647,  2.05851236, -2.12668648,  1.37997996,\n",
       "        1.12574766, -1.31620913, -1.87162429,  1.82892511, -2.39600465,\n",
       "        0.33699553, -0.72608713, -4.24119994])"
      ]
     },
     "execution_count": 7,
     "metadata": {},
     "output_type": "execute_result"
    }
   ],
   "source": [
    "coefficients = res_sex[\"fitted_whole_model\"][\"reg\"].coef_\n",
    "coefficients"
   ]
  },
  {
   "cell_type": "markdown",
   "id": "a58beacf",
   "metadata": {},
   "source": [
    "The coefficients are the weight $\\beta_d$ applied to the feature $x_{i,d}$ of our data to obtain the prediction $\\hat{y_i}$\n",
    "Intuitively, these represent the \"weights\" that have determined the final age of our candidate. Let's link them to our cortical thickness values"
   ]
  },
  {
   "cell_type": "code",
   "execution_count": 8,
   "id": "6ea6a6c0",
   "metadata": {},
   "outputs": [],
   "source": [
    "all_fts = labels_features + [\"sex\"]\n",
    "assert len(all_fts) == coefficients.shape[0]"
   ]
  },
  {
   "cell_type": "code",
   "execution_count": 9,
   "id": "2eeaa91f",
   "metadata": {},
   "outputs": [
    {
     "data": {
      "image/png": "[encoded data removed]",
      "text/plain": [
       "<Figure size 1000x1575 with 1 Axes>"
      ]
     },
     "metadata": {},
     "output_type": "display_data"
    }
   ],
   "source": [
    "# Sort indices by absolute coefficient value \n",
    "coeff_sorted = np.argsort(np.abs(coefficients))\n",
    "\n",
    "# Get all sorted features and coefficients\n",
    "sorted_features = [all_fts[i] for i in coeff_sorted]\n",
    "sorted_coeffs = coefficients[coeff_sorted]\n",
    "\n",
    "# Plot horizontal bar chart\n",
    "plt.figure(figsize=(10, max(6, len(sorted_features) * 0.25)))  # height scales with #features\n",
    "bars = plt.barh(range(len(sorted_coeffs)), sorted_coeffs, \n",
    "                color=['red' if c < 0 else 'blue' for c in sorted_coeffs])\n",
    "\n",
    "plt.yticks(range(len(sorted_features)), sorted_features)\n",
    "plt.xlabel(\"Coefficient Value\")\n",
    "plt.title(\"Feature Contributions (sorted by importance)\")\n",
    "plt.axvline(0, color='black', linewidth=0.8)\n",
    "\n",
    "# Add coefficient labels on bars\n",
    "for bar, coeff in zip(bars, sorted_coeffs):\n",
    "    plt.text(bar.get_width(), \n",
    "             bar.get_y() + bar.get_height()/2,\n",
    "             f\"{coeff:.2f}\", \n",
    "             ha='left' if coeff > 0 else 'right', \n",
    "             va='center')\n",
    "\n",
    "plt.tight_layout()\n",
    "plt.show()"
   ]
  },
  {
   "cell_type": "markdown",
   "id": "e83a74f1",
   "metadata": {},
   "source": [
    "We can see that one of the main drivers of the prediction is the sex. Why? We can have an easy intuition of that looking at the skewness of the data"
   ]
  },
  {
   "cell_type": "code",
   "execution_count": 10,
   "id": "3d682c49",
   "metadata": {},
   "outputs": [
    {
     "name": "stdout",
     "output_type": "stream",
     "text": [
      "51.17686567164179 47.52734513274336\n",
      "corr(sex, age) = -0.11165830829054588  |  Cohen's d(age by sex) = 0.22508148478649556\n"
     ]
    }
   ],
   "source": [
    "print(train_set[train_set[\"sex\"] == \"Female\"][\"age\"].mean(), train_set[train_set[\"sex\"] == \"Male\"][\"age\"].mean())\n",
    "\n",
    "df = train_set.copy()\n",
    "sex01 = (df[\"sex\"] == \"Male\").astype(int)     # 0=F, 1=M\n",
    "r = np.corrcoef(sex01, df[\"age\"])[0,1]        # point-biserial correlation\n",
    "mF, mM = df.loc[df.sex==\"Female\",\"age\"].mean(), df.loc[df.sex==\"Male\",\"age\"].mean()\n",
    "sF, sM = df.loc[df.sex==\"Female\",\"age\"].std(ddof=1), df.loc[df.sex==\"Male\",\"age\"].std(ddof=1)\n",
    "nF, nM = df.sex.eq(\"Female\").sum(), df.sex.eq(\"Male\").sum()\n",
    "sp = np.sqrt(((nF-1)*sF**2 + (nM-1)*sM**2) / (nF+nM-2))\n",
    "d = (mF - mM) / sp\n",
    "print(\"corr(sex, age) =\", r, \" |  Cohen's d(age by sex) =\", d)"
   ]
  },
  {
   "cell_type": "markdown",
   "id": "760beb45",
   "metadata": {},
   "source": [
    "An intuition is that then sex is important as we are biasing the predictor due to the imbalance of sex/age. Let's take a look to the age distribution once again:"
   ]
  },
  {
   "cell_type": "code",
   "execution_count": 11,
   "id": "e8efbbe6",
   "metadata": {},
   "outputs": [
    {
     "data": {
      "image/png": "[encoded data removed]",
      "text/plain": [
       "<Figure size 640x480 with 1 Axes>"
      ]
     },
     "metadata": {},
     "output_type": "display_data"
    }
   ],
   "source": [
    "# Let's plot the age distribution to better visualize it\n",
    "def plot_age_distribution_by(by=None, df=None):\n",
    "    plt.figure()\n",
    "    if by is None:\n",
    "        plt.hist(df['age'], bins=30, edgecolor='black')\n",
    "        plt.title('Age distribution')\n",
    "    else:\n",
    "        groups = df[by].unique()\n",
    "        for g in groups:\n",
    "            subset = df[df[by] == g]\n",
    "            plt.hist(subset['age'], bins=30, alpha=0.5, label=f\"{g} ({subset[by].count()})\")\n",
    "        plt.title(f'Age distribution by {by}')\n",
    "        plt.legend()\n",
    "    plt.xlabel('Age')\n",
    "    plt.ylabel('Count')\n",
    "    plt.tight_layout()\n",
    "    plt.show()\n",
    "\n",
    "plot_age_distribution_by(\"sex\", df=train_set)"
   ]
  },
  {
   "cell_type": "markdown",
   "id": "15d03dba",
   "metadata": {},
   "source": [
    "As we can see, female/male are not aligned. In particular, female has a more prominent age count. What if we then remove some sample?"
   ]
  },
  {
   "cell_type": "code",
   "execution_count": 12,
   "id": "2fcc0967",
   "metadata": {},
   "outputs": [
    {
     "data": {
      "image/png": "[encoded data removed]",
      "text/plain": [
       "<Figure size 640x480 with 1 Axes>"
      ]
     },
     "metadata": {},
     "output_type": "display_data"
    }
   ],
   "source": [
    "# We take the age range that is basically \"bad\"\n",
    "age_min, age_max = 50, 70\n",
    "spiky_subset = df[(df['age'] >= age_min) & (df['age'] <= age_max)]\n",
    "# We define the 2 sexes\n",
    "females = spiky_subset[spiky_subset['sex'] == 'Female']\n",
    "males = spiky_subset[spiky_subset['sex'] == 'Male']\n",
    "# ...and downsample them\n",
    "females_down = females.sample(n=len(males), random_state=0)\n",
    "balanced_train_set = pd.concat([females_down, males])\n",
    "balanced_train_set = pd.concat([\n",
    "    df[~((df['age'] >= age_min) & (df['age'] <= age_max))],\n",
    "    balanced_train_set\n",
    "])\n",
    "\n",
    "plot_age_distribution_by(\"sex\", df=balanced_train_set)"
   ]
  },
  {
   "cell_type": "markdown",
   "id": "781c7dd4",
   "metadata": {},
   "source": [
    "Let's see how this reflects to our predictor"
   ]
  },
  {
   "cell_type": "code",
   "execution_count": 13,
   "id": "214af673",
   "metadata": {},
   "outputs": [
    {
     "name": "stderr",
     "output_type": "stream",
     "text": [
      "/home/afrotscher/miniconda3/envs/myenv/lib/python3.10/site-packages/sklearn/model_selection/_split.py:776: UserWarning: The least populated class in y has only 2 members, which is less than n_splits=5.\n",
      "  warnings.warn(\n",
      "/home/afrotscher/miniconda3/envs/myenv/lib/python3.10/site-packages/sklearn/model_selection/_split.py:776: UserWarning: The least populated class in y has only 2 members, which is less than n_splits=5.\n",
      "  warnings.warn(\n",
      "/home/afrotscher/miniconda3/envs/myenv/lib/python3.10/site-packages/sklearn/model_selection/_split.py:776: UserWarning: The least populated class in y has only 2 members, which is less than n_splits=5.\n",
      "  warnings.warn(\n",
      "/home/afrotscher/miniconda3/envs/myenv/lib/python3.10/site-packages/sklearn/model_selection/_split.py:776: UserWarning: The least populated class in y has only 2 members, which is less than n_splits=5.\n",
      "  warnings.warn(\n"
     ]
    },
    {
     "name": "stdout",
     "output_type": "stream",
     "text": [
      "Thickness only R²: 0.4431386185257489 MAE: 10.18602709211906\n",
      "Thickness + scanner R²: 0.4437043730168919 MAE: 10.194630293485382\n",
      "Thickness + sex R²: 0.4554790003518201 MAE: 10.077419965542713\n",
      "Thickness + scanner + sex R²: 0.45667743217752677 MAE: 10.057096597339802\n"
     ]
    }
   ],
   "source": [
    "# Evaluate\n",
    "res_base = evaluate_models_with_cv(balanced_train_set, labels_features, include_scanner=False)\n",
    "res_scanner = evaluate_models_with_cv(balanced_train_set, labels_features, include_scanner=True)\n",
    "res_sex = evaluate_models_with_cv(balanced_train_set, labels_features, include_sex=True)\n",
    "res_both = evaluate_models_with_cv(balanced_train_set, labels_features, include_scanner=True, include_sex=True)\n",
    "\n",
    "print(\"Thickness only R²:\", res_base[\"r2\"], \"MAE:\", res_base[\"mae\"])\n",
    "print(\"Thickness + scanner R²:\", res_scanner[\"r2\"], \"MAE:\", res_scanner[\"mae\"])\n",
    "print(\"Thickness + sex R²:\", res_sex[\"r2\"], \"MAE:\", res_sex[\"mae\"])\n",
    "print(\"Thickness + scanner + sex R²:\", res_both[\"r2\"], \"MAE:\", res_both[\"mae\"])"
   ]
  },
  {
   "cell_type": "code",
   "execution_count": 14,
   "id": "2cc2979e",
   "metadata": {},
   "outputs": [
    {
     "data": {
      "text/plain": [
       "array([-1.77002287,  1.07087852,  0.10114729, -0.75828081,  1.92525798,\n",
       "       -1.77199717,  3.80623164,  2.67448863,  0.23562541,  1.48887188,\n",
       "        1.79385776, -2.25083609, -2.35552979, -0.3486131 ,  3.3821157 ,\n",
       "        0.23916433, -1.53102763, -0.21412126, -4.29609272,  1.90977928,\n",
       "        0.69374309, -0.1061313 , -3.17277879,  0.36185369,  1.30973317,\n",
       "        1.6614453 , -4.53946635, -0.34682621, -1.98606323,  0.32357529,\n",
       "       -0.35675391, -0.90351452,  0.75347524, -0.53043682,  0.93639158,\n",
       "       -2.27967225, -1.37363809,  2.23506836, -0.30047822, -1.87155262,\n",
       "        0.46204907, -0.7917542 ,  2.37835827, -0.75270166,  0.00496906,\n",
       "       -2.01310725,  0.99563936, -2.3660859 , -0.53430145, -0.47967355,\n",
       "        1.61768548,  0.63157835,  2.03443407, -2.17749707,  1.05769039,\n",
       "        1.48076177, -0.53068988, -2.76232195,  2.25981857, -1.38645717,\n",
       "        0.24203165, -0.50667271, -3.33502577])"
      ]
     },
     "execution_count": 14,
     "metadata": {},
     "output_type": "execute_result"
    }
   ],
   "source": [
    "res_sex[\"fitted_whole_model\"][\"reg\"].coef_"
   ]
  },
  {
   "cell_type": "code",
   "execution_count": 15,
   "id": "5b830bd6",
   "metadata": {},
   "outputs": [
    {
     "name": "stdout",
     "output_type": "stream",
     "text": [
      "MAE (Test Set): 15.026 +/- 10.006, R²: -0.272\n"
     ]
    }
   ],
   "source": [
    "X_test_set = test_set[labels_features + [\"sex\"]]\n",
    "y_test_set = test_set[\"age\"].values\n",
    "\n",
    "y_test_pred = res_sex[\"fitted_whole_model\"].predict(X_test_set)\n",
    "mae_m, mae_std = mae_fn(y_test_set.reshape(-1,1), y_test_pred.reshape(-1,1)) # Why mae? :)\n",
    "r2 = r2_score(y_test_set, y_test_pred)\n",
    "print(f\"MAE (Test Set): {mae_m:.3f} +/- {mae_std:.3f}, R²: {r2:.3f}\")"
   ]
  },
  {
   "cell_type": "markdown",
   "id": "1a004333",
   "metadata": {},
   "source": [
    "This is just an _informative_ example: we have dropped some of the samples which is something you should no do in practical settings. Also, we observe this phenomena on the coefficients due to reason that go beyond the simple imbalance. For instance, you may notice that:\n",
    "\n",
    "- sex is on a different scale than corthical thickness (is, in fact, a dummy variable)\n",
    "- we have a correlation between sex and corthical thickness \n",
    "- removing some age sample may have introduced an imbalance elsewhere (for instance, now some corthical thickness are overrepresented for a specific sex and a specific scanner and the estimator may have caught this relationship)\n",
    "\n",
    "However, you can see that with a balanced dataset we have also an higher control on the intensity of the sex coefficient. \n",
    "\n",
    "The main takeway is that analysing the coefficient led us to notice a problem and allows us to do _informed_ decision on how to modify the model.\n",
    "\n",
    "This is the main scope of explainability: shed light on the decision process of model to make them as trustable as possible."
   ]
  },
  {
   "cell_type": "markdown",
   "id": "703e72d3",
   "metadata": {},
   "source": [
    "For regression model, analysing coefficients is a straightforward way to get an insight on the decisions. However, this is not always the case. Non linear model may express coefficients that are no more easily understandable. Let's consider the Kernel Regression"
   ]
  },
  {
   "cell_type": "code",
   "execution_count": 16,
   "id": "bafdca8b",
   "metadata": {},
   "outputs": [
    {
     "name": "stderr",
     "output_type": "stream",
     "text": [
      "/home/afrotscher/miniconda3/envs/myenv/lib/python3.10/site-packages/sklearn/model_selection/_split.py:776: UserWarning: The least populated class in y has only 2 members, which is less than n_splits=5.\n",
      "  warnings.warn(\n",
      "/home/afrotscher/miniconda3/envs/myenv/lib/python3.10/site-packages/sklearn/model_selection/_split.py:776: UserWarning: The least populated class in y has only 2 members, which is less than n_splits=5.\n",
      "  warnings.warn(\n",
      "/home/afrotscher/miniconda3/envs/myenv/lib/python3.10/site-packages/sklearn/model_selection/_split.py:776: UserWarning: The least populated class in y has only 2 members, which is less than n_splits=5.\n",
      "  warnings.warn(\n",
      "/home/afrotscher/miniconda3/envs/myenv/lib/python3.10/site-packages/sklearn/model_selection/_split.py:776: UserWarning: The least populated class in y has only 2 members, which is less than n_splits=5.\n",
      "  warnings.warn(\n"
     ]
    },
    {
     "name": "stdout",
     "output_type": "stream",
     "text": [
      "Thickness only R²: 0.4890461757036817 MAE: 9.555151472566344\n",
      "Thickness + scanner R²: 0.4891704843642475 MAE: 9.555843315679773\n",
      "Thickness + sex R²: 0.5011836345880301 MAE: 9.467215563661709\n",
      "Thickness + scanner + sex R²: 0.5020261919703866 MAE: 9.458109516732518\n"
     ]
    }
   ],
   "source": [
    "def evaluate_models_with_cv_and_stratified_and_tune(df: pd.DataFrame,\n",
    "                                            labels_features,\n",
    "                                            include_scanner=False,\n",
    "                                            include_sex=False,\n",
    "                                            model_reg=None,\n",
    "                                            n_splits=5,\n",
    "                                            random_state=0,\n",
    "                                            param_grid = None):\n",
    "    # Add age_bin\n",
    "    internal_df = df.copy()\n",
    "    internal_df[\"age_bin\"] = pd.cut(df[\"age\"], bins=10, labels=False, include_lowest=True)\n",
    "    internal_df[\"stratify_key\"] = internal_df[\"age_bin\"].astype(str) + \"_\" + internal_df[\"sex\"].astype(str)\n",
    "    \n",
    "    if model_reg is None:\n",
    "        model_reg = LinearRegression()\n",
    "\n",
    "    covariates = []\n",
    "    if include_scanner:\n",
    "        covariates.append(\"scanner\")\n",
    "    if include_sex:\n",
    "        covariates.append(\"sex\")\n",
    "\n",
    "    transformers = [(\"num\", StandardScaler(), labels_features)]\n",
    "    if covariates: # only if we have covariates we append\n",
    "        transformers.append(\n",
    "            (\"cat\", OneHotEncoder(drop=\"first\", sparse_output=False), covariates)\n",
    "        )\n",
    "\n",
    "    preprocessor = ColumnTransformer(transformers=transformers, remainder=\"drop\")\n",
    "\n",
    "    pipeline = Pipeline([\n",
    "        (\"preproc\", preprocessor),\n",
    "        (\"reg\", model_reg)\n",
    "    ])\n",
    "\n",
    "    X: pd.DataFrame = internal_df[labels_features + covariates]\n",
    "    y = internal_df[\"age\"].values\n",
    "\n",
    "    outer_cv = StratifiedKFold(n_splits=n_splits, shuffle=True, random_state=random_state)\n",
    "    preds = np.zeros(len(y))\n",
    "\n",
    "    eff_model = pipeline\n",
    "    splits = list(outer_cv.split(np.arange(len(X)), internal_df[\"stratify_key\"].values))\n",
    "\n",
    "    if param_grid is not None:\n",
    "        # Cv is used for estimating the best parameter for the model\n",
    "        search = GridSearchCV(\n",
    "            estimator=clone(pipeline),\n",
    "            param_grid=param_grid,\n",
    "            cv=splits,\n",
    "            scoring=\"neg_mean_absolute_error\",\n",
    "            refit=True,\n",
    "            n_jobs=1,\n",
    "        )\n",
    "        search.fit(X, y)\n",
    "        eff_model = search.best_estimator_\n",
    "\n",
    "    # We fit the (maybe best) model on the splits\n",
    "    for (train_idx, val_idx) in splits:\n",
    "        X_tr = X.iloc[train_idx]\n",
    "        X_val = X.iloc[val_idx]\n",
    "        y_tr = y[train_idx]\n",
    "        y_val = y[val_idx]\n",
    "        \n",
    "        m = clone(eff_model)\n",
    "        m.fit(X_tr, y_tr) # Refit\n",
    "        preds[val_idx] = m.predict(X_val)\n",
    "\n",
    "    return {\n",
    "        \"r2\": r2_score(y, preds),\n",
    "        \"mae\": mean_absolute_error(y, preds),\n",
    "        \"preds\": preds,\n",
    "        \"fitted_whole_model\": clone(eff_model).fit(X, y)\n",
    "    }\n",
    "\n",
    "PARAM_GRID = {\n",
    "    \"reg__alpha\": [1e-4,1e-3,1e-2,1e-1,1],\n",
    "    \"reg__gamma\": [1e-4,1e-3,1e-2,1e-1]\n",
    "}\n",
    "\n",
    "res_base = evaluate_models_with_cv_and_stratified_and_tune(train_set, labels_features, include_scanner=False, model_reg=KernelRidge(kernel=\"rbf\"), param_grid=PARAM_GRID)\n",
    "res_scanner = evaluate_models_with_cv_and_stratified_and_tune(train_set, labels_features, include_scanner=True, model_reg=KernelRidge(kernel=\"rbf\"), param_grid=PARAM_GRID)\n",
    "res_sex = evaluate_models_with_cv_and_stratified_and_tune(train_set, labels_features, include_sex=True, model_reg=KernelRidge(kernel=\"rbf\"), param_grid=PARAM_GRID)\n",
    "res_both = evaluate_models_with_cv_and_stratified_and_tune(train_set, labels_features, include_scanner=True, include_sex=True, model_reg=KernelRidge(kernel=\"rbf\"), param_grid=PARAM_GRID)\n",
    "\n",
    "print(\"Thickness only R²:\", res_base[\"r2\"], \"MAE:\", res_base[\"mae\"])\n",
    "print(\"Thickness + scanner R²:\", res_scanner[\"r2\"], \"MAE:\", res_scanner[\"mae\"])\n",
    "print(\"Thickness + sex R²:\", res_sex[\"r2\"], \"MAE:\", res_sex[\"mae\"])\n",
    "print(\"Thickness + scanner + sex R²:\", res_both[\"r2\"], \"MAE:\", res_both[\"mae\"])"
   ]
  },
  {
   "cell_type": "code",
   "execution_count": 17,
   "id": "89be1484",
   "metadata": {},
   "outputs": [
    {
     "data": {
      "text/plain": [
       "array([-7.35965223e+01, -1.46443672e+03, -6.46377488e+02, -1.43483870e+03,\n",
       "       -1.15289201e+03, -1.84246371e+03, -1.06066470e+03, -4.43075610e+01,\n",
       "       -1.41867955e+03, -1.58780554e+03, -2.10468214e+03, -7.62217191e+02,\n",
       "       -9.30624908e+02, -1.60486122e+03,  1.23530605e+03, -3.83662549e+02,\n",
       "        6.33060142e+02, -2.90166150e+02, -1.05341301e+03, -1.46353897e+03,\n",
       "       -1.41897985e+02, -1.29658311e+03, -1.03582884e+03, -1.39231565e+02,\n",
       "       -1.30872422e+03, -1.19351120e+03, -5.81908446e+02, -1.39077114e+03,\n",
       "       -1.85141046e+03, -2.03208490e+03, -2.82564854e+02,  2.33761193e+02,\n",
       "        4.15511141e+00,  1.06630148e+02, -1.76307786e+03,  1.37565301e+03,\n",
       "       -1.21020246e+03, -6.11218303e+02, -2.27688510e+02,  4.30297750e+02,\n",
       "       -9.58754789e+02,  5.22310639e+02, -6.32204174e+02, -1.82097299e+03,\n",
       "        7.30535447e+01, -4.10991847e+02,  7.52119973e+02, -6.13276097e+02,\n",
       "       -1.12075236e+03, -2.56492009e+03, -1.37927836e+03,  6.79540920e+02,\n",
       "       -9.75518841e+02, -1.00198983e+03, -1.39129996e+03, -1.21863177e+03,\n",
       "        4.20499280e+02,  1.34070676e+03, -7.14249642e+02, -1.02384798e+03,\n",
       "       -7.89785007e+02, -2.27326575e+02, -1.10301558e+02, -2.20839396e+03,\n",
       "        9.97597784e+02, -1.84512355e+03, -3.29540703e+02, -1.22272224e+03,\n",
       "       -6.25881657e+02, -2.03375108e+03, -9.67808716e+02, -4.74847456e+01,\n",
       "       -1.40496127e+03, -1.36408138e+03,  6.84708364e+02, -9.10146540e+02,\n",
       "       -1.31271095e+03, -6.91363767e+02, -1.36048721e+03,  2.76626406e+01,\n",
       "       -5.75046536e+02,  1.52678825e+03, -3.29898691e+02,  6.16903062e+02,\n",
       "       -5.19057314e+02, -5.12596124e+02, -6.74021603e+02, -2.80690798e+02,\n",
       "        3.06453508e+01, -1.57278328e+03, -3.11447709e+02,  7.08686962e+02,\n",
       "        3.28988062e+02, -6.72688881e+02, -2.96035199e+02, -1.40017532e+03,\n",
       "        4.36938423e+02,  1.71524683e+03, -1.59221131e+03, -1.52018848e+03,\n",
       "        5.64151737e+01, -1.03315824e+03, -1.15362391e+03, -9.41242172e+02,\n",
       "        5.84286498e+02,  9.92652861e+02, -1.42395606e+03, -6.38668455e+02,\n",
       "       -1.13954608e+03,  1.02999628e+02, -1.60193645e+01,  1.86923315e+03,\n",
       "       -9.43563347e+01, -2.12967960e+03,  1.32068531e+02, -1.82499672e+02,\n",
       "       -1.43178559e+03, -1.41506653e+03, -2.18721198e+02, -1.51417754e+02,\n",
       "       -2.92163517e+02, -1.28496397e+03,  3.45866608e+02, -1.16510406e+03,\n",
       "       -2.15297621e+02, -7.94319085e+02, -1.82513678e+01, -8.34734312e+02,\n",
       "       -2.23245320e+03, -1.82014523e+03,  2.71341324e+02,  4.38003019e+02,\n",
       "        1.66085275e+03, -4.76542706e+02,  1.42047701e+02,  7.97449832e+02,\n",
       "        1.40657967e+02, -1.05045045e+02,  1.13130598e+03, -1.02147168e+03,\n",
       "        6.05508204e+02,  9.43316999e+02,  4.52570720e+02,  7.48298779e+02,\n",
       "       -7.09598898e+02,  1.27856226e+03, -4.93839390e+02,  4.84534780e+02,\n",
       "        1.21603879e+02, -1.16731752e+03, -1.26049699e+03, -5.13402169e+02,\n",
       "       -9.82612082e+02, -5.39419857e+02, -2.93176381e+02,  2.47985839e+02,\n",
       "       -8.64513907e+02, -8.19980528e+02,  3.64500611e+03,  1.36548066e+03,\n",
       "       -1.08811171e+03, -4.77582095e+01, -1.03221244e+03,  3.23770516e+02,\n",
       "        7.09386376e+02, -5.84849649e+02,  1.36669099e+03, -7.28156744e+02,\n",
       "        1.10159694e+03, -4.25052874e+02,  7.20746564e+02, -2.68632214e+02,\n",
       "       -1.04078771e+03, -8.33452018e+02,  7.95998814e+02, -5.78084149e+02,\n",
       "        2.70721790e+02,  2.64166317e+01, -1.25292266e+03, -1.99066315e+03,\n",
       "        4.41261898e+02,  3.26093051e+02, -2.05604674e+02, -2.26583995e+02,\n",
       "       -2.05776649e+02,  1.24839406e+02,  5.95131769e+02,  7.02851510e+02,\n",
       "        2.04047564e+03, -8.19723558e+02,  9.06129016e+02, -4.73835497e+02,\n",
       "       -1.30567052e+03, -2.30561838e+03,  1.53534105e+03,  1.35194698e+03,\n",
       "       -5.10086372e+01, -4.60835549e+02,  4.58384528e+02, -2.84467580e+02,\n",
       "       -1.46610429e+03, -1.48795002e+03,  1.91710918e+03,  2.63016458e+01,\n",
       "       -6.45967153e+02, -2.94204441e+02,  7.24502157e+02,  4.84146829e+02,\n",
       "        1.25290687e+03, -9.28108838e+01, -1.05285139e+03, -1.47053055e+03,\n",
       "        1.45549378e+03, -9.90195776e+02, -4.27923447e+02, -3.64712025e+02,\n",
       "        1.66947422e+03, -1.00427762e+01, -1.63769767e+03, -1.51557760e+02,\n",
       "       -9.87285961e+02, -8.68988583e+02, -1.96719535e+03,  9.81348202e+02,\n",
       "       -6.48573061e+02, -7.26467528e+02, -1.63946084e+03, -7.48824592e+02,\n",
       "       -9.02011306e+02, -8.37975991e+02, -1.10861297e+03,  1.08640120e+03,\n",
       "       -8.11737913e+02,  4.63347103e+02, -1.76161103e+00, -9.64825830e+02,\n",
       "       -5.30231655e+01, -1.05653011e+03, -8.53508446e+02, -1.12969187e+02,\n",
       "        8.90143433e+02,  8.82029235e+02, -5.21316052e+02,  7.76975267e+02,\n",
       "        5.73810513e+02, -1.12866981e+03,  1.12847035e+03, -1.10125225e+03,\n",
       "        1.73370878e+03,  1.44700911e+03, -6.51949841e+02,  3.98892272e+01,\n",
       "        7.59390791e+02,  1.03745187e+03,  4.21905913e+02,  9.06305801e+02,\n",
       "        1.99696878e+02,  9.27114064e+02, -5.27075475e+02, -2.05677656e+02,\n",
       "        1.09282537e+03,  6.20740561e+02,  1.89532905e+02,  2.20424556e+03,\n",
       "        4.61465257e+02,  2.18383502e+03,  5.48879858e+02,  1.89565206e+03,\n",
       "        1.11760200e+03,  1.63193676e+03, -2.65684780e+02, -5.57333998e+02,\n",
       "        3.41378049e+02, -1.81540309e+03,  5.08039742e+02, -5.32434469e+01,\n",
       "       -3.75849179e+02,  7.42643925e+02,  1.53352395e+03,  1.09668721e+03,\n",
       "        8.62206773e+02,  1.50219427e+03,  2.49392563e+02,  1.58799404e+02,\n",
       "       -1.44926375e+02,  1.55860247e+03,  1.11038635e+03,  5.03653941e+02,\n",
       "        5.86363019e+02,  5.83142764e+02, -1.65703736e+01, -3.55530604e+02,\n",
       "       -1.52578438e+03,  6.37125041e+02,  6.98726079e+02,  8.83254050e+02,\n",
       "        3.34758865e+02,  8.52434512e+01, -8.66354924e+01,  2.00936292e+02,\n",
       "        1.15692884e+03,  1.80736590e+02, -5.35000446e+02, -1.48559027e+03,\n",
       "       -1.63480625e+03,  3.92909814e+02,  1.61487784e+03,  1.08138217e+03,\n",
       "       -7.65772078e+02,  6.89821933e+02, -6.78002372e+02,  4.22131806e+02,\n",
       "        1.25130994e+03, -1.14328237e+03, -8.06689221e+02, -3.12941930e+02,\n",
       "        1.19067621e+03, -1.88161525e+02, -7.79469753e+02, -1.49300666e+02,\n",
       "       -3.40769805e+01, -9.14509090e+01,  8.18105133e+02, -9.24961117e+02,\n",
       "        5.12218577e+02, -8.14477463e+02, -5.19663061e+02,  4.04763035e+02,\n",
       "        2.43218209e+02,  9.39136324e+02, -2.02012328e+03, -3.80906234e+02,\n",
       "        1.62158000e+03,  1.82635525e+03, -1.51462856e+03, -1.91232617e+02,\n",
       "        4.46963181e+02,  1.63253071e+03, -2.74201293e+02, -5.99662415e+02,\n",
       "       -3.69160628e+02,  2.01062180e+03,  7.90953217e+02, -4.45254337e+02,\n",
       "        7.65685722e+02,  8.30249958e+02,  3.26756033e+02,  2.68496844e+02,\n",
       "        9.93697640e+02,  1.79654426e+03,  2.19018100e+03, -5.46862839e+02,\n",
       "        1.87714722e+02,  5.02896006e+02, -3.26750724e+02,  1.51278126e+03,\n",
       "       -1.91587102e+03, -6.79972202e+01,  1.17095713e+03,  2.19913861e+03,\n",
       "       -4.09012840e+02,  6.31657829e+02, -4.75872749e+02, -2.64122044e+02,\n",
       "        1.63047672e+03,  1.83605568e+03,  4.59824869e+02,  8.16138756e+01,\n",
       "        6.04470065e+02,  7.40892822e+02,  3.68752071e+02,  1.31501255e+03,\n",
       "        1.48651142e+03,  8.96609053e+02,  1.05482360e+03, -5.78293630e+02,\n",
       "        1.44296410e+03,  8.58311106e+02,  6.97473514e+02, -3.22323198e+02,\n",
       "        5.50917994e+02,  5.66110064e+02,  1.56121450e+03,  6.86864918e+02,\n",
       "        7.52455317e+02,  1.76027885e+03,  1.52692896e+03,  3.03293304e+02,\n",
       "        1.07453895e+03,  1.94737698e+03, -7.90778262e+01, -1.19647421e+02,\n",
       "        1.26478391e+03,  1.97759790e+03,  1.05286748e+03,  1.51200144e+03,\n",
       "        1.55218455e+03,  1.57924441e+03,  7.26621794e+02,  4.84201159e+02,\n",
       "        1.43631756e+03,  5.98326883e+02,  1.14095454e+03, -9.74628961e+02,\n",
       "        2.71245446e+02, -1.18406633e+03, -5.80647094e+01,  1.08439358e+03,\n",
       "        6.09132265e+02, -2.49332684e+02,  1.65607489e+03, -2.41581812e+02,\n",
       "        1.37453074e+03, -6.94107424e+02,  1.12159635e+03,  9.42897701e+02,\n",
       "        9.46605854e+02,  1.28761396e+03,  5.19876822e+02,  1.76914646e+03,\n",
       "        1.14592284e+02,  2.30711513e+01, -1.80506396e+02,  1.01723079e+03,\n",
       "        8.92969002e+02,  1.16322042e+03, -5.16851442e+02,  3.60164064e+02,\n",
       "        1.14054102e+03,  5.17282064e+02, -1.27058660e+03,  1.76267329e+02,\n",
       "       -1.12578216e+02, -7.73290057e+02, -1.75935661e+03,  9.30323550e+02,\n",
       "       -3.71165313e+02,  7.81073336e+02, -6.81683695e+02, -6.86565681e+02,\n",
       "       -7.34932643e+02,  5.39706038e+02, -1.60160040e+03, -4.52132331e+02,\n",
       "        2.61400802e+02, -4.32989897e+02, -1.94975480e+01, -2.79937743e+02,\n",
       "        3.91930930e+02,  6.08244431e+02, -7.87789215e+02, -3.50596306e+02,\n",
       "       -1.88644332e+02,  2.45020168e+02, -1.29983121e+02,  1.48307120e+01,\n",
       "        1.69351657e+03,  7.32840285e+02,  1.99951567e+03,  7.40915919e+02,\n",
       "       -4.29406897e+02,  2.12722554e+03, -1.06929491e+03, -7.80985555e+02,\n",
       "       -4.32495865e+02, -1.15686406e+03, -3.65365447e+02, -8.09891431e+02,\n",
       "       -8.37923890e+02, -5.73916801e+02, -1.05281136e+03,  6.04384607e+02,\n",
       "        9.13371587e+02,  1.26352495e+03,  8.85653128e+02,  1.09035010e+03,\n",
       "       -2.43803912e+02,  3.16727880e+02,  3.02965381e+02, -6.55796346e+02,\n",
       "       -2.15670451e+03,  5.94809602e+02, -1.47511363e+03,  2.26539522e+03,\n",
       "        1.39813633e+03,  1.86943662e+03,  1.12930882e+03,  8.91394140e+02,\n",
       "        8.65089995e+02, -1.05868212e+03,  2.85133798e+02,  1.19431261e+03,\n",
       "       -3.11880595e+02, -1.48818124e+03])"
      ]
     },
     "execution_count": 17,
     "metadata": {},
     "output_type": "execute_result"
    }
   ],
   "source": [
    "res_sex[\"fitted_whole_model\"][\"reg\"].dual_coef_"
   ]
  },
  {
   "cell_type": "markdown",
   "id": "f7fb6858",
   "metadata": {},
   "source": [
    "As explained before, by nature Kernel Regression learns coefficients $\\alpha_i$ that can be interpreted as how much the kernel derived from the sample $x_i$ contributes to the optimal final decision (that minimizes our loss function).\n",
    "\n",
    "So, it does not _directly_ relate to the feature. However, it provides an information which can be interpreted differently, guiding how much our model relies on the single samples for outputting an optimal decision."
   ]
  },
  {
   "cell_type": "code",
   "execution_count": 18,
   "id": "bf80ecc5",
   "metadata": {},
   "outputs": [
    {
     "data": {
      "image/png": "[encoded data removed]",
      "text/plain": [
       "<Figure size 1000x600 with 1 Axes>"
      ]
     },
     "metadata": {},
     "output_type": "display_data"
    }
   ],
   "source": [
    "dual_coeffs = res_sex[\"fitted_whole_model\"][\"reg\"].dual_coef_.ravel()  # shape: (n_support,)\n",
    "\n",
    "order = np.argsort(np.abs(dual_coeffs))[::-1]\n",
    "\n",
    "k = 10\n",
    "top = order[:k]\n",
    "coeff_top = dual_coeffs[top]\n",
    "samples_top = np.arange(len(train_set))[top]  # these are indices in train_set for those SVs\n",
    "\n",
    "# 4) Plot\n",
    "y = np.arange(len(top))\n",
    "plt.figure(figsize=(10, 6))\n",
    "bars = plt.barh(y, coeff_top, color=['red' if c < 0 else 'blue' for c in coeff_top])\n",
    "\n",
    "plt.yticks(y, samples_top)\n",
    "plt.xlabel(\"Sample weight (dual coefficient)\")\n",
    "plt.title(\"Top Support-Vector Contributions (sorted by absolute weight)\")\n",
    "plt.axvline(0, color='black', linewidth=0.8)\n",
    "\n",
    "for bar, coeff in zip(bars, coeff_top):\n",
    "    x = bar.get_width()\n",
    "    y_mid = bar.get_y() + bar.get_height()/2\n",
    "    offset = 0.01 * np.sign(coeff) if coeff != 0 else 0.01\n",
    "    plt.text(x + offset, y_mid, f\"{coeff:.2f}\",\n",
    "             ha='left' if coeff >= 0 else 'right', va='center')\n",
    "\n",
    "plt.gca().invert_yaxis()\n",
    "plt.tight_layout()\n",
    "plt.show()"
   ]
  },
  {
   "cell_type": "markdown",
   "id": "12dbf0eb",
   "metadata": {},
   "source": [
    "For example, we could investigate on the nature of sample 158 and 49 in this case"
   ]
  },
  {
   "cell_type": "code",
   "execution_count": 19,
   "id": "90851bc0",
   "metadata": {},
   "outputs": [
    {
     "data": {
      "text/html": [
       "<div>\n",
       "<style scoped>\n",
       "    .dataframe tbody tr th:only-of-type {\n",
       "        vertical-align: middle;\n",
       "    }\n",
       "\n",
       "    .dataframe tbody tr th {\n",
       "        vertical-align: top;\n",
       "    }\n",
       "\n",
       "    .dataframe thead th {\n",
       "        text-align: right;\n",
       "    }\n",
       "</style>\n",
       "<table border=\"1\" class=\"dataframe\">\n",
       "  <thead>\n",
       "    <tr style=\"text-align: right;\">\n",
       "      <th></th>\n",
       "      <th>sample_id</th>\n",
       "      <th>subject_id</th>\n",
       "      <th>session</th>\n",
       "      <th>run</th>\n",
       "      <th>age</th>\n",
       "      <th>sex</th>\n",
       "      <th>scanner</th>\n",
       "      <th>site</th>\n",
       "      <th>diagnosis</th>\n",
       "      <th>dataset_name</th>\n",
       "      <th>...</th>\n",
       "      <th>rh_posteriorcingulate</th>\n",
       "      <th>rh_precentral</th>\n",
       "      <th>rh_precuneus</th>\n",
       "      <th>rh_rostralanteriorcingulate</th>\n",
       "      <th>rh_rostralmiddlefrontal</th>\n",
       "      <th>rh_superiorfrontal</th>\n",
       "      <th>rh_superiorparietal</th>\n",
       "      <th>rh_superiortemporal</th>\n",
       "      <th>rh_supramarginal</th>\n",
       "      <th>rh_transversetemporal</th>\n",
       "    </tr>\n",
       "  </thead>\n",
       "  <tbody>\n",
       "    <tr>\n",
       "      <th>159</th>\n",
       "      <td>IXI185_1_1</td>\n",
       "      <td>IXI185</td>\n",
       "      <td>1</td>\n",
       "      <td>1</td>\n",
       "      <td>83.46</td>\n",
       "      <td>Male</td>\n",
       "      <td>Philips-1.5T</td>\n",
       "      <td>Guy’s-Hospital</td>\n",
       "      <td>Healthy</td>\n",
       "      <td>IXI</td>\n",
       "      <td>...</td>\n",
       "      <td>2.820738</td>\n",
       "      <td>2.617676</td>\n",
       "      <td>2.337835</td>\n",
       "      <td>3.008620</td>\n",
       "      <td>2.515043</td>\n",
       "      <td>2.811942</td>\n",
       "      <td>2.339970</td>\n",
       "      <td>3.052557</td>\n",
       "      <td>2.813436</td>\n",
       "      <td>2.143670</td>\n",
       "    </tr>\n",
       "    <tr>\n",
       "      <th>50</th>\n",
       "      <td>IXI064_1_1</td>\n",
       "      <td>IXI064</td>\n",
       "      <td>1</td>\n",
       "      <td>1</td>\n",
       "      <td>20.07</td>\n",
       "      <td>Male</td>\n",
       "      <td>Philips-1.5T</td>\n",
       "      <td>Guy’s-Hospital</td>\n",
       "      <td>Healthy</td>\n",
       "      <td>IXI</td>\n",
       "      <td>...</td>\n",
       "      <td>2.598609</td>\n",
       "      <td>2.669792</td>\n",
       "      <td>2.472304</td>\n",
       "      <td>2.687465</td>\n",
       "      <td>2.473087</td>\n",
       "      <td>2.869501</td>\n",
       "      <td>2.344048</td>\n",
       "      <td>3.081256</td>\n",
       "      <td>2.726443</td>\n",
       "      <td>2.677341</td>\n",
       "    </tr>\n",
       "    <tr>\n",
       "      <th>194</th>\n",
       "      <td>IXI226_1_1</td>\n",
       "      <td>IXI226</td>\n",
       "      <td>1</td>\n",
       "      <td>1</td>\n",
       "      <td>41.90</td>\n",
       "      <td>Female</td>\n",
       "      <td>Philips-3.0T</td>\n",
       "      <td>Hammersmith-Hospital</td>\n",
       "      <td>Healthy</td>\n",
       "      <td>IXI</td>\n",
       "      <td>...</td>\n",
       "      <td>2.374072</td>\n",
       "      <td>2.297599</td>\n",
       "      <td>2.270184</td>\n",
       "      <td>2.326892</td>\n",
       "      <td>2.324775</td>\n",
       "      <td>2.427560</td>\n",
       "      <td>2.101571</td>\n",
       "      <td>2.526850</td>\n",
       "      <td>2.553294</td>\n",
       "      <td>1.736794</td>\n",
       "    </tr>\n",
       "    <tr>\n",
       "      <th>549</th>\n",
       "      <td>IXI639_1_1</td>\n",
       "      <td>IXI639</td>\n",
       "      <td>1</td>\n",
       "      <td>1</td>\n",
       "      <td>86.20</td>\n",
       "      <td>Male</td>\n",
       "      <td>Philips-1.5T</td>\n",
       "      <td>Guy’s-Hospital</td>\n",
       "      <td>Healthy</td>\n",
       "      <td>IXI</td>\n",
       "      <td>...</td>\n",
       "      <td>2.551896</td>\n",
       "      <td>2.329326</td>\n",
       "      <td>2.170390</td>\n",
       "      <td>2.699584</td>\n",
       "      <td>2.189286</td>\n",
       "      <td>2.475057</td>\n",
       "      <td>1.956201</td>\n",
       "      <td>2.819005</td>\n",
       "      <td>2.389028</td>\n",
       "      <td>2.373766</td>\n",
       "    </tr>\n",
       "    <tr>\n",
       "      <th>129</th>\n",
       "      <td>IXI153_1_1</td>\n",
       "      <td>IXI153</td>\n",
       "      <td>1</td>\n",
       "      <td>1</td>\n",
       "      <td>22.43</td>\n",
       "      <td>Male</td>\n",
       "      <td>Philips-1.5T</td>\n",
       "      <td>Guy’s-Hospital</td>\n",
       "      <td>Healthy</td>\n",
       "      <td>IXI</td>\n",
       "      <td>...</td>\n",
       "      <td>2.490223</td>\n",
       "      <td>2.670834</td>\n",
       "      <td>2.319947</td>\n",
       "      <td>2.789490</td>\n",
       "      <td>2.468344</td>\n",
       "      <td>2.713049</td>\n",
       "      <td>2.138233</td>\n",
       "      <td>3.076307</td>\n",
       "      <td>2.624014</td>\n",
       "      <td>2.205395</td>\n",
       "    </tr>\n",
       "    <tr>\n",
       "      <th>64</th>\n",
       "      <td>IXI078_1_1</td>\n",
       "      <td>IXI078</td>\n",
       "      <td>1</td>\n",
       "      <td>1</td>\n",
       "      <td>28.51</td>\n",
       "      <td>Female</td>\n",
       "      <td>Philips-1.5T</td>\n",
       "      <td>Guy’s-Hospital</td>\n",
       "      <td>Healthy</td>\n",
       "      <td>IXI</td>\n",
       "      <td>...</td>\n",
       "      <td>2.551217</td>\n",
       "      <td>2.477402</td>\n",
       "      <td>2.374232</td>\n",
       "      <td>2.770838</td>\n",
       "      <td>2.578972</td>\n",
       "      <td>2.843719</td>\n",
       "      <td>2.262427</td>\n",
       "      <td>3.088369</td>\n",
       "      <td>2.795911</td>\n",
       "      <td>2.365130</td>\n",
       "    </tr>\n",
       "    <tr>\n",
       "      <th>284</th>\n",
       "      <td>IXI327_1_1</td>\n",
       "      <td>IXI327</td>\n",
       "      <td>1</td>\n",
       "      <td>1</td>\n",
       "      <td>73.56</td>\n",
       "      <td>Male</td>\n",
       "      <td>Philips-3.0T</td>\n",
       "      <td>Hammersmith-Hospital</td>\n",
       "      <td>Healthy</td>\n",
       "      <td>IXI</td>\n",
       "      <td>...</td>\n",
       "      <td>2.341492</td>\n",
       "      <td>2.596301</td>\n",
       "      <td>2.233497</td>\n",
       "      <td>2.676799</td>\n",
       "      <td>2.371612</td>\n",
       "      <td>2.574451</td>\n",
       "      <td>2.195186</td>\n",
       "      <td>3.026949</td>\n",
       "      <td>2.687759</td>\n",
       "      <td>2.249851</td>\n",
       "    </tr>\n",
       "    <tr>\n",
       "      <th>397</th>\n",
       "      <td>IXI458_1_1</td>\n",
       "      <td>IXI458</td>\n",
       "      <td>1</td>\n",
       "      <td>1</td>\n",
       "      <td>70.71</td>\n",
       "      <td>Male</td>\n",
       "      <td>Philips-1.5T</td>\n",
       "      <td>Guy’s-Hospital</td>\n",
       "      <td>Healthy</td>\n",
       "      <td>IXI</td>\n",
       "      <td>...</td>\n",
       "      <td>2.726123</td>\n",
       "      <td>2.741199</td>\n",
       "      <td>2.674767</td>\n",
       "      <td>3.149632</td>\n",
       "      <td>2.470944</td>\n",
       "      <td>2.897725</td>\n",
       "      <td>2.409883</td>\n",
       "      <td>3.250071</td>\n",
       "      <td>2.805207</td>\n",
       "      <td>2.579716</td>\n",
       "    </tr>\n",
       "    <tr>\n",
       "      <th>388</th>\n",
       "      <td>IXI448_1_1</td>\n",
       "      <td>IXI448</td>\n",
       "      <td>1</td>\n",
       "      <td>1</td>\n",
       "      <td>79.41</td>\n",
       "      <td>Male</td>\n",
       "      <td>Philips-3.0T</td>\n",
       "      <td>Hammersmith-Hospital</td>\n",
       "      <td>Healthy</td>\n",
       "      <td>IXI</td>\n",
       "      <td>...</td>\n",
       "      <td>2.618786</td>\n",
       "      <td>2.296445</td>\n",
       "      <td>2.160813</td>\n",
       "      <td>2.740014</td>\n",
       "      <td>2.572247</td>\n",
       "      <td>2.639678</td>\n",
       "      <td>2.139952</td>\n",
       "      <td>2.752182</td>\n",
       "      <td>2.401460</td>\n",
       "      <td>1.971724</td>\n",
       "    </tr>\n",
       "    <tr>\n",
       "      <th>286</th>\n",
       "      <td>IXI329_1_1</td>\n",
       "      <td>IXI329</td>\n",
       "      <td>1</td>\n",
       "      <td>1</td>\n",
       "      <td>55.66</td>\n",
       "      <td>Male</td>\n",
       "      <td>Philips-3.0T</td>\n",
       "      <td>Hammersmith-Hospital</td>\n",
       "      <td>Healthy</td>\n",
       "      <td>IXI</td>\n",
       "      <td>...</td>\n",
       "      <td>2.469252</td>\n",
       "      <td>2.542203</td>\n",
       "      <td>2.313576</td>\n",
       "      <td>2.873404</td>\n",
       "      <td>2.550848</td>\n",
       "      <td>2.868120</td>\n",
       "      <td>2.125130</td>\n",
       "      <td>3.173568</td>\n",
       "      <td>2.590398</td>\n",
       "      <td>1.946228</td>\n",
       "    </tr>\n",
       "  </tbody>\n",
       "</table>\n",
       "<p>10 rows × 73 columns</p>\n",
       "</div>"
      ],
      "text/plain": [
       "      sample_id subject_id  session  run    age     sex       scanner  \\\n",
       "159  IXI185_1_1     IXI185        1    1  83.46    Male  Philips-1.5T   \n",
       "50   IXI064_1_1     IXI064        1    1  20.07    Male  Philips-1.5T   \n",
       "194  IXI226_1_1     IXI226        1    1  41.90  Female  Philips-3.0T   \n",
       "549  IXI639_1_1     IXI639        1    1  86.20    Male  Philips-1.5T   \n",
       "129  IXI153_1_1     IXI153        1    1  22.43    Male  Philips-1.5T   \n",
       "64   IXI078_1_1     IXI078        1    1  28.51  Female  Philips-1.5T   \n",
       "284  IXI327_1_1     IXI327        1    1  73.56    Male  Philips-3.0T   \n",
       "397  IXI458_1_1     IXI458        1    1  70.71    Male  Philips-1.5T   \n",
       "388  IXI448_1_1     IXI448        1    1  79.41    Male  Philips-3.0T   \n",
       "286  IXI329_1_1     IXI329        1    1  55.66    Male  Philips-3.0T   \n",
       "\n",
       "                     site diagnosis dataset_name  ... rh_posteriorcingulate  \\\n",
       "159        Guy’s-Hospital   Healthy          IXI  ...              2.820738   \n",
       "50         Guy’s-Hospital   Healthy          IXI  ...              2.598609   \n",
       "194  Hammersmith-Hospital   Healthy          IXI  ...              2.374072   \n",
       "549        Guy’s-Hospital   Healthy          IXI  ...              2.551896   \n",
       "129        Guy’s-Hospital   Healthy          IXI  ...              2.490223   \n",
       "64         Guy’s-Hospital   Healthy          IXI  ...              2.551217   \n",
       "284  Hammersmith-Hospital   Healthy          IXI  ...              2.341492   \n",
       "397        Guy’s-Hospital   Healthy          IXI  ...              2.726123   \n",
       "388  Hammersmith-Hospital   Healthy          IXI  ...              2.618786   \n",
       "286  Hammersmith-Hospital   Healthy          IXI  ...              2.469252   \n",
       "\n",
       "     rh_precentral  rh_precuneus  rh_rostralanteriorcingulate  \\\n",
       "159       2.617676      2.337835                     3.008620   \n",
       "50        2.669792      2.472304                     2.687465   \n",
       "194       2.297599      2.270184                     2.326892   \n",
       "549       2.329326      2.170390                     2.699584   \n",
       "129       2.670834      2.319947                     2.789490   \n",
       "64        2.477402      2.374232                     2.770838   \n",
       "284       2.596301      2.233497                     2.676799   \n",
       "397       2.741199      2.674767                     3.149632   \n",
       "388       2.296445      2.160813                     2.740014   \n",
       "286       2.542203      2.313576                     2.873404   \n",
       "\n",
       "     rh_rostralmiddlefrontal  rh_superiorfrontal  rh_superiorparietal  \\\n",
       "159                 2.515043            2.811942             2.339970   \n",
       "50                  2.473087            2.869501             2.344048   \n",
       "194                 2.324775            2.427560             2.101571   \n",
       "549                 2.189286            2.475057             1.956201   \n",
       "129                 2.468344            2.713049             2.138233   \n",
       "64                  2.578972            2.843719             2.262427   \n",
       "284                 2.371612            2.574451             2.195186   \n",
       "397                 2.470944            2.897725             2.409883   \n",
       "388                 2.572247            2.639678             2.139952   \n",
       "286                 2.550848            2.868120             2.125130   \n",
       "\n",
       "     rh_superiortemporal  rh_supramarginal  rh_transversetemporal  \n",
       "159             3.052557          2.813436               2.143670  \n",
       "50              3.081256          2.726443               2.677341  \n",
       "194             2.526850          2.553294               1.736794  \n",
       "549             2.819005          2.389028               2.373766  \n",
       "129             3.076307          2.624014               2.205395  \n",
       "64              3.088369          2.795911               2.365130  \n",
       "284             3.026949          2.687759               2.249851  \n",
       "397             3.250071          2.805207               2.579716  \n",
       "388             2.752182          2.401460               1.971724  \n",
       "286             3.173568          2.590398               1.946228  \n",
       "\n",
       "[10 rows x 73 columns]"
      ]
     },
     "execution_count": 19,
     "metadata": {},
     "output_type": "execute_result"
    }
   ],
   "source": [
    "train_set.iloc[samples_top]"
   ]
  },
  {
   "cell_type": "markdown",
   "id": "b7c896eb",
   "metadata": {},
   "source": [
    "Further analysis may be conducted to understand why this samples are very important.\n",
    "\n",
    "One consideration for instance may be that these sample are somewhat unique (especially the old samples) both in terms of categorical feature or distribution of specific values of their corthical thickness. It is especially hard to show this (for instance one may plot the average distribution of all the corthical thickenss and understand if that sample present unique/outlying values).\n",
    "\n",
    "But as before we are more interested in the impact of single feature (which corthical thickness is important?). It is in practice possible to understand the contribution (called _global contribution_) by performing a so called _importance permutation_ (IP).\n",
    "\n",
    "The idea of IP is to quantifies the contribution of each feature to the model decision by randomly shuffling the feature's values and observing the resulting decrease in the model's score. \n",
    "\n",
    "This kind of approach is practically implemented in `sklearn`"
   ]
  },
  {
   "cell_type": "code",
   "execution_count": 20,
   "id": "9f0d4c27",
   "metadata": {},
   "outputs": [
    {
     "name": "stdout",
     "output_type": "stream",
     "text": [
      "Naive linear regression MAE: 13.114 +/- 7.931, R²: 0.083\n"
     ]
    }
   ],
   "source": [
    "whole_model = res_sex[\"fitted_whole_model\"]\n",
    "y_test_pred = whole_model.predict(test_set)\n",
    "mae_m, mae_std = mae_fn(y_test_set, y_test_pred)\n",
    "r2 = r2_score(y_test_set, y_test_pred)\n",
    "print(f\"Naive linear regression MAE: {mae_m:.3f} +/- {mae_std:.3f}, R²: {r2:.3f}\")"
   ]
  },
  {
   "cell_type": "code",
   "execution_count": 21,
   "id": "8b0de4da",
   "metadata": {},
   "outputs": [
    {
     "data": {
      "text/plain": [
       "array([[-0.17052194, -1.14360421, -0.52726525, ..., -1.22362612,\n",
       "         0.15040422,  0.        ],\n",
       "       [ 1.64323077,  0.44335779,  0.31163874, ...,  1.24964487,\n",
       "         1.05144447,  0.        ],\n",
       "       [-1.22387731,  1.32619473,  1.84610879, ..., -0.06638985,\n",
       "         1.67535741,  0.        ],\n",
       "       ...,\n",
       "       [-1.1184941 ,  0.68243741,  0.32257572, ...,  0.14685672,\n",
       "         1.10106165,  0.        ],\n",
       "       [ 1.48475507,  0.75929106, -0.84745883, ...,  1.00803731,\n",
       "         2.02814255,  1.        ],\n",
       "       [ 1.02217315,  0.69300195,  1.5134219 , ...,  0.77736357,\n",
       "         0.76262066,  0.        ]])"
      ]
     },
     "execution_count": 21,
     "metadata": {},
     "output_type": "execute_result"
    }
   ],
   "source": [
    "# It is important we scale the features before feeding it to the permutation importance!\n",
    "X_test_scaled = res_sex[\"fitted_whole_model\"][\"preproc\"].transform(test_set[labels_features + [\"sex\"]])\n",
    "X_test_scaled"
   ]
  },
  {
   "cell_type": "code",
   "execution_count": 22,
   "id": "59a82120",
   "metadata": {},
   "outputs": [],
   "source": [
    "perm = permutation_importance(res_sex[\"fitted_whole_model\"][\"reg\"], X_test_scaled, y_test_set, n_repeats=30, random_state=0, n_jobs=None)\n",
    "perm_importances = pd.Series(perm.importances_mean, index=[label for label in (labels_features + [\"sex\"])]).sort_values(ascending=False)"
   ]
  },
  {
   "cell_type": "code",
   "execution_count": 23,
   "id": "74396b76",
   "metadata": {},
   "outputs": [
    {
     "data": {
      "text/plain": [
       "lh_parstriangularis      0.074743\n",
       "rh_inferiortemporal      0.054861\n",
       "rh_isthmuscingulate      0.053001\n",
       "lh_inferiorparietal      0.046022\n",
       "lh_superiorfrontal       0.042075\n",
       "                           ...   \n",
       "rh_postcentral          -0.009191\n",
       "rh_lingual              -0.010111\n",
       "rh_posteriorcingulate   -0.011911\n",
       "rh_pericalcarine        -0.015824\n",
       "lh_pericalcarine        -0.022535\n",
       "Length: 63, dtype: float64"
      ]
     },
     "execution_count": 23,
     "metadata": {},
     "output_type": "execute_result"
    }
   ],
   "source": [
    "perm_importances"
   ]
  },
  {
   "cell_type": "markdown",
   "id": "54ae4e9a",
   "metadata": {},
   "source": [
    "We see that this model share similar importance to the regression model, and it is interesting to see that the order is not always the same! In fact, this is not surprising: each model operates in different way, and gives different importance to each feature!"
   ]
  },
  {
   "cell_type": "markdown",
   "id": "8dfd34f3",
   "metadata": {},
   "source": [
    "Other models were designed to provide an intuition of the features importance when trying to explain the model. For instance, XGBoost is an example of a non linear model that provides this kind of information"
   ]
  },
  {
   "cell_type": "code",
   "execution_count": 24,
   "id": "f8b23f81",
   "metadata": {},
   "outputs": [
    {
     "name": "stdout",
     "output_type": "stream",
     "text": [
      "Fitting 5 folds for each of 100 candidates, totalling 500 fits\n"
     ]
    },
    {
     "name": "stderr",
     "output_type": "stream",
     "text": [
      "/home/afrotscher/miniconda3/envs/myenv/lib/python3.10/site-packages/sklearn/model_selection/_split.py:776: UserWarning: The least populated class in y has only 2 members, which is less than n_splits=5.\n",
      "  warnings.warn(\n",
      "/home/fsammarco/.local/lib/python3.10/site-packages/xgboost/core.py:729: UserWarning: [14:13:44] WARNING: /workspace/src/common/error_msg.cc:58: Falling back to prediction using DMatrix due to mismatched devices. This might lead to higher memory usage and slower performance. XGBoost is running on: cuda:0, while the input data is on: cpu.\n",
      "Potential solutions:\n",
      "- Use a data structure that matches the device ordinal in the booster.\n",
      "- Set the device for booster before call to inplace_predict.\n",
      "\n",
      "This warning will only be shown once.\n",
      "\n",
      "  return func(**kwargs)\n",
      "/home/fsammarco/.local/lib/python3.10/site-packages/xgboost/core.py:729: UserWarning: [14:13:44] WARNING: /workspace/src/common/error_msg.cc:58: Falling back to prediction using DMatrix due to mismatched devices. This might lead to higher memory usage and slower performance. XGBoost is running on: cuda:0, while the input data is on: cpu.\n",
      "Potential solutions:\n",
      "- Use a data structure that matches the device ordinal in the booster.\n",
      "- Set the device for booster before call to inplace_predict.\n",
      "\n",
      "This warning will only be shown once.\n",
      "\n",
      "  return func(**kwargs)\n",
      "/home/fsammarco/.local/lib/python3.10/site-packages/xgboost/core.py:729: UserWarning: [14:13:44] WARNING: /workspace/src/common/error_msg.cc:58: Falling back to prediction using DMatrix due to mismatched devices. This might lead to higher memory usage and slower performance. XGBoost is running on: cuda:0, while the input data is on: cpu.\n",
      "Potential solutions:\n",
      "- Use a data structure that matches the device ordinal in the booster.\n",
      "- Set the device for booster before call to inplace_predict.\n",
      "\n",
      "This warning will only be shown once.\n",
      "\n",
      "  return func(**kwargs)\n",
      "/home/fsammarco/.local/lib/python3.10/site-packages/xgboost/core.py:729: UserWarning: [14:13:44] WARNING: /workspace/src/common/error_msg.cc:58: Falling back to prediction using DMatrix due to mismatched devices. This might lead to higher memory usage and slower performance. XGBoost is running on: cuda:0, while the input data is on: cpu.\n",
      "Potential solutions:\n",
      "- Use a data structure that matches the device ordinal in the booster.\n",
      "- Set the device for booster before call to inplace_predict.\n",
      "\n",
      "This warning will only be shown once.\n",
      "\n",
      "  return func(**kwargs)\n",
      "/home/fsammarco/.local/lib/python3.10/site-packages/xgboost/core.py:729: UserWarning: [14:13:44] WARNING: /workspace/src/common/error_msg.cc:58: Falling back to prediction using DMatrix due to mismatched devices. This might lead to higher memory usage and slower performance. XGBoost is running on: cuda:0, while the input data is on: cpu.\n",
      "Potential solutions:\n",
      "- Use a data structure that matches the device ordinal in the booster.\n",
      "- Set the device for booster before call to inplace_predict.\n",
      "\n",
      "This warning will only be shown once.\n",
      "\n",
      "  return func(**kwargs)\n",
      "/home/fsammarco/.local/lib/python3.10/site-packages/xgboost/core.py:729: UserWarning: [14:13:44] WARNING: /workspace/src/common/error_msg.cc:58: Falling back to prediction using DMatrix due to mismatched devices. This might lead to higher memory usage and slower performance. XGBoost is running on: cuda:0, while the input data is on: cpu.\n",
      "Potential solutions:\n",
      "- Use a data structure that matches the device ordinal in the booster.\n",
      "- Set the device for booster before call to inplace_predict.\n",
      "\n",
      "This warning will only be shown once.\n",
      "\n",
      "  return func(**kwargs)\n",
      "/home/fsammarco/.local/lib/python3.10/site-packages/xgboost/core.py:729: UserWarning: [14:13:44] WARNING: /workspace/src/common/error_msg.cc:58: Falling back to prediction using DMatrix due to mismatched devices. This might lead to higher memory usage and slower performance. XGBoost is running on: cuda:0, while the input data is on: cpu.\n",
      "Potential solutions:\n",
      "- Use a data structure that matches the device ordinal in the booster.\n",
      "- Set the device for booster before call to inplace_predict.\n",
      "\n",
      "This warning will only be shown once.\n",
      "\n",
      "  return func(**kwargs)\n",
      "/home/fsammarco/.local/lib/python3.10/site-packages/xgboost/core.py:729: UserWarning: [14:13:44] WARNING: /workspace/src/common/error_msg.cc:58: Falling back to prediction using DMatrix due to mismatched devices. This might lead to higher memory usage and slower performance. XGBoost is running on: cuda:0, while the input data is on: cpu.\n",
      "Potential solutions:\n",
      "- Use a data structure that matches the device ordinal in the booster.\n",
      "- Set the device for booster before call to inplace_predict.\n",
      "\n",
      "This warning will only be shown once.\n",
      "\n",
      "  return func(**kwargs)\n",
      "/home/fsammarco/.local/lib/python3.10/site-packages/xgboost/core.py:729: UserWarning: [14:13:44] WARNING: /workspace/src/common/error_msg.cc:58: Falling back to prediction using DMatrix due to mismatched devices. This might lead to higher memory usage and slower performance. XGBoost is running on: cuda:0, while the input data is on: cpu.\n",
      "Potential solutions:\n",
      "- Use a data structure that matches the device ordinal in the booster.\n",
      "- Set the device for booster before call to inplace_predict.\n",
      "\n",
      "This warning will only be shown once.\n",
      "\n",
      "  return func(**kwargs)\n",
      "/home/fsammarco/.local/lib/python3.10/site-packages/xgboost/core.py:729: UserWarning: [14:13:44] WARNING: /workspace/src/common/error_msg.cc:58: Falling back to prediction using DMatrix due to mismatched devices. This might lead to higher memory usage and slower performance. XGBoost is running on: cuda:0, while the input data is on: cpu.\n",
      "Potential solutions:\n",
      "- Use a data structure that matches the device ordinal in the booster.\n",
      "- Set the device for booster before call to inplace_predict.\n",
      "\n",
      "This warning will only be shown once.\n",
      "\n",
      "  return func(**kwargs)\n",
      "/home/fsammarco/.local/lib/python3.10/site-packages/xgboost/core.py:729: UserWarning: [14:13:44] WARNING: /workspace/src/common/error_msg.cc:58: Falling back to prediction using DMatrix due to mismatched devices. This might lead to higher memory usage and slower performance. XGBoost is running on: cuda:0, while the input data is on: cpu.\n",
      "Potential solutions:\n",
      "- Use a data structure that matches the device ordinal in the booster.\n",
      "- Set the device for booster before call to inplace_predict.\n",
      "\n",
      "This warning will only be shown once.\n",
      "\n",
      "  return func(**kwargs)\n",
      "/home/fsammarco/.local/lib/python3.10/site-packages/xgboost/core.py:729: UserWarning: [14:13:44] WARNING: /workspace/src/common/error_msg.cc:58: Falling back to prediction using DMatrix due to mismatched devices. This might lead to higher memory usage and slower performance. XGBoost is running on: cuda:0, while the input data is on: cpu.\n",
      "Potential solutions:\n",
      "- Use a data structure that matches the device ordinal in the booster.\n",
      "- Set the device for booster before call to inplace_predict.\n",
      "\n",
      "This warning will only be shown once.\n",
      "\n",
      "  return func(**kwargs)\n",
      "/home/fsammarco/.local/lib/python3.10/site-packages/xgboost/core.py:729: UserWarning: [14:13:44] WARNING: /workspace/src/common/error_msg.cc:58: Falling back to prediction using DMatrix due to mismatched devices. This might lead to higher memory usage and slower performance. XGBoost is running on: cuda:0, while the input data is on: cpu.\n",
      "Potential solutions:\n",
      "- Use a data structure that matches the device ordinal in the booster.\n",
      "- Set the device for booster before call to inplace_predict.\n",
      "\n",
      "This warning will only be shown once.\n",
      "\n",
      "  return func(**kwargs)\n",
      "/home/fsammarco/.local/lib/python3.10/site-packages/xgboost/core.py:729: UserWarning: [14:13:44] WARNING: /workspace/src/common/error_msg.cc:58: Falling back to prediction using DMatrix due to mismatched devices. This might lead to higher memory usage and slower performance. XGBoost is running on: cuda:0, while the input data is on: cpu.\n",
      "Potential solutions:\n",
      "- Use a data structure that matches the device ordinal in the booster.\n",
      "- Set the device for booster before call to inplace_predict.\n",
      "\n",
      "This warning will only be shown once.\n",
      "\n",
      "  return func(**kwargs)\n",
      "/home/fsammarco/.local/lib/python3.10/site-packages/xgboost/core.py:729: UserWarning: [14:13:44] WARNING: /workspace/src/common/error_msg.cc:58: Falling back to prediction using DMatrix due to mismatched devices. This might lead to higher memory usage and slower performance. XGBoost is running on: cuda:0, while the input data is on: cpu.\n",
      "Potential solutions:\n",
      "- Use a data structure that matches the device ordinal in the booster.\n",
      "- Set the device for booster before call to inplace_predict.\n",
      "\n",
      "This warning will only be shown once.\n",
      "\n",
      "  return func(**kwargs)\n",
      "/home/fsammarco/.local/lib/python3.10/site-packages/xgboost/core.py:729: UserWarning: [14:13:50] WARNING: /workspace/src/common/error_msg.cc:58: Falling back to prediction using DMatrix due to mismatched devices. This might lead to higher memory usage and slower performance. XGBoost is running on: cuda:0, while the input data is on: cpu.\n",
      "Potential solutions:\n",
      "- Use a data structure that matches the device ordinal in the booster.\n",
      "- Set the device for booster before call to inplace_predict.\n",
      "\n",
      "This warning will only be shown once.\n",
      "\n",
      "  return func(**kwargs)\n"
     ]
    },
    {
     "ename": "KeyboardInterrupt",
     "evalue": "",
     "output_type": "error",
     "traceback": [
      "\u001b[0;31m---------------------------------------------------------------------------\u001b[0m",
      "\u001b[0;31mKeyboardInterrupt\u001b[0m                         Traceback (most recent call last)",
      "Cell \u001b[0;32mIn[24], line 152\u001b[0m\n\u001b[1;32m    137\u001b[0m PARAM_GRID_XGB \u001b[38;5;241m=\u001b[39m {\n\u001b[1;32m    138\u001b[0m     \u001b[38;5;124m\"\u001b[39m\u001b[38;5;124mreg__max_depth\u001b[39m\u001b[38;5;124m\"\u001b[39m: randint(\u001b[38;5;241m3\u001b[39m, \u001b[38;5;241m9\u001b[39m),\n\u001b[1;32m    139\u001b[0m     \u001b[38;5;124m\"\u001b[39m\u001b[38;5;124mreg__learning_rate\u001b[39m\u001b[38;5;124m\"\u001b[39m: uniform(\u001b[38;5;241m0.02\u001b[39m, \u001b[38;5;241m0.12\u001b[39m),\n\u001b[0;32m   (...)\u001b[0m\n\u001b[1;32m    146\u001b[0m     \u001b[38;5;124m\"\u001b[39m\u001b[38;5;124mreg__objective\u001b[39m\u001b[38;5;124m\"\u001b[39m: [\u001b[38;5;124m\"\u001b[39m\u001b[38;5;124mreg:squarederror\u001b[39m\u001b[38;5;124m\"\u001b[39m, \u001b[38;5;124m\"\u001b[39m\u001b[38;5;124mreg:pseudohubererror\u001b[39m\u001b[38;5;124m\"\u001b[39m]\n\u001b[1;32m    147\u001b[0m }\n\u001b[1;32m    150\u001b[0m \u001b[38;5;66;03m# res_base = evaluate_models_with_cv_and_stratified_and_tune(train_set, labels_features, include_scanner=False, model_reg=xg_boost_model, param_grid=PARAM_GRID_XGB)\u001b[39;00m\n\u001b[1;32m    151\u001b[0m \u001b[38;5;66;03m# res_scanner = evaluate_models_with_cv_and_stratified_and_tune(train_set, labels_features, include_scanner=True, model_reg=xg_boost_model, param_grid=PARAM_GRID_XGB)\u001b[39;00m\n\u001b[0;32m--> 152\u001b[0m res_sex \u001b[38;5;241m=\u001b[39m \u001b[43mevaluate_xgboost_with_cv_and_stratified_and_tune_rand\u001b[49m\u001b[43m(\u001b[49m\u001b[43mtrain_set\u001b[49m\u001b[43m,\u001b[49m\u001b[43m \u001b[49m\u001b[43mlabels_features\u001b[49m\u001b[43m,\u001b[49m\u001b[43m \u001b[49m\u001b[43minclude_sex\u001b[49m\u001b[38;5;241;43m=\u001b[39;49m\u001b[38;5;28;43;01mTrue\u001b[39;49;00m\u001b[43m,\u001b[49m\u001b[43m \u001b[49m\u001b[43mmodel_reg\u001b[49m\u001b[38;5;241;43m=\u001b[39;49m\u001b[43mxg_boost_model\u001b[49m\u001b[43m,\u001b[49m\u001b[43m \u001b[49m\u001b[43mparam_grid\u001b[49m\u001b[38;5;241;43m=\u001b[39;49m\u001b[43mPARAM_GRID_XGB\u001b[49m\u001b[43m)\u001b[49m\n\u001b[1;32m    153\u001b[0m \u001b[38;5;66;03m# res_both = evaluate_models_with_cv_and_stratified_and_tune(train_set, labels_features, include_scanner=True, include_sex=True, model_reg=xg_boost_model, param_grid=PARAM_GRID_XGB)\u001b[39;00m\n\u001b[1;32m    154\u001b[0m \n\u001b[1;32m    155\u001b[0m \u001b[38;5;66;03m# print(\"Thickness only R²:\", res_base[\"r2\"], \"MAE:\", res_base[\"mae\"])\u001b[39;00m\n\u001b[1;32m    156\u001b[0m \u001b[38;5;66;03m# print(\"Thickness + scanner R²:\", res_scanner[\"r2\"], \"MAE:\", res_scanner[\"mae\"])\u001b[39;00m\n\u001b[1;32m    157\u001b[0m \u001b[38;5;28mprint\u001b[39m(\u001b[38;5;124m\"\u001b[39m\u001b[38;5;124mThickness + sex R²:\u001b[39m\u001b[38;5;124m\"\u001b[39m, res_sex[\u001b[38;5;124m\"\u001b[39m\u001b[38;5;124mr2\u001b[39m\u001b[38;5;124m\"\u001b[39m], \u001b[38;5;124m\"\u001b[39m\u001b[38;5;124mMAE:\u001b[39m\u001b[38;5;124m\"\u001b[39m, res_sex[\u001b[38;5;124m\"\u001b[39m\u001b[38;5;124mmae\u001b[39m\u001b[38;5;124m\"\u001b[39m])\n",
      "Cell \u001b[0;32mIn[24], line 49\u001b[0m, in \u001b[0;36mevaluate_xgboost_with_cv_and_stratified_and_tune_rand\u001b[0;34m(df, labels_features, include_scanner, include_sex, model_reg, n_splits, random_state, param_grid)\u001b[0m\n\u001b[1;32m     36\u001b[0m \u001b[38;5;28;01mif\u001b[39;00m param_grid \u001b[38;5;129;01mis\u001b[39;00m \u001b[38;5;129;01mnot\u001b[39;00m \u001b[38;5;28;01mNone\u001b[39;00m:\n\u001b[1;32m     37\u001b[0m     \u001b[38;5;66;03m# Cv is used for estimating the best parameter for the model\u001b[39;00m\n\u001b[1;32m     38\u001b[0m     search \u001b[38;5;241m=\u001b[39m RandomizedSearchCV(\n\u001b[1;32m     39\u001b[0m         estimator\u001b[38;5;241m=\u001b[39mclone(pipeline),\n\u001b[1;32m     40\u001b[0m         param_distributions\u001b[38;5;241m=\u001b[39mparam_grid,\n\u001b[0;32m   (...)\u001b[0m\n\u001b[1;32m     47\u001b[0m         verbose\u001b[38;5;241m=\u001b[39m\u001b[38;5;241m1\u001b[39m,\n\u001b[1;32m     48\u001b[0m     )\n\u001b[0;32m---> 49\u001b[0m     \u001b[43msearch\u001b[49m\u001b[38;5;241;43m.\u001b[39;49m\u001b[43mfit\u001b[49m\u001b[43m(\u001b[49m\u001b[43mX\u001b[49m\u001b[43m,\u001b[49m\u001b[43m \u001b[49m\u001b[43my\u001b[49m\u001b[43m)\u001b[49m\n\u001b[1;32m     50\u001b[0m     eff_model \u001b[38;5;241m=\u001b[39m search\u001b[38;5;241m.\u001b[39mbest_estimator_\n\u001b[1;32m     52\u001b[0m \u001b[38;5;66;03m# We fit the (maybe best) model on the splits\u001b[39;00m\n",
      "File \u001b[0;32m/home/afrotscher/miniconda3/envs/myenv/lib/python3.10/site-packages/sklearn/base.py:1473\u001b[0m, in \u001b[0;36m_fit_context.<locals>.decorator.<locals>.wrapper\u001b[0;34m(estimator, *args, **kwargs)\u001b[0m\n\u001b[1;32m   1466\u001b[0m     estimator\u001b[38;5;241m.\u001b[39m_validate_params()\n\u001b[1;32m   1468\u001b[0m \u001b[38;5;28;01mwith\u001b[39;00m config_context(\n\u001b[1;32m   1469\u001b[0m     skip_parameter_validation\u001b[38;5;241m=\u001b[39m(\n\u001b[1;32m   1470\u001b[0m         prefer_skip_nested_validation \u001b[38;5;129;01mor\u001b[39;00m global_skip_validation\n\u001b[1;32m   1471\u001b[0m     )\n\u001b[1;32m   1472\u001b[0m ):\n\u001b[0;32m-> 1473\u001b[0m     \u001b[38;5;28;01mreturn\u001b[39;00m \u001b[43mfit_method\u001b[49m\u001b[43m(\u001b[49m\u001b[43mestimator\u001b[49m\u001b[43m,\u001b[49m\u001b[43m \u001b[49m\u001b[38;5;241;43m*\u001b[39;49m\u001b[43margs\u001b[49m\u001b[43m,\u001b[49m\u001b[43m \u001b[49m\u001b[38;5;241;43m*\u001b[39;49m\u001b[38;5;241;43m*\u001b[39;49m\u001b[43mkwargs\u001b[49m\u001b[43m)\u001b[49m\n",
      "File \u001b[0;32m/home/afrotscher/miniconda3/envs/myenv/lib/python3.10/site-packages/sklearn/model_selection/_search.py:1018\u001b[0m, in \u001b[0;36mBaseSearchCV.fit\u001b[0;34m(self, X, y, **params)\u001b[0m\n\u001b[1;32m   1012\u001b[0m     results \u001b[38;5;241m=\u001b[39m \u001b[38;5;28mself\u001b[39m\u001b[38;5;241m.\u001b[39m_format_results(\n\u001b[1;32m   1013\u001b[0m         all_candidate_params, n_splits, all_out, all_more_results\n\u001b[1;32m   1014\u001b[0m     )\n\u001b[1;32m   1016\u001b[0m     \u001b[38;5;28;01mreturn\u001b[39;00m results\n\u001b[0;32m-> 1018\u001b[0m \u001b[38;5;28;43mself\u001b[39;49m\u001b[38;5;241;43m.\u001b[39;49m\u001b[43m_run_search\u001b[49m\u001b[43m(\u001b[49m\u001b[43mevaluate_candidates\u001b[49m\u001b[43m)\u001b[49m\n\u001b[1;32m   1020\u001b[0m \u001b[38;5;66;03m# multimetric is determined here because in the case of a callable\u001b[39;00m\n\u001b[1;32m   1021\u001b[0m \u001b[38;5;66;03m# self.scoring the return type is only known after calling\u001b[39;00m\n\u001b[1;32m   1022\u001b[0m first_test_score \u001b[38;5;241m=\u001b[39m all_out[\u001b[38;5;241m0\u001b[39m][\u001b[38;5;124m\"\u001b[39m\u001b[38;5;124mtest_scores\u001b[39m\u001b[38;5;124m\"\u001b[39m]\n",
      "File \u001b[0;32m/home/afrotscher/miniconda3/envs/myenv/lib/python3.10/site-packages/sklearn/model_selection/_search.py:1959\u001b[0m, in \u001b[0;36mRandomizedSearchCV._run_search\u001b[0;34m(self, evaluate_candidates)\u001b[0m\n\u001b[1;32m   1957\u001b[0m \u001b[38;5;28;01mdef\u001b[39;00m\u001b[38;5;250m \u001b[39m\u001b[38;5;21m_run_search\u001b[39m(\u001b[38;5;28mself\u001b[39m, evaluate_candidates):\n\u001b[1;32m   1958\u001b[0m \u001b[38;5;250m    \u001b[39m\u001b[38;5;124;03m\"\"\"Search n_iter candidates from param_distributions\"\"\"\u001b[39;00m\n\u001b[0;32m-> 1959\u001b[0m     \u001b[43mevaluate_candidates\u001b[49m\u001b[43m(\u001b[49m\n\u001b[1;32m   1960\u001b[0m \u001b[43m        \u001b[49m\u001b[43mParameterSampler\u001b[49m\u001b[43m(\u001b[49m\n\u001b[1;32m   1961\u001b[0m \u001b[43m            \u001b[49m\u001b[38;5;28;43mself\u001b[39;49m\u001b[38;5;241;43m.\u001b[39;49m\u001b[43mparam_distributions\u001b[49m\u001b[43m,\u001b[49m\u001b[43m \u001b[49m\u001b[38;5;28;43mself\u001b[39;49m\u001b[38;5;241;43m.\u001b[39;49m\u001b[43mn_iter\u001b[49m\u001b[43m,\u001b[49m\u001b[43m \u001b[49m\u001b[43mrandom_state\u001b[49m\u001b[38;5;241;43m=\u001b[39;49m\u001b[38;5;28;43mself\u001b[39;49m\u001b[38;5;241;43m.\u001b[39;49m\u001b[43mrandom_state\u001b[49m\n\u001b[1;32m   1962\u001b[0m \u001b[43m        \u001b[49m\u001b[43m)\u001b[49m\n\u001b[1;32m   1963\u001b[0m \u001b[43m    \u001b[49m\u001b[43m)\u001b[49m\n",
      "File \u001b[0;32m/home/afrotscher/miniconda3/envs/myenv/lib/python3.10/site-packages/sklearn/model_selection/_search.py:964\u001b[0m, in \u001b[0;36mBaseSearchCV.fit.<locals>.evaluate_candidates\u001b[0;34m(candidate_params, cv, more_results)\u001b[0m\n\u001b[1;32m    956\u001b[0m \u001b[38;5;28;01mif\u001b[39;00m \u001b[38;5;28mself\u001b[39m\u001b[38;5;241m.\u001b[39mverbose \u001b[38;5;241m>\u001b[39m \u001b[38;5;241m0\u001b[39m:\n\u001b[1;32m    957\u001b[0m     \u001b[38;5;28mprint\u001b[39m(\n\u001b[1;32m    958\u001b[0m         \u001b[38;5;124m\"\u001b[39m\u001b[38;5;124mFitting \u001b[39m\u001b[38;5;132;01m{0}\u001b[39;00m\u001b[38;5;124m folds for each of \u001b[39m\u001b[38;5;132;01m{1}\u001b[39;00m\u001b[38;5;124m candidates,\u001b[39m\u001b[38;5;124m\"\u001b[39m\n\u001b[1;32m    959\u001b[0m         \u001b[38;5;124m\"\u001b[39m\u001b[38;5;124m totalling \u001b[39m\u001b[38;5;132;01m{2}\u001b[39;00m\u001b[38;5;124m fits\u001b[39m\u001b[38;5;124m\"\u001b[39m\u001b[38;5;241m.\u001b[39mformat(\n\u001b[1;32m    960\u001b[0m             n_splits, n_candidates, n_candidates \u001b[38;5;241m*\u001b[39m n_splits\n\u001b[1;32m    961\u001b[0m         )\n\u001b[1;32m    962\u001b[0m     )\n\u001b[0;32m--> 964\u001b[0m out \u001b[38;5;241m=\u001b[39m \u001b[43mparallel\u001b[49m\u001b[43m(\u001b[49m\n\u001b[1;32m    965\u001b[0m \u001b[43m    \u001b[49m\u001b[43mdelayed\u001b[49m\u001b[43m(\u001b[49m\u001b[43m_fit_and_score\u001b[49m\u001b[43m)\u001b[49m\u001b[43m(\u001b[49m\n\u001b[1;32m    966\u001b[0m \u001b[43m        \u001b[49m\u001b[43mclone\u001b[49m\u001b[43m(\u001b[49m\u001b[43mbase_estimator\u001b[49m\u001b[43m)\u001b[49m\u001b[43m,\u001b[49m\n\u001b[1;32m    967\u001b[0m \u001b[43m        \u001b[49m\u001b[43mX\u001b[49m\u001b[43m,\u001b[49m\n\u001b[1;32m    968\u001b[0m \u001b[43m        \u001b[49m\u001b[43my\u001b[49m\u001b[43m,\u001b[49m\n\u001b[1;32m    969\u001b[0m \u001b[43m        \u001b[49m\u001b[43mtrain\u001b[49m\u001b[38;5;241;43m=\u001b[39;49m\u001b[43mtrain\u001b[49m\u001b[43m,\u001b[49m\n\u001b[1;32m    970\u001b[0m \u001b[43m        \u001b[49m\u001b[43mtest\u001b[49m\u001b[38;5;241;43m=\u001b[39;49m\u001b[43mtest\u001b[49m\u001b[43m,\u001b[49m\n\u001b[1;32m    971\u001b[0m \u001b[43m        \u001b[49m\u001b[43mparameters\u001b[49m\u001b[38;5;241;43m=\u001b[39;49m\u001b[43mparameters\u001b[49m\u001b[43m,\u001b[49m\n\u001b[1;32m    972\u001b[0m \u001b[43m        \u001b[49m\u001b[43msplit_progress\u001b[49m\u001b[38;5;241;43m=\u001b[39;49m\u001b[43m(\u001b[49m\u001b[43msplit_idx\u001b[49m\u001b[43m,\u001b[49m\u001b[43m \u001b[49m\u001b[43mn_splits\u001b[49m\u001b[43m)\u001b[49m\u001b[43m,\u001b[49m\n\u001b[1;32m    973\u001b[0m \u001b[43m        \u001b[49m\u001b[43mcandidate_progress\u001b[49m\u001b[38;5;241;43m=\u001b[39;49m\u001b[43m(\u001b[49m\u001b[43mcand_idx\u001b[49m\u001b[43m,\u001b[49m\u001b[43m \u001b[49m\u001b[43mn_candidates\u001b[49m\u001b[43m)\u001b[49m\u001b[43m,\u001b[49m\n\u001b[1;32m    974\u001b[0m \u001b[43m        \u001b[49m\u001b[38;5;241;43m*\u001b[39;49m\u001b[38;5;241;43m*\u001b[39;49m\u001b[43mfit_and_score_kwargs\u001b[49m\u001b[43m,\u001b[49m\n\u001b[1;32m    975\u001b[0m \u001b[43m    \u001b[49m\u001b[43m)\u001b[49m\n\u001b[1;32m    976\u001b[0m \u001b[43m    \u001b[49m\u001b[38;5;28;43;01mfor\u001b[39;49;00m\u001b[43m \u001b[49m\u001b[43m(\u001b[49m\u001b[43mcand_idx\u001b[49m\u001b[43m,\u001b[49m\u001b[43m \u001b[49m\u001b[43mparameters\u001b[49m\u001b[43m)\u001b[49m\u001b[43m,\u001b[49m\u001b[43m \u001b[49m\u001b[43m(\u001b[49m\u001b[43msplit_idx\u001b[49m\u001b[43m,\u001b[49m\u001b[43m \u001b[49m\u001b[43m(\u001b[49m\u001b[43mtrain\u001b[49m\u001b[43m,\u001b[49m\u001b[43m \u001b[49m\u001b[43mtest\u001b[49m\u001b[43m)\u001b[49m\u001b[43m)\u001b[49m\u001b[43m \u001b[49m\u001b[38;5;129;43;01min\u001b[39;49;00m\u001b[43m \u001b[49m\u001b[43mproduct\u001b[49m\u001b[43m(\u001b[49m\n\u001b[1;32m    977\u001b[0m \u001b[43m        \u001b[49m\u001b[38;5;28;43menumerate\u001b[39;49m\u001b[43m(\u001b[49m\u001b[43mcandidate_params\u001b[49m\u001b[43m)\u001b[49m\u001b[43m,\u001b[49m\n\u001b[1;32m    978\u001b[0m \u001b[43m        \u001b[49m\u001b[38;5;28;43menumerate\u001b[39;49m\u001b[43m(\u001b[49m\u001b[43mcv\u001b[49m\u001b[38;5;241;43m.\u001b[39;49m\u001b[43msplit\u001b[49m\u001b[43m(\u001b[49m\u001b[43mX\u001b[49m\u001b[43m,\u001b[49m\u001b[43m \u001b[49m\u001b[43my\u001b[49m\u001b[43m,\u001b[49m\u001b[43m \u001b[49m\u001b[38;5;241;43m*\u001b[39;49m\u001b[38;5;241;43m*\u001b[39;49m\u001b[43mrouted_params\u001b[49m\u001b[38;5;241;43m.\u001b[39;49m\u001b[43msplitter\u001b[49m\u001b[38;5;241;43m.\u001b[39;49m\u001b[43msplit\u001b[49m\u001b[43m)\u001b[49m\u001b[43m)\u001b[49m\u001b[43m,\u001b[49m\n\u001b[1;32m    979\u001b[0m \u001b[43m    \u001b[49m\u001b[43m)\u001b[49m\n\u001b[1;32m    980\u001b[0m \u001b[43m\u001b[49m\u001b[43m)\u001b[49m\n\u001b[1;32m    982\u001b[0m \u001b[38;5;28;01mif\u001b[39;00m \u001b[38;5;28mlen\u001b[39m(out) \u001b[38;5;241m<\u001b[39m \u001b[38;5;241m1\u001b[39m:\n\u001b[1;32m    983\u001b[0m     \u001b[38;5;28;01mraise\u001b[39;00m \u001b[38;5;167;01mValueError\u001b[39;00m(\n\u001b[1;32m    984\u001b[0m         \u001b[38;5;124m\"\u001b[39m\u001b[38;5;124mNo fits were performed. \u001b[39m\u001b[38;5;124m\"\u001b[39m\n\u001b[1;32m    985\u001b[0m         \u001b[38;5;124m\"\u001b[39m\u001b[38;5;124mWas the CV iterator empty? \u001b[39m\u001b[38;5;124m\"\u001b[39m\n\u001b[1;32m    986\u001b[0m         \u001b[38;5;124m\"\u001b[39m\u001b[38;5;124mWere there no candidates?\u001b[39m\u001b[38;5;124m\"\u001b[39m\n\u001b[1;32m    987\u001b[0m     )\n",
      "File \u001b[0;32m/home/afrotscher/miniconda3/envs/myenv/lib/python3.10/site-packages/sklearn/utils/parallel.py:74\u001b[0m, in \u001b[0;36mParallel.__call__\u001b[0;34m(self, iterable)\u001b[0m\n\u001b[1;32m     69\u001b[0m config \u001b[38;5;241m=\u001b[39m get_config()\n\u001b[1;32m     70\u001b[0m iterable_with_config \u001b[38;5;241m=\u001b[39m (\n\u001b[1;32m     71\u001b[0m     (_with_config(delayed_func, config), args, kwargs)\n\u001b[1;32m     72\u001b[0m     \u001b[38;5;28;01mfor\u001b[39;00m delayed_func, args, kwargs \u001b[38;5;129;01min\u001b[39;00m iterable\n\u001b[1;32m     73\u001b[0m )\n\u001b[0;32m---> 74\u001b[0m \u001b[38;5;28;01mreturn\u001b[39;00m \u001b[38;5;28;43msuper\u001b[39;49m\u001b[43m(\u001b[49m\u001b[43m)\u001b[49m\u001b[38;5;241;43m.\u001b[39;49m\u001b[38;5;21;43m__call__\u001b[39;49m\u001b[43m(\u001b[49m\u001b[43miterable_with_config\u001b[49m\u001b[43m)\u001b[49m\n",
      "File \u001b[0;32m/home/afrotscher/miniconda3/envs/myenv/lib/python3.10/site-packages/joblib/parallel.py:2007\u001b[0m, in \u001b[0;36mParallel.__call__\u001b[0;34m(self, iterable)\u001b[0m\n\u001b[1;32m   2001\u001b[0m \u001b[38;5;66;03m# The first item from the output is blank, but it makes the interpreter\u001b[39;00m\n\u001b[1;32m   2002\u001b[0m \u001b[38;5;66;03m# progress until it enters the Try/Except block of the generator and\u001b[39;00m\n\u001b[1;32m   2003\u001b[0m \u001b[38;5;66;03m# reaches the first `yield` statement. This starts the asynchronous\u001b[39;00m\n\u001b[1;32m   2004\u001b[0m \u001b[38;5;66;03m# dispatch of the tasks to the workers.\u001b[39;00m\n\u001b[1;32m   2005\u001b[0m \u001b[38;5;28mnext\u001b[39m(output)\n\u001b[0;32m-> 2007\u001b[0m \u001b[38;5;28;01mreturn\u001b[39;00m output \u001b[38;5;28;01mif\u001b[39;00m \u001b[38;5;28mself\u001b[39m\u001b[38;5;241m.\u001b[39mreturn_generator \u001b[38;5;28;01melse\u001b[39;00m \u001b[38;5;28;43mlist\u001b[39;49m\u001b[43m(\u001b[49m\u001b[43moutput\u001b[49m\u001b[43m)\u001b[49m\n",
      "File \u001b[0;32m/home/afrotscher/miniconda3/envs/myenv/lib/python3.10/site-packages/joblib/parallel.py:1650\u001b[0m, in \u001b[0;36mParallel._get_outputs\u001b[0;34m(self, iterator, pre_dispatch)\u001b[0m\n\u001b[1;32m   1647\u001b[0m     \u001b[38;5;28;01myield\u001b[39;00m\n\u001b[1;32m   1649\u001b[0m     \u001b[38;5;28;01mwith\u001b[39;00m \u001b[38;5;28mself\u001b[39m\u001b[38;5;241m.\u001b[39m_backend\u001b[38;5;241m.\u001b[39mretrieval_context():\n\u001b[0;32m-> 1650\u001b[0m         \u001b[38;5;28;01myield from\u001b[39;00m \u001b[38;5;28mself\u001b[39m\u001b[38;5;241m.\u001b[39m_retrieve()\n\u001b[1;32m   1652\u001b[0m \u001b[38;5;28;01mexcept\u001b[39;00m \u001b[38;5;167;01mGeneratorExit\u001b[39;00m:\n\u001b[1;32m   1653\u001b[0m     \u001b[38;5;66;03m# The generator has been garbage collected before being fully\u001b[39;00m\n\u001b[1;32m   1654\u001b[0m     \u001b[38;5;66;03m# consumed. This aborts the remaining tasks if possible and warn\u001b[39;00m\n\u001b[1;32m   1655\u001b[0m     \u001b[38;5;66;03m# the user if necessary.\u001b[39;00m\n\u001b[1;32m   1656\u001b[0m     \u001b[38;5;28mself\u001b[39m\u001b[38;5;241m.\u001b[39m_exception \u001b[38;5;241m=\u001b[39m \u001b[38;5;28;01mTrue\u001b[39;00m\n",
      "File \u001b[0;32m/home/afrotscher/miniconda3/envs/myenv/lib/python3.10/site-packages/joblib/parallel.py:1762\u001b[0m, in \u001b[0;36mParallel._retrieve\u001b[0;34m(self)\u001b[0m\n\u001b[1;32m   1757\u001b[0m \u001b[38;5;66;03m# If the next job is not ready for retrieval yet, we just wait for\u001b[39;00m\n\u001b[1;32m   1758\u001b[0m \u001b[38;5;66;03m# async callbacks to progress.\u001b[39;00m\n\u001b[1;32m   1759\u001b[0m \u001b[38;5;28;01mif\u001b[39;00m ((\u001b[38;5;28mlen\u001b[39m(\u001b[38;5;28mself\u001b[39m\u001b[38;5;241m.\u001b[39m_jobs) \u001b[38;5;241m==\u001b[39m \u001b[38;5;241m0\u001b[39m) \u001b[38;5;129;01mor\u001b[39;00m\n\u001b[1;32m   1760\u001b[0m     (\u001b[38;5;28mself\u001b[39m\u001b[38;5;241m.\u001b[39m_jobs[\u001b[38;5;241m0\u001b[39m]\u001b[38;5;241m.\u001b[39mget_status(\n\u001b[1;32m   1761\u001b[0m         timeout\u001b[38;5;241m=\u001b[39m\u001b[38;5;28mself\u001b[39m\u001b[38;5;241m.\u001b[39mtimeout) \u001b[38;5;241m==\u001b[39m TASK_PENDING)):\n\u001b[0;32m-> 1762\u001b[0m     \u001b[43mtime\u001b[49m\u001b[38;5;241;43m.\u001b[39;49m\u001b[43msleep\u001b[49m\u001b[43m(\u001b[49m\u001b[38;5;241;43m0.01\u001b[39;49m\u001b[43m)\u001b[49m\n\u001b[1;32m   1763\u001b[0m     \u001b[38;5;28;01mcontinue\u001b[39;00m\n\u001b[1;32m   1765\u001b[0m \u001b[38;5;66;03m# We need to be careful: the job list can be filling up as\u001b[39;00m\n\u001b[1;32m   1766\u001b[0m \u001b[38;5;66;03m# we empty it and Python list are not thread-safe by\u001b[39;00m\n\u001b[1;32m   1767\u001b[0m \u001b[38;5;66;03m# default hence the use of the lock\u001b[39;00m\n",
      "\u001b[0;31mKeyboardInterrupt\u001b[0m: "
     ]
    }
   ],
   "source": [
    "nr.seed(0)\n",
    "\n",
    "def evaluate_xgboost_with_cv_and_stratified_and_tune_rand(df: pd.DataFrame,\n",
    "                                            labels_features,\n",
    "                                            include_scanner=False,\n",
    "                                            include_sex=False,\n",
    "                                            model_reg=None,\n",
    "                                            n_splits=5,\n",
    "                                            random_state=0,\n",
    "                                            param_grid = None):\n",
    "    # Add age_bin\n",
    "    internal_df = df.copy()\n",
    "    internal_df[\"age_bin\"] = pd.cut(df[\"age\"], bins=10, labels=False, include_lowest=True)\n",
    "    internal_df[\"stratify_key\"] = internal_df[\"age_bin\"].astype(str) + \"_\" + internal_df[\"sex\"].astype(str)\n",
    "\n",
    "    covariates = []\n",
    "    if include_scanner:\n",
    "        covariates.append(\"scanner\")\n",
    "    if include_sex:\n",
    "        covariates.append(\"sex\")\n",
    "\n",
    "    for c in covariates:\n",
    "        internal_df[c] = internal_df[c].astype(\"category\")\n",
    "\n",
    "    pipeline = Pipeline([\n",
    "        (\"reg\", model_reg)\n",
    "    ])\n",
    "\n",
    "    X: pd.DataFrame = internal_df[labels_features + covariates].copy()\n",
    "    y = internal_df[\"age\"].values\n",
    "\n",
    "    inner_cv = StratifiedKFold(n_splits=n_splits, shuffle=True, random_state=random_state+1)\n",
    "    eff_model = pipeline\n",
    "    splits = list(inner_cv.split(np.arange(len(X)), internal_df[\"stratify_key\"].values))\n",
    "\n",
    "    if param_grid is not None:\n",
    "        # Cv is used for estimating the best parameter for the model\n",
    "        search = RandomizedSearchCV(\n",
    "            estimator=clone(pipeline),\n",
    "            param_distributions=param_grid,\n",
    "            n_iter=100,\n",
    "            cv=splits,\n",
    "            scoring=\"neg_mean_absolute_error\",\n",
    "            refit=True,\n",
    "            n_jobs=-1,\n",
    "            random_state=random_state,\n",
    "            verbose=1,\n",
    "        )\n",
    "        search.fit(X, y)\n",
    "        eff_model = search.best_estimator_\n",
    "\n",
    "    # We fit the (maybe best) model on the splits\n",
    "    outer_cv = StratifiedKFold(n_splits=n_splits, shuffle=True, random_state=random_state)\n",
    "    outer_splits = list(outer_cv.split(np.arange(len(X)), internal_df[\"stratify_key\"].values))\n",
    "    preds = np.zeros(len(y))\n",
    "\n",
    "    def check_min_count(labels, min_count=2):\n",
    "        counts = Counter(labels)\n",
    "        return None if min(counts.values()) < min_count else labels\n",
    "\n",
    "    for (train_idx, val_idx) in outer_splits:\n",
    "        X_tr = X.iloc[train_idx]\n",
    "        X_val = X.iloc[val_idx]\n",
    "        y_tr = y[train_idx]\n",
    "        y_val = y[val_idx]\n",
    "\n",
    "        # Fit with a little internal cv for early stopping\n",
    "        m_es = clone(eff_model)\n",
    "        m_es.set_params(\n",
    "            reg__n_estimators=2000, # <- we set this high to limit\n",
    "            reg__early_stopping_rounds=50,\n",
    "            reg__eval_metric=\"mae\"\n",
    "        )\n",
    "\n",
    "        strat_for_holdout = check_min_count(internal_df.iloc[train_idx][\"stratify_key\"], min_count=2)\n",
    "        X_trn, X_hold, y_trn, y_hold = train_test_split(\n",
    "            X_tr, y_tr, test_size=0.1,\n",
    "            stratify=strat_for_holdout,\n",
    "            random_state=random_state\n",
    "        )\n",
    "\n",
    "        m_es.fit(X_trn, y_trn, reg__eval_set=[(X_hold, y_hold)], reg__verbose=False)\n",
    "        # We pick the best iteration\n",
    "        best_iter = m_es[\"reg\"].get_booster().best_iteration\n",
    "        # We create a new model with the precise number of estimators and no early stopping\n",
    "        m = clone(eff_model)\n",
    "        m.set_params(reg__n_estimators=best_iter + 1,\n",
    "             reg__early_stopping_rounds=None)\n",
    "        m.fit(X_tr, y_tr) # Refit on the whole training set\n",
    "        # Get the predictions\n",
    "        preds[val_idx] = m.predict(X_val)\n",
    "\n",
    "    # We do a similar thing to refit the whol model\n",
    "    final_model_es = clone(eff_model)\n",
    "    final_model_es.set_params(\n",
    "            reg__n_estimators=2000, # <- we set this high to limit\n",
    "            reg__early_stopping_rounds=50,\n",
    "            reg__eval_metric=\"mae\"\n",
    "        )\n",
    "    strat_for_holdout = check_min_count(internal_df[\"stratify_key\"], min_count=2)\n",
    "    X_trn, X_hold, y_trn, y_hold = train_test_split(\n",
    "        X, y, test_size=0.1,\n",
    "        stratify=strat_for_holdout,\n",
    "        random_state=random_state\n",
    "    )\n",
    "    final_model_es.fit(X_trn, y_trn, reg__eval_set=[(X_hold, y_hold)], reg__verbose=False)\n",
    "    best_iter_fm = final_model_es[\"reg\"].get_booster().best_iteration\n",
    "    # We create a new model with the precise number of estimators and no early stopping\n",
    "    final_model = clone(eff_model)\n",
    "    final_model.set_params(reg__n_estimators=best_iter_fm + 1,\n",
    "            reg__early_stopping_rounds=None)\n",
    "    final_model.fit(X, y) # Refit on the whole training set\n",
    "\n",
    "    return {\n",
    "        \"r2\": r2_score(y, preds),\n",
    "        \"mae\": mean_absolute_error(y, preds),\n",
    "        \"preds\": preds,\n",
    "        \"fitted_whole_model\": final_model\n",
    "    }\n",
    "\n",
    "xg_boost_model = XGBRegressor(\n",
    "    objective=\"reg:squarederror\",\n",
    "    tree_method=\"hist\",\n",
    "    enable_categorical=True,\n",
    "    n_estimators=500,\n",
    "    learning_rate=0.05,\n",
    "    max_depth=6,\n",
    "    subsample=0.9,\n",
    "    colsample_bytree=0.9,\n",
    "    reg_alpha=0.0,\n",
    "    reg_lambda=1.0,\n",
    "    random_state=0,\n",
    "    n_jobs=1,\n",
    "    device=\"cuda\"\n",
    ")\n",
    "\n",
    "PARAM_GRID_XGB = {\n",
    "    \"reg__max_depth\": randint(3, 9),\n",
    "    \"reg__learning_rate\": uniform(0.02, 0.12),\n",
    "    \"reg__subsample\": uniform(0.6, 0.4),\n",
    "    \"reg__colsample_bytree\": uniform(0.6, 0.4),\n",
    "    \"reg__min_child_weight\": randint(1, 7),\n",
    "    \"reg__gamma\": uniform(0.0, 1.0),\n",
    "    \"reg__reg_alpha\": uniform(0.0, 0.5),\n",
    "    \"reg__reg_lambda\": uniform(0.5, 9.5),\n",
    "    \"reg__objective\": [\"reg:squarederror\", \"reg:pseudohubererror\"]\n",
    "}\n",
    "\n",
    "\n",
    "# res_base = evaluate_models_with_cv_and_stratified_and_tune(train_set, labels_features, include_scanner=False, model_reg=xg_boost_model, param_grid=PARAM_GRID_XGB)\n",
    "# res_scanner = evaluate_models_with_cv_and_stratified_and_tune(train_set, labels_features, include_scanner=True, model_reg=xg_boost_model, param_grid=PARAM_GRID_XGB)\n",
    "res_sex = evaluate_xgboost_with_cv_and_stratified_and_tune_rand(train_set, labels_features, include_sex=True, model_reg=xg_boost_model, param_grid=PARAM_GRID_XGB)\n",
    "# res_both = evaluate_models_with_cv_and_stratified_and_tune(train_set, labels_features, include_scanner=True, include_sex=True, model_reg=xg_boost_model, param_grid=PARAM_GRID_XGB)\n",
    "\n",
    "# print(\"Thickness only R²:\", res_base[\"r2\"], \"MAE:\", res_base[\"mae\"])\n",
    "# print(\"Thickness + scanner R²:\", res_scanner[\"r2\"], \"MAE:\", res_scanner[\"mae\"])\n",
    "print(\"Thickness + sex R²:\", res_sex[\"r2\"], \"MAE:\", res_sex[\"mae\"])\n",
    "# print(\"Thickness + scanner + sex R²:\", res_both[\"r2\"], \"MAE:\", res_both[\"mae\"])"
   ]
  },
  {
   "cell_type": "code",
   "execution_count": null,
   "id": "4e8e068b",
   "metadata": {},
   "outputs": [],
   "source": [
    "# Save the model\n",
    "# res_sex[\"fitted_whole_model\"][\"reg\"].save_model(\"../checkpoints/XGBoost_best_model.json\")"
   ]
  },
  {
   "cell_type": "code",
   "execution_count": 25,
   "id": "edf70186",
   "metadata": {},
   "outputs": [
    {
     "data": {
      "text/html": [
       "<style>#sk-container-id-1 {\n",
       "  /* Definition of color scheme common for light and dark mode */\n",
       "  --sklearn-color-text: black;\n",
       "  --sklearn-color-line: gray;\n",
       "  /* Definition of color scheme for unfitted estimators */\n",
       "  --sklearn-color-unfitted-level-0: #fff5e6;\n",
       "  --sklearn-color-unfitted-level-1: #f6e4d2;\n",
       "  --sklearn-color-unfitted-level-2: #ffe0b3;\n",
       "  --sklearn-color-unfitted-level-3: chocolate;\n",
       "  /* Definition of color scheme for fitted estimators */\n",
       "  --sklearn-color-fitted-level-0: #f0f8ff;\n",
       "  --sklearn-color-fitted-level-1: #d4ebff;\n",
       "  --sklearn-color-fitted-level-2: #b3dbfd;\n",
       "  --sklearn-color-fitted-level-3: cornflowerblue;\n",
       "\n",
       "  /* Specific color for light theme */\n",
       "  --sklearn-color-text-on-default-background: var(--sg-text-color, var(--theme-code-foreground, var(--jp-content-font-color1, black)));\n",
       "  --sklearn-color-background: var(--sg-background-color, var(--theme-background, var(--jp-layout-color0, white)));\n",
       "  --sklearn-color-border-box: var(--sg-text-color, var(--theme-code-foreground, var(--jp-content-font-color1, black)));\n",
       "  --sklearn-color-icon: #696969;\n",
       "\n",
       "  @media (prefers-color-scheme: dark) {\n",
       "    /* Redefinition of color scheme for dark theme */\n",
       "    --sklearn-color-text-on-default-background: var(--sg-text-color, var(--theme-code-foreground, var(--jp-content-font-color1, white)));\n",
       "    --sklearn-color-background: var(--sg-background-color, var(--theme-background, var(--jp-layout-color0, #111)));\n",
       "    --sklearn-color-border-box: var(--sg-text-color, var(--theme-code-foreground, var(--jp-content-font-color1, white)));\n",
       "    --sklearn-color-icon: #878787;\n",
       "  }\n",
       "}\n",
       "\n",
       "#sk-container-id-1 {\n",
       "  color: var(--sklearn-color-text);\n",
       "}\n",
       "\n",
       "#sk-container-id-1 pre {\n",
       "  padding: 0;\n",
       "}\n",
       "\n",
       "#sk-container-id-1 input.sk-hidden--visually {\n",
       "  border: 0;\n",
       "  clip: rect(1px 1px 1px 1px);\n",
       "  clip: rect(1px, 1px, 1px, 1px);\n",
       "  height: 1px;\n",
       "  margin: -1px;\n",
       "  overflow: hidden;\n",
       "  padding: 0;\n",
       "  position: absolute;\n",
       "  width: 1px;\n",
       "}\n",
       "\n",
       "#sk-container-id-1 div.sk-dashed-wrapped {\n",
       "  border: 1px dashed var(--sklearn-color-line);\n",
       "  margin: 0 0.4em 0.5em 0.4em;\n",
       "  box-sizing: border-box;\n",
       "  padding-bottom: 0.4em;\n",
       "  background-color: var(--sklearn-color-background);\n",
       "}\n",
       "\n",
       "#sk-container-id-1 div.sk-container {\n",
       "  /* jupyter's `normalize.less` sets `[hidden] { display: none; }`\n",
       "     but bootstrap.min.css set `[hidden] { display: none !important; }`\n",
       "     so we also need the `!important` here to be able to override the\n",
       "     default hidden behavior on the sphinx rendered scikit-learn.org.\n",
       "     See: https://github.com/scikit-learn/scikit-learn/issues/21755 */\n",
       "  display: inline-block !important;\n",
       "  position: relative;\n",
       "}\n",
       "\n",
       "#sk-container-id-1 div.sk-text-repr-fallback {\n",
       "  display: none;\n",
       "}\n",
       "\n",
       "div.sk-parallel-item,\n",
       "div.sk-serial,\n",
       "div.sk-item {\n",
       "  /* draw centered vertical line to link estimators */\n",
       "  background-image: linear-gradient(var(--sklearn-color-text-on-default-background), var(--sklearn-color-text-on-default-background));\n",
       "  background-size: 2px 100%;\n",
       "  background-repeat: no-repeat;\n",
       "  background-position: center center;\n",
       "}\n",
       "\n",
       "/* Parallel-specific style estimator block */\n",
       "\n",
       "#sk-container-id-1 div.sk-parallel-item::after {\n",
       "  content: \"\";\n",
       "  width: 100%;\n",
       "  border-bottom: 2px solid var(--sklearn-color-text-on-default-background);\n",
       "  flex-grow: 1;\n",
       "}\n",
       "\n",
       "#sk-container-id-1 div.sk-parallel {\n",
       "  display: flex;\n",
       "  align-items: stretch;\n",
       "  justify-content: center;\n",
       "  background-color: var(--sklearn-color-background);\n",
       "  position: relative;\n",
       "}\n",
       "\n",
       "#sk-container-id-1 div.sk-parallel-item {\n",
       "  display: flex;\n",
       "  flex-direction: column;\n",
       "}\n",
       "\n",
       "#sk-container-id-1 div.sk-parallel-item:first-child::after {\n",
       "  align-self: flex-end;\n",
       "  width: 50%;\n",
       "}\n",
       "\n",
       "#sk-container-id-1 div.sk-parallel-item:last-child::after {\n",
       "  align-self: flex-start;\n",
       "  width: 50%;\n",
       "}\n",
       "\n",
       "#sk-container-id-1 div.sk-parallel-item:only-child::after {\n",
       "  width: 0;\n",
       "}\n",
       "\n",
       "/* Serial-specific style estimator block */\n",
       "\n",
       "#sk-container-id-1 div.sk-serial {\n",
       "  display: flex;\n",
       "  flex-direction: column;\n",
       "  align-items: center;\n",
       "  background-color: var(--sklearn-color-background);\n",
       "  padding-right: 1em;\n",
       "  padding-left: 1em;\n",
       "}\n",
       "\n",
       "\n",
       "/* Toggleable style: style used for estimator/Pipeline/ColumnTransformer box that is\n",
       "clickable and can be expanded/collapsed.\n",
       "- Pipeline and ColumnTransformer use this feature and define the default style\n",
       "- Estimators will overwrite some part of the style using the `sk-estimator` class\n",
       "*/\n",
       "\n",
       "/* Pipeline and ColumnTransformer style (default) */\n",
       "\n",
       "#sk-container-id-1 div.sk-toggleable {\n",
       "  /* Default theme specific background. It is overwritten whether we have a\n",
       "  specific estimator or a Pipeline/ColumnTransformer */\n",
       "  background-color: var(--sklearn-color-background);\n",
       "}\n",
       "\n",
       "/* Toggleable label */\n",
       "#sk-container-id-1 label.sk-toggleable__label {\n",
       "  cursor: pointer;\n",
       "  display: block;\n",
       "  width: 100%;\n",
       "  margin-bottom: 0;\n",
       "  padding: 0.5em;\n",
       "  box-sizing: border-box;\n",
       "  text-align: center;\n",
       "}\n",
       "\n",
       "#sk-container-id-1 label.sk-toggleable__label-arrow:before {\n",
       "  /* Arrow on the left of the label */\n",
       "  content: \"▸\";\n",
       "  float: left;\n",
       "  margin-right: 0.25em;\n",
       "  color: var(--sklearn-color-icon);\n",
       "}\n",
       "\n",
       "#sk-container-id-1 label.sk-toggleable__label-arrow:hover:before {\n",
       "  color: var(--sklearn-color-text);\n",
       "}\n",
       "\n",
       "/* Toggleable content - dropdown */\n",
       "\n",
       "#sk-container-id-1 div.sk-toggleable__content {\n",
       "  max-height: 0;\n",
       "  max-width: 0;\n",
       "  overflow: hidden;\n",
       "  text-align: left;\n",
       "  /* unfitted */\n",
       "  background-color: var(--sklearn-color-unfitted-level-0);\n",
       "}\n",
       "\n",
       "#sk-container-id-1 div.sk-toggleable__content.fitted {\n",
       "  /* fitted */\n",
       "  background-color: var(--sklearn-color-fitted-level-0);\n",
       "}\n",
       "\n",
       "#sk-container-id-1 div.sk-toggleable__content pre {\n",
       "  margin: 0.2em;\n",
       "  border-radius: 0.25em;\n",
       "  color: var(--sklearn-color-text);\n",
       "  /* unfitted */\n",
       "  background-color: var(--sklearn-color-unfitted-level-0);\n",
       "}\n",
       "\n",
       "#sk-container-id-1 div.sk-toggleable__content.fitted pre {\n",
       "  /* unfitted */\n",
       "  background-color: var(--sklearn-color-fitted-level-0);\n",
       "}\n",
       "\n",
       "#sk-container-id-1 input.sk-toggleable__control:checked~div.sk-toggleable__content {\n",
       "  /* Expand drop-down */\n",
       "  max-height: 200px;\n",
       "  max-width: 100%;\n",
       "  overflow: auto;\n",
       "}\n",
       "\n",
       "#sk-container-id-1 input.sk-toggleable__control:checked~label.sk-toggleable__label-arrow:before {\n",
       "  content: \"▾\";\n",
       "}\n",
       "\n",
       "/* Pipeline/ColumnTransformer-specific style */\n",
       "\n",
       "#sk-container-id-1 div.sk-label input.sk-toggleable__control:checked~label.sk-toggleable__label {\n",
       "  color: var(--sklearn-color-text);\n",
       "  background-color: var(--sklearn-color-unfitted-level-2);\n",
       "}\n",
       "\n",
       "#sk-container-id-1 div.sk-label.fitted input.sk-toggleable__control:checked~label.sk-toggleable__label {\n",
       "  background-color: var(--sklearn-color-fitted-level-2);\n",
       "}\n",
       "\n",
       "/* Estimator-specific style */\n",
       "\n",
       "/* Colorize estimator box */\n",
       "#sk-container-id-1 div.sk-estimator input.sk-toggleable__control:checked~label.sk-toggleable__label {\n",
       "  /* unfitted */\n",
       "  background-color: var(--sklearn-color-unfitted-level-2);\n",
       "}\n",
       "\n",
       "#sk-container-id-1 div.sk-estimator.fitted input.sk-toggleable__control:checked~label.sk-toggleable__label {\n",
       "  /* fitted */\n",
       "  background-color: var(--sklearn-color-fitted-level-2);\n",
       "}\n",
       "\n",
       "#sk-container-id-1 div.sk-label label.sk-toggleable__label,\n",
       "#sk-container-id-1 div.sk-label label {\n",
       "  /* The background is the default theme color */\n",
       "  color: var(--sklearn-color-text-on-default-background);\n",
       "}\n",
       "\n",
       "/* On hover, darken the color of the background */\n",
       "#sk-container-id-1 div.sk-label:hover label.sk-toggleable__label {\n",
       "  color: var(--sklearn-color-text);\n",
       "  background-color: var(--sklearn-color-unfitted-level-2);\n",
       "}\n",
       "\n",
       "/* Label box, darken color on hover, fitted */\n",
       "#sk-container-id-1 div.sk-label.fitted:hover label.sk-toggleable__label.fitted {\n",
       "  color: var(--sklearn-color-text);\n",
       "  background-color: var(--sklearn-color-fitted-level-2);\n",
       "}\n",
       "\n",
       "/* Estimator label */\n",
       "\n",
       "#sk-container-id-1 div.sk-label label {\n",
       "  font-family: monospace;\n",
       "  font-weight: bold;\n",
       "  display: inline-block;\n",
       "  line-height: 1.2em;\n",
       "}\n",
       "\n",
       "#sk-container-id-1 div.sk-label-container {\n",
       "  text-align: center;\n",
       "}\n",
       "\n",
       "/* Estimator-specific */\n",
       "#sk-container-id-1 div.sk-estimator {\n",
       "  font-family: monospace;\n",
       "  border: 1px dotted var(--sklearn-color-border-box);\n",
       "  border-radius: 0.25em;\n",
       "  box-sizing: border-box;\n",
       "  margin-bottom: 0.5em;\n",
       "  /* unfitted */\n",
       "  background-color: var(--sklearn-color-unfitted-level-0);\n",
       "}\n",
       "\n",
       "#sk-container-id-1 div.sk-estimator.fitted {\n",
       "  /* fitted */\n",
       "  background-color: var(--sklearn-color-fitted-level-0);\n",
       "}\n",
       "\n",
       "/* on hover */\n",
       "#sk-container-id-1 div.sk-estimator:hover {\n",
       "  /* unfitted */\n",
       "  background-color: var(--sklearn-color-unfitted-level-2);\n",
       "}\n",
       "\n",
       "#sk-container-id-1 div.sk-estimator.fitted:hover {\n",
       "  /* fitted */\n",
       "  background-color: var(--sklearn-color-fitted-level-2);\n",
       "}\n",
       "\n",
       "/* Specification for estimator info (e.g. \"i\" and \"?\") */\n",
       "\n",
       "/* Common style for \"i\" and \"?\" */\n",
       "\n",
       ".sk-estimator-doc-link,\n",
       "a:link.sk-estimator-doc-link,\n",
       "a:visited.sk-estimator-doc-link {\n",
       "  float: right;\n",
       "  font-size: smaller;\n",
       "  line-height: 1em;\n",
       "  font-family: monospace;\n",
       "  background-color: var(--sklearn-color-background);\n",
       "  border-radius: 1em;\n",
       "  height: 1em;\n",
       "  width: 1em;\n",
       "  text-decoration: none !important;\n",
       "  margin-left: 1ex;\n",
       "  /* unfitted */\n",
       "  border: var(--sklearn-color-unfitted-level-1) 1pt solid;\n",
       "  color: var(--sklearn-color-unfitted-level-1);\n",
       "}\n",
       "\n",
       ".sk-estimator-doc-link.fitted,\n",
       "a:link.sk-estimator-doc-link.fitted,\n",
       "a:visited.sk-estimator-doc-link.fitted {\n",
       "  /* fitted */\n",
       "  border: var(--sklearn-color-fitted-level-1) 1pt solid;\n",
       "  color: var(--sklearn-color-fitted-level-1);\n",
       "}\n",
       "\n",
       "/* On hover */\n",
       "div.sk-estimator:hover .sk-estimator-doc-link:hover,\n",
       ".sk-estimator-doc-link:hover,\n",
       "div.sk-label-container:hover .sk-estimator-doc-link:hover,\n",
       ".sk-estimator-doc-link:hover {\n",
       "  /* unfitted */\n",
       "  background-color: var(--sklearn-color-unfitted-level-3);\n",
       "  color: var(--sklearn-color-background);\n",
       "  text-decoration: none;\n",
       "}\n",
       "\n",
       "div.sk-estimator.fitted:hover .sk-estimator-doc-link.fitted:hover,\n",
       ".sk-estimator-doc-link.fitted:hover,\n",
       "div.sk-label-container:hover .sk-estimator-doc-link.fitted:hover,\n",
       ".sk-estimator-doc-link.fitted:hover {\n",
       "  /* fitted */\n",
       "  background-color: var(--sklearn-color-fitted-level-3);\n",
       "  color: var(--sklearn-color-background);\n",
       "  text-decoration: none;\n",
       "}\n",
       "\n",
       "/* Span, style for the box shown on hovering the info icon */\n",
       ".sk-estimator-doc-link span {\n",
       "  display: none;\n",
       "  z-index: 9999;\n",
       "  position: relative;\n",
       "  font-weight: normal;\n",
       "  right: .2ex;\n",
       "  padding: .5ex;\n",
       "  margin: .5ex;\n",
       "  width: min-content;\n",
       "  min-width: 20ex;\n",
       "  max-width: 50ex;\n",
       "  color: var(--sklearn-color-text);\n",
       "  box-shadow: 2pt 2pt 4pt #999;\n",
       "  /* unfitted */\n",
       "  background: var(--sklearn-color-unfitted-level-0);\n",
       "  border: .5pt solid var(--sklearn-color-unfitted-level-3);\n",
       "}\n",
       "\n",
       ".sk-estimator-doc-link.fitted span {\n",
       "  /* fitted */\n",
       "  background: var(--sklearn-color-fitted-level-0);\n",
       "  border: var(--sklearn-color-fitted-level-3);\n",
       "}\n",
       "\n",
       ".sk-estimator-doc-link:hover span {\n",
       "  display: block;\n",
       "}\n",
       "\n",
       "/* \"?\"-specific style due to the `<a>` HTML tag */\n",
       "\n",
       "#sk-container-id-1 a.estimator_doc_link {\n",
       "  float: right;\n",
       "  font-size: 1rem;\n",
       "  line-height: 1em;\n",
       "  font-family: monospace;\n",
       "  background-color: var(--sklearn-color-background);\n",
       "  border-radius: 1rem;\n",
       "  height: 1rem;\n",
       "  width: 1rem;\n",
       "  text-decoration: none;\n",
       "  /* unfitted */\n",
       "  color: var(--sklearn-color-unfitted-level-1);\n",
       "  border: var(--sklearn-color-unfitted-level-1) 1pt solid;\n",
       "}\n",
       "\n",
       "#sk-container-id-1 a.estimator_doc_link.fitted {\n",
       "  /* fitted */\n",
       "  border: var(--sklearn-color-fitted-level-1) 1pt solid;\n",
       "  color: var(--sklearn-color-fitted-level-1);\n",
       "}\n",
       "\n",
       "/* On hover */\n",
       "#sk-container-id-1 a.estimator_doc_link:hover {\n",
       "  /* unfitted */\n",
       "  background-color: var(--sklearn-color-unfitted-level-3);\n",
       "  color: var(--sklearn-color-background);\n",
       "  text-decoration: none;\n",
       "}\n",
       "\n",
       "#sk-container-id-1 a.estimator_doc_link.fitted:hover {\n",
       "  /* fitted */\n",
       "  background-color: var(--sklearn-color-fitted-level-3);\n",
       "}\n",
       "</style><div id=\"sk-container-id-1\" class=\"sk-top-container\"><div class=\"sk-text-repr-fallback\"><pre>XGBRegressor(base_score=&#x27;4.9507248E1&#x27;, booster=&#x27;gbtree&#x27;, callbacks=None,\n",
       "             colsample_bylevel=None, colsample_bynode=None,\n",
       "             colsample_bytree=None, device=None, early_stopping_rounds=None,\n",
       "             enable_categorical=False, eval_metric=None,\n",
       "             feature_types=[&#x27;float&#x27;, &#x27;float&#x27;, &#x27;float&#x27;, &#x27;float&#x27;, &#x27;float&#x27;,\n",
       "                            &#x27;float&#x27;, &#x27;float&#x27;, &#x27;float&#x27;, &#x27;float&#x27;, &#x27;float&#x27;,\n",
       "                            &#x27;float&#x27;, &#x27;float&#x27;, &#x27;float&#x27;, &#x27;float&#x27;, &#x27;floa...\n",
       "             feature_weights=None, gamma=None, grow_policy=None,\n",
       "             importance_type=None, interaction_constraints=None,\n",
       "             learning_rate=None, max_bin=None, max_cat_threshold=None,\n",
       "             max_cat_to_onehot=None, max_delta_step=None, max_depth=None,\n",
       "             max_leaves=None, min_child_weight=None, missing=nan,\n",
       "             monotone_constraints=None, multi_strategy=None, n_estimators=None,\n",
       "             n_jobs=None, num_parallel_tree=None, ...)</pre><b>In a Jupyter environment, please rerun this cell to show the HTML representation or trust the notebook. <br />On GitHub, the HTML representation is unable to render, please try loading this page with nbviewer.org.</b></div><div class=\"sk-container\" hidden><div class=\"sk-item\"><div class=\"sk-estimator fitted sk-toggleable\"><input class=\"sk-toggleable__control sk-hidden--visually\" id=\"sk-estimator-id-1\" type=\"checkbox\" checked><label for=\"sk-estimator-id-1\" class=\"sk-toggleable__label fitted sk-toggleable__label-arrow fitted\">&nbsp;&nbsp;XGBRegressor<a class=\"sk-estimator-doc-link fitted\" rel=\"noreferrer\" target=\"_blank\" href=\"https://xgboost.readthedocs.io/en/release_3.0.0/python/python_api.html#xgboost.XGBRegressor\">?<span>Documentation for XGBRegressor</span></a><span class=\"sk-estimator-doc-link fitted\">i<span>Fitted</span></span></label><div class=\"sk-toggleable__content fitted\"><pre>XGBRegressor(base_score=&#x27;4.9507248E1&#x27;, booster=&#x27;gbtree&#x27;, callbacks=None,\n",
       "             colsample_bylevel=None, colsample_bynode=None,\n",
       "             colsample_bytree=None, device=None, early_stopping_rounds=None,\n",
       "             enable_categorical=False, eval_metric=None,\n",
       "             feature_types=[&#x27;float&#x27;, &#x27;float&#x27;, &#x27;float&#x27;, &#x27;float&#x27;, &#x27;float&#x27;,\n",
       "                            &#x27;float&#x27;, &#x27;float&#x27;, &#x27;float&#x27;, &#x27;float&#x27;, &#x27;float&#x27;,\n",
       "                            &#x27;float&#x27;, &#x27;float&#x27;, &#x27;float&#x27;, &#x27;float&#x27;, &#x27;floa...\n",
       "             feature_weights=None, gamma=None, grow_policy=None,\n",
       "             importance_type=None, interaction_constraints=None,\n",
       "             learning_rate=None, max_bin=None, max_cat_threshold=None,\n",
       "             max_cat_to_onehot=None, max_delta_step=None, max_depth=None,\n",
       "             max_leaves=None, min_child_weight=None, missing=nan,\n",
       "             monotone_constraints=None, multi_strategy=None, n_estimators=None,\n",
       "             n_jobs=None, num_parallel_tree=None, ...)</pre></div> </div></div></div></div>"
      ],
      "text/plain": [
       "XGBRegressor(base_score='4.9507248E1', booster='gbtree', callbacks=None,\n",
       "             colsample_bylevel=None, colsample_bynode=None,\n",
       "             colsample_bytree=None, device=None, early_stopping_rounds=None,\n",
       "             enable_categorical=False, eval_metric=None,\n",
       "             feature_types=['float', 'float', 'float', 'float', 'float',\n",
       "                            'float', 'float', 'float', 'float', 'float',\n",
       "                            'float', 'float', 'float', 'float', 'floa...\n",
       "             feature_weights=None, gamma=None, grow_policy=None,\n",
       "             importance_type=None, interaction_constraints=None,\n",
       "             learning_rate=None, max_bin=None, max_cat_threshold=None,\n",
       "             max_cat_to_onehot=None, max_delta_step=None, max_depth=None,\n",
       "             max_leaves=None, min_child_weight=None, missing=nan,\n",
       "             monotone_constraints=None, multi_strategy=None, n_estimators=None,\n",
       "             n_jobs=None, num_parallel_tree=None, ...)"
      ]
     },
     "execution_count": 25,
     "metadata": {},
     "output_type": "execute_result"
    }
   ],
   "source": [
    "# I already trained the model we load it\n",
    "xg_boost_model = XGBRegressor()\n",
    "xg_boost_model.load_model(\"../checkpoints/XGBoost_best_model.json\")\n",
    "xg_boost_model"
   ]
  },
  {
   "cell_type": "markdown",
   "id": "093c9a9f",
   "metadata": {},
   "source": [
    "We can plot the importance of the features for the model"
   ]
  },
  {
   "cell_type": "code",
   "execution_count": 26,
   "id": "3e763456",
   "metadata": {},
   "outputs": [
    {
     "data": {
      "text/plain": [
       "<Axes: title={'center': 'Feature importance'}, xlabel='Importance score', ylabel='Features'>"
      ]
     },
     "execution_count": 26,
     "metadata": {},
     "output_type": "execute_result"
    },
    {
     "data": {
      "image/png": "[encoded data removed]",
      "text/plain": [
       "<Figure size 640x480 with 1 Axes>"
      ]
     },
     "metadata": {},
     "output_type": "display_data"
    }
   ],
   "source": [
    "bst = xg_boost_model.get_booster()\n",
    "plot_importance(bst, max_num_features=10)"
   ]
  },
  {
   "cell_type": "markdown",
   "id": "3977c7c2",
   "metadata": {},
   "source": [
    "There is a consensus on some of the values for the two models, though we can see that some of them diverge\n",
    "Let's see how much sex is important"
   ]
  },
  {
   "cell_type": "code",
   "execution_count": 27,
   "id": "4c79a543",
   "metadata": {},
   "outputs": [
    {
     "data": {
      "text/plain": [
       "{'lh_caudalanteriorcingulate': 43.0,\n",
       " 'lh_caudalmiddlefrontal': 31.0,\n",
       " 'lh_cuneus': 34.0,\n",
       " 'lh_entorhinal': 39.0,\n",
       " 'lh_fusiform': 29.0,\n",
       " 'lh_inferiorparietal': 27.0,\n",
       " 'lh_inferiortemporal': 39.0,\n",
       " 'lh_insula': 25.0,\n",
       " 'lh_isthmuscingulate': 26.0,\n",
       " 'lh_lateraloccipital': 16.0,\n",
       " 'lh_lateralorbitofrontal': 15.0,\n",
       " 'lh_lingual': 13.0,\n",
       " 'lh_medialorbitofrontal': 34.0,\n",
       " 'lh_middletemporal': 24.0,\n",
       " 'lh_paracentral': 12.0,\n",
       " 'lh_parahippocampal': 24.0,\n",
       " 'lh_parsopercularis': 29.0,\n",
       " 'lh_parsorbitalis': 17.0,\n",
       " 'lh_parstriangularis': 42.0,\n",
       " 'lh_pericalcarine': 26.0,\n",
       " 'lh_postcentral': 23.0,\n",
       " 'lh_posteriorcingulate': 20.0,\n",
       " 'lh_precentral': 39.0,\n",
       " 'lh_precuneus': 10.0,\n",
       " 'lh_rostralanteriorcingulate': 26.0,\n",
       " 'lh_rostralmiddlefrontal': 15.0,\n",
       " 'lh_superiorfrontal': 26.0,\n",
       " 'lh_superiorparietal': 7.0,\n",
       " 'lh_superiortemporal': 16.0,\n",
       " 'lh_supramarginal': 12.0,\n",
       " 'lh_transversetemporal': 20.0,\n",
       " 'rh_caudalanteriorcingulate': 25.0,\n",
       " 'rh_caudalmiddlefrontal': 20.0,\n",
       " 'rh_cuneus': 15.0,\n",
       " 'rh_entorhinal': 35.0,\n",
       " 'rh_fusiform': 9.0,\n",
       " 'rh_inferiorparietal': 16.0,\n",
       " 'rh_inferiortemporal': 19.0,\n",
       " 'rh_insula': 12.0,\n",
       " 'rh_isthmuscingulate': 22.0,\n",
       " 'rh_lateraloccipital': 21.0,\n",
       " 'rh_lateralorbitofrontal': 21.0,\n",
       " 'rh_lingual': 23.0,\n",
       " 'rh_medialorbitofrontal': 29.0,\n",
       " 'rh_middletemporal': 21.0,\n",
       " 'rh_paracentral': 10.0,\n",
       " 'rh_parahippocampal': 28.0,\n",
       " 'rh_parsopercularis': 35.0,\n",
       " 'rh_parsorbitalis': 29.0,\n",
       " 'rh_parstriangularis': 11.0,\n",
       " 'rh_pericalcarine': 41.0,\n",
       " 'rh_postcentral': 12.0,\n",
       " 'rh_posteriorcingulate': 20.0,\n",
       " 'rh_precentral': 27.0,\n",
       " 'rh_precuneus': 7.0,\n",
       " 'rh_rostralanteriorcingulate': 19.0,\n",
       " 'rh_rostralmiddlefrontal': 26.0,\n",
       " 'rh_superiorfrontal': 20.0,\n",
       " 'rh_superiorparietal': 31.0,\n",
       " 'rh_superiortemporal': 19.0,\n",
       " 'rh_supramarginal': 14.0,\n",
       " 'rh_transversetemporal': 20.0,\n",
       " 'sex': 9.0}"
      ]
     },
     "execution_count": 27,
     "metadata": {},
     "output_type": "execute_result"
    }
   ],
   "source": [
    "bst.get_fscore()"
   ]
  },
  {
   "cell_type": "markdown",
   "id": "2d20d739",
   "metadata": {},
   "source": [
    "Interestingly enough, for XGBoost sex is the least important feature!"
   ]
  },
  {
   "cell_type": "code",
   "execution_count": 28,
   "id": "94a9c996",
   "metadata": {},
   "outputs": [
    {
     "name": "stdout",
     "output_type": "stream",
     "text": [
      "XGBoost MAE: 13.906 +/- 7.888, R²: 0.002\n"
     ]
    }
   ],
   "source": [
    "test_set_mod = test_set[labels_features + [\"sex\"]].copy()\n",
    "test_set_mod[\"sex\"] = test_set_mod[\"sex\"].astype(\"category\")\n",
    "\n",
    "y_test_pred = xg_boost_model.predict(test_set_mod)\n",
    "mae_m, mae_std = mae_fn(y_test_set, y_test_pred)\n",
    "r2 = r2_score(y_test_set, y_test_pred)\n",
    "print(f\"XGBoost MAE: {mae_m:.3f} +/- {mae_std:.3f}, R²: {r2:.3f}\")"
   ]
  },
  {
   "cell_type": "markdown",
   "id": "dea88d89",
   "metadata": {},
   "source": [
    "# Post-Hoc\n",
    "\n",
    "Post-Hoc methods are used for more black-box models, where it is not really possible to extract explanations directly as we did now.\n",
    "\n",
    "In simple word, a post-hoc method act on the specific model we are considering and apply a mathematical method to obtain a comprhensible explanations from it."
   ]
  },
  {
   "cell_type": "markdown",
   "id": "d6afc5d7",
   "metadata": {},
   "source": [
    "Let's try to apply this method to the MLP we trained in the previous session"
   ]
  },
  {
   "cell_type": "code",
   "execution_count": 29,
   "id": "df37d1a6",
   "metadata": {},
   "outputs": [],
   "source": [
    "SEED = 0\n",
    "nr.seed(SEED)\n",
    "th.manual_seed(SEED)\n",
    "th.cuda.manual_seed_all(SEED)"
   ]
  },
  {
   "cell_type": "code",
   "execution_count": 30,
   "id": "d0beba36",
   "metadata": {},
   "outputs": [],
   "source": [
    "class MLPCort(nn.Module):\n",
    "    def __init__(self, in_dim: int, hidden: List[int], dropout: float = 0.0):\n",
    "        super().__init__()\n",
    "        layers: List[nn.Module] = []\n",
    "        prev = in_dim\n",
    "        for h in hidden:\n",
    "            layers += [\n",
    "                nn.Linear(prev, h),\n",
    "                nn.ReLU(inplace=True),\n",
    "                nn.Dropout(dropout),\n",
    "            ]\n",
    "            prev = h\n",
    "        layers += [nn.Linear(prev, 1)]  # regression output\n",
    "        self.net = nn.Sequential(*layers)\n",
    "\n",
    "    def forward(self, x: th.Tensor) -> th.Tensor:\n",
    "        return self.net(x)\n",
    "    \n",
    "# Dataset\n",
    "class CorthicalThicknessDataset(Dataset):\n",
    "    def __init__(self,\n",
    "                 metadata_df: pd.DataFrame,\n",
    "                 features: List[str],\n",
    "                 transform = None,\n",
    "                 age_transforms = None):\n",
    "        self.df = metadata_df\n",
    "        self.transform = transform\n",
    "        self.age_transforms = age_transforms\n",
    "        self.features = features\n",
    "\n",
    "    def __len__(self):\n",
    "        return len(self.df)\n",
    "\n",
    "    def __getitem__(self, idx):\n",
    "        row: pd.Series = self.df.iloc[idx]\n",
    "        age = float(row[\"age\"])\n",
    "        features = row[self.features].values.astype(np.float32)\n",
    "        if self.transform:\n",
    "            features = self.transform(features)\n",
    "        if self.age_transforms:\n",
    "            age = self.age_transforms(age)\n",
    "        return {\n",
    "            \"cort\": features if th.is_tensor(features) else th.as_tensor(features),\n",
    "            \"age\": (age if th.is_tensor(age) else th.as_tensor(age)).type(dtype=th.float32),\n",
    "        }\n",
    "\n",
    "labels_features = [c for c in train_set.columns if \"lh\" in c or \"rh\" in c] \n",
    "\n",
    "def apply_scaler(df, scaler, num_cols):\n",
    "    df_scaled = df.copy()\n",
    "    df_scaled[num_cols] = scaler.transform(df[num_cols])\n",
    "    return df_scaled\n",
    "\n",
    "def get_loaders_thk(train_set,\n",
    "                    val_set,\n",
    "                    features,\n",
    "                    train_transforms=None,\n",
    "                    val_transforms=None,\n",
    "                    age_transforms=None,\n",
    "                    batch_size=16):\n",
    "\n",
    "    # Scale the corthical thicknesses \n",
    "    scaler = StandardScaler()\n",
    "    scaler.fit(train_set[features])\n",
    "\n",
    "    train_scaled = apply_scaler(train_set, scaler, features)\n",
    "    val_scaled   = apply_scaler(val_set, scaler, features)\n",
    "\n",
    "    ds_tr = CorthicalThicknessDataset(\n",
    "        train_scaled,\n",
    "        features=features,\n",
    "        transform=train_transforms,\n",
    "        age_transforms=age_transforms\n",
    "    )\n",
    "\n",
    "    train_dl = DataLoader(ds_tr, batch_size=batch_size,\n",
    "                            shuffle=True,\n",
    "                            num_workers=6,\n",
    "                            pin_memory=True,\n",
    "                            persistent_workers=True,\n",
    "                            prefetch_factor=2)\n",
    "    \n",
    "    ds_val = CorthicalThicknessDataset(\n",
    "        val_scaled,\n",
    "        features=features,\n",
    "        transform=val_transforms,\n",
    "        age_transforms=age_transforms\n",
    "    )\n",
    "    val_dl = DataLoader(ds_val, batch_size=batch_size,\n",
    "                            num_workers=2,\n",
    "                            pin_memory=False,\n",
    "                            persistent_workers=True,\n",
    "                            prefetch_factor=None)\n",
    "                            # persistent_workers=True,\n",
    "                            # prefetch_factor=2)\n",
    "\n",
    "    return train_dl, val_dl, scaler"
   ]
  },
  {
   "cell_type": "code",
   "execution_count": 33,
   "id": "c94f958d",
   "metadata": {},
   "outputs": [
    {
     "name": "stdout",
     "output_type": "stream",
     "text": [
      "Using device: cuda\n"
     ]
    },
    {
     "data": {
      "text/plain": [
       "MLPCort(\n",
       "  (net): Sequential(\n",
       "    (0): Linear(in_features=62, out_features=32, bias=True)\n",
       "    (1): ReLU(inplace=True)\n",
       "    (2): Dropout(p=0.3, inplace=False)\n",
       "    (3): Linear(in_features=32, out_features=64, bias=True)\n",
       "    (4): ReLU(inplace=True)\n",
       "    (5): Dropout(p=0.3, inplace=False)\n",
       "    (6): Linear(in_features=64, out_features=16, bias=True)\n",
       "    (7): ReLU(inplace=True)\n",
       "    (8): Dropout(p=0.3, inplace=False)\n",
       "    (9): Linear(in_features=16, out_features=1, bias=True)\n",
       "  )\n",
       ")"
      ]
     },
     "execution_count": 33,
     "metadata": {},
     "output_type": "execute_result"
    }
   ],
   "source": [
    "device = th.device('cuda' if th.cuda.is_available() else 'cpu')\n",
    "print('Using device:', device)\n",
    "\n",
    "mlpcort = MLPCort(\n",
    "        in_dim=len(labels_features),\n",
    "        hidden=[32,64,16],\n",
    "        dropout=0.3\n",
    ").to(device=device)\n",
    "\n",
    "state_dict = th.load(\"../checkpoints/MLPCort_best_model.pth\")\n",
    "mlpcort.load_state_dict(state_dict[\"model_state_dict\"])\n",
    "\n",
    "mlpcort"
   ]
  },
  {
   "cell_type": "markdown",
   "id": "e256eb5d",
   "metadata": {},
   "source": [
    "We will investigate now some methods that allow us to explain feature importance (i.e. corthical thickness for our MLP)\n",
    "\n",
    "The importance for black box model can in general be called _attribution_ and measure the contribution of a certain feature $x_i$ with respect to a baseline $x_i'$. For instance, a baseline can be a specific corthical thickness fold of value 0, and the attribution may measure how the predicted age changes as the cortical thickness value is increased from the baseline to a value $\\delta$."
   ]
  },
  {
   "cell_type": "code",
   "execution_count": null,
   "id": "e0f823c8",
   "metadata": {},
   "outputs": [],
   "source": [
    "# let's create the dataloaders\n",
    "_, test_dl, _ = get_loaders_thk(\n",
    "    train_set=train_set, val_set=test_set, features=labels_features,\n",
    "    age_transforms=lambda x: x/255., batch_size=32\n",
    ")"
   ]
  },
  {
   "cell_type": "code",
   "execution_count": null,
   "id": "e5cd59a4",
   "metadata": {},
   "outputs": [],
   "source": [
    "@th.no_grad() # <- note, this is not needed in the actual attribution computation!\n",
    "def build_methods(model: nn.Module):\n",
    "    return {\n",
    "        \"input_x_gradient\": InputXGradient(model),\n",
    "        \"integrated_gradients\": IntegratedGradients(model),\n",
    "        \"feature_ablation\": FeatureAblation(model),\n",
    "        \"shapley_sampling\": ShapleyValueSampling(model),\n",
    "    }"
   ]
  },
  {
   "cell_type": "code",
   "execution_count": null,
   "id": "614afd83",
   "metadata": {},
   "outputs": [],
   "source": [
    "def attr_input_x_gradient(method, x: th.Tensor) -> th.Tensor:\n",
    "    # For regression with single output neuron → target=0\n",
    "    x = x.detach().requires_grad_(True)\n",
    "    return method.attribute(x, target=0)\n",
    "\n",
    "def attr_integrated_gradients(method, x: th.Tensor, baselines: th.Tensor,\n",
    "                              n_steps: int = 128, internal_bs: int | None = None) -> th.Tensor:\n",
    "    x = x.detach().requires_grad_(True)\n",
    "    return method.attribute(\n",
    "        x, target=0, baselines=baselines, n_steps=n_steps,\n",
    "        internal_batch_size=internal_bs\n",
    "    )\n",
    "\n",
    "def attr_integrated_gradients_smooth(method, x: th.Tensor, baselines: th.Tensor,\n",
    "                                     n_steps: int = 64, nt_samples: int = 15,\n",
    "                                     nt_type: str = \"smoothgrad_sq\",\n",
    "                                     stdevs: float = 0.01,\n",
    "                                     internal_bs: int | None = None) -> th.Tensor:\n",
    "    x = x.detach().requires_grad_(True)\n",
    "    # NoiseTunnel wraps IG; pass nt-specific args here\n",
    "    return method.attribute(\n",
    "        x, target=0, baselines=baselines, n_steps=n_steps,\n",
    "        nt_samples=nt_samples, nt_type=nt_type, stdevs=stdevs,\n",
    "        internal_batch_size=internal_bs\n",
    "    )\n",
    "\n",
    "def attr_feature_ablation(method, x: th.Tensor, feature_mask: th.Tensor,\n",
    "                          perturbations_per_eval: int = 64) -> th.Tensor:\n",
    "    # Ablate (set to baseline=0) each feature group defined in feature_mask\n",
    "    # For standardized inputs, 0 ≈ average subject.\n",
    "    return method.attribute(\n",
    "        x, target=0, feature_mask=feature_mask,\n",
    "        perturbations_per_eval=perturbations_per_eval\n",
    "    )\n",
    "\n",
    "def attr_shapley_sampling(method, x: th.Tensor, feature_mask: th.Tensor,\n",
    "                          n_samples: int = 200, show_progress: bool = False) -> th.Tensor:\n",
    "    # Monte-Carlo Shapley values (expensive). n_samples trades accuracy vs. speed.\n",
    "    return method.attribute(\n",
    "        x, target=0, feature_mask=feature_mask,\n",
    "        n_samples=n_samples, show_progress=show_progress\n",
    "    )"
   ]
  },
  {
   "cell_type": "code",
   "execution_count": null,
   "id": "bc790992",
   "metadata": {},
   "outputs": [],
   "source": [
    "def ensure_2d(x: th.Tensor) -> th.Tensor:\n",
    "    # Make sure x is [B, in_dim]\n",
    "    if x.ndim == 1:\n",
    "        x = x.unsqueeze(0)\n",
    "    return x\n",
    "\n",
    "def get_attribution(test_dl, storage, method, method_name, *args, **kwargs):\n",
    "    # Utility function to register the attribution.\n",
    "    mlpcort.eval()\n",
    "    for batch in test_dl:\n",
    "        x: th.Tensor = ensure_2d(batch[\"cort\"].float()).to(device=device)  # [B, F]\n",
    "\n",
    "        attribution = method(x, *args, **kwargs)\n",
    "        storage[method_name].append(attribution.detach().cpu().numpy())\n",
    "        return attribution"
   ]
  },
  {
   "cell_type": "code",
   "execution_count": null,
   "id": "9a429e5d",
   "metadata": {},
   "outputs": [],
   "source": [
    "in_dim = len(labels_features)\n",
    "methods = build_methods(mlpcort)\n",
    "# for each method, we create a storage of the attributions\n",
    "storage = {m: [] for m in methods}"
   ]
  },
  {
   "cell_type": "markdown",
   "id": "d3c89733",
   "metadata": {},
   "source": [
    "# Input x Gradients\n",
    "\n",
    "The gradients are a simple proxy for understanding the decision of a black box model. In fact, gradients measure the variation of our output function (the age) with respect to the input we gave to the model. So, they are the most simple attribution method.\n",
    "\n",
    "The classical technique used for explaining a bb model is then to propagate the gradient of the output all the way to the input, using the classical chaining rule and obtaining the final attribution."
   ]
  },
  {
   "cell_type": "code",
   "execution_count": null,
   "id": "4dcf46b6",
   "metadata": {},
   "outputs": [
    {
     "data": {
      "text/plain": [
       "[array([[ 4.0760431e-05,  5.7236361e-03, -1.4091843e-03, ...,\n",
       "          2.0194699e-03, -2.5037013e-03,  5.3517160e-04],\n",
       "        [-5.3452943e-03, -1.8409871e-03,  8.0984231e-04, ...,\n",
       "          4.4704837e-05, -2.2177370e-03,  2.7675324e-03],\n",
       "        [ 2.3959002e-04, -7.5727650e-03,  7.0445174e-03, ...,\n",
       "         -5.3472177e-05, -3.3503500e-05,  5.4356400e-03],\n",
       "        ...,\n",
       "        [ 4.6611358e-03, -4.6611982e-03, -8.2254555e-04, ...,\n",
       "         -5.9761129e-05, -5.0292147e-04,  6.3030492e-04],\n",
       "        [-1.1346074e-03, -9.4361091e-04, -1.7019245e-03, ...,\n",
       "         -5.8901855e-03,  3.9626559e-04, -2.4247568e-04],\n",
       "        [-4.3747816e-03, -2.4331375e-03, -1.4843524e-03, ...,\n",
       "         -2.6475890e-03, -1.4767910e-03,  2.0093631e-03]], dtype=float32)]"
      ]
     },
     "execution_count": 13,
     "metadata": {},
     "output_type": "execute_result"
    }
   ],
   "source": [
    "name_mthd = \"input_x_gradient\"\n",
    "def calc_input_x_gradient(x):\n",
    "    # For regression with single output neuron → target=0\n",
    "    x = x.detach().requires_grad_(True)\n",
    "    return methods[name_mthd].attribute(x, target=0)\n",
    "\n",
    "get_attribution(test_dl, storage, calc_input_x_gradient, name_mthd)\n",
    "storage[name_mthd]"
   ]
  },
  {
   "cell_type": "code",
   "execution_count": null,
   "id": "4ccb1866",
   "metadata": {},
   "outputs": [
    {
     "data": {
      "text/plain": [
       "(32, 62)"
      ]
     },
     "execution_count": 14,
     "metadata": {},
     "output_type": "execute_result"
    }
   ],
   "source": [
    "storage[name_mthd][0].shape # <- it gives us a weight for each different sample/feature value"
   ]
  },
  {
   "cell_type": "markdown",
   "id": "a22831b3",
   "metadata": {},
   "source": [
    "# Integrated Gradients\n",
    "\n",
    "It is an evolution on the calculation of the classical input x gradient. Gradients suffers from many problems: they are highly unstable, and they suffer from a very specific problem where changes of the function directly related to the input are untracked due to the nature of the non-linear function inside the network.\n",
    "\n",
    "To see this problem, we can consider a case of the output of a network with the ReLU function."
   ]
  },
  {
   "cell_type": "code",
   "execution_count": null,
   "id": "69ac7d04",
   "metadata": {},
   "outputs": [
    {
     "data": {
      "image/png": "[encoded data removed]",
      "text/plain": [
       "<Figure size 640x480 with 1 Axes>"
      ]
     },
     "metadata": {},
     "output_type": "display_data"
    }
   ],
   "source": [
    "x = np.linspace(-1, 2, 2000)\n",
    "\n",
    "# ReLU function\n",
    "relu = 1 - np.maximum(0, 1-x)\n",
    "grad = np.where((1-x) > 0, 1, 0)\n",
    "\n",
    "plt.figure()\n",
    "plt.plot(x, relu, label=\"Relu(1-x)\")\n",
    "plt.plot(x, grad, label=\"∂ReLU(1-x)/∂x\")\n",
    "plt.axvline(0, linestyle=\"--\", linewidth=1)\n",
    "plt.title(\"Relu function\")\n",
    "plt.xlabel(\"x\")\n",
    "plt.ylabel(\"f(x)\")\n",
    "plt.legend()\n",
    "plt.grid(True, linestyle=\"--\", linewidth=0.5, alpha=0.7)\n",
    "plt.tight_layout()\n",
    "plt.show()"
   ]
  },
  {
   "cell_type": "markdown",
   "id": "3d7d73af",
   "metadata": {},
   "source": [
    "We can see that:\n",
    "\n",
    "- $x = 0 \\rightarrow f(x) = 1-ReLu(1-x) = 1$\n",
    "- $x = 2 \\rightarrow f(x) = 1-ReLu(1-x) = 0$\n",
    "\n",
    "Since the input is 2, the gradient we calculate is 0. Thus, we are giving to the input an attribution:\n",
    "\n",
    "$x * grad = 2 * 0 = 0$\n",
    "\n",
    "However, we would have expected the attribution to be not 0, since the input has caused the change of the final function! If the x would have been a cortichal thickness value, it for sure would have lead to a different age prediction. Ideally, the method should have returned a correct attribution, but this is not the case (more on this counterintuive example: https://arxiv.org/pdf/1703.01365, which also introduce a broader discussion on IG)."
   ]
  },
  {
   "cell_type": "markdown",
   "id": "6e074b45",
   "metadata": {},
   "source": [
    "IG solves this issue by considering by considering how $f(x)$ changes when our sample changes not instantaneously, but along a specific \"change path\" from the baseline $x_i'$ to the sample $x_i$. Then, instead of multiplying for the input, we quantify the attribution as the multiplication of the calculated \"integrated\" gradient with the difference in the input."
   ]
  },
  {
   "cell_type": "code",
   "execution_count": null,
   "id": "52714f4f",
   "metadata": {},
   "outputs": [
    {
     "data": {
      "text/plain": [
       "[array([[ 1.04967905e-04,  6.64095301e-03, -1.77666638e-03, ...,\n",
       "          1.39298069e-03, -8.35920277e-04,  4.90238308e-04],\n",
       "        [-9.58461221e-03, -3.14776110e-03,  1.16846839e-03, ...,\n",
       "          1.42259771e-04, -2.89860717e-03,  4.27072169e-03],\n",
       "        [ 4.51048865e-04, -9.54196602e-03,  7.15989992e-03, ...,\n",
       "          2.68156786e-04, -4.93180232e-05,  6.40856475e-03],\n",
       "        ...,\n",
       "        [ 2.49471026e-03, -3.53128533e-03, -6.58779696e-04, ...,\n",
       "         -5.00974311e-05,  3.85685016e-05,  3.98977456e-04],\n",
       "        [-1.12160621e-03, -1.30430108e-03,  1.01144495e-03, ...,\n",
       "         -4.65784688e-03,  2.91449454e-04, -5.19067049e-04],\n",
       "        [-9.32780840e-03, -5.02436049e-03,  2.58106459e-03, ...,\n",
       "         -3.15981777e-03, -3.45108192e-03,  4.05589398e-03]], dtype=float32)]"
      ]
     },
     "execution_count": 16,
     "metadata": {},
     "output_type": "execute_result"
    }
   ],
   "source": [
    "name_mthd = \"integrated_gradients\"\n",
    "def calc_intgrad(x, baselines, n_steps, batch_size):\n",
    "    # we must define a baselines, and how much discrete steps of the path we execute. Trivially, if steps = 1, we calculate gradient * input!\n",
    "    x = x.detach().requires_grad_(True)\n",
    "    return methods[name_mthd].attribute(\n",
    "        x, target=0, baselines=baselines, n_steps=n_steps,\n",
    "        internal_batch_size=batch_size\n",
    "    )\n",
    "\n",
    "# We provide a zeroed baseline\n",
    "baseline = th.zeros(32, in_dim, device=device)\n",
    "get_attribution(test_dl, storage, calc_intgrad, name_mthd, baselines=baseline, n_steps=100, batch_size=32)\n",
    "storage[name_mthd]"
   ]
  },
  {
   "cell_type": "markdown",
   "id": "535f90c4",
   "metadata": {},
   "source": [
    "# Feature Ablation\n",
    "\n",
    "Feature ablation tries to change the vision of attribution by interpreting it in terms of \"removal\" of feature. Basically, instead of measuring the gradient, it measure the difference in the output when a specific set of feature is replaced by a baseline. The difference is the attribution."
   ]
  },
  {
   "cell_type": "code",
   "execution_count": null,
   "id": "d0f055fb",
   "metadata": {},
   "outputs": [
    {
     "data": {
      "text/plain": [
       "[array([[-8.6322427e-05,  5.1402450e-03, -8.9834630e-04, ...,\n",
       "          1.3833642e-03, -6.7475438e-04,  5.1826239e-04],\n",
       "        [-5.1079988e-03, -1.8409938e-03,  8.0983341e-04, ...,\n",
       "          4.4703484e-05, -2.1867007e-03,  2.7880520e-03],\n",
       "        [-3.7935376e-04, -6.8260133e-03,  7.3020160e-03, ...,\n",
       "         -2.5147200e-04, -3.3497810e-05,  5.1961243e-03],\n",
       "        ...,\n",
       "        [ 3.4579039e-03, -4.2444766e-03, -8.2254410e-04, ...,\n",
       "         -5.9768558e-05, -5.0292909e-04,  6.1999261e-04],\n",
       "        [-1.0391474e-03, -1.1517853e-03, -1.7717481e-05, ...,\n",
       "         -7.5461268e-03,  3.9626658e-04, -2.5625527e-04],\n",
       "        [-4.9751252e-03, -2.5951564e-03, -1.2431443e-03, ...,\n",
       "         -2.4798661e-03, -1.9360185e-03,  1.3400242e-03]], dtype=float32)]"
      ]
     },
     "execution_count": 17,
     "metadata": {},
     "output_type": "execute_result"
    }
   ],
   "source": [
    "name_mthd = \"feature_ablation\"\n",
    "def calc_fa(x, feature_mask, baselines, in_dim):\n",
    "    # The feature mask is the set of features to consider\n",
    "    x = x.detach().requires_grad_(True)\n",
    "    return methods[name_mthd].attribute(\n",
    "        x, target=0, baselines=baselines, feature_mask=feature_mask,\n",
    "        perturbations_per_eval=min(64, in_dim)\n",
    "    )\n",
    "\n",
    "# When feature\n",
    "baseline = th.zeros(32, in_dim, device=device)\n",
    "get_attribution(test_dl, storage, calc_fa, name_mthd, feature_mask=None, baselines=None, in_dim=in_dim)\n",
    "storage[name_mthd]"
   ]
  },
  {
   "cell_type": "markdown",
   "id": "2974ada1",
   "metadata": {},
   "source": [
    "# Shapley values\n",
    "\n",
    "Finally, Shapley values is a mathematical rigorous method to calculate the attribution of a feature. A shapley value assigned for a feature represent how much such feature contributed to the final value of the output function when considered considered along all possible sets of all the other features. Imagine it in this way: we say that a corthical thickness $x_i$ has a shapley value $\\phi_i$ when the contribution that it has towards the defition of the age when considered for all its different values and with all different subset of corthical thickness features is averaged. "
   ]
  },
  {
   "cell_type": "markdown",
   "id": "867a78ef",
   "metadata": {},
   "source": [
    "For continuous variable such as corthical thickness, it is ill-posed to compute such quantity (what is absence of a continuous variable?). Moreover for black model is also intractable, since we would need to encode in the model the absence and the presence of the feature over all possible sets of the other features. A number of model which is infeasible to obtain.\n",
    "\n",
    "A relax to calculate the Shapley value is defining the absence of a feature as a baseline or the \"zero\" value. Then, to solve the computational burden, contribution is calculated over a randomly sampled subset of features. This is called the _Sampling Shapley_."
   ]
  },
  {
   "cell_type": "code",
   "execution_count": null,
   "id": "d2d868c7",
   "metadata": {},
   "outputs": [
    {
     "data": {
      "application/vnd.jupyter.widget-view+json": {
       "model_id": "12f78c1e27b441cda1260bd58546dbd9",
       "version_major": 2,
       "version_minor": 0
      },
      "text/plain": [
       "Shapley Value Sampling attribution:   0%|          | 0/62001 [00:00<?, ?it/s]"
      ]
     },
     "metadata": {},
     "output_type": "display_data"
    },
    {
     "data": {
      "text/plain": [
       "[array([[ 1.3687032e-04,  6.4109308e-03, -1.4838139e-03, ...,\n",
       "          2.0183173e-03, -1.2813200e-03,  3.9446229e-04],\n",
       "        [-7.4913921e-03, -2.6443454e-03,  9.0223557e-04, ...,\n",
       "          1.6000724e-04, -2.6207697e-03,  2.8620327e-03],\n",
       "        [ 1.9013191e-03, -8.7785330e-03,  6.0875770e-03, ...,\n",
       "          4.0975012e-04,  3.1320618e-05,  5.0324700e-03],\n",
       "        ...,\n",
       "        [ 3.7373917e-03, -3.2461821e-03, -8.5527665e-04, ...,\n",
       "         -2.9104427e-05, -9.5454503e-05,  3.9961733e-04],\n",
       "        [-1.3605104e-03, -1.3246600e-03,  1.1896462e-03, ...,\n",
       "         -4.9382118e-03,  3.0128795e-04, -5.1471882e-04],\n",
       "        [-8.4409630e-03, -3.8659524e-03,  3.5397282e-03, ...,\n",
       "         -2.6482246e-03, -4.0273899e-03,  2.4359140e-03]], dtype=float32)]"
      ]
     },
     "execution_count": 19,
     "metadata": {},
     "output_type": "execute_result"
    }
   ],
   "source": [
    "name_mthd = \"shapley_sampling\"\n",
    "def calc_shap(x, baselines, n_samples):\n",
    "    # we must define a baselines, and how much discrete steps of the path we execute. Trivially, if steps = 1, we calculate gradient * input!\n",
    "    x = x.detach().requires_grad_(True)\n",
    "    return methods[name_mthd].attribute(\n",
    "        x, target=0, baselines=baselines,\n",
    "        n_samples=n_samples, show_progress=True)\n",
    "\n",
    "# We provide a zeroed baseline\n",
    "get_attribution(test_dl, storage, calc_shap, name_mthd, baselines=None, n_samples=1000)\n",
    "storage[name_mthd]"
   ]
  },
  {
   "cell_type": "code",
   "execution_count": null,
   "id": "4c115fe9",
   "metadata": {},
   "outputs": [
    {
     "name": "stdout",
     "output_type": "stream",
     "text": [
      "\n",
      "[Method: input_x_gradient] Top 10 features by mean |attribution| on TEST set:\n",
      "  # 1  lh_medialorbitofrontal: 0.007520\n",
      "  # 2  rh_medialorbitofrontal: 0.006280\n",
      "  # 3  lh_inferiortemporal: 0.005599\n",
      "  # 4  lh_lateralorbitofrontal: 0.004923\n",
      "  # 5  lh_pericalcarine: 0.004208\n",
      "  # 6  lh_isthmuscingulate: 0.003931\n",
      "  # 7  lh_lateraloccipital: 0.003402\n",
      "  # 8  rh_pericalcarine: 0.003304\n",
      "  # 9  lh_parstriangularis: 0.003049\n",
      "  #10  rh_precentral: 0.003048\n",
      "\n",
      "[Method: integrated_gradients] Top 10 features by mean |attribution| on TEST set:\n",
      "  # 1  lh_medialorbitofrontal: 0.011824\n",
      "  # 2  rh_medialorbitofrontal: 0.010246\n",
      "  # 3  lh_lateralorbitofrontal: 0.008421\n",
      "  # 4  lh_inferiortemporal: 0.007352\n",
      "  # 5  lh_pericalcarine: 0.006361\n",
      "  # 6  rh_pericalcarine: 0.005452\n",
      "  # 7  lh_parstriangularis: 0.005243\n",
      "  # 8  rh_lateralorbitofrontal: 0.005096\n",
      "  # 9  rh_precentral: 0.005014\n",
      "  #10  lh_rostralmiddlefrontal: 0.004897\n",
      "\n",
      "[Method: feature_ablation] Top 10 features by mean |attribution| on TEST set:\n",
      "  # 1  lh_medialorbitofrontal: 0.008789\n",
      "  # 2  rh_medialorbitofrontal: 0.006904\n",
      "  # 3  lh_lateralorbitofrontal: 0.004932\n",
      "  # 4  lh_inferiortemporal: 0.004708\n",
      "  # 5  lh_pericalcarine: 0.004018\n",
      "  # 6  lh_isthmuscingulate: 0.003855\n",
      "  # 7  rh_lateralorbitofrontal: 0.003655\n",
      "  # 8  lh_lateraloccipital: 0.003212\n",
      "  # 9  rh_pericalcarine: 0.003122\n",
      "  #10  rh_precentral: 0.003107\n",
      "\n",
      "[Method: shapley_sampling] Top 10 features by mean |attribution| on TEST set:\n",
      "  # 1  lh_medialorbitofrontal: 0.011452\n",
      "  # 2  rh_medialorbitofrontal: 0.010090\n",
      "  # 3  lh_lateralorbitofrontal: 0.007331\n",
      "  # 4  lh_inferiortemporal: 0.006422\n",
      "  # 5  lh_pericalcarine: 0.005555\n",
      "  # 6  lh_parstriangularis: 0.004934\n",
      "  # 7  rh_pericalcarine: 0.004920\n",
      "  # 8  rh_precentral: 0.004485\n",
      "  # 9  lh_rostralmiddlefrontal: 0.004189\n",
      "  #10  lh_caudalmiddlefrontal: 0.004135\n"
     ]
    }
   ],
   "source": [
    "# For each method, we see the top features\n",
    "\n",
    "for method_name, chunks in storage.items():\n",
    "    if not chunks:\n",
    "        continue\n",
    "    A = np.concatenate(chunks, axis=0)  # [N, F]\n",
    "    assert A.shape[1] == in_dim\n",
    "\n",
    "    # Global importances = mean absolute attribution over test set\n",
    "    glob = np.mean(np.abs(A), axis=0)\n",
    "    gi = (\n",
    "        pd.DataFrame({\"feature\": labels_features, \"importance\": glob})\n",
    "        .sort_values(\"importance\", ascending=False)\n",
    "        .reset_index(drop=True)\n",
    "    )\n",
    "    gi[\"rank\"] = gi.index + 1\n",
    "\n",
    "    # Quick top-k printout\n",
    "    topk = gi.head(min(len(gi), 10))\n",
    "    print(f\"\\n[Method: {method_name}] Top {len(topk)} features by mean |attribution| on TEST set:\")\n",
    "    for _, r in topk.iterrows():\n",
    "        print(f\"  #{int(r['rank']):2d}  {r['feature']}: {r['importance']:.6f}\")"
   ]
  },
  {
   "cell_type": "markdown",
   "id": "eebd32dc",
   "metadata": {},
   "source": [
    "For the model that acts better on the test set, it seems the most important feature are almost consistent in each method. We see some corthical thickness measure we also obtained from the classical models, however we have very different behaviours. This is normal: each model catches up different trends in the data, and it happens that the MLP has caught some non-linear complex trend not seen in the other models."
   ]
  },
  {
   "cell_type": "markdown",
   "id": "919ad2bb",
   "metadata": {},
   "source": [
    "It is also possible to apply these methods to the brain MRIs, although much more complex and time consuming. We can give a quick example using one of the simple models we obtained in the CNN lesson part."
   ]
  },
  {
   "cell_type": "markdown",
   "id": "7ed66fc9",
   "metadata": {},
   "source": [
    "# Layer Relevance Propagation\n",
    "\n",
    "LRP is a very popular method for feature attribution for images. The idea is that the attribution is formulated in terms of a \"score\". The score is propagated through the network and distributed between the weights of the network, proportionally to its contribution towards such score. "
   ]
  },
  {
   "cell_type": "markdown",
   "id": "9396baff",
   "metadata": {},
   "source": [
    "Exercise:\n",
    "\n",
    "- Explore the CNN lessons and import the model Dropout3DCNN with normalized age.\n",
    "- Upload the checkpoint \"Dropout3DCNN_best_model_norm_age_reduced.pth\" which consider a reduced brain (transform is included)\n",
    "- Use LRP (https://captum.ai/api/lrp.html, https://captum.ai/tutorials/TorchVision_Interpret) and visualize the result on the input (as an alpha channel on the figure)"
   ]
  },
  {
   "cell_type": "code",
   "execution_count": 70,
   "id": "b37a974a",
   "metadata": {},
   "outputs": [],
   "source": [
    "class Dropout3DCNN(nn.Module):\n",
    "    def __init__(self):\n",
    "        super().__init__()\n",
    "        self.conv1 = nn.Conv3d(1, 8, kernel_size=3, padding=1)\n",
    "        self.bn1 = nn.BatchNorm3d(8)\n",
    "        self.conv2 = nn.Conv3d(8, 16, kernel_size=3, padding=1)\n",
    "        self.bn2 = nn.BatchNorm3d(16)\n",
    "        self.pool1 = nn.MaxPool3d(2)\n",
    "        self.pool2 = nn.AdaptiveAvgPool3d(1)\n",
    "        self.fc1 = nn.Linear(16, 64)\n",
    "        self.dropout = nn.Dropout(0.3) # We add a Dropout layer for enhanced generalibility\n",
    "        self.fc2 = nn.Linear(64, 1)\n",
    "\n",
    "    def forward(self, x: th.Tensor):\n",
    "        x = self.pool1(F.relu(self.bn1(self.conv1(x))))\n",
    "        x = self.pool2(F.relu(self.bn2(self.conv2(x))))\n",
    "        x = x.view(x.size(0), -1)\n",
    "        x = F.relu(self.fc1(x))\n",
    "        x = self.dropout(x)\n",
    "        out = self.fc2(x)\n",
    "        return out\n",
    "\n",
    "class MRIDataset(Dataset):\n",
    "    def __init__(self,\n",
    "                 metadata_df: pd.DataFrame,\n",
    "                 base_path = \"../data/IXI\",\n",
    "                 transform = None,\n",
    "                 age_transforms = None):\n",
    "        self.df = metadata_df\n",
    "        self.transform = transform\n",
    "        self.age_transforms = age_transforms\n",
    "        self.base_path = base_path\n",
    "\n",
    "        self.img_loader = mtr.LoadImage(image_only=True)\n",
    "\n",
    "    def __len__(self):\n",
    "        return len(self.df)\n",
    "\n",
    "    def __getitem__(self, idx):\n",
    "        row = self.df.iloc[idx]\n",
    "        vol = self.img_loader(os.path.join(self.base_path, row[\"registered_mni\"][:-3]))\n",
    "        age = float(row[\"age\"])\n",
    "        if self.transform:\n",
    "            vol = self.transform(vol)\n",
    "        if self.age_transforms:\n",
    "            age = self.age_transforms(age)\n",
    "        return {\n",
    "            \"t1n\": vol if th.is_tensor(vol) else th.as_tensor(vol),\n",
    "            \"age\": (age if th.is_tensor(age) else th.as_tensor(age)).type(dtype=th.float32),\n",
    "        }\n",
    "    \n",
    "transforms = mtr.Compose([\n",
    "    mtr.EnsureChannelFirst(),\n",
    "    mtr.SpatialCrop(\n",
    "        roi_start = (6, 2, 0),\n",
    "        roi_end = (173, 214, 160),\n",
    "    ),\n",
    "    mtr.Resize(\n",
    "        spatial_size=(167//2, 212//2, 160//2),\n",
    "        mode=\"bilinear\"\n",
    "    ),\n",
    "    mtr.Lambda(lambda x: x/255.)\n",
    "])\n",
    "\n",
    "test_ds = MRIDataset(\n",
    "    test_set,\n",
    "    transform=transforms,\n",
    "    age_transforms=lambda x: x/255.\n",
    ")\n",
    "\n",
    "test_dl = DataLoader(test_ds, batch_size=1,\n",
    "                        num_workers=1,\n",
    "                        pin_memory=True,\n",
    "                        persistent_workers=False,\n",
    "                        prefetch_factor=None)"
   ]
  },
  {
   "cell_type": "code",
   "execution_count": 71,
   "id": "b49d5b92",
   "metadata": {},
   "outputs": [],
   "source": [
    "# code for training\n",
    "def grad_norm(model):\n",
    "    \"\"\"Compute total L2 norm of gradients over all parameters.\"\"\"\n",
    "    total_norm = 0.0\n",
    "    for p in model.parameters():\n",
    "        if p.grad is not None:\n",
    "            param_norm = p.grad.data.norm(2).item()\n",
    "            total_norm += param_norm ** 2\n",
    "    return total_norm ** 0.5\n",
    "\n",
    "def get_loaders_aug(train_set, val_set, train_transforms, val_transforms, age_transforms, batch_size=16):\n",
    "    ds_tr = MRIDataset(\n",
    "        train_set,\n",
    "        transform=train_transforms,\n",
    "        age_transforms=age_transforms\n",
    "    )\n",
    "    ds_val = MRIDataset(\n",
    "        val_set,\n",
    "        transform=val_transforms,\n",
    "        age_transforms=age_transforms\n",
    "    )\n",
    "    test_ds = MRIDataset(\n",
    "        test_set,\n",
    "        transform=val_transforms,\n",
    "        age_transforms=age_transforms\n",
    "    )\n",
    "\n",
    "    train_dl = DataLoader(ds_tr, batch_size=batch_size,\n",
    "                            shuffle=True,\n",
    "                            num_workers=6,\n",
    "                            pin_memory=True,\n",
    "                            persistent_workers=True,\n",
    "                            prefetch_factor=2)\n",
    "    val_dl = DataLoader(ds_val, batch_size=batch_size,\n",
    "                            num_workers=2,\n",
    "                            pin_memory=False,\n",
    "                            persistent_workers=True,\n",
    "                            prefetch_factor=None)\n",
    "\n",
    "    return train_dl, val_dl\n",
    "\n",
    "def train_epoch(model, loader, optimizer, loss_fn=None, update=True, log_norm=False, scheduler=None, per_step=False):\n",
    "    # Add per_step for per_step update of scheduler\n",
    "    model.train()\n",
    "    running = 0.0\n",
    "\n",
    "    if log_norm:\n",
    "      grad_norm_sum = 0.0\n",
    "      grad_norm_count = 0\n",
    "      max_grad_norm = 0.0\n",
    "\n",
    "    for batch in tqdm.tqdm(loader):\n",
    "        img = batch[\"t1n\"].to(device)\n",
    "        age = batch[\"age\"].to(device).view(-1, 1)\n",
    "        pred = model(img).view(-1, 1)\n",
    "        loss = loss_fn(pred, age)\n",
    "        optimizer.zero_grad()\n",
    "        loss.backward()\n",
    "\n",
    "        if update:\n",
    "          optimizer.step()\n",
    "          if per_step:\n",
    "             if scheduler is not None:\n",
    "                if isinstance(scheduler, th.optim.lr_scheduler.ReduceLROnPlateau):\n",
    "                    scheduler.step(loss)\n",
    "                else:\n",
    "                    scheduler.step()\n",
    "\n",
    "        else:\n",
    "          loss = loss.detach()\n",
    "        running += loss.item() * img.size(0)\n",
    "\n",
    "        if log_norm:\n",
    "            gn = grad_norm(model)\n",
    "            grad_norm_sum += gn\n",
    "            grad_norm_count += 1\n",
    "            if gn > max_grad_norm:\n",
    "                max_grad_norm = gn\n",
    "        \n",
    "    for param_group in optimizer.param_groups:\n",
    "      print(\"Learning Rate:\", param_group['lr'])\n",
    "    if log_norm and grad_norm_count > 0:\n",
    "        avg_grad_norm = grad_norm_sum / grad_norm_count\n",
    "        print(f\"Average grad norm={avg_grad_norm:.6f}  Maximum value={max_grad_norm:.6f}\")\n",
    "    if update:\n",
    "        if not per_step:\n",
    "            if scheduler is not None:\n",
    "                if isinstance(scheduler, th.optim.lr_scheduler.ReduceLROnPlateau):\n",
    "                    scheduler.step(loss)\n",
    "                else:\n",
    "                    scheduler.step()\n",
    "\n",
    "    return running / len(loader.dataset)\n",
    "\n",
    "def eval_model(model, loader, loss_fns={}):\n",
    "    model.eval()\n",
    "    with th.no_grad():\n",
    "        losses = {k:[] for k in loss_fns.keys()}\n",
    "        for batch in loader:\n",
    "            img = batch[\"t1n\"].to(device)\n",
    "            age = batch[\"age\"].to(device).view(-1, 1)\n",
    "            pred = model(img).view(-1, 1)\n",
    "            for k in loss_fns.keys():\n",
    "                losses[k].append(loss_fns[k](pred, age).cpu().numpy())\n",
    "        losses = {k: np.concatenate(val) for k, val in losses.items()}\n",
    "    return {k: {\"mean\": np.mean(val), \"std\": np.std(val)} for k, val in losses.items()}"
   ]
  },
  {
   "cell_type": "code",
   "execution_count": 86,
   "id": "5c40d671",
   "metadata": {},
   "outputs": [
    {
     "name": "stderr",
     "output_type": "stream",
     "text": [
      "  0%|          | 0/198 [00:00<?, ?it/s]"
     ]
    },
    {
     "name": "stderr",
     "output_type": "stream",
     "text": [
      "100%|██████████| 198/198 [00:02<00:00, 73.51it/s]"
     ]
    },
    {
     "name": "stdout",
     "output_type": "stream",
     "text": [
      "Learning Rate: 5e-05\n",
      "Average grad norm=0.056002  Maximum value=0.086779\n"
     ]
    },
    {
     "name": "stderr",
     "output_type": "stream",
     "text": [
      "\n"
     ]
    },
    {
     "name": "stdout",
     "output_type": "stream",
     "text": [
      "Epoch 1: train loss 0.003, val MAE 6.530 ± 3.579\n",
      "New lowest reached: 6.530. Saving checkpoint\n"
     ]
    },
    {
     "name": "stderr",
     "output_type": "stream",
     "text": [
      "100%|██████████| 198/198 [00:02<00:00, 76.53it/s]\n"
     ]
    },
    {
     "name": "stdout",
     "output_type": "stream",
     "text": [
      "Learning Rate: 5e-05\n",
      "Average grad norm=0.045296  Maximum value=0.083997\n",
      "Epoch 2: train loss 0.002, val MAE 6.179 ± 3.301\n",
      "New lowest reached: 6.179. Saving checkpoint\n"
     ]
    },
    {
     "name": "stderr",
     "output_type": "stream",
     "text": [
      "100%|██████████| 198/198 [00:02<00:00, 74.81it/s]\n"
     ]
    },
    {
     "name": "stdout",
     "output_type": "stream",
     "text": [
      "Learning Rate: 5e-05\n",
      "Average grad norm=0.041810  Maximum value=0.080210\n",
      "Epoch 3: train loss 0.002, val MAE 5.933 ± 3.242\n",
      "New lowest reached: 5.933. Saving checkpoint\n"
     ]
    },
    {
     "name": "stderr",
     "output_type": "stream",
     "text": [
      "100%|██████████| 198/198 [00:02<00:00, 78.89it/s]\n"
     ]
    },
    {
     "name": "stdout",
     "output_type": "stream",
     "text": [
      "Learning Rate: 5e-05\n",
      "Average grad norm=0.046699  Maximum value=0.085195\n",
      "Epoch 4: train loss 0.002, val MAE 5.684 ± 3.059\n",
      "New lowest reached: 5.684. Saving checkpoint\n"
     ]
    },
    {
     "name": "stderr",
     "output_type": "stream",
     "text": [
      "100%|██████████| 198/198 [00:02<00:00, 78.45it/s]\n"
     ]
    },
    {
     "name": "stdout",
     "output_type": "stream",
     "text": [
      "Learning Rate: 5e-05\n",
      "Average grad norm=0.045458  Maximum value=0.086083\n",
      "Epoch 5: train loss 0.002, val MAE 5.200 ± 2.700\n",
      "New lowest reached: 5.200. Saving checkpoint\n"
     ]
    },
    {
     "name": "stderr",
     "output_type": "stream",
     "text": [
      "100%|██████████| 198/198 [00:02<00:00, 79.28it/s]\n"
     ]
    },
    {
     "name": "stdout",
     "output_type": "stream",
     "text": [
      "Learning Rate: 5e-05\n",
      "Average grad norm=0.045488  Maximum value=0.086271\n",
      "Epoch 6: train loss 0.002, val MAE 5.518 ± 2.855\n"
     ]
    },
    {
     "name": "stderr",
     "output_type": "stream",
     "text": [
      "100%|██████████| 198/198 [00:02<00:00, 81.44it/s]\n"
     ]
    },
    {
     "name": "stdout",
     "output_type": "stream",
     "text": [
      "Learning Rate: 5e-05\n",
      "Average grad norm=0.045891  Maximum value=0.085496\n",
      "Epoch 7: train loss 0.001, val MAE 4.916 ± 2.669\n",
      "New lowest reached: 4.916. Saving checkpoint\n"
     ]
    },
    {
     "name": "stderr",
     "output_type": "stream",
     "text": [
      "100%|██████████| 198/198 [00:02<00:00, 78.38it/s]\n"
     ]
    },
    {
     "name": "stdout",
     "output_type": "stream",
     "text": [
      "Learning Rate: 5e-05\n",
      "Average grad norm=0.046635  Maximum value=0.088213\n",
      "Epoch 8: train loss 0.002, val MAE 5.139 ± 2.617\n"
     ]
    },
    {
     "name": "stderr",
     "output_type": "stream",
     "text": [
      "100%|██████████| 198/198 [00:02<00:00, 76.06it/s]\n"
     ]
    },
    {
     "name": "stdout",
     "output_type": "stream",
     "text": [
      "Learning Rate: 5e-05\n",
      "Average grad norm=0.048107  Maximum value=0.090478\n",
      "Epoch 9: train loss 0.002, val MAE 4.868 ± 2.515\n",
      "New lowest reached: 4.868. Saving checkpoint\n"
     ]
    },
    {
     "name": "stderr",
     "output_type": "stream",
     "text": [
      "100%|██████████| 198/198 [00:02<00:00, 75.48it/s]\n"
     ]
    },
    {
     "name": "stdout",
     "output_type": "stream",
     "text": [
      "Learning Rate: 5e-05\n",
      "Average grad norm=0.049754  Maximum value=0.092971\n",
      "Epoch 10: train loss 0.001, val MAE 5.131 ± 2.788\n"
     ]
    },
    {
     "name": "stderr",
     "output_type": "stream",
     "text": [
      "100%|██████████| 198/198 [00:02<00:00, 79.82it/s]\n"
     ]
    },
    {
     "name": "stdout",
     "output_type": "stream",
     "text": [
      "Learning Rate: 5e-05\n",
      "Average grad norm=0.046095  Maximum value=0.090060\n",
      "Epoch 11: train loss 0.001, val MAE 4.899 ± 2.573\n"
     ]
    },
    {
     "name": "stderr",
     "output_type": "stream",
     "text": [
      "100%|██████████| 198/198 [00:02<00:00, 78.76it/s]\n"
     ]
    },
    {
     "name": "stdout",
     "output_type": "stream",
     "text": [
      "Learning Rate: 5e-05\n",
      "Average grad norm=0.046495  Maximum value=0.097001\n",
      "Epoch 12: train loss 0.001, val MAE 4.391 ± 2.676\n",
      "New lowest reached: 4.391. Saving checkpoint\n"
     ]
    },
    {
     "name": "stderr",
     "output_type": "stream",
     "text": [
      "100%|██████████| 198/198 [00:02<00:00, 76.68it/s]\n"
     ]
    },
    {
     "name": "stdout",
     "output_type": "stream",
     "text": [
      "Learning Rate: 5e-05\n",
      "Average grad norm=0.044111  Maximum value=0.090370\n",
      "Epoch 13: train loss 0.001, val MAE 4.418 ± 2.602\n"
     ]
    },
    {
     "name": "stderr",
     "output_type": "stream",
     "text": [
      "100%|██████████| 198/198 [00:02<00:00, 78.46it/s]\n"
     ]
    },
    {
     "name": "stdout",
     "output_type": "stream",
     "text": [
      "Learning Rate: 5e-05\n",
      "Average grad norm=0.042444  Maximum value=0.091664\n",
      "Epoch 14: train loss 0.001, val MAE 4.632 ± 2.425\n"
     ]
    },
    {
     "name": "stderr",
     "output_type": "stream",
     "text": [
      "100%|██████████| 198/198 [00:02<00:00, 80.87it/s]\n"
     ]
    },
    {
     "name": "stdout",
     "output_type": "stream",
     "text": [
      "Learning Rate: 5e-05\n",
      "Average grad norm=0.045845  Maximum value=0.095101\n",
      "Epoch 15: train loss 0.001, val MAE 4.211 ± 2.689\n",
      "New lowest reached: 4.211. Saving checkpoint\n"
     ]
    },
    {
     "name": "stderr",
     "output_type": "stream",
     "text": [
      "100%|██████████| 198/198 [00:02<00:00, 80.14it/s]\n"
     ]
    },
    {
     "name": "stdout",
     "output_type": "stream",
     "text": [
      "Learning Rate: 5e-05\n",
      "Average grad norm=0.049348  Maximum value=0.095668\n",
      "Epoch 16: train loss 0.001, val MAE 4.992 ± 2.733\n"
     ]
    },
    {
     "name": "stderr",
     "output_type": "stream",
     "text": [
      "100%|██████████| 198/198 [00:02<00:00, 80.81it/s]\n"
     ]
    },
    {
     "name": "stdout",
     "output_type": "stream",
     "text": [
      "Learning Rate: 5e-05\n",
      "Average grad norm=0.044493  Maximum value=0.100701\n",
      "Epoch 17: train loss 0.001, val MAE 4.148 ± 2.742\n",
      "New lowest reached: 4.148. Saving checkpoint\n"
     ]
    },
    {
     "name": "stderr",
     "output_type": "stream",
     "text": [
      "100%|██████████| 198/198 [00:02<00:00, 78.52it/s]\n"
     ]
    },
    {
     "name": "stdout",
     "output_type": "stream",
     "text": [
      "Learning Rate: 5e-05\n",
      "Average grad norm=0.046646  Maximum value=0.090957\n",
      "Epoch 18: train loss 0.001, val MAE 4.179 ± 2.668\n"
     ]
    },
    {
     "name": "stderr",
     "output_type": "stream",
     "text": [
      "100%|██████████| 198/198 [00:02<00:00, 77.26it/s]\n"
     ]
    },
    {
     "name": "stdout",
     "output_type": "stream",
     "text": [
      "Learning Rate: 5e-05\n",
      "Average grad norm=0.045342  Maximum value=0.100720\n",
      "Epoch 19: train loss 0.001, val MAE 4.130 ± 2.639\n",
      "New lowest reached: 4.130. Saving checkpoint\n"
     ]
    },
    {
     "name": "stderr",
     "output_type": "stream",
     "text": [
      "100%|██████████| 198/198 [00:02<00:00, 76.75it/s]\n"
     ]
    },
    {
     "name": "stdout",
     "output_type": "stream",
     "text": [
      "Learning Rate: 5e-05\n",
      "Average grad norm=0.045406  Maximum value=0.097175\n",
      "Epoch 20: train loss 0.001, val MAE 4.118 ± 2.558\n",
      "New lowest reached: 4.118. Saving checkpoint\n"
     ]
    },
    {
     "name": "stderr",
     "output_type": "stream",
     "text": [
      "100%|██████████| 198/198 [00:02<00:00, 79.25it/s]\n"
     ]
    },
    {
     "name": "stdout",
     "output_type": "stream",
     "text": [
      "Learning Rate: 5e-05\n",
      "Average grad norm=0.047449  Maximum value=0.093264\n",
      "Epoch 21: train loss 0.001, val MAE 4.510 ± 2.430\n"
     ]
    },
    {
     "name": "stderr",
     "output_type": "stream",
     "text": [
      "100%|██████████| 198/198 [00:02<00:00, 80.29it/s]\n"
     ]
    },
    {
     "name": "stdout",
     "output_type": "stream",
     "text": [
      "Learning Rate: 5e-05\n",
      "Average grad norm=0.045642  Maximum value=0.106271\n",
      "Epoch 22: train loss 0.001, val MAE 4.243 ± 2.387\n"
     ]
    },
    {
     "name": "stderr",
     "output_type": "stream",
     "text": [
      "100%|██████████| 198/198 [00:02<00:00, 80.42it/s]\n"
     ]
    },
    {
     "name": "stdout",
     "output_type": "stream",
     "text": [
      "Learning Rate: 5e-05\n",
      "Average grad norm=0.044202  Maximum value=0.092889\n",
      "Epoch 23: train loss 0.001, val MAE 4.376 ± 2.388\n"
     ]
    },
    {
     "name": "stderr",
     "output_type": "stream",
     "text": [
      "100%|██████████| 198/198 [00:02<00:00, 79.05it/s]\n"
     ]
    },
    {
     "name": "stdout",
     "output_type": "stream",
     "text": [
      "Learning Rate: 5e-05\n",
      "Average grad norm=0.047117  Maximum value=0.102613\n",
      "Epoch 24: train loss 0.001, val MAE 4.342 ± 2.393\n"
     ]
    },
    {
     "name": "stderr",
     "output_type": "stream",
     "text": [
      "100%|██████████| 198/198 [00:02<00:00, 81.49it/s]\n"
     ]
    },
    {
     "name": "stdout",
     "output_type": "stream",
     "text": [
      "Learning Rate: 5e-05\n",
      "Average grad norm=0.050219  Maximum value=0.102721\n",
      "Epoch 25: train loss 0.001, val MAE 4.120 ± 2.408\n"
     ]
    },
    {
     "name": "stderr",
     "output_type": "stream",
     "text": [
      "100%|██████████| 198/198 [00:02<00:00, 77.60it/s]\n"
     ]
    },
    {
     "name": "stdout",
     "output_type": "stream",
     "text": [
      "Learning Rate: 5e-05\n",
      "Average grad norm=0.051393  Maximum value=0.103810\n",
      "Epoch 26: train loss 0.001, val MAE 3.992 ± 2.441\n",
      "New lowest reached: 3.992. Saving checkpoint\n"
     ]
    },
    {
     "name": "stderr",
     "output_type": "stream",
     "text": [
      "100%|██████████| 198/198 [00:02<00:00, 78.51it/s]\n"
     ]
    },
    {
     "name": "stdout",
     "output_type": "stream",
     "text": [
      "Learning Rate: 5e-05\n",
      "Average grad norm=0.053319  Maximum value=0.107348\n",
      "Epoch 27: train loss 0.001, val MAE 4.573 ± 2.465\n"
     ]
    },
    {
     "name": "stderr",
     "output_type": "stream",
     "text": [
      "100%|██████████| 198/198 [00:02<00:00, 79.72it/s]\n"
     ]
    },
    {
     "name": "stdout",
     "output_type": "stream",
     "text": [
      "Learning Rate: 5e-05\n",
      "Average grad norm=0.047756  Maximum value=0.101064\n"
     ]
    },
    {
     "ename": "KeyboardInterrupt",
     "evalue": "",
     "output_type": "error",
     "traceback": [
      "\u001b[0;31m---------------------------------------------------------------------------\u001b[0m",
      "\u001b[0;31mKeyboardInterrupt\u001b[0m                         Traceback (most recent call last)",
      "Cell \u001b[0;32mIn[86], line 26\u001b[0m\n\u001b[1;32m     24\u001b[0m \u001b[38;5;28;01mfor\u001b[39;00m epoch \u001b[38;5;129;01min\u001b[39;00m \u001b[38;5;28mrange\u001b[39m(curr_epoch\u001b[38;5;241m+\u001b[39m\u001b[38;5;241m1\u001b[39m, \u001b[38;5;241m100\u001b[39m):\n\u001b[1;32m     25\u001b[0m     tr_loss \u001b[38;5;241m=\u001b[39m train_epoch(network, train_dl, optimizer, loss_fn\u001b[38;5;241m=\u001b[39mloss_fn, update\u001b[38;5;241m=\u001b[39m\u001b[38;5;28;01mTrue\u001b[39;00m, log_norm\u001b[38;5;241m=\u001b[39m\u001b[38;5;28;01mTrue\u001b[39;00m, scheduler\u001b[38;5;241m=\u001b[39mscheduler, per_step\u001b[38;5;241m=\u001b[39m\u001b[38;5;28;01mTrue\u001b[39;00m)\n\u001b[0;32m---> 26\u001b[0m     val_losses \u001b[38;5;241m=\u001b[39m \u001b[43meval_model\u001b[49m\u001b[43m(\u001b[49m\u001b[43mnetwork\u001b[49m\u001b[43m,\u001b[49m\u001b[43m \u001b[49m\u001b[43mval_dl\u001b[49m\u001b[43m,\u001b[49m\u001b[43m \u001b[49m\u001b[43mloss_fns\u001b[49m\u001b[38;5;241;43m=\u001b[39;49m\u001b[43m{\u001b[49m\n\u001b[1;32m     27\u001b[0m \u001b[43m        \u001b[49m\u001b[38;5;124;43m\"\u001b[39;49m\u001b[38;5;124;43mhuber\u001b[39;49m\u001b[38;5;124;43m\"\u001b[39;49m\u001b[43m:\u001b[49m\u001b[43m \u001b[49m\u001b[43mnn\u001b[49m\u001b[38;5;241;43m.\u001b[39;49m\u001b[43mHuberLoss\u001b[49m\u001b[43m(\u001b[49m\u001b[43mdelta\u001b[49m\u001b[38;5;241;43m=\u001b[39;49m\u001b[43mdelta\u001b[49m\u001b[43m,\u001b[49m\u001b[43m \u001b[49m\u001b[43mreduction\u001b[49m\u001b[38;5;241;43m=\u001b[39;49m\u001b[38;5;124;43m\"\u001b[39;49m\u001b[38;5;124;43mnone\u001b[39;49m\u001b[38;5;124;43m\"\u001b[39;49m\u001b[43m)\u001b[49m\u001b[43m,\u001b[49m\u001b[43m \u001b[49m\u001b[38;5;124;43m\"\u001b[39;49m\u001b[38;5;124;43mmae\u001b[39;49m\u001b[38;5;124;43m\"\u001b[39;49m\u001b[43m:\u001b[49m\u001b[43m \u001b[49m\u001b[38;5;28;43;01mlambda\u001b[39;49;00m\u001b[43m \u001b[49m\u001b[43mpred\u001b[49m\u001b[43m,\u001b[49m\u001b[43m \u001b[49m\u001b[43mage\u001b[49m\u001b[43m:\u001b[49m\u001b[43m \u001b[49m\u001b[43mth\u001b[49m\u001b[38;5;241;43m.\u001b[39;49m\u001b[43mabs\u001b[49m\u001b[43m(\u001b[49m\u001b[43mpred\u001b[49m\u001b[38;5;241;43m-\u001b[39;49m\u001b[43mage\u001b[49m\u001b[43m)\u001b[49m\u001b[38;5;241;43m*\u001b[39;49m\u001b[38;5;241;43m100\u001b[39;49m\n\u001b[1;32m     28\u001b[0m \u001b[43m    \u001b[49m\u001b[43m}\u001b[49m\u001b[43m)\u001b[49m\n\u001b[1;32m     29\u001b[0m     \u001b[38;5;28mprint\u001b[39m(\u001b[38;5;124mf\u001b[39m\u001b[38;5;124m\"\u001b[39m\u001b[38;5;124mEpoch \u001b[39m\u001b[38;5;132;01m{\u001b[39;00mepoch\u001b[38;5;241m+\u001b[39m\u001b[38;5;241m1\u001b[39m\u001b[38;5;132;01m}\u001b[39;00m\u001b[38;5;124m: train loss \u001b[39m\u001b[38;5;132;01m{\u001b[39;00mtr_loss\u001b[38;5;132;01m:\u001b[39;00m\u001b[38;5;124m.3f\u001b[39m\u001b[38;5;132;01m}\u001b[39;00m\u001b[38;5;124m, val MAE \u001b[39m\u001b[38;5;132;01m{\u001b[39;00mval_losses[\u001b[38;5;124m'\u001b[39m\u001b[38;5;124mmae\u001b[39m\u001b[38;5;124m'\u001b[39m][\u001b[38;5;124m'\u001b[39m\u001b[38;5;124mmean\u001b[39m\u001b[38;5;124m'\u001b[39m]\u001b[38;5;132;01m:\u001b[39;00m\u001b[38;5;124m.3f\u001b[39m\u001b[38;5;132;01m}\u001b[39;00m\u001b[38;5;124m ± \u001b[39m\u001b[38;5;132;01m{\u001b[39;00mval_losses[\u001b[38;5;124m'\u001b[39m\u001b[38;5;124mmae\u001b[39m\u001b[38;5;124m'\u001b[39m][\u001b[38;5;124m'\u001b[39m\u001b[38;5;124mstd\u001b[39m\u001b[38;5;124m'\u001b[39m]\u001b[38;5;132;01m:\u001b[39;00m\u001b[38;5;124m.3f\u001b[39m\u001b[38;5;132;01m}\u001b[39;00m\u001b[38;5;124m\"\u001b[39m)\n\u001b[1;32m     30\u001b[0m     \u001b[38;5;28;01mif\u001b[39;00m val_losses[\u001b[38;5;124m'\u001b[39m\u001b[38;5;124mmae\u001b[39m\u001b[38;5;124m'\u001b[39m][\u001b[38;5;124m'\u001b[39m\u001b[38;5;124mmean\u001b[39m\u001b[38;5;124m'\u001b[39m] \u001b[38;5;241m<\u001b[39m best_val_mae:\n",
      "Cell \u001b[0;32mIn[71], line 99\u001b[0m, in \u001b[0;36meval_model\u001b[0;34m(model, loader, loss_fns)\u001b[0m\n\u001b[1;32m     97\u001b[0m \u001b[38;5;28;01mwith\u001b[39;00m th\u001b[38;5;241m.\u001b[39mno_grad():\n\u001b[1;32m     98\u001b[0m     losses \u001b[38;5;241m=\u001b[39m {k:[] \u001b[38;5;28;01mfor\u001b[39;00m k \u001b[38;5;129;01min\u001b[39;00m loss_fns\u001b[38;5;241m.\u001b[39mkeys()}\n\u001b[0;32m---> 99\u001b[0m     \u001b[38;5;28;01mfor\u001b[39;00m batch \u001b[38;5;129;01min\u001b[39;00m loader:\n\u001b[1;32m    100\u001b[0m         img \u001b[38;5;241m=\u001b[39m batch[\u001b[38;5;124m\"\u001b[39m\u001b[38;5;124mt1n\u001b[39m\u001b[38;5;124m\"\u001b[39m]\u001b[38;5;241m.\u001b[39mto(device)\n\u001b[1;32m    101\u001b[0m         age \u001b[38;5;241m=\u001b[39m batch[\u001b[38;5;124m\"\u001b[39m\u001b[38;5;124mage\u001b[39m\u001b[38;5;124m\"\u001b[39m]\u001b[38;5;241m.\u001b[39mto(device)\u001b[38;5;241m.\u001b[39mview(\u001b[38;5;241m-\u001b[39m\u001b[38;5;241m1\u001b[39m, \u001b[38;5;241m1\u001b[39m)\n",
      "File \u001b[0;32m~/.local/lib/python3.10/site-packages/torch/utils/data/dataloader.py:708\u001b[0m, in \u001b[0;36m_BaseDataLoaderIter.__next__\u001b[0;34m(self)\u001b[0m\n\u001b[1;32m    705\u001b[0m \u001b[38;5;28;01mif\u001b[39;00m \u001b[38;5;28mself\u001b[39m\u001b[38;5;241m.\u001b[39m_sampler_iter \u001b[38;5;129;01mis\u001b[39;00m \u001b[38;5;28;01mNone\u001b[39;00m:\n\u001b[1;32m    706\u001b[0m     \u001b[38;5;66;03m# TODO(https://github.com/pytorch/pytorch/issues/76750)\u001b[39;00m\n\u001b[1;32m    707\u001b[0m     \u001b[38;5;28mself\u001b[39m\u001b[38;5;241m.\u001b[39m_reset()  \u001b[38;5;66;03m# type: ignore[call-arg]\u001b[39;00m\n\u001b[0;32m--> 708\u001b[0m data \u001b[38;5;241m=\u001b[39m \u001b[38;5;28;43mself\u001b[39;49m\u001b[38;5;241;43m.\u001b[39;49m\u001b[43m_next_data\u001b[49m\u001b[43m(\u001b[49m\u001b[43m)\u001b[49m\n\u001b[1;32m    709\u001b[0m \u001b[38;5;28mself\u001b[39m\u001b[38;5;241m.\u001b[39m_num_yielded \u001b[38;5;241m+\u001b[39m\u001b[38;5;241m=\u001b[39m \u001b[38;5;241m1\u001b[39m\n\u001b[1;32m    710\u001b[0m \u001b[38;5;28;01mif\u001b[39;00m (\n\u001b[1;32m    711\u001b[0m     \u001b[38;5;28mself\u001b[39m\u001b[38;5;241m.\u001b[39m_dataset_kind \u001b[38;5;241m==\u001b[39m _DatasetKind\u001b[38;5;241m.\u001b[39mIterable\n\u001b[1;32m    712\u001b[0m     \u001b[38;5;129;01mand\u001b[39;00m \u001b[38;5;28mself\u001b[39m\u001b[38;5;241m.\u001b[39m_IterableDataset_len_called \u001b[38;5;129;01mis\u001b[39;00m \u001b[38;5;129;01mnot\u001b[39;00m \u001b[38;5;28;01mNone\u001b[39;00m\n\u001b[1;32m    713\u001b[0m     \u001b[38;5;129;01mand\u001b[39;00m \u001b[38;5;28mself\u001b[39m\u001b[38;5;241m.\u001b[39m_num_yielded \u001b[38;5;241m>\u001b[39m \u001b[38;5;28mself\u001b[39m\u001b[38;5;241m.\u001b[39m_IterableDataset_len_called\n\u001b[1;32m    714\u001b[0m ):\n",
      "File \u001b[0;32m~/.local/lib/python3.10/site-packages/torch/utils/data/dataloader.py:1458\u001b[0m, in \u001b[0;36m_MultiProcessingDataLoaderIter._next_data\u001b[0;34m(self)\u001b[0m\n\u001b[1;32m   1455\u001b[0m     \u001b[38;5;28;01mreturn\u001b[39;00m \u001b[38;5;28mself\u001b[39m\u001b[38;5;241m.\u001b[39m_process_data(data)\n\u001b[1;32m   1457\u001b[0m \u001b[38;5;28;01massert\u001b[39;00m \u001b[38;5;129;01mnot\u001b[39;00m \u001b[38;5;28mself\u001b[39m\u001b[38;5;241m.\u001b[39m_shutdown \u001b[38;5;129;01mand\u001b[39;00m \u001b[38;5;28mself\u001b[39m\u001b[38;5;241m.\u001b[39m_tasks_outstanding \u001b[38;5;241m>\u001b[39m \u001b[38;5;241m0\u001b[39m\n\u001b[0;32m-> 1458\u001b[0m idx, data \u001b[38;5;241m=\u001b[39m \u001b[38;5;28;43mself\u001b[39;49m\u001b[38;5;241;43m.\u001b[39;49m\u001b[43m_get_data\u001b[49m\u001b[43m(\u001b[49m\u001b[43m)\u001b[49m\n\u001b[1;32m   1459\u001b[0m \u001b[38;5;28mself\u001b[39m\u001b[38;5;241m.\u001b[39m_tasks_outstanding \u001b[38;5;241m-\u001b[39m\u001b[38;5;241m=\u001b[39m \u001b[38;5;241m1\u001b[39m\n\u001b[1;32m   1460\u001b[0m \u001b[38;5;28;01mif\u001b[39;00m \u001b[38;5;28mself\u001b[39m\u001b[38;5;241m.\u001b[39m_dataset_kind \u001b[38;5;241m==\u001b[39m _DatasetKind\u001b[38;5;241m.\u001b[39mIterable:\n\u001b[1;32m   1461\u001b[0m     \u001b[38;5;66;03m# Check for _IterableDatasetStopIteration\u001b[39;00m\n",
      "File \u001b[0;32m~/.local/lib/python3.10/site-packages/torch/utils/data/dataloader.py:1420\u001b[0m, in \u001b[0;36m_MultiProcessingDataLoaderIter._get_data\u001b[0;34m(self)\u001b[0m\n\u001b[1;32m   1416\u001b[0m     \u001b[38;5;66;03m# In this case, `self._data_queue` is a `queue.Queue`,. But we don't\u001b[39;00m\n\u001b[1;32m   1417\u001b[0m     \u001b[38;5;66;03m# need to call `.task_done()` because we don't use `.join()`.\u001b[39;00m\n\u001b[1;32m   1418\u001b[0m \u001b[38;5;28;01melse\u001b[39;00m:\n\u001b[1;32m   1419\u001b[0m     \u001b[38;5;28;01mwhile\u001b[39;00m \u001b[38;5;28;01mTrue\u001b[39;00m:\n\u001b[0;32m-> 1420\u001b[0m         success, data \u001b[38;5;241m=\u001b[39m \u001b[38;5;28;43mself\u001b[39;49m\u001b[38;5;241;43m.\u001b[39;49m\u001b[43m_try_get_data\u001b[49m\u001b[43m(\u001b[49m\u001b[43m)\u001b[49m\n\u001b[1;32m   1421\u001b[0m         \u001b[38;5;28;01mif\u001b[39;00m success:\n\u001b[1;32m   1422\u001b[0m             \u001b[38;5;28;01mreturn\u001b[39;00m data\n",
      "File \u001b[0;32m~/.local/lib/python3.10/site-packages/torch/utils/data/dataloader.py:1251\u001b[0m, in \u001b[0;36m_MultiProcessingDataLoaderIter._try_get_data\u001b[0;34m(self, timeout)\u001b[0m\n\u001b[1;32m   1238\u001b[0m \u001b[38;5;28;01mdef\u001b[39;00m\u001b[38;5;250m \u001b[39m\u001b[38;5;21m_try_get_data\u001b[39m(\u001b[38;5;28mself\u001b[39m, timeout\u001b[38;5;241m=\u001b[39m_utils\u001b[38;5;241m.\u001b[39mMP_STATUS_CHECK_INTERVAL):\n\u001b[1;32m   1239\u001b[0m     \u001b[38;5;66;03m# Tries to fetch data from `self._data_queue` once for a given timeout.\u001b[39;00m\n\u001b[1;32m   1240\u001b[0m     \u001b[38;5;66;03m# This can also be used as inner loop of fetching without timeout, with\u001b[39;00m\n\u001b[0;32m   (...)\u001b[0m\n\u001b[1;32m   1248\u001b[0m     \u001b[38;5;66;03m# Returns a 2-tuple:\u001b[39;00m\n\u001b[1;32m   1249\u001b[0m     \u001b[38;5;66;03m#   (bool: whether successfully get data, any: data if successful else None)\u001b[39;00m\n\u001b[1;32m   1250\u001b[0m     \u001b[38;5;28;01mtry\u001b[39;00m:\n\u001b[0;32m-> 1251\u001b[0m         data \u001b[38;5;241m=\u001b[39m \u001b[38;5;28;43mself\u001b[39;49m\u001b[38;5;241;43m.\u001b[39;49m\u001b[43m_data_queue\u001b[49m\u001b[38;5;241;43m.\u001b[39;49m\u001b[43mget\u001b[49m\u001b[43m(\u001b[49m\u001b[43mtimeout\u001b[49m\u001b[38;5;241;43m=\u001b[39;49m\u001b[43mtimeout\u001b[49m\u001b[43m)\u001b[49m\n\u001b[1;32m   1252\u001b[0m         \u001b[38;5;28;01mreturn\u001b[39;00m (\u001b[38;5;28;01mTrue\u001b[39;00m, data)\n\u001b[1;32m   1253\u001b[0m     \u001b[38;5;28;01mexcept\u001b[39;00m \u001b[38;5;167;01mException\u001b[39;00m \u001b[38;5;28;01mas\u001b[39;00m e:\n\u001b[1;32m   1254\u001b[0m         \u001b[38;5;66;03m# At timeout and error, we manually check whether any worker has\u001b[39;00m\n\u001b[1;32m   1255\u001b[0m         \u001b[38;5;66;03m# failed. Note that this is the only mechanism for Windows to detect\u001b[39;00m\n\u001b[1;32m   1256\u001b[0m         \u001b[38;5;66;03m# worker failures.\u001b[39;00m\n",
      "File \u001b[0;32m/home/afrotscher/miniconda3/envs/myenv/lib/python3.10/multiprocessing/queues.py:113\u001b[0m, in \u001b[0;36mQueue.get\u001b[0;34m(self, block, timeout)\u001b[0m\n\u001b[1;32m    111\u001b[0m \u001b[38;5;28;01mif\u001b[39;00m block:\n\u001b[1;32m    112\u001b[0m     timeout \u001b[38;5;241m=\u001b[39m deadline \u001b[38;5;241m-\u001b[39m time\u001b[38;5;241m.\u001b[39mmonotonic()\n\u001b[0;32m--> 113\u001b[0m     \u001b[38;5;28;01mif\u001b[39;00m \u001b[38;5;129;01mnot\u001b[39;00m \u001b[38;5;28;43mself\u001b[39;49m\u001b[38;5;241;43m.\u001b[39;49m\u001b[43m_poll\u001b[49m\u001b[43m(\u001b[49m\u001b[43mtimeout\u001b[49m\u001b[43m)\u001b[49m:\n\u001b[1;32m    114\u001b[0m         \u001b[38;5;28;01mraise\u001b[39;00m Empty\n\u001b[1;32m    115\u001b[0m \u001b[38;5;28;01melif\u001b[39;00m \u001b[38;5;129;01mnot\u001b[39;00m \u001b[38;5;28mself\u001b[39m\u001b[38;5;241m.\u001b[39m_poll():\n",
      "File \u001b[0;32m/home/afrotscher/miniconda3/envs/myenv/lib/python3.10/multiprocessing/connection.py:257\u001b[0m, in \u001b[0;36m_ConnectionBase.poll\u001b[0;34m(self, timeout)\u001b[0m\n\u001b[1;32m    255\u001b[0m \u001b[38;5;28mself\u001b[39m\u001b[38;5;241m.\u001b[39m_check_closed()\n\u001b[1;32m    256\u001b[0m \u001b[38;5;28mself\u001b[39m\u001b[38;5;241m.\u001b[39m_check_readable()\n\u001b[0;32m--> 257\u001b[0m \u001b[38;5;28;01mreturn\u001b[39;00m \u001b[38;5;28;43mself\u001b[39;49m\u001b[38;5;241;43m.\u001b[39;49m\u001b[43m_poll\u001b[49m\u001b[43m(\u001b[49m\u001b[43mtimeout\u001b[49m\u001b[43m)\u001b[49m\n",
      "File \u001b[0;32m/home/afrotscher/miniconda3/envs/myenv/lib/python3.10/multiprocessing/connection.py:424\u001b[0m, in \u001b[0;36mConnection._poll\u001b[0;34m(self, timeout)\u001b[0m\n\u001b[1;32m    423\u001b[0m \u001b[38;5;28;01mdef\u001b[39;00m\u001b[38;5;250m \u001b[39m\u001b[38;5;21m_poll\u001b[39m(\u001b[38;5;28mself\u001b[39m, timeout):\n\u001b[0;32m--> 424\u001b[0m     r \u001b[38;5;241m=\u001b[39m \u001b[43mwait\u001b[49m\u001b[43m(\u001b[49m\u001b[43m[\u001b[49m\u001b[38;5;28;43mself\u001b[39;49m\u001b[43m]\u001b[49m\u001b[43m,\u001b[49m\u001b[43m \u001b[49m\u001b[43mtimeout\u001b[49m\u001b[43m)\u001b[49m\n\u001b[1;32m    425\u001b[0m     \u001b[38;5;28;01mreturn\u001b[39;00m \u001b[38;5;28mbool\u001b[39m(r)\n",
      "File \u001b[0;32m/home/afrotscher/miniconda3/envs/myenv/lib/python3.10/multiprocessing/connection.py:931\u001b[0m, in \u001b[0;36mwait\u001b[0;34m(object_list, timeout)\u001b[0m\n\u001b[1;32m    928\u001b[0m     deadline \u001b[38;5;241m=\u001b[39m time\u001b[38;5;241m.\u001b[39mmonotonic() \u001b[38;5;241m+\u001b[39m timeout\n\u001b[1;32m    930\u001b[0m \u001b[38;5;28;01mwhile\u001b[39;00m \u001b[38;5;28;01mTrue\u001b[39;00m:\n\u001b[0;32m--> 931\u001b[0m     ready \u001b[38;5;241m=\u001b[39m \u001b[43mselector\u001b[49m\u001b[38;5;241;43m.\u001b[39;49m\u001b[43mselect\u001b[49m\u001b[43m(\u001b[49m\u001b[43mtimeout\u001b[49m\u001b[43m)\u001b[49m\n\u001b[1;32m    932\u001b[0m     \u001b[38;5;28;01mif\u001b[39;00m ready:\n\u001b[1;32m    933\u001b[0m         \u001b[38;5;28;01mreturn\u001b[39;00m [key\u001b[38;5;241m.\u001b[39mfileobj \u001b[38;5;28;01mfor\u001b[39;00m (key, events) \u001b[38;5;129;01min\u001b[39;00m ready]\n",
      "File \u001b[0;32m/home/afrotscher/miniconda3/envs/myenv/lib/python3.10/selectors.py:416\u001b[0m, in \u001b[0;36m_PollLikeSelector.select\u001b[0;34m(self, timeout)\u001b[0m\n\u001b[1;32m    414\u001b[0m ready \u001b[38;5;241m=\u001b[39m []\n\u001b[1;32m    415\u001b[0m \u001b[38;5;28;01mtry\u001b[39;00m:\n\u001b[0;32m--> 416\u001b[0m     fd_event_list \u001b[38;5;241m=\u001b[39m \u001b[38;5;28;43mself\u001b[39;49m\u001b[38;5;241;43m.\u001b[39;49m\u001b[43m_selector\u001b[49m\u001b[38;5;241;43m.\u001b[39;49m\u001b[43mpoll\u001b[49m\u001b[43m(\u001b[49m\u001b[43mtimeout\u001b[49m\u001b[43m)\u001b[49m\n\u001b[1;32m    417\u001b[0m \u001b[38;5;28;01mexcept\u001b[39;00m \u001b[38;5;167;01mInterruptedError\u001b[39;00m:\n\u001b[1;32m    418\u001b[0m     \u001b[38;5;28;01mreturn\u001b[39;00m ready\n",
      "\u001b[0;31mKeyboardInterrupt\u001b[0m: "
     ]
    }
   ],
   "source": [
    "train_dl, val_dl = get_loaders_aug(train_set.iloc[tr_idx], train_set.iloc[te_idx], transforms, transforms, lambda x: x/255., batch_size=2)\n",
    "\n",
    "network = Dropout3DCNN().to(device=device)\n",
    "optimizer = th.optim.AdamW(network.parameters(), lr=5e-5)\n",
    "scheduler = None\n",
    "\n",
    "delta = 0.03\n",
    "loss_fn = nn.HuberLoss(delta=delta) # Switch to Huber\n",
    "\n",
    "best_val_mae = np.inf\n",
    "curr_epoch = -1\n",
    "\n",
    "losses = pd.DataFrame()\n",
    "if os.path.exists(\"../checkpoints/Dropout3DCNN_best_model_norm_age_reduced.pth\"):\n",
    "    state_dict = th.load(\"../checkpoints/Dropout3DCNN_best_model_norm_age_reduced.pth\", weights_only=False)\n",
    "    curr_epoch = state_dict[\"epoch\"]\n",
    "    best_val_mae = state_dict[\"best_val_mae\"]\n",
    "    network.load_state_dict(state_dict[\"model_state_dict\"])\n",
    "    optimizer.load_state_dict(state_dict[\"optimizer_state_dict\"])\n",
    "    losses = pd.read_csv(\"../results/Dropout3DCNN_results_norm_age_reduced.csv\")\n",
    "    losses = losses[losses[\"epoch\"] <= curr_epoch]\n",
    "    print(f\"Reloaded state from checkpoint (epoch: {curr_epoch})\")\n",
    "\n",
    "for epoch in range(curr_epoch+1, 100):\n",
    "    tr_loss = train_epoch(network, train_dl, optimizer, loss_fn=loss_fn, update=True, log_norm=True, scheduler=scheduler, per_step=True)\n",
    "    val_losses = eval_model(network, val_dl, loss_fns={\n",
    "        \"huber\": nn.HuberLoss(delta=delta, reduction=\"none\"), \"mae\": lambda pred, age: th.abs(pred-age)*100\n",
    "    })\n",
    "    print(f\"Epoch {epoch+1}: train loss {tr_loss:.3f}, val MAE {val_losses['mae']['mean']:.3f} ± {val_losses['mae']['std']:.3f}\")\n",
    "    if val_losses['mae']['mean'] < best_val_mae:\n",
    "        best_val_mae = val_losses['mae']['mean']\n",
    "        print(f\"New lowest reached: {best_val_mae:.3f}. Saving checkpoint\")\n",
    "        checkpoint = {\n",
    "            'epoch': epoch,                         # last epoch\n",
    "            'model_state_dict': network.state_dict(), # model parameters\n",
    "            'optimizer_state_dict': optimizer.state_dict(),  # optimizer state\n",
    "            'best_val_mae': best_val_mae\n",
    "        }\n",
    "        os.makedirs(\"../checkpoints\", exist_ok=True)\n",
    "        th.save(checkpoint, f'../checkpoints/Dropout3DCNN_best_model_norm_age_reduced.pth')\n",
    "    losses = pd.concat([losses, pd.DataFrame([{\"tr_huber\": tr_loss, \"epoch\": epoch, **{f\"val_{k}\": val['mean'].item() for k,val in val_losses.items()}}])])\n",
    "    os.makedirs(\"../results\", exist_ok=True)\n",
    "    losses.to_csv(\"../results/Dropout3DCNN_results_norm_age_reduced.csv\", index=False)"
   ]
  },
  {
   "cell_type": "code",
   "execution_count": 87,
   "id": "8d0c6aae",
   "metadata": {},
   "outputs": [
    {
     "data": {
      "text/plain": [
       "<All keys matched successfully>"
      ]
     },
     "execution_count": 87,
     "metadata": {},
     "output_type": "execute_result"
    }
   ],
   "source": [
    "chekp = th.load(\"../checkpoints/Dropout3DCNN_best_model_norm_age_reduced.pth\", weights_only=False)\n",
    "network = Dropout3DCNN().to(device)\n",
    "network.load_state_dict(chekp['model_state_dict'])"
   ]
  },
  {
   "cell_type": "code",
   "execution_count": 88,
   "id": "cc0a213a",
   "metadata": {},
   "outputs": [],
   "source": [
    "network.eval()\n",
    "lrp = LRP(network)"
   ]
  },
  {
   "cell_type": "markdown",
   "id": "7da21ca5",
   "metadata": {},
   "source": [
    "Defining a rule is a bit tricky (you will get this issue)\n",
    "Let me give you an help here."
   ]
  },
  {
   "cell_type": "code",
   "execution_count": 89,
   "id": "006bee77",
   "metadata": {},
   "outputs": [
    {
     "name": "stdout",
     "output_type": "stream",
     "text": [
      "Test:\n",
      "mse: 0.001 ± 0.001\n",
      "mae: 4.409 ± 4.345\n"
     ]
    }
   ],
   "source": [
    "test_losses = eval_model(network, test_dl, loss_fns={\n",
    "        \"mse\": nn.HuberLoss(reduction='none', delta=delta), \"mae\": lambda pred, age: th.abs(pred-age)*100\n",
    "    })\n",
    "print(f'Test:')\n",
    "for k, v in test_losses.items():\n",
    "    print(f'{k}: {v[\"mean\"]:.3f} ± {v[\"std\"]:.3f}')"
   ]
  },
  {
   "cell_type": "code",
   "execution_count": null,
   "id": "253a600f",
   "metadata": {},
   "outputs": [],
   "source": [
    "from captum.attr._utils.lrp_rules import EpsilonRule\n",
    "\n",
    "layers = [val for x,val in network._modules.items()]\n",
    "for idx_layer in range(len(layers)):\n",
    "    if not isinstance(layers[idx_layer], nn.ReLU):\n",
    "        setattr(layers[idx_layer], \"rule\", EpsilonRule())"
   ]
  },
  {
   "cell_type": "code",
   "execution_count": 91,
   "id": "a1795805",
   "metadata": {},
   "outputs": [
    {
     "name": "stdout",
     "output_type": "stream",
     "text": [
      "conv1 <captum.attr._utils.lrp_rules.EpsilonRule object at 0x7ff106c9eb90>\n",
      "bn1 <captum.attr._utils.lrp_rules.EpsilonRule object at 0x7ff0c82d9630>\n",
      "conv2 <captum.attr._utils.lrp_rules.EpsilonRule object at 0x7ff0c82dae30>\n",
      "bn2 <captum.attr._utils.lrp_rules.EpsilonRule object at 0x7ff0c82dbf40>\n",
      "pool1 <captum.attr._utils.lrp_rules.EpsilonRule object at 0x7ff0c82d9870>\n",
      "pool2 <captum.attr._utils.lrp_rules.EpsilonRule object at 0x7ff0c82d8160>\n",
      "fc1 <captum.attr._utils.lrp_rules.EpsilonRule object at 0x7ff0c82d85e0>\n",
      "dropout <captum.attr._utils.lrp_rules.EpsilonRule object at 0x7ff106cbb520>\n",
      "fc2 <captum.attr._utils.lrp_rules.EpsilonRule object at 0x7ff106cbbc70>\n"
     ]
    }
   ],
   "source": [
    "for x, vl in network._modules.items():\n",
    "    print(x, vl.rule)"
   ]
  },
  {
   "cell_type": "code",
   "execution_count": 92,
   "id": "d13c7f83",
   "metadata": {},
   "outputs": [
    {
     "data": {
      "text/plain": [
       "torch.Size([1, 1, 83, 106, 80])"
      ]
     },
     "execution_count": 92,
     "metadata": {},
     "output_type": "execute_result"
    }
   ],
   "source": [
    "next(iter(test_dl))[\"t1n\"].shape"
   ]
  },
  {
   "cell_type": "code",
   "execution_count": 93,
   "id": "37e8b2d5",
   "metadata": {},
   "outputs": [
    {
     "name": "stderr",
     "output_type": "stream",
     "text": [
      "  0%|          | 0/66 [00:00<?, ?it/s]"
     ]
    },
    {
     "name": "stderr",
     "output_type": "stream",
     "text": [
      "/home/fsammarco/.local/lib/python3.10/site-packages/captum/attr/_core/lrp.py:207: UserWarning: Input Tensor 0 did not already require gradients, required_grads has been set automatically.\n",
      "  gradient_mask = apply_gradient_requirements(input_tuple)\n",
      "100%|██████████| 66/66 [00:02<00:00, 25.36it/s]\n"
     ]
    }
   ],
   "source": [
    "attributions = th.zeros(len(test_dl), 83, 106, 80)\n",
    "\n",
    "curr = 0\n",
    "for batch in tqdm.tqdm(test_dl):\n",
    "    img = batch[\"t1n\"].to(device)\n",
    "    B = img.shape[0]\n",
    "\n",
    "    layers = [val for x,val in network._modules.items()]\n",
    "    for idx_layer in range(len(layers)):\n",
    "        if not isinstance(layers[idx_layer], nn.ReLU):\n",
    "            setattr(layers[idx_layer], \"rule\", EpsilonRule())\n",
    "\n",
    "    attr = lrp.attribute(img, target=0)\n",
    "    attributions[curr:curr+B] = attr"
   ]
  },
  {
   "cell_type": "code",
   "execution_count": 103,
   "id": "c826cc97",
   "metadata": {},
   "outputs": [],
   "source": [
    "def norm(attrs):\n",
    "    return (attrs - attrs.min())/(attrs.max() - attrs.min())"
   ]
  },
  {
   "cell_type": "code",
   "execution_count": 104,
   "id": "7eb4ccc5",
   "metadata": {},
   "outputs": [
    {
     "data": {
      "image/png": "[encoded data removed]",
      "text/plain": [
       "<Figure size 640x480 with 6 Axes>"
      ]
     },
     "metadata": {},
     "output_type": "display_data"
    }
   ],
   "source": [
    "fig, ax = plt.subplots(2, 3)\n",
    "brain = next(iter(test_dl))[\"t1n\"][0,0].detach().cpu().numpy()\n",
    "attr = norm(attributions[0].detach().cpu().numpy())\n",
    "attr[brain <= 0] = 0\n",
    "plt_points = [x//2 for x in brain.shape]\n",
    "ax[0,0].imshow(brain[plt_points[0]], cmap=\"Greys_r\")\n",
    "ax[0,1].imshow(brain[:,plt_points[1]], cmap=\"Greys_r\")\n",
    "ax[0,2].imshow(brain[:,:,plt_points[2]], cmap=\"Greys_r\")\n",
    "ax[1,0].imshow(brain[plt_points[0]], cmap=\"Greys_r\")\n",
    "ax[1,0].imshow(attr[plt_points[0]], alpha=attr[plt_points[0]]*0.7, cmap=\"Reds\")\n",
    "ax[1,1].imshow(brain[:,plt_points[1]], cmap=\"Greys_r\")\n",
    "ax[1,1].imshow(attr[:,plt_points[1]], alpha=attr[:,plt_points[1]]*0.7, cmap=\"Reds\")\n",
    "ax[1,2].imshow(brain[:,:,plt_points[2]], cmap=\"Greys_r\")\n",
    "ax[1,2].imshow(attr[:,:,plt_points[2]], alpha=attr[:,:,plt_points[2]]*0.7, cmap=\"Reds\")\n",
    "plt.show()"
   ]
  }
 ],
 "metadata": {
  "kernelspec": {
   "display_name": "myenv",
   "language": "python",
   "name": "python3"
  },
  "language_info": {
   "codemirror_mode": {
    "name": "ipython",
    "version": 3
   },
   "file_extension": ".py",
   "mimetype": "text/x-python",
   "name": "python",
   "nbconvert_exporter": "python",
   "pygments_lexer": "ipython3",
   "version": "3.10.14"
  }
 },
 "nbformat": 4,
 "nbformat_minor": 5
}
