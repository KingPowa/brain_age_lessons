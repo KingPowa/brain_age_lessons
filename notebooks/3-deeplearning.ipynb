{
 "cells": [
  {
   "cell_type": "markdown",
   "id": "61dfe7c5",
   "metadata": {},
   "source": [
    "We pretty much failed with normal regression, but its comprehensible:\n",
    "- we reduced the number of features available to the model by averaging the cortical thickness\n",
    "- we are dealing with an inherently difficult problem where the connection may not be trivially linear\n",
    "- we haven't tried some other approaches in literature (left for you as an excercise)\n",
    "\n",
    "At this point, it's time for Deep Learning!\n",
    "\n",
    "We will now try to predict Brain Age based on MRI scans. We will cover\n",
    "- preprocessing of the scans\n",
    "- implementation of a possible model\n",
    "- training, validation\n",
    "- improvements\n",
    "- transfer learning\n",
    "\n",
    "let's go!"
   ]
  },
  {
   "cell_type": "code",
   "execution_count": 1,
   "id": "5e621376",
   "metadata": {},
   "outputs": [],
   "source": [
    "# Imports\n",
    "# General purpose\n",
    "import os\n",
    "# # DL\n",
    "import torch as th\n",
    "import numpy as np\n",
    "import torch.nn as nn\n",
    "import torch.nn.functional as F\n",
    "# Data\n",
    "import pandas as pd\n",
    "import nibabel as nib\n",
    "from torch.utils.data import Dataset, DataLoader\n",
    "import monai.transforms as mtr\n",
    "from sklearn.model_selection import StratifiedKFold, train_test_split\n",
    "# Visualize\n",
    "import matplotlib.pyplot as plt\n",
    "import tqdm"
   ]
  },
  {
   "cell_type": "code",
   "execution_count": 2,
   "id": "b4e7b87c",
   "metadata": {},
   "outputs": [],
   "source": [
    "import resource\n",
    "\n",
    "# limit to 120 GB\n",
    "soft, hard = resource.getrlimit(resource.RLIMIT_AS)\n",
    "resource.setrlimit(resource.RLIMIT_AS, (120_000_000_000, hard))"
   ]
  },
  {
   "cell_type": "code",
   "execution_count": null,
   "id": "449bdd4d",
   "metadata": {},
   "outputs": [],
   "source": [
    "# os.environ[\"CUDA_VISIBLE_DEVICES\"] = \"0\""
   ]
  },
  {
   "cell_type": "code",
   "execution_count": 3,
   "id": "4e220407",
   "metadata": {},
   "outputs": [
    {
     "name": "stdout",
     "output_type": "stream",
     "text": [
      "Using device: cpu\n"
     ]
    }
   ],
   "source": [
    "device = th.device('cuda' if th.cuda.is_available() else 'cpu')\n",
    "print('Using device:', device)"
   ]
  },
  {
   "cell_type": "code",
   "execution_count": 4,
   "id": "d01f201d",
   "metadata": {},
   "outputs": [
    {
     "data": {
      "text/html": [
       "<div>\n",
       "<style scoped>\n",
       "    .dataframe tbody tr th:only-of-type {\n",
       "        vertical-align: middle;\n",
       "    }\n",
       "\n",
       "    .dataframe tbody tr th {\n",
       "        vertical-align: top;\n",
       "    }\n",
       "\n",
       "    .dataframe thead th {\n",
       "        text-align: right;\n",
       "    }\n",
       "</style>\n",
       "<table border=\"1\" class=\"dataframe\">\n",
       "  <thead>\n",
       "    <tr style=\"text-align: right;\">\n",
       "      <th></th>\n",
       "      <th>subject_id</th>\n",
       "      <th>age</th>\n",
       "      <th>sex</th>\n",
       "      <th>scanner</th>\n",
       "      <th>site</th>\n",
       "      <th>diagnosis</th>\n",
       "      <th>dataset_name</th>\n",
       "      <th>subject_key</th>\n",
       "      <th>session</th>\n",
       "      <th>run</th>\n",
       "      <th>registered_mni</th>\n",
       "    </tr>\n",
       "  </thead>\n",
       "  <tbody>\n",
       "    <tr>\n",
       "      <th>0</th>\n",
       "      <td>IXI002</td>\n",
       "      <td>35.80</td>\n",
       "      <td>Female</td>\n",
       "      <td>Philips-1.5T</td>\n",
       "      <td>Guy’s-Hospital</td>\n",
       "      <td>Healthy</td>\n",
       "      <td>IXI</td>\n",
       "      <td>IXI002_IXI</td>\n",
       "      <td>1</td>\n",
       "      <td>1</td>\n",
       "      <td>sub-IXI002/ses-1/run-1/anat/sub-IXI002_acq-Phi...</td>\n",
       "    </tr>\n",
       "    <tr>\n",
       "      <th>1</th>\n",
       "      <td>IXI012</td>\n",
       "      <td>38.78</td>\n",
       "      <td>Male</td>\n",
       "      <td>Philips-3.0T</td>\n",
       "      <td>Hammersmith-Hospital</td>\n",
       "      <td>Healthy</td>\n",
       "      <td>IXI</td>\n",
       "      <td>IXI012_IXI</td>\n",
       "      <td>1</td>\n",
       "      <td>1</td>\n",
       "      <td>sub-IXI012/ses-1/run-1/anat/sub-IXI012_acq-Phi...</td>\n",
       "    </tr>\n",
       "    <tr>\n",
       "      <th>2</th>\n",
       "      <td>IXI013</td>\n",
       "      <td>46.71</td>\n",
       "      <td>Male</td>\n",
       "      <td>Philips-3.0T</td>\n",
       "      <td>Hammersmith-Hospital</td>\n",
       "      <td>Healthy</td>\n",
       "      <td>IXI</td>\n",
       "      <td>IXI013_IXI</td>\n",
       "      <td>1</td>\n",
       "      <td>1</td>\n",
       "      <td>sub-IXI013/ses-1/run-1/anat/sub-IXI013_acq-Phi...</td>\n",
       "    </tr>\n",
       "    <tr>\n",
       "      <th>3</th>\n",
       "      <td>IXI014</td>\n",
       "      <td>34.24</td>\n",
       "      <td>Female</td>\n",
       "      <td>Philips-3.0T</td>\n",
       "      <td>Hammersmith-Hospital</td>\n",
       "      <td>Healthy</td>\n",
       "      <td>IXI</td>\n",
       "      <td>IXI014_IXI</td>\n",
       "      <td>1</td>\n",
       "      <td>1</td>\n",
       "      <td>sub-IXI014/ses-1/run-1/anat/sub-IXI014_acq-Phi...</td>\n",
       "    </tr>\n",
       "    <tr>\n",
       "      <th>4</th>\n",
       "      <td>IXI015</td>\n",
       "      <td>24.28</td>\n",
       "      <td>Male</td>\n",
       "      <td>Philips-3.0T</td>\n",
       "      <td>Hammersmith-Hospital</td>\n",
       "      <td>Healthy</td>\n",
       "      <td>IXI</td>\n",
       "      <td>IXI015_IXI</td>\n",
       "      <td>1</td>\n",
       "      <td>1</td>\n",
       "      <td>sub-IXI015/ses-1/run-1/anat/sub-IXI015_acq-Phi...</td>\n",
       "    </tr>\n",
       "  </tbody>\n",
       "</table>\n",
       "</div>"
      ],
      "text/plain": [
       "  subject_id    age     sex       scanner                  site diagnosis  \\\n",
       "0     IXI002  35.80  Female  Philips-1.5T        Guy’s-Hospital   Healthy   \n",
       "1     IXI012  38.78    Male  Philips-3.0T  Hammersmith-Hospital   Healthy   \n",
       "2     IXI013  46.71    Male  Philips-3.0T  Hammersmith-Hospital   Healthy   \n",
       "3     IXI014  34.24  Female  Philips-3.0T  Hammersmith-Hospital   Healthy   \n",
       "4     IXI015  24.28    Male  Philips-3.0T  Hammersmith-Hospital   Healthy   \n",
       "\n",
       "  dataset_name subject_key  session  run  \\\n",
       "0          IXI  IXI002_IXI        1    1   \n",
       "1          IXI  IXI012_IXI        1    1   \n",
       "2          IXI  IXI013_IXI        1    1   \n",
       "3          IXI  IXI014_IXI        1    1   \n",
       "4          IXI  IXI015_IXI        1    1   \n",
       "\n",
       "                                      registered_mni  \n",
       "0  sub-IXI002/ses-1/run-1/anat/sub-IXI002_acq-Phi...  \n",
       "1  sub-IXI012/ses-1/run-1/anat/sub-IXI012_acq-Phi...  \n",
       "2  sub-IXI013/ses-1/run-1/anat/sub-IXI013_acq-Phi...  \n",
       "3  sub-IXI014/ses-1/run-1/anat/sub-IXI014_acq-Phi...  \n",
       "4  sub-IXI015/ses-1/run-1/anat/sub-IXI015_acq-Phi...  "
      ]
     },
     "execution_count": 4,
     "metadata": {},
     "output_type": "execute_result"
    }
   ],
   "source": [
    "masterfile_path = \"../data/IXI/subjects.csv\"\n",
    "masterfile = pd.read_csv(masterfile_path)\n",
    "masterfile = masterfile[masterfile[\"age\"] != -1.0]\n",
    "masterfile.head(5)"
   ]
  },
  {
   "cell_type": "markdown",
   "id": "895afbfe",
   "metadata": {},
   "source": [
    "Let's create a class to handle the data\n",
    "\n",
    "We use the `torch` `Dataset` interface for this "
   ]
  },
  {
   "cell_type": "markdown",
   "id": "09948e71",
   "metadata": {},
   "source": [
    "To handle the MRI data we use `monai`. Monai is a library for neuroimaging that implements useful transformations for our data."
   ]
  },
  {
   "cell_type": "code",
   "execution_count": 5,
   "id": "473da05e",
   "metadata": {},
   "outputs": [],
   "source": [
    "class MRIDataset(Dataset):\n",
    "    def __init__(self, \n",
    "                 metadata_df: pd.DataFrame, \n",
    "                 base_path = \"../data/IXI\",\n",
    "                 transform = None):\n",
    "        self.df = metadata_df\n",
    "        self.transform = transform\n",
    "        self.base_path = base_path\n",
    "\n",
    "    def __len__(self):\n",
    "        return len(self.df)\n",
    "\n",
    "    def __getitem__(self, idx):\n",
    "        row = self.df.iloc[idx]\n",
    "        age = row['age'].astype(np.float32)\n",
    "        vol = mtr.LoadImage()(os.path.join(self.base_path, row[\"registered_mni\"][:-3]))\n",
    "        if self.transform:\n",
    "            vol = self.transform(vol)\n",
    "        return {\n",
    "            \"t1n\": vol if not th.is_tensor(vol) else th.as_tensor(vol),\n",
    "            \"age\": age if not th.is_tensor(age) else th.as_tensor(age),\n",
    "        }"
   ]
  },
  {
   "cell_type": "code",
   "execution_count": 6,
   "id": "e56f75bf",
   "metadata": {},
   "outputs": [
    {
     "data": {
      "text/plain": [
       "{'t1n': metatensor([[[0., 0., 0.,  ..., 0., 0., 0.],\n",
       "          [0., 0., 0.,  ..., 0., 0., 0.],\n",
       "          [0., 0., 0.,  ..., 0., 0., 0.],\n",
       "          ...,\n",
       "          [0., 0., 0.,  ..., 0., 0., 0.],\n",
       "          [0., 0., 0.,  ..., 0., 0., 0.],\n",
       "          [0., 0., 0.,  ..., 0., 0., 0.]],\n",
       " \n",
       "         [[0., 0., 0.,  ..., 0., 0., 0.],\n",
       "          [0., 0., 0.,  ..., 0., 0., 0.],\n",
       "          [0., 0., 0.,  ..., 0., 0., 0.],\n",
       "          ...,\n",
       "          [0., 0., 0.,  ..., 0., 0., 0.],\n",
       "          [0., 0., 0.,  ..., 0., 0., 0.],\n",
       "          [0., 0., 0.,  ..., 0., 0., 0.]],\n",
       " \n",
       "         [[0., 0., 0.,  ..., 0., 0., 0.],\n",
       "          [0., 0., 0.,  ..., 0., 0., 0.],\n",
       "          [0., 0., 0.,  ..., 0., 0., 0.],\n",
       "          ...,\n",
       "          [0., 0., 0.,  ..., 0., 0., 0.],\n",
       "          [0., 0., 0.,  ..., 0., 0., 0.],\n",
       "          [0., 0., 0.,  ..., 0., 0., 0.]],\n",
       " \n",
       "         ...,\n",
       " \n",
       "         [[0., 0., 0.,  ..., 0., 0., 0.],\n",
       "          [0., 0., 0.,  ..., 0., 0., 0.],\n",
       "          [0., 0., 0.,  ..., 0., 0., 0.],\n",
       "          ...,\n",
       "          [0., 0., 0.,  ..., 0., 0., 0.],\n",
       "          [0., 0., 0.,  ..., 0., 0., 0.],\n",
       "          [0., 0., 0.,  ..., 0., 0., 0.]],\n",
       " \n",
       "         [[0., 0., 0.,  ..., 0., 0., 0.],\n",
       "          [0., 0., 0.,  ..., 0., 0., 0.],\n",
       "          [0., 0., 0.,  ..., 0., 0., 0.],\n",
       "          ...,\n",
       "          [0., 0., 0.,  ..., 0., 0., 0.],\n",
       "          [0., 0., 0.,  ..., 0., 0., 0.],\n",
       "          [0., 0., 0.,  ..., 0., 0., 0.]],\n",
       " \n",
       "         [[0., 0., 0.,  ..., 0., 0., 0.],\n",
       "          [0., 0., 0.,  ..., 0., 0., 0.],\n",
       "          [0., 0., 0.,  ..., 0., 0., 0.],\n",
       "          ...,\n",
       "          [0., 0., 0.,  ..., 0., 0., 0.],\n",
       "          [0., 0., 0.,  ..., 0., 0., 0.],\n",
       "          [0., 0., 0.,  ..., 0., 0., 0.]]]),\n",
       " 'age': 35.8}"
      ]
     },
     "execution_count": 6,
     "metadata": {},
     "output_type": "execute_result"
    }
   ],
   "source": [
    "ds = MRIDataset(\n",
    "    metadata_df=masterfile\n",
    ")\n",
    "\n",
    "ds[0]"
   ]
  },
  {
   "cell_type": "markdown",
   "id": "08270fd8",
   "metadata": {},
   "source": [
    "Let's see if what we are getting makes sense"
   ]
  },
  {
   "cell_type": "code",
   "execution_count": 7,
   "id": "085fc725",
   "metadata": {},
   "outputs": [],
   "source": [
    "def show_brain(img, slice_idx = \"half\"):\n",
    "    if isinstance(slice_idx, str) and slice_idx == \"half\":\n",
    "        points = [x//2 for x in img.shape[-3:]]\n",
    "    else:\n",
    "        points = [slice_idx for _ in range(3)]\n",
    "\n",
    "    fig, ax = plt.subplots(1,3, figsize=(6,21))\n",
    "    img_to_show = img\n",
    "    while len(img_to_show.shape) > 3:\n",
    "        img_to_show = img_to_show[0]\n",
    "\n",
    "    ax[0].imshow(img_to_show[points[0]], cmap=\"Greys_r\")\n",
    "    ax[1].imshow(img_to_show[:,points[1]], cmap=\"Greys_r\")\n",
    "    ax[2].imshow(img_to_show[:,:,points[2]], cmap=\"Greys_r\")\n",
    "    plt.show()"
   ]
  },
  {
   "cell_type": "code",
   "execution_count": 8,
   "id": "cd27735c",
   "metadata": {},
   "outputs": [],
   "source": [
    "sample = ds[0]"
   ]
  },
  {
   "cell_type": "code",
   "execution_count": 9,
   "id": "f1098e8c",
   "metadata": {},
   "outputs": [
    {
     "data": {
      "image/png": "[encoded data removed]",
      "text/plain": [
       "<Figure size 600x2100 with 3 Axes>"
      ]
     },
     "metadata": {},
     "output_type": "display_data"
    },
    {
     "data": {
      "text/plain": [
       "(metatensor(0.), metatensor(141.))"
      ]
     },
     "execution_count": 9,
     "metadata": {},
     "output_type": "execute_result"
    }
   ],
   "source": [
    "show_brain(sample[\"t1n\"])\n",
    "(sample[\"t1n\"].min(), sample[\"t1n\"].max())"
   ]
  },
  {
   "cell_type": "markdown",
   "id": "9c47b034",
   "metadata": {},
   "source": [
    "It makes sense, but someone may have noticed that the images are not normalised.\n",
    "This is an usual step in every DL pipeline. So let's do it from now.\n",
    "\n",
    "Normalization helps making gradients of DL models more stable, as we remove extreme values from the images and allows us to make them more similar with each other, removing some unwanted differences. We will retain individual differences, but will be easier for DL methods to handle this type of data."
   ]
  },
  {
   "cell_type": "code",
   "execution_count": 10,
   "id": "0bf2b188",
   "metadata": {},
   "outputs": [],
   "source": [
    "transforms = mtr.Compose([\n",
    "    mtr.ScaleIntensity(0,1)\n",
    "])\n",
    "\n",
    "ds.transform = transforms"
   ]
  },
  {
   "cell_type": "code",
   "execution_count": 11,
   "id": "14e06f18",
   "metadata": {},
   "outputs": [
    {
     "data": {
      "text/plain": [
       "{'t1n': metatensor([[[0., 0., 0.,  ..., 0., 0., 0.],\n",
       "          [0., 0., 0.,  ..., 0., 0., 0.],\n",
       "          [0., 0., 0.,  ..., 0., 0., 0.],\n",
       "          ...,\n",
       "          [0., 0., 0.,  ..., 0., 0., 0.],\n",
       "          [0., 0., 0.,  ..., 0., 0., 0.],\n",
       "          [0., 0., 0.,  ..., 0., 0., 0.]],\n",
       " \n",
       "         [[0., 0., 0.,  ..., 0., 0., 0.],\n",
       "          [0., 0., 0.,  ..., 0., 0., 0.],\n",
       "          [0., 0., 0.,  ..., 0., 0., 0.],\n",
       "          ...,\n",
       "          [0., 0., 0.,  ..., 0., 0., 0.],\n",
       "          [0., 0., 0.,  ..., 0., 0., 0.],\n",
       "          [0., 0., 0.,  ..., 0., 0., 0.]],\n",
       " \n",
       "         [[0., 0., 0.,  ..., 0., 0., 0.],\n",
       "          [0., 0., 0.,  ..., 0., 0., 0.],\n",
       "          [0., 0., 0.,  ..., 0., 0., 0.],\n",
       "          ...,\n",
       "          [0., 0., 0.,  ..., 0., 0., 0.],\n",
       "          [0., 0., 0.,  ..., 0., 0., 0.],\n",
       "          [0., 0., 0.,  ..., 0., 0., 0.]],\n",
       " \n",
       "         ...,\n",
       " \n",
       "         [[0., 0., 0.,  ..., 0., 0., 0.],\n",
       "          [0., 0., 0.,  ..., 0., 0., 0.],\n",
       "          [0., 0., 0.,  ..., 0., 0., 0.],\n",
       "          ...,\n",
       "          [0., 0., 0.,  ..., 0., 0., 0.],\n",
       "          [0., 0., 0.,  ..., 0., 0., 0.],\n",
       "          [0., 0., 0.,  ..., 0., 0., 0.]],\n",
       " \n",
       "         [[0., 0., 0.,  ..., 0., 0., 0.],\n",
       "          [0., 0., 0.,  ..., 0., 0., 0.],\n",
       "          [0., 0., 0.,  ..., 0., 0., 0.],\n",
       "          ...,\n",
       "          [0., 0., 0.,  ..., 0., 0., 0.],\n",
       "          [0., 0., 0.,  ..., 0., 0., 0.],\n",
       "          [0., 0., 0.,  ..., 0., 0., 0.]],\n",
       " \n",
       "         [[0., 0., 0.,  ..., 0., 0., 0.],\n",
       "          [0., 0., 0.,  ..., 0., 0., 0.],\n",
       "          [0., 0., 0.,  ..., 0., 0., 0.],\n",
       "          ...,\n",
       "          [0., 0., 0.,  ..., 0., 0., 0.],\n",
       "          [0., 0., 0.,  ..., 0., 0., 0.],\n",
       "          [0., 0., 0.,  ..., 0., 0., 0.]]]),\n",
       " 'age': 35.8}"
      ]
     },
     "execution_count": 11,
     "metadata": {},
     "output_type": "execute_result"
    }
   ],
   "source": [
    "ds[0]"
   ]
  },
  {
   "cell_type": "code",
   "execution_count": 12,
   "id": "1ace8af9",
   "metadata": {},
   "outputs": [
    {
     "data": {
      "image/png": "[encoded data removed]",
      "text/plain": [
       "<Figure size 600x2100 with 3 Axes>"
      ]
     },
     "metadata": {},
     "output_type": "display_data"
    },
    {
     "data": {
      "text/plain": [
       "(metatensor(0.), metatensor(1.))"
      ]
     },
     "execution_count": 12,
     "metadata": {},
     "output_type": "execute_result"
    }
   ],
   "source": [
    "sample = ds[0]\n",
    "show_brain(sample[\"t1n\"])\n",
    "(sample[\"t1n\"].min(), sample[\"t1n\"].max())"
   ]
  },
  {
   "cell_type": "markdown",
   "id": "d4523b2c",
   "metadata": {},
   "source": [
    "Nothing has changed visually speaking, but this will improve the training."
   ]
  },
  {
   "cell_type": "markdown",
   "id": "72a27d5c",
   "metadata": {},
   "source": [
    "For our DL task, we will need similar evaluations as we did for regression. So, let's apply again our division"
   ]
  },
  {
   "cell_type": "code",
   "execution_count": 13,
   "id": "7cd2b259",
   "metadata": {},
   "outputs": [
    {
     "data": {
      "text/plain": [
       "(66, 494)"
      ]
     },
     "execution_count": 13,
     "metadata": {},
     "output_type": "execute_result"
    }
   ],
   "source": [
    "test_set = masterfile[masterfile[\"scanner\"] == \"GE-1.5T\"]\n",
    "train_set = masterfile[masterfile[\"scanner\"] != \"GE-1.5T\"]\n",
    "\n",
    "test_set[\"subject_id\"].nunique(), train_set[\"subject_id\"].nunique()"
   ]
  },
  {
   "cell_type": "markdown",
   "id": "02433d9f",
   "metadata": {},
   "source": [
    "We will use CV for our task.\n",
    "Deep learning model requires heavy amount of data to learn useful patterns in our data. For training our model, using CV is mandatory since our sample size is very low.\n",
    "\n",
    "However, for time purposes, I will show here the normal split"
   ]
  },
  {
   "cell_type": "code",
   "execution_count": 14,
   "id": "bb9c663b",
   "metadata": {},
   "outputs": [],
   "source": [
    "internal_df = train_set.copy()\n",
    "internal_df[\"age_bin\"] = pd.cut(train_set[\"age\"], bins=10, labels=False, include_lowest=True)\n",
    "internal_df[\"stratify_key\"] = internal_df[\"age_bin\"].astype(str) + \"_\" + internal_df[\"sex\"].astype(str)\n",
    "\n",
    "# What we should do\n",
    "# skf = StratifiedKFold(n_splits = 3, shuffle = False) \n",
    "# What I will do\n",
    "train_idx, val_idx = train_test_split(np.arange(len(internal_df)), \n",
    "                                       train_size=0.2, \n",
    "                                       random_state=0,\n",
    "                                       shuffle=True,\n",
    "                                       stratify=internal_df[\"stratify_key\"].values)"
   ]
  },
  {
   "cell_type": "markdown",
   "id": "3262eea9",
   "metadata": {},
   "source": [
    "We will now create a very simple CNN for 3D Data. For this end, let's see the size of our mri scan"
   ]
  },
  {
   "cell_type": "code",
   "execution_count": 15,
   "id": "24d98cf2",
   "metadata": {},
   "outputs": [
    {
     "data": {
      "text/plain": [
       "torch.Size([182, 218, 182])"
      ]
     },
     "execution_count": 15,
     "metadata": {},
     "output_type": "execute_result"
    }
   ],
   "source": [
    "ds[0][\"t1n\"].shape"
   ]
  },
  {
   "cell_type": "markdown",
   "id": "0a6a36f4",
   "metadata": {},
   "source": [
    "The size is very large, and this can become quickly a problem for our network. Let's implement a transformation that crops this volume to a given size. We should calculate optimal crop. I did already this for you (kinda), and we can use a fixed known crop"
   ]
  },
  {
   "cell_type": "code",
   "execution_count": 16,
   "id": "9e87c788",
   "metadata": {},
   "outputs": [],
   "source": [
    "transforms = mtr.Compose([\n",
    "    mtr.EnsureChannelFirst(),\n",
    "    mtr.SpatialCrop(\n",
    "        roi_start = (6, 2, 0),\n",
    "        roi_end = (173, 214, 160),\n",
    "    ),\n",
    "    mtr.ScaleIntensity(0,1)\n",
    "])\n",
    "\n",
    "ds.transform = transforms"
   ]
  },
  {
   "cell_type": "code",
   "execution_count": 17,
   "id": "8637a265",
   "metadata": {},
   "outputs": [
    {
     "data": {
      "image/png": "[encoded data removed]",
      "text/plain": [
       "<Figure size 600x2100 with 3 Axes>"
      ]
     },
     "metadata": {},
     "output_type": "display_data"
    },
    {
     "data": {
      "text/plain": [
       "torch.Size([1, 167, 212, 160])"
      ]
     },
     "execution_count": 17,
     "metadata": {},
     "output_type": "execute_result"
    }
   ],
   "source": [
    "sample = ds[0]\n",
    "show_brain(sample[\"t1n\"])\n",
    "sample[\"t1n\"].shape"
   ]
  },
  {
   "cell_type": "markdown",
   "id": "d066163b",
   "metadata": {},
   "source": [
    "We greatly reduced the dimensionality. This will be insanely useful in training."
   ]
  },
  {
   "cell_type": "markdown",
   "id": "7d5a306b",
   "metadata": {},
   "source": [
    "Let's now create a simple 3D CNN"
   ]
  },
  {
   "cell_type": "code",
   "execution_count": 18,
   "id": "87b9a6fd",
   "metadata": {},
   "outputs": [],
   "source": [
    "class Simple3DCNN(nn.Module):\n",
    "    def __init__(self):\n",
    "        super().__init__()\n",
    "        self.conv1 = nn.Conv3d(1, 8, kernel_size=3, padding=1)\n",
    "        self.bn1 = nn.BatchNorm3d(8)\n",
    "        self.conv2 = nn.Conv3d(8, 16, kernel_size=3, padding=1)\n",
    "        self.bn2 = nn.BatchNorm3d(16)\n",
    "        self.pool1 = nn.MaxPool3d(2)\n",
    "        self.pool2 = nn.AdaptiveMaxPool3d(1)\n",
    "        self.fc1 = nn.Linear(16, 64)\n",
    "        self.fc2 = nn.Linear(64, 1)\n",
    "\n",
    "    def forward(self, x: th.Tensor):\n",
    "        x = self.pool1(F.relu(self.bn1(self.conv1(x))))\n",
    "        x = self.pool2(F.relu(self.bn2(self.conv2(x))))\n",
    "        x = x.view(x.size(0), -1)\n",
    "        x = F.relu(self.fc1(x))\n",
    "        out = self.fc2(x)\n",
    "        return out\n",
    "\n",
    "network = Simple3DCNN().to(device=device)"
   ]
  },
  {
   "cell_type": "code",
   "execution_count": 19,
   "id": "9e51d1e6",
   "metadata": {},
   "outputs": [
    {
     "data": {
      "text/plain": [
       "metatensor([[1.7392]], grad_fn=<AliasBackward0>)"
      ]
     },
     "execution_count": 19,
     "metadata": {},
     "output_type": "execute_result"
    }
   ],
   "source": [
    "# Try the network\n",
    "network(ds[0][\"t1n\"].unsqueeze(0).to(device))"
   ]
  },
  {
   "cell_type": "code",
   "execution_count": 20,
   "id": "c84a4057",
   "metadata": {},
   "outputs": [],
   "source": [
    "optimizer = th.optim.AdamW(network.parameters(), lr=1e-3)\n",
    "loss_fn = nn.L1Loss() # We are interested to minimise the MAE"
   ]
  },
  {
   "cell_type": "markdown",
   "id": "26128b37",
   "metadata": {},
   "source": [
    "Let's define our training loop and validation"
   ]
  },
  {
   "cell_type": "code",
   "execution_count": 21,
   "id": "69c4dfec",
   "metadata": {},
   "outputs": [],
   "source": [
    "def train_epoch(model, loader, optimizer):\n",
    "    model.train()\n",
    "    running = 0.0\n",
    "    for batch in tqdm.tqdm(loader):\n",
    "        img = batch[\"t1n\"].to(device)\n",
    "        age = batch[\"age\"].to(device).view(-1, 1)\n",
    "        pred = model(img).view(-1, 1)\n",
    "        loss = loss_fn(pred, age)\n",
    "        optimizer.zero_grad()\n",
    "        loss.backward()\n",
    "        optimizer.step()\n",
    "        running += loss.item() * img.size(0)\n",
    "    return running / len(loader.dataset)\n",
    "\n",
    "def eval_model(model, loader):\n",
    "    model.eval()\n",
    "    with th.no_grad():\n",
    "        losses = []\n",
    "        for batch in loader:\n",
    "            img = batch[\"t1n\"].to(device)\n",
    "            age = batch[\"age\"].to(device).view(-1, 1)\n",
    "            pred = model(img).view(-1, 1)\n",
    "            losses.append(th.abs(pred - age).cpu().numpy())\n",
    "    all_errors = np.concatenate(losses)\n",
    "    return np.mean(all_errors), np.std(all_errors)"
   ]
  },
  {
   "cell_type": "code",
   "execution_count": 22,
   "id": "49f85dd1",
   "metadata": {},
   "outputs": [],
   "source": [
    "# for train_idx, val_idx in skf.split(train_set, internal_df[\"stratify_key\"].values):\n",
    "ds_tr = MRIDataset(\n",
    "    train_set.iloc[train_idx],\n",
    "    transform=transforms\n",
    ")\n",
    "ds_val = MRIDataset(\n",
    "    train_set.iloc[val_idx],\n",
    "    transform=transforms\n",
    ")\n",
    "train_dl = DataLoader(ds_tr, batch_size=16, \n",
    "                        shuffle=True,\n",
    "                        num_workers=2,\n",
    "                        pin_memory=False,\n",
    "                        persistent_workers=False, \n",
    "                        prefetch_factor=None)\n",
    "val_dl = DataLoader(ds_val, batch_size=16,\n",
    "                        num_workers=2,\n",
    "                        pin_memory=False,\n",
    "                        persistent_workers=False, \n",
    "                        prefetch_factor=None)"
   ]
  },
  {
   "cell_type": "code",
   "execution_count": null,
   "id": "17a08145",
   "metadata": {},
   "outputs": [
    {
     "name": "stderr",
     "output_type": "stream",
     "text": [
      "100%|██████████| 7/7 [00:08<00:00,  1.28s/it]\n"
     ]
    },
    {
     "name": "stdout",
     "output_type": "stream",
     "text": [
      "Epoch 157: train loss 3.878, val MAE 14.423 ± 9.866\n"
     ]
    },
    {
     "name": "stderr",
     "output_type": "stream",
     "text": [
      "100%|██████████| 7/7 [00:04<00:00,  1.71it/s]\n"
     ]
    },
    {
     "name": "stdout",
     "output_type": "stream",
     "text": [
      "Epoch 158: train loss 3.705, val MAE 13.758 ± 10.413\n",
      "New lowest reached: 13.758. Saving checkpoint\n"
     ]
    },
    {
     "name": "stderr",
     "output_type": "stream",
     "text": [
      "100%|██████████| 7/7 [00:03<00:00,  1.76it/s]\n"
     ]
    },
    {
     "name": "stdout",
     "output_type": "stream",
     "text": [
      "Epoch 159: train loss 3.972, val MAE 14.090 ± 10.075\n"
     ]
    },
    {
     "name": "stderr",
     "output_type": "stream",
     "text": [
      "100%|██████████| 7/7 [00:03<00:00,  1.86it/s]\n"
     ]
    },
    {
     "name": "stdout",
     "output_type": "stream",
     "text": [
      "Epoch 160: train loss 5.016, val MAE 14.053 ± 10.079\n"
     ]
    },
    {
     "name": "stderr",
     "output_type": "stream",
     "text": [
      "100%|██████████| 7/7 [00:03<00:00,  1.82it/s]\n"
     ]
    },
    {
     "name": "stdout",
     "output_type": "stream",
     "text": [
      "Epoch 161: train loss 5.437, val MAE 14.060 ± 10.028\n"
     ]
    },
    {
     "name": "stderr",
     "output_type": "stream",
     "text": [
      "100%|██████████| 7/7 [00:04<00:00,  1.66it/s]\n"
     ]
    },
    {
     "name": "stdout",
     "output_type": "stream",
     "text": [
      "Epoch 162: train loss 2.998, val MAE 15.241 ± 10.349\n"
     ]
    },
    {
     "name": "stderr",
     "output_type": "stream",
     "text": [
      "100%|██████████| 7/7 [00:03<00:00,  1.78it/s]\n"
     ]
    },
    {
     "name": "stdout",
     "output_type": "stream",
     "text": [
      "Epoch 163: train loss 2.576, val MAE 15.698 ± 10.463\n"
     ]
    },
    {
     "name": "stderr",
     "output_type": "stream",
     "text": [
      "100%|██████████| 7/7 [00:04<00:00,  1.71it/s]\n"
     ]
    },
    {
     "name": "stdout",
     "output_type": "stream",
     "text": [
      "Epoch 164: train loss 2.964, val MAE 16.091 ± 10.631\n"
     ]
    },
    {
     "name": "stderr",
     "output_type": "stream",
     "text": [
      "100%|██████████| 7/7 [00:03<00:00,  1.75it/s]\n"
     ]
    },
    {
     "name": "stdout",
     "output_type": "stream",
     "text": [
      "Epoch 165: train loss 3.868, val MAE 14.963 ± 10.245\n"
     ]
    },
    {
     "name": "stderr",
     "output_type": "stream",
     "text": [
      "100%|██████████| 7/7 [00:03<00:00,  1.77it/s]\n"
     ]
    },
    {
     "name": "stdout",
     "output_type": "stream",
     "text": [
      "Epoch 166: train loss 3.168, val MAE 15.979 ± 10.563\n"
     ]
    },
    {
     "name": "stderr",
     "output_type": "stream",
     "text": [
      "100%|██████████| 7/7 [00:03<00:00,  1.80it/s]\n"
     ]
    },
    {
     "name": "stdout",
     "output_type": "stream",
     "text": [
      "Epoch 167: train loss 4.012, val MAE 14.534 ± 10.180\n"
     ]
    },
    {
     "name": "stderr",
     "output_type": "stream",
     "text": [
      "100%|██████████| 7/7 [00:04<00:00,  1.72it/s]\n"
     ]
    },
    {
     "name": "stdout",
     "output_type": "stream",
     "text": [
      "Epoch 168: train loss 3.459, val MAE 14.526 ± 10.069\n"
     ]
    },
    {
     "name": "stderr",
     "output_type": "stream",
     "text": [
      "100%|██████████| 7/7 [00:04<00:00,  1.68it/s]\n"
     ]
    },
    {
     "name": "stdout",
     "output_type": "stream",
     "text": [
      "Epoch 169: train loss 3.179, val MAE 15.957 ± 10.409\n"
     ]
    },
    {
     "name": "stderr",
     "output_type": "stream",
     "text": [
      "100%|██████████| 7/7 [00:04<00:00,  1.60it/s]\n"
     ]
    },
    {
     "name": "stdout",
     "output_type": "stream",
     "text": [
      "Epoch 170: train loss 3.573, val MAE 15.812 ± 10.283\n"
     ]
    },
    {
     "name": "stderr",
     "output_type": "stream",
     "text": [
      "100%|██████████| 7/7 [00:04<00:00,  1.66it/s]\n"
     ]
    },
    {
     "name": "stdout",
     "output_type": "stream",
     "text": [
      "Epoch 171: train loss 3.620, val MAE 14.943 ± 9.986\n"
     ]
    },
    {
     "name": "stderr",
     "output_type": "stream",
     "text": [
      "100%|██████████| 7/7 [00:04<00:00,  1.70it/s]\n"
     ]
    },
    {
     "name": "stdout",
     "output_type": "stream",
     "text": [
      "Epoch 172: train loss 3.049, val MAE 15.039 ± 10.157\n"
     ]
    },
    {
     "name": "stderr",
     "output_type": "stream",
     "text": [
      "100%|██████████| 7/7 [00:04<00:00,  1.64it/s]\n"
     ]
    },
    {
     "name": "stdout",
     "output_type": "stream",
     "text": [
      "Epoch 173: train loss 3.178, val MAE 15.101 ± 10.274\n"
     ]
    },
    {
     "name": "stderr",
     "output_type": "stream",
     "text": [
      "100%|██████████| 7/7 [00:04<00:00,  1.65it/s]\n"
     ]
    },
    {
     "name": "stdout",
     "output_type": "stream",
     "text": [
      "Epoch 174: train loss 2.282, val MAE 14.248 ± 10.143\n"
     ]
    },
    {
     "name": "stderr",
     "output_type": "stream",
     "text": [
      "100%|██████████| 7/7 [00:04<00:00,  1.66it/s]\n"
     ]
    },
    {
     "name": "stdout",
     "output_type": "stream",
     "text": [
      "Epoch 175: train loss 5.421, val MAE 14.312 ± 9.792\n"
     ]
    },
    {
     "name": "stderr",
     "output_type": "stream",
     "text": [
      "100%|██████████| 7/7 [00:04<00:00,  1.64it/s]\n"
     ]
    },
    {
     "name": "stdout",
     "output_type": "stream",
     "text": [
      "Epoch 176: train loss 3.232, val MAE 14.089 ± 9.864\n"
     ]
    },
    {
     "name": "stderr",
     "output_type": "stream",
     "text": [
      "100%|██████████| 7/7 [00:04<00:00,  1.71it/s]\n"
     ]
    },
    {
     "name": "stdout",
     "output_type": "stream",
     "text": [
      "Epoch 177: train loss 3.164, val MAE 14.118 ± 9.881\n"
     ]
    },
    {
     "name": "stderr",
     "output_type": "stream",
     "text": [
      "100%|██████████| 7/7 [00:04<00:00,  1.65it/s]\n"
     ]
    },
    {
     "name": "stdout",
     "output_type": "stream",
     "text": [
      "Epoch 178: train loss 2.493, val MAE 15.168 ± 10.151\n"
     ]
    },
    {
     "name": "stderr",
     "output_type": "stream",
     "text": [
      "100%|██████████| 7/7 [00:03<00:00,  1.77it/s]\n"
     ]
    },
    {
     "name": "stdout",
     "output_type": "stream",
     "text": [
      "Epoch 179: train loss 2.090, val MAE 15.823 ± 10.482\n"
     ]
    },
    {
     "name": "stderr",
     "output_type": "stream",
     "text": [
      "100%|██████████| 7/7 [00:03<00:00,  1.79it/s]\n"
     ]
    },
    {
     "name": "stdout",
     "output_type": "stream",
     "text": [
      "Epoch 180: train loss 4.177, val MAE 15.034 ± 10.278\n"
     ]
    },
    {
     "name": "stderr",
     "output_type": "stream",
     "text": [
      "100%|██████████| 7/7 [00:03<00:00,  1.77it/s]\n"
     ]
    },
    {
     "name": "stdout",
     "output_type": "stream",
     "text": [
      "Epoch 181: train loss 2.882, val MAE 15.233 ± 10.295\n"
     ]
    },
    {
     "name": "stderr",
     "output_type": "stream",
     "text": [
      "100%|██████████| 7/7 [00:04<00:00,  1.67it/s]\n"
     ]
    },
    {
     "name": "stdout",
     "output_type": "stream",
     "text": [
      "Epoch 182: train loss 2.457, val MAE 14.450 ± 10.139\n"
     ]
    },
    {
     "name": "stderr",
     "output_type": "stream",
     "text": [
      "100%|██████████| 7/7 [00:04<00:00,  1.69it/s]\n"
     ]
    },
    {
     "name": "stdout",
     "output_type": "stream",
     "text": [
      "Epoch 183: train loss 3.748, val MAE 14.368 ± 10.056\n"
     ]
    },
    {
     "name": "stderr",
     "output_type": "stream",
     "text": [
      "100%|██████████| 7/7 [00:04<00:00,  1.72it/s]\n"
     ]
    },
    {
     "name": "stdout",
     "output_type": "stream",
     "text": [
      "Epoch 184: train loss 3.448, val MAE 14.722 ± 10.162\n"
     ]
    },
    {
     "name": "stderr",
     "output_type": "stream",
     "text": [
      "100%|██████████| 7/7 [00:04<00:00,  1.68it/s]\n"
     ]
    },
    {
     "name": "stdout",
     "output_type": "stream",
     "text": [
      "Epoch 185: train loss 3.914, val MAE 14.589 ± 10.053\n"
     ]
    },
    {
     "name": "stderr",
     "output_type": "stream",
     "text": [
      "100%|██████████| 7/7 [00:04<00:00,  1.63it/s]\n"
     ]
    },
    {
     "name": "stdout",
     "output_type": "stream",
     "text": [
      "Epoch 186: train loss 4.750, val MAE 16.967 ± 11.008\n"
     ]
    },
    {
     "name": "stderr",
     "output_type": "stream",
     "text": [
      "100%|██████████| 7/7 [00:04<00:00,  1.72it/s]\n"
     ]
    },
    {
     "name": "stdout",
     "output_type": "stream",
     "text": [
      "Epoch 187: train loss 3.484, val MAE 14.197 ± 10.999\n"
     ]
    },
    {
     "name": "stderr",
     "output_type": "stream",
     "text": [
      "100%|██████████| 7/7 [00:03<00:00,  1.75it/s]\n"
     ]
    },
    {
     "name": "stdout",
     "output_type": "stream",
     "text": [
      "Epoch 188: train loss 7.759, val MAE 14.829 ± 10.101\n"
     ]
    },
    {
     "name": "stderr",
     "output_type": "stream",
     "text": [
      "100%|██████████| 7/7 [00:04<00:00,  1.72it/s]\n"
     ]
    },
    {
     "name": "stdout",
     "output_type": "stream",
     "text": [
      "Epoch 189: train loss 4.376, val MAE 16.322 ± 10.594\n"
     ]
    },
    {
     "name": "stderr",
     "output_type": "stream",
     "text": [
      "100%|██████████| 7/7 [00:04<00:00,  1.74it/s]\n"
     ]
    },
    {
     "name": "stdout",
     "output_type": "stream",
     "text": [
      "Epoch 190: train loss 4.406, val MAE 18.248 ± 11.690\n"
     ]
    },
    {
     "name": "stderr",
     "output_type": "stream",
     "text": [
      "100%|██████████| 7/7 [00:04<00:00,  1.70it/s]\n"
     ]
    },
    {
     "name": "stdout",
     "output_type": "stream",
     "text": [
      "Epoch 191: train loss 5.264, val MAE 15.302 ± 10.334\n"
     ]
    },
    {
     "name": "stderr",
     "output_type": "stream",
     "text": [
      "100%|██████████| 7/7 [00:04<00:00,  1.75it/s]\n"
     ]
    },
    {
     "name": "stdout",
     "output_type": "stream",
     "text": [
      "Epoch 192: train loss 5.152, val MAE 15.144 ± 10.021\n"
     ]
    },
    {
     "name": "stderr",
     "output_type": "stream",
     "text": [
      "100%|██████████| 7/7 [00:03<00:00,  1.79it/s]\n"
     ]
    },
    {
     "name": "stdout",
     "output_type": "stream",
     "text": [
      "Epoch 193: train loss 4.431, val MAE 14.273 ± 9.662\n"
     ]
    },
    {
     "name": "stderr",
     "output_type": "stream",
     "text": [
      "100%|██████████| 7/7 [00:04<00:00,  1.66it/s]\n"
     ]
    },
    {
     "name": "stdout",
     "output_type": "stream",
     "text": [
      "Epoch 194: train loss 4.191, val MAE 14.861 ± 9.955\n"
     ]
    },
    {
     "name": "stderr",
     "output_type": "stream",
     "text": [
      "100%|██████████| 7/7 [00:04<00:00,  1.63it/s]\n"
     ]
    },
    {
     "name": "stdout",
     "output_type": "stream",
     "text": [
      "Epoch 195: train loss 3.107, val MAE 16.749 ± 10.925\n"
     ]
    },
    {
     "name": "stderr",
     "output_type": "stream",
     "text": [
      "100%|██████████| 7/7 [00:04<00:00,  1.70it/s]\n"
     ]
    },
    {
     "name": "stdout",
     "output_type": "stream",
     "text": [
      "Epoch 196: train loss 11.082, val MAE 17.955 ± 11.494\n"
     ]
    },
    {
     "name": "stderr",
     "output_type": "stream",
     "text": [
      "100%|██████████| 7/7 [00:04<00:00,  1.70it/s]\n"
     ]
    },
    {
     "name": "stdout",
     "output_type": "stream",
     "text": [
      "Epoch 197: train loss 4.455, val MAE 14.780 ± 9.769\n"
     ]
    },
    {
     "name": "stderr",
     "output_type": "stream",
     "text": [
      "100%|██████████| 7/7 [00:04<00:00,  1.74it/s]\n"
     ]
    },
    {
     "name": "stdout",
     "output_type": "stream",
     "text": [
      "Epoch 198: train loss 3.717, val MAE 14.896 ± 9.720\n"
     ]
    },
    {
     "name": "stderr",
     "output_type": "stream",
     "text": [
      "100%|██████████| 7/7 [00:04<00:00,  1.70it/s]\n"
     ]
    },
    {
     "name": "stdout",
     "output_type": "stream",
     "text": [
      "Epoch 199: train loss 3.054, val MAE 14.775 ± 9.805\n"
     ]
    },
    {
     "name": "stderr",
     "output_type": "stream",
     "text": [
      "100%|██████████| 7/7 [00:03<00:00,  1.81it/s]\n"
     ]
    },
    {
     "name": "stdout",
     "output_type": "stream",
     "text": [
      "Epoch 200: train loss 3.826, val MAE 15.889 ± 10.440\n"
     ]
    }
   ],
   "source": [
    "best_val_mae = np.inf\n",
    "\n",
    "curr_epoch = 0\n",
    "\n",
    "losses = pd.DataFrame(columns=[\"epoch\", \"tr_mae\", \"val_mae\"])\n",
    "if os.path.exists(\"../checkpoints/Simple3DCNN_best_model.pth\"):\n",
    "    state_dict = th.load(\"../checkpoints/Simple3DCNN_best_model.pth\", weights_only=False)\n",
    "    curr_epoch = state_dict[\"epoch\"]\n",
    "    best_val_mae = state_dict[\"best_val_mae\"]\n",
    "    network.load_state_dict(state_dict[\"model_state_dict\"])\n",
    "    optimizer.load_state_dict(state_dict[\"optimizer_state_dict\"])\n",
    "    losses = pd.read_csv(\"../results/Simple3DCNN_results.csv\")\n",
    "    losses = losses[losses[\"epoch\"] <= curr_epoch]\n",
    "\n",
    "for epoch in range(curr_epoch+1, 200):\n",
    "    tr_loss = train_epoch(network, train_dl, optimizer)\n",
    "    val_mae, val_std = eval_model(network, val_dl)\n",
    "    print(f'Epoch {epoch+1}: train loss {tr_loss:.3f}, val MAE {val_mae:.3f} ± {val_std:.3f}')\n",
    "    if val_mae < best_val_mae:\n",
    "        best_val_mae = val_mae\n",
    "        print(f\"New lowest reached: {best_val_mae:.3f}. Saving checkpoint\")\n",
    "        checkpoint = {\n",
    "            'epoch': epoch,                         # last epoch\n",
    "            'model_state_dict': network.state_dict(), # model parameters\n",
    "            'optimizer_state_dict': optimizer.state_dict(),  # optimizer state\n",
    "            'best_val_mae': best_val_mae\n",
    "        }\n",
    "        os.makedirs(\"../checkpoints\", exist_ok=True)\n",
    "        th.save(checkpoint, f'../checkpoints/Simple3DCNN_best_model.pth')\n",
    "    losses.loc[len(losses)] = {\"tr_mae\": tr_loss, \"val_mae\": val_mae, \"epoch\": epoch}\n",
    "    os.makedirs(\"../results\", exist_ok=True)\n",
    "    losses.to_csv(\"../results/Simple3DCNN_results.csv\", index=False)"
   ]
  },
  {
   "cell_type": "markdown",
   "id": "9c6180d6",
   "metadata": {},
   "source": [
    "This requires some time, so I did it for you. Let's load the model"
   ]
  },
  {
   "cell_type": "code",
   "execution_count": 11,
   "id": "32a3f33d",
   "metadata": {},
   "outputs": [
    {
     "ename": "NameError",
     "evalue": "name 'network' is not defined",
     "output_type": "error",
     "traceback": [
      "\u001b[0;31m---------------------------------------------------------------------------\u001b[0m",
      "\u001b[0;31mNameError\u001b[0m                                 Traceback (most recent call last)",
      "Cell \u001b[0;32mIn[11], line 5\u001b[0m\n\u001b[1;32m      3\u001b[0m curr_epoch \u001b[38;5;241m=\u001b[39m state_dict[\u001b[38;5;124m\"\u001b[39m\u001b[38;5;124mepoch\u001b[39m\u001b[38;5;124m\"\u001b[39m]\n\u001b[1;32m      4\u001b[0m best_val_mae \u001b[38;5;241m=\u001b[39m state_dict[\u001b[38;5;124m\"\u001b[39m\u001b[38;5;124mbest_val_mae\u001b[39m\u001b[38;5;124m\"\u001b[39m]\n\u001b[0;32m----> 5\u001b[0m \u001b[43mnetwork\u001b[49m\u001b[38;5;241m.\u001b[39mload_state_dict(state_dict[\u001b[38;5;124m\"\u001b[39m\u001b[38;5;124mmodel_state_dict\u001b[39m\u001b[38;5;124m\"\u001b[39m])\n\u001b[1;32m      6\u001b[0m optimizer\u001b[38;5;241m.\u001b[39mload_state_dict(state_dict[\u001b[38;5;124m\"\u001b[39m\u001b[38;5;124moptimizer_state_dict\u001b[39m\u001b[38;5;124m\"\u001b[39m])\n\u001b[1;32m      7\u001b[0m losses \u001b[38;5;241m=\u001b[39m pd\u001b[38;5;241m.\u001b[39mread_csv(\u001b[38;5;124m\"\u001b[39m\u001b[38;5;124m../results/Simple3DCNN_results.csv\u001b[39m\u001b[38;5;124m\"\u001b[39m)\n",
      "\u001b[0;31mNameError\u001b[0m: name 'network' is not defined"
     ]
    }
   ],
   "source": [
    "if os.path.exists(\"../checkpoints/Simple3DCNN_best_model.pth\"):\n",
    "    state_dict = th.load(\"../checkpoints/Simple3DCNN_best_model.pth\", weights_only=False)\n",
    "    curr_epoch = state_dict[\"epoch\"]\n",
    "    best_val_mae = state_dict[\"best_val_mae\"]\n",
    "    network.load_state_dict(state_dict[\"model_state_dict\"])\n",
    "    optimizer.load_state_dict(state_dict[\"optimizer_state_dict\"])\n",
    "    losses = pd.read_csv(\"../results/Simple3DCNN_results.csv\")\n",
    "\n",
    "    print(state_dict)"
   ]
  },
  {
   "cell_type": "code",
   "execution_count": null,
   "id": "4daa1e75",
   "metadata": {},
   "outputs": [
    {
     "name": "stdout",
     "output_type": "stream",
     "text": [
      "Test MAE 21.127 ± 12.286\n"
     ]
    }
   ],
   "source": [
    "test_ds = MRIDataset(\n",
    "    test_set,\n",
    "    transform=transforms\n",
    ")\n",
    "\n",
    "test_dl = DataLoader(test_ds, batch_size=16,\n",
    "                        num_workers=1,\n",
    "                        pin_memory=True,\n",
    "                        persistent_workers=False, \n",
    "                        prefetch_factor=None)\n",
    "\n",
    "test_mae, test_std = eval_model(network, test_dl)\n",
    "print(f'Test MAE {test_mae:.3f} ± {test_std:.3f}')"
   ]
  },
  {
   "cell_type": "markdown",
   "id": "18cb4030",
   "metadata": {},
   "source": [
    "When testing our model on the external dataset, we see we got very bad results compared to a classical regression.\n",
    "Why is this the case?\n",
    "\n",
    "Let's look at the plot of the losses"
   ]
  },
  {
   "cell_type": "code",
   "execution_count": 34,
   "id": "60ecd929",
   "metadata": {},
   "outputs": [
    {
     "data": {
      "image/png": "[encoded data removed]",
      "text/plain": [
       "<Figure size 640x480 with 1 Axes>"
      ]
     },
     "metadata": {},
     "output_type": "display_data"
    }
   ],
   "source": [
    "vec_losses = losses[[\"epoch\", \"tr_mae\", \"val_mae\"]].values\n",
    "\n",
    "plt.plot(vec_losses[:, 0], vec_losses[:, 1], label=\"train loss\")\n",
    "plt.plot(vec_losses[:, 0], vec_losses[:, 2], label=\"validation loss\")\n",
    "plt.legend()\n",
    "plt.show()"
   ]
  },
  {
   "cell_type": "markdown",
   "id": "d3f90332",
   "metadata": {},
   "source": [
    "Our model can't reach a lower validation loss after 20/30 epochs, and it plateaues at around 16 mae. Instead, training is going down, which means it is adapting to the dataset. However, the training loss seems erratic after a certain epoch. Can we make an educated guess on why this is the case?"
   ]
  },
  {
   "cell_type": "markdown",
   "id": "e3afceae",
   "metadata": {},
   "source": [
    "To deal with this problem, we need to make the network more generalisable. Let's modify it a bit:"
   ]
  },
  {
   "cell_type": "code",
   "execution_count": null,
   "id": "301b75da",
   "metadata": {},
   "outputs": [],
   "source": [
    "class Dropout3DCNN(nn.Module):\n",
    "    def __init__(self):\n",
    "        super().__init__()\n",
    "        self.conv1 = nn.Conv3d(1, 8, kernel_size=3, padding=1)\n",
    "        self.bn1 = nn.BatchNorm3d(8) # We removed BatchNorm in GroupNorm favour ## nn.BatchNorm3d(8)\n",
    "        self.conv2 = nn.Conv3d(8, 16, kernel_size=3, padding=1)\n",
    "        self.bn2 = nn.BatchNorm3d(16) # We removed BatchNorm in GroupNorm favour ## nn.BatchNorm3d(16)\n",
    "        self.pool1 = nn.MaxPool3d(2)\n",
    "        self.pool2 = nn.AdaptiveAvgPool3d(1)\n",
    "        self.fc1 = nn.Linear(16, 64)\n",
    "        self.dropout = nn.Dropout(0.3) # We add a Dropout layer for enhanced generalibility\n",
    "        self.fc2 = nn.Linear(64, 1)\n",
    "\n",
    "    def forward(self, x: th.Tensor):\n",
    "        x = self.pool1(F.relu(self.bn1(self.conv1(x))))\n",
    "        x = self.pool2(F.relu(self.bn2(self.conv2(x))))\n",
    "        x = x.view(x.size(0), -1)\n",
    "        x = F.relu(self.fc1(x))\n",
    "        x = self.dropout(x)\n",
    "        out = self.fc2(x)\n",
    "        return out\n",
    "\n",
    "network = Dropout3DCNN().to(device=device)\n",
    "optimizer = th.optim.AdamW(network.parameters(), lr=1e-3)\n",
    "loss_fn = nn.L1Loss() # We are interested to minimise the MAE"
   ]
  },
  {
   "cell_type": "code",
   "execution_count": null,
   "id": "b7be3909",
   "metadata": {},
   "outputs": [
    {
     "name": "stderr",
     "output_type": "stream",
     "text": [
      "100%|██████████| 7/7 [03:29<00:00, 29.93s/it]\n"
     ]
    },
    {
     "name": "stdout",
     "output_type": "stream",
     "text": [
      "Epoch 2: train loss 49.268, val MAE 49.421 ± 16.289\n",
      "New lowest reached: 49.421. Saving checkpoint\n"
     ]
    },
    {
     "name": "stderr",
     "output_type": "stream",
     "text": [
      "100%|██████████| 7/7 [02:40<00:00, 22.90s/it]\n"
     ]
    },
    {
     "name": "stdout",
     "output_type": "stream",
     "text": [
      "Epoch 3: train loss 49.115, val MAE 49.316 ± 16.289\n",
      "New lowest reached: 49.316. Saving checkpoint\n"
     ]
    },
    {
     "name": "stderr",
     "output_type": "stream",
     "text": [
      "100%|██████████| 7/7 [03:06<00:00, 26.68s/it]\n"
     ]
    },
    {
     "name": "stdout",
     "output_type": "stream",
     "text": [
      "Epoch 4: train loss 48.971, val MAE 49.159 ± 16.290\n",
      "New lowest reached: 49.159. Saving checkpoint\n"
     ]
    },
    {
     "name": "stderr",
     "output_type": "stream",
     "text": [
      "100%|██████████| 7/7 [03:04<00:00, 26.31s/it]\n"
     ]
    },
    {
     "name": "stdout",
     "output_type": "stream",
     "text": [
      "Epoch 5: train loss 48.767, val MAE 48.926 ± 16.292\n",
      "New lowest reached: 48.926. Saving checkpoint\n"
     ]
    },
    {
     "name": "stderr",
     "output_type": "stream",
     "text": [
      "100%|██████████| 7/7 [03:23<00:00, 29.05s/it]\n"
     ]
    },
    {
     "name": "stdout",
     "output_type": "stream",
     "text": [
      "Epoch 6: train loss 48.555, val MAE 48.649 ± 16.293\n",
      "New lowest reached: 48.649. Saving checkpoint\n"
     ]
    },
    {
     "name": "stderr",
     "output_type": "stream",
     "text": [
      "100%|██████████| 7/7 [03:22<00:00, 29.00s/it]\n"
     ]
    },
    {
     "name": "stdout",
     "output_type": "stream",
     "text": [
      "Epoch 7: train loss 48.298, val MAE 48.346 ± 16.293\n",
      "New lowest reached: 48.346. Saving checkpoint\n"
     ]
    },
    {
     "name": "stderr",
     "output_type": "stream",
     "text": [
      "100%|██████████| 7/7 [03:09<00:00, 27.12s/it]\n"
     ]
    },
    {
     "name": "stdout",
     "output_type": "stream",
     "text": [
      "Epoch 8: train loss 48.017, val MAE 47.996 ± 16.293\n",
      "New lowest reached: 47.996. Saving checkpoint\n"
     ]
    },
    {
     "name": "stderr",
     "output_type": "stream",
     "text": [
      "100%|██████████| 7/7 [03:18<00:00, 28.30s/it]\n"
     ]
    },
    {
     "name": "stdout",
     "output_type": "stream",
     "text": [
      "Epoch 9: train loss 47.698, val MAE 47.535 ± 16.294\n",
      "New lowest reached: 47.535. Saving checkpoint\n"
     ]
    },
    {
     "name": "stderr",
     "output_type": "stream",
     "text": [
      "100%|██████████| 7/7 [03:21<00:00, 28.72s/it]\n"
     ]
    }
   ],
   "source": [
    "best_val_mae = np.inf\n",
    "\n",
    "curr_epoch = 0\n",
    "\n",
    "losses = pd.DataFrame(columns=[\"epoch\", \"tr_mae\", \"val_mae\"])\n",
    "if os.path.exists(\"../checkpoints/Dropout3DCNN_best_model.pth\"):\n",
    "    state_dict = th.load(\"../checkpoints/Dropout3DCNN_best_model.pth\", weights_only=False)\n",
    "    curr_epoch = state_dict[\"epoch\"]\n",
    "    best_val_mae = state_dict[\"best_val_mae\"]\n",
    "    network.load_state_dict(state_dict[\"model_state_dict\"])\n",
    "    optimizer.load_state_dict(state_dict[\"optimizer_state_dict\"])\n",
    "    losses = pd.read_csv(\"../results/Dropout3DCNN_results.csv\")\n",
    "    losses = losses[losses[\"epoch\"] <= curr_epoch]\n",
    "\n",
    "for epoch in range(curr_epoch+1, 200):\n",
    "    tr_loss = train_epoch(network, train_dl, optimizer)\n",
    "    val_mae, val_std = eval_model(network, val_dl)\n",
    "    print(f'Epoch {epoch+1}: train loss {tr_loss:.3f}, val MAE {val_mae:.3f} ± {val_std:.3f}')\n",
    "    if val_mae < best_val_mae:\n",
    "        best_val_mae = val_mae\n",
    "        print(f\"New lowest reached: {best_val_mae:.3f}. Saving checkpoint\")\n",
    "        checkpoint = {\n",
    "            'epoch': epoch,                         # last epoch\n",
    "            'model_state_dict': network.state_dict(), # model parameters\n",
    "            'optimizer_state_dict': optimizer.state_dict(),  # optimizer state\n",
    "            'best_val_mae': best_val_mae\n",
    "        }\n",
    "        os.makedirs(\"../checkpoints\", exist_ok=True)\n",
    "        th.save(checkpoint, f'../checkpoints/Dropout3DCNN_best_model.pth')\n",
    "    losses.loc[len(losses)] = {\"tr_mae\": tr_loss, \"val_mae\": val_mae, \"epoch\": epoch}\n",
    "    os.makedirs(\"../results\", exist_ok=True)\n",
    "    losses.to_csv(\"../results/Dropout3DCNN_results.csv\", index=False)"
   ]
  }
 ],
 "metadata": {
  "kernelspec": {
   "display_name": "myenv",
   "language": "python",
   "name": "python3"
  },
  "language_info": {
   "codemirror_mode": {
    "name": "ipython",
    "version": 3
   },
   "file_extension": ".py",
   "mimetype": "text/x-python",
   "name": "python",
   "nbconvert_exporter": "python",
   "pygments_lexer": "ipython3",
   "version": "3.10.14"
  }
 },
 "nbformat": 4,
 "nbformat_minor": 5
}
