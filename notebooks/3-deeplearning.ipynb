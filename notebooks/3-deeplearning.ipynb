{
  "cells": [
    {
      "cell_type": "markdown",
      "id": "61dfe7c5",
      "metadata": {
        "id": "61dfe7c5"
      },
      "source": [
        "We pretty much failed with normal regression, but its comprehensible:\n",
        "- we reduced the number of features available to the model by averaging the cortical thickness\n",
        "- we are dealing with an inherently difficult problem where the connection may not be trivially linear\n",
        "- we haven't tried some other approaches in literature (left for you as an excercise)\n",
        "\n",
        "At this point, it's time for Deep Learning!\n",
        "\n",
        "We will now try to predict Brain Age based on MRI scans. We will cover\n",
        "- preprocessing of the scans\n",
        "- implementation of a possible model\n",
        "- training, validation\n",
        "- improvements\n",
        "- transfer learning\n",
        "\n",
        "let's go!"
      ]
    },
    {
      "cell_type": "code",
      "source": [
        "!pip install monai==1.5.0 --no-dependencies"
      ],
      "metadata": {
        "colab": {
          "base_uri": "https://localhost:8080/"
        },
        "id": "EFEfCH7LOofq",
        "outputId": "6c87bb2c-35d4-4484-c0c1-7417595a8a95"
      },
      "id": "EFEfCH7LOofq",
      "execution_count": 3,
      "outputs": [
        {
          "output_type": "stream",
          "name": "stdout",
          "text": [
            "Collecting monai==1.5.0\n",
            "  Downloading monai-1.5.0-py3-none-any.whl.metadata (13 kB)\n",
            "Downloading monai-1.5.0-py3-none-any.whl (2.7 MB)\n",
            "\u001b[?25l   \u001b[90m━━━━━━━━━━━━━━━━━━━━━━━━━━━━━━━━━━━━━━━━\u001b[0m \u001b[32m0.0/2.7 MB\u001b[0m \u001b[31m?\u001b[0m eta \u001b[36m-:--:--\u001b[0m\r\u001b[2K   \u001b[91m━━━━━━━━━━━━━━━━━━\u001b[0m\u001b[91m╸\u001b[0m\u001b[90m━━━━━━━━━━━━━━━━━━━━━\u001b[0m \u001b[32m1.2/2.7 MB\u001b[0m \u001b[31m37.3 MB/s\u001b[0m eta \u001b[36m0:00:01\u001b[0m\r\u001b[2K   \u001b[90m━━━━━━━━━━━━━━━━━━━━━━━━━━━━━━━━━━━━━━━━\u001b[0m \u001b[32m2.7/2.7 MB\u001b[0m \u001b[31m45.9 MB/s\u001b[0m eta \u001b[36m0:00:00\u001b[0m\n",
            "\u001b[?25hInstalling collected packages: monai\n",
            "Successfully installed monai-1.5.0\n"
          ]
        }
      ]
    },
    {
      "cell_type": "code",
      "execution_count": 4,
      "id": "5e621376",
      "metadata": {
        "id": "5e621376"
      },
      "outputs": [],
      "source": [
        "# Imports\n",
        "# General purpose\n",
        "import os\n",
        "import random\n",
        "# # DL\n",
        "import torch as th\n",
        "import numpy as np\n",
        "import torch.nn as nn\n",
        "import torch.nn.functional as F\n",
        "# Data\n",
        "import pandas as pd\n",
        "import nibabel as nib\n",
        "from torch.utils.data import Dataset, DataLoader\n",
        "import monai.transforms as mtr\n",
        "from sklearn.model_selection import StratifiedKFold, train_test_split\n",
        "# Visualize\n",
        "import matplotlib.pyplot as plt\n",
        "import tqdm"
      ]
    },
    {
      "cell_type": "code",
      "source": [
        "# We download instead a preprocessed version (will be explained...)\n",
        "!mkdir ../data\n",
        "!curl -L -o ../data/preprocessed-ixi-dataset-with-fs8.zip -z ../data/preprocessed-ixi-dataset-with-fs8.zip https://www.kaggle.com/api/v1/datasets/download/kingpowa/preprocessed-ixi-dataset-with-fs8\n",
        "!unzip -n ../data/preprocessed-ixi-dataset-with-fs8.zip -d ../data\n",
        "!mkdir ../data/IXI\n",
        "!mv -v ../data/T1w_Processed_IXI_with_csv/IXI/* ../data/IXI\n",
        "!rm -rf ../data/preprocessed-ixi-dataset-with-fs8.zip\n",
        "!rm -rf ../data/T1w_Processed_IXI_with_csv"
      ],
      "metadata": {
        "colab": {
          "base_uri": "https://localhost:8080/"
        },
        "id": "ieVJGfNDKzZD",
        "outputId": "87de328c-4bc5-4136-c53e-04faac43459f"
      },
      "id": "ieVJGfNDKzZD",
      "execution_count": 5,
      "outputs": [
        {
          "output_type": "stream",
          "name": "stdout",
          "text": [
            "Warning: Illegal date format for -z, --time-cond (and not a file name). \n",
            "Warning: Disabling time condition. See curl_getdate(3) for valid date syntax.\n",
            "  % Total    % Received % Xferd  Average Speed   Time    Time     Time  Current\n",
            "                                 Dload  Upload   Total   Spent    Left  Speed\n",
            "  0     0    0     0    0     0      0      0 --:--:-- --:--:-- --:--:--     0\n",
            "100  862M  100  862M    0     0   126M      0  0:00:06  0:00:06 --:--:--  144M\n",
            "Archive:  ../data/preprocessed-ixi-dataset-with-fs8.zip\n",
            "  inflating: ../data/T1w_Processed_IXI_with_csv/IXI/sub-IXI002/ses-1/run-1/anat/sub-IXI002_acq-Philips-1.5T_mni_registered_T1w.nii  \n",
            "  inflating: ../data/T1w_Processed_IXI_with_csv/IXI/sub-IXI002/ses-1/run-1/anat/sub-IXI002_acq-Philips-1.5T_segmask_mni_registered_T1w.nii  \n",
            "  inflating: ../data/T1w_Processed_IXI_with_csv/IXI/sub-IXI012/ses-1/run-1/anat/sub-IXI012_acq-Philips-3.0T_mni_registered_T1w.nii  \n",
            "  inflating: ../data/T1w_Processed_IXI_with_csv/IXI/sub-IXI012/ses-1/run-1/anat/sub-IXI012_acq-Philips-3.0T_segmask_mni_registered_T1w.nii  \n",
            "  inflating: ../data/T1w_Processed_IXI_with_csv/IXI/sub-IXI013/ses-1/run-1/anat/sub-IXI013_acq-Philips-3.0T_mni_registered_T1w.nii  \n",
            "  inflating: ../data/T1w_Processed_IXI_with_csv/IXI/sub-IXI013/ses-1/run-1/anat/sub-IXI013_acq-Philips-3.0T_segmask_mni_registered_T1w.nii  \n",
            "  inflating: ../data/T1w_Processed_IXI_with_csv/IXI/sub-IXI014/ses-1/run-1/anat/sub-IXI014_acq-Philips-3.0T_mni_registered_T1w.nii  \n",
            "  inflating: ../data/T1w_Processed_IXI_with_csv/IXI/sub-IXI014/ses-1/run-1/anat/sub-IXI014_acq-Philips-3.0T_segmask_mni_registered_T1w.nii  \n",
            "  inflating: ../data/T1w_Processed_IXI_with_csv/IXI/sub-IXI015/ses-1/run-1/anat/sub-IXI015_acq-Philips-3.0T_mni_registered_T1w.nii  \n",
            "  inflating: ../data/T1w_Processed_IXI_with_csv/IXI/sub-IXI015/ses-1/run-1/anat/sub-IXI015_acq-Philips-3.0T_segmask_mni_registered_T1w.nii  \n",
            "  inflating: ../data/T1w_Processed_IXI_with_csv/IXI/sub-IXI016/ses-1/run-1/anat/sub-IXI016_acq-Philips-1.5T_mni_registered_T1w.nii  \n",
            "  inflating: ../data/T1w_Processed_IXI_with_csv/IXI/sub-IXI016/ses-1/run-1/anat/sub-IXI016_acq-Philips-1.5T_segmask_mni_registered_T1w.nii  \n",
            "  inflating: ../data/T1w_Processed_IXI_with_csv/IXI/sub-IXI017/ses-1/run-1/anat/sub-IXI017_acq-Philips-1.5T_mni_registered_T1w.nii  \n",
            "  inflating: ../data/T1w_Processed_IXI_with_csv/IXI/sub-IXI017/ses-1/run-1/anat/sub-IXI017_acq-Philips-1.5T_segmask_mni_registered_T1w.nii  \n",
            "  inflating: ../data/T1w_Processed_IXI_with_csv/IXI/sub-IXI019/ses-1/run-1/anat/sub-IXI019_acq-Philips-1.5T_mni_registered_T1w.nii  \n",
            "  inflating: ../data/T1w_Processed_IXI_with_csv/IXI/sub-IXI019/ses-1/run-1/anat/sub-IXI019_acq-Philips-1.5T_segmask_mni_registered_T1w.nii  \n",
            "  inflating: ../data/T1w_Processed_IXI_with_csv/IXI/sub-IXI020/ses-1/run-1/anat/sub-IXI020_acq-Philips-1.5T_mni_registered_T1w.nii  \n",
            "  inflating: ../data/T1w_Processed_IXI_with_csv/IXI/sub-IXI020/ses-1/run-1/anat/sub-IXI020_acq-Philips-1.5T_segmask_mni_registered_T1w.nii  \n",
            "  inflating: ../data/T1w_Processed_IXI_with_csv/IXI/sub-IXI021/ses-1/run-1/anat/sub-IXI021_acq-Philips-1.5T_mni_registered_T1w.nii  \n",
            "  inflating: ../data/T1w_Processed_IXI_with_csv/IXI/sub-IXI021/ses-1/run-1/anat/sub-IXI021_acq-Philips-1.5T_segmask_mni_registered_T1w.nii  \n",
            "  inflating: ../data/T1w_Processed_IXI_with_csv/IXI/sub-IXI022/ses-1/run-1/anat/sub-IXI022_acq-Philips-1.5T_mni_registered_T1w.nii  \n",
            "  inflating: ../data/T1w_Processed_IXI_with_csv/IXI/sub-IXI022/ses-1/run-1/anat/sub-IXI022_acq-Philips-1.5T_segmask_mni_registered_T1w.nii  \n",
            "  inflating: ../data/T1w_Processed_IXI_with_csv/IXI/sub-IXI023/ses-1/run-1/anat/sub-IXI023_acq-Philips-1.5T_mni_registered_T1w.nii  \n",
            "  inflating: ../data/T1w_Processed_IXI_with_csv/IXI/sub-IXI023/ses-1/run-1/anat/sub-IXI023_acq-Philips-1.5T_segmask_mni_registered_T1w.nii  \n",
            "  inflating: ../data/T1w_Processed_IXI_with_csv/IXI/sub-IXI024/ses-1/run-1/anat/sub-IXI024_acq-Philips-1.5T_mni_registered_T1w.nii  \n",
            "  inflating: ../data/T1w_Processed_IXI_with_csv/IXI/sub-IXI024/ses-1/run-1/anat/sub-IXI024_acq-Philips-1.5T_segmask_mni_registered_T1w.nii  \n",
            "  inflating: ../data/T1w_Processed_IXI_with_csv/IXI/sub-IXI025/ses-1/run-1/anat/sub-IXI025_acq-Philips-1.5T_mni_registered_T1w.nii  \n",
            "  inflating: ../data/T1w_Processed_IXI_with_csv/IXI/sub-IXI025/ses-1/run-1/anat/sub-IXI025_acq-Philips-1.5T_segmask_mni_registered_T1w.nii  \n",
            "  inflating: ../data/T1w_Processed_IXI_with_csv/IXI/sub-IXI026/ses-1/run-1/anat/sub-IXI026_acq-Philips-1.5T_mni_registered_T1w.nii  \n",
            "  inflating: ../data/T1w_Processed_IXI_with_csv/IXI/sub-IXI026/ses-1/run-1/anat/sub-IXI026_acq-Philips-1.5T_segmask_mni_registered_T1w.nii  \n",
            "  inflating: ../data/T1w_Processed_IXI_with_csv/IXI/sub-IXI027/ses-1/run-1/anat/sub-IXI027_acq-Philips-1.5T_mni_registered_T1w.nii  \n",
            "  inflating: ../data/T1w_Processed_IXI_with_csv/IXI/sub-IXI027/ses-1/run-1/anat/sub-IXI027_acq-Philips-1.5T_segmask_mni_registered_T1w.nii  \n",
            "  inflating: ../data/T1w_Processed_IXI_with_csv/IXI/sub-IXI028/ses-1/run-1/anat/sub-IXI028_acq-Philips-1.5T_mni_registered_T1w.nii  \n",
            "  inflating: ../data/T1w_Processed_IXI_with_csv/IXI/sub-IXI028/ses-1/run-1/anat/sub-IXI028_acq-Philips-1.5T_segmask_mni_registered_T1w.nii  \n",
            "  inflating: ../data/T1w_Processed_IXI_with_csv/IXI/sub-IXI029/ses-1/run-1/anat/sub-IXI029_acq-Philips-1.5T_mni_registered_T1w.nii  \n",
            "  inflating: ../data/T1w_Processed_IXI_with_csv/IXI/sub-IXI029/ses-1/run-1/anat/sub-IXI029_acq-Philips-1.5T_segmask_mni_registered_T1w.nii  \n",
            "  inflating: ../data/T1w_Processed_IXI_with_csv/IXI/sub-IXI030/ses-1/run-1/anat/sub-IXI030_acq-Philips-1.5T_mni_registered_T1w.nii  \n",
            "  inflating: ../data/T1w_Processed_IXI_with_csv/IXI/sub-IXI030/ses-1/run-1/anat/sub-IXI030_acq-Philips-1.5T_segmask_mni_registered_T1w.nii  \n",
            "  inflating: ../data/T1w_Processed_IXI_with_csv/IXI/sub-IXI031/ses-1/run-1/anat/sub-IXI031_acq-Philips-1.5T_mni_registered_T1w.nii  \n",
            "  inflating: ../data/T1w_Processed_IXI_with_csv/IXI/sub-IXI031/ses-1/run-1/anat/sub-IXI031_acq-Philips-1.5T_segmask_mni_registered_T1w.nii  \n",
            "  inflating: ../data/T1w_Processed_IXI_with_csv/IXI/sub-IXI033/ses-1/run-1/anat/sub-IXI033_acq-Philips-3.0T_mni_registered_T1w.nii  \n",
            "  inflating: ../data/T1w_Processed_IXI_with_csv/IXI/sub-IXI033/ses-1/run-1/anat/sub-IXI033_acq-Philips-3.0T_segmask_mni_registered_T1w.nii  \n",
            "  inflating: ../data/T1w_Processed_IXI_with_csv/IXI/sub-IXI034/ses-1/run-1/anat/sub-IXI034_acq-Philips-3.0T_mni_registered_T1w.nii  \n",
            "  inflating: ../data/T1w_Processed_IXI_with_csv/IXI/sub-IXI034/ses-1/run-1/anat/sub-IXI034_acq-Philips-3.0T_segmask_mni_registered_T1w.nii  \n",
            "  inflating: ../data/T1w_Processed_IXI_with_csv/IXI/sub-IXI035/ses-1/run-1/anat/sub-IXI035_acq-GE-1.5T_mni_registered_T1w.nii  \n",
            "  inflating: ../data/T1w_Processed_IXI_with_csv/IXI/sub-IXI035/ses-1/run-1/anat/sub-IXI035_acq-GE-1.5T_segmask_mni_registered_T1w.nii  \n",
            "  inflating: ../data/T1w_Processed_IXI_with_csv/IXI/sub-IXI036/ses-1/run-1/anat/sub-IXI036_acq-Philips-1.5T_mni_registered_T1w.nii  \n",
            "  inflating: ../data/T1w_Processed_IXI_with_csv/IXI/sub-IXI036/ses-1/run-1/anat/sub-IXI036_acq-Philips-1.5T_segmask_mni_registered_T1w.nii  \n",
            "  inflating: ../data/T1w_Processed_IXI_with_csv/IXI/sub-IXI037/ses-1/run-1/anat/sub-IXI037_acq-Philips-1.5T_mni_registered_T1w.nii  \n",
            "  inflating: ../data/T1w_Processed_IXI_with_csv/IXI/sub-IXI037/ses-1/run-1/anat/sub-IXI037_acq-Philips-1.5T_segmask_mni_registered_T1w.nii  \n",
            "  inflating: ../data/T1w_Processed_IXI_with_csv/IXI/sub-IXI038/ses-1/run-1/anat/sub-IXI038_acq-Philips-1.5T_mni_registered_T1w.nii  \n",
            "  inflating: ../data/T1w_Processed_IXI_with_csv/IXI/sub-IXI038/ses-1/run-1/anat/sub-IXI038_acq-Philips-1.5T_segmask_mni_registered_T1w.nii  \n",
            "  inflating: ../data/T1w_Processed_IXI_with_csv/IXI/sub-IXI039/ses-1/run-1/anat/sub-IXI039_acq-Philips-3.0T_mni_registered_T1w.nii  \n",
            "  inflating: ../data/T1w_Processed_IXI_with_csv/IXI/sub-IXI039/ses-1/run-1/anat/sub-IXI039_acq-Philips-3.0T_segmask_mni_registered_T1w.nii  \n",
            "  inflating: ../data/T1w_Processed_IXI_with_csv/IXI/sub-IXI040/ses-1/run-1/anat/sub-IXI040_acq-Philips-1.5T_mni_registered_T1w.nii  \n",
            "  inflating: ../data/T1w_Processed_IXI_with_csv/IXI/sub-IXI040/ses-1/run-1/anat/sub-IXI040_acq-Philips-1.5T_segmask_mni_registered_T1w.nii  \n",
            "  inflating: ../data/T1w_Processed_IXI_with_csv/IXI/sub-IXI041/ses-1/run-1/anat/sub-IXI041_acq-Philips-1.5T_mni_registered_T1w.nii  \n",
            "  inflating: ../data/T1w_Processed_IXI_with_csv/IXI/sub-IXI041/ses-1/run-1/anat/sub-IXI041_acq-Philips-1.5T_segmask_mni_registered_T1w.nii  \n",
            "  inflating: ../data/T1w_Processed_IXI_with_csv/IXI/sub-IXI042/ses-1/run-1/anat/sub-IXI042_acq-Philips-1.5T_mni_registered_T1w.nii  \n",
            "  inflating: ../data/T1w_Processed_IXI_with_csv/IXI/sub-IXI042/ses-1/run-1/anat/sub-IXI042_acq-Philips-1.5T_segmask_mni_registered_T1w.nii  \n",
            "  inflating: ../data/T1w_Processed_IXI_with_csv/IXI/sub-IXI043/ses-1/run-1/anat/sub-IXI043_acq-Philips-1.5T_mni_registered_T1w.nii  \n",
            "  inflating: ../data/T1w_Processed_IXI_with_csv/IXI/sub-IXI043/ses-1/run-1/anat/sub-IXI043_acq-Philips-1.5T_segmask_mni_registered_T1w.nii  \n",
            "  inflating: ../data/T1w_Processed_IXI_with_csv/IXI/sub-IXI044/ses-1/run-1/anat/sub-IXI044_acq-Philips-1.5T_mni_registered_T1w.nii  \n",
            "  inflating: ../data/T1w_Processed_IXI_with_csv/IXI/sub-IXI044/ses-1/run-1/anat/sub-IXI044_acq-Philips-1.5T_segmask_mni_registered_T1w.nii  \n",
            "  inflating: ../data/T1w_Processed_IXI_with_csv/IXI/sub-IXI045/ses-1/run-1/anat/sub-IXI045_acq-Philips-1.5T_mni_registered_T1w.nii  \n",
            "  inflating: ../data/T1w_Processed_IXI_with_csv/IXI/sub-IXI045/ses-1/run-1/anat/sub-IXI045_acq-Philips-1.5T_segmask_mni_registered_T1w.nii  \n",
            "  inflating: ../data/T1w_Processed_IXI_with_csv/IXI/sub-IXI046/ses-1/run-1/anat/sub-IXI046_acq-Philips-1.5T_mni_registered_T1w.nii  \n",
            "  inflating: ../data/T1w_Processed_IXI_with_csv/IXI/sub-IXI046/ses-1/run-1/anat/sub-IXI046_acq-Philips-1.5T_segmask_mni_registered_T1w.nii  \n",
            "  inflating: ../data/T1w_Processed_IXI_with_csv/IXI/sub-IXI048/ses-1/run-1/anat/sub-IXI048_acq-Philips-3.0T_mni_registered_T1w.nii  \n",
            "  inflating: ../data/T1w_Processed_IXI_with_csv/IXI/sub-IXI048/ses-1/run-1/anat/sub-IXI048_acq-Philips-3.0T_segmask_mni_registered_T1w.nii  \n",
            "  inflating: ../data/T1w_Processed_IXI_with_csv/IXI/sub-IXI049/ses-1/run-1/anat/sub-IXI049_acq-Philips-3.0T_mni_registered_T1w.nii  \n",
            "  inflating: ../data/T1w_Processed_IXI_with_csv/IXI/sub-IXI049/ses-1/run-1/anat/sub-IXI049_acq-Philips-3.0T_segmask_mni_registered_T1w.nii  \n",
            "  inflating: ../data/T1w_Processed_IXI_with_csv/IXI/sub-IXI050/ses-1/run-1/anat/sub-IXI050_acq-Philips-1.5T_mni_registered_T1w.nii  \n",
            "  inflating: ../data/T1w_Processed_IXI_with_csv/IXI/sub-IXI050/ses-1/run-1/anat/sub-IXI050_acq-Philips-1.5T_segmask_mni_registered_T1w.nii  \n",
            "  inflating: ../data/T1w_Processed_IXI_with_csv/IXI/sub-IXI051/ses-1/run-1/anat/sub-IXI051_acq-Philips-3.0T_mni_registered_T1w.nii  \n",
            "  inflating: ../data/T1w_Processed_IXI_with_csv/IXI/sub-IXI051/ses-1/run-1/anat/sub-IXI051_acq-Philips-3.0T_segmask_mni_registered_T1w.nii  \n",
            "  inflating: ../data/T1w_Processed_IXI_with_csv/IXI/sub-IXI052/ses-1/run-1/anat/sub-IXI052_acq-Philips-3.0T_mni_registered_T1w.nii  \n",
            "  inflating: ../data/T1w_Processed_IXI_with_csv/IXI/sub-IXI052/ses-1/run-1/anat/sub-IXI052_acq-Philips-3.0T_segmask_mni_registered_T1w.nii  \n",
            "  inflating: ../data/T1w_Processed_IXI_with_csv/IXI/sub-IXI053/ses-1/run-1/anat/sub-IXI053_acq-Philips-1.5T_mni_registered_T1w.nii  \n",
            "  inflating: ../data/T1w_Processed_IXI_with_csv/IXI/sub-IXI053/ses-1/run-1/anat/sub-IXI053_acq-Philips-1.5T_segmask_mni_registered_T1w.nii  \n",
            "  inflating: ../data/T1w_Processed_IXI_with_csv/IXI/sub-IXI054/ses-1/run-1/anat/sub-IXI054_acq-Philips-1.5T_mni_registered_T1w.nii  \n",
            "  inflating: ../data/T1w_Processed_IXI_with_csv/IXI/sub-IXI054/ses-1/run-1/anat/sub-IXI054_acq-Philips-1.5T_segmask_mni_registered_T1w.nii  \n",
            "  inflating: ../data/T1w_Processed_IXI_with_csv/IXI/sub-IXI055/ses-1/run-1/anat/sub-IXI055_acq-Philips-1.5T_mni_registered_T1w.nii  \n",
            "  inflating: ../data/T1w_Processed_IXI_with_csv/IXI/sub-IXI055/ses-1/run-1/anat/sub-IXI055_acq-Philips-1.5T_segmask_mni_registered_T1w.nii  \n",
            "  inflating: ../data/T1w_Processed_IXI_with_csv/IXI/sub-IXI056/ses-1/run-1/anat/sub-IXI056_acq-Philips-3.0T_mni_registered_T1w.nii  \n",
            "  inflating: ../data/T1w_Processed_IXI_with_csv/IXI/sub-IXI056/ses-1/run-1/anat/sub-IXI056_acq-Philips-3.0T_segmask_mni_registered_T1w.nii  \n",
            "  inflating: ../data/T1w_Processed_IXI_with_csv/IXI/sub-IXI057/ses-1/run-1/anat/sub-IXI057_acq-Philips-3.0T_mni_registered_T1w.nii  \n",
            "  inflating: ../data/T1w_Processed_IXI_with_csv/IXI/sub-IXI057/ses-1/run-1/anat/sub-IXI057_acq-Philips-3.0T_segmask_mni_registered_T1w.nii  \n",
            "  inflating: ../data/T1w_Processed_IXI_with_csv/IXI/sub-IXI058/ses-1/run-1/anat/sub-IXI058_acq-Philips-1.5T_mni_registered_T1w.nii  \n",
            "  inflating: ../data/T1w_Processed_IXI_with_csv/IXI/sub-IXI058/ses-1/run-1/anat/sub-IXI058_acq-Philips-1.5T_segmask_mni_registered_T1w.nii  \n",
            "  inflating: ../data/T1w_Processed_IXI_with_csv/IXI/sub-IXI059/ses-1/run-1/anat/sub-IXI059_acq-Philips-3.0T_mni_registered_T1w.nii  \n",
            "  inflating: ../data/T1w_Processed_IXI_with_csv/IXI/sub-IXI059/ses-1/run-1/anat/sub-IXI059_acq-Philips-3.0T_segmask_mni_registered_T1w.nii  \n",
            "  inflating: ../data/T1w_Processed_IXI_with_csv/IXI/sub-IXI060/ses-1/run-1/anat/sub-IXI060_acq-Philips-1.5T_mni_registered_T1w.nii  \n",
            "  inflating: ../data/T1w_Processed_IXI_with_csv/IXI/sub-IXI060/ses-1/run-1/anat/sub-IXI060_acq-Philips-1.5T_segmask_mni_registered_T1w.nii  \n",
            "  inflating: ../data/T1w_Processed_IXI_with_csv/IXI/sub-IXI061/ses-1/run-1/anat/sub-IXI061_acq-Philips-1.5T_mni_registered_T1w.nii  \n",
            "  inflating: ../data/T1w_Processed_IXI_with_csv/IXI/sub-IXI061/ses-1/run-1/anat/sub-IXI061_acq-Philips-1.5T_segmask_mni_registered_T1w.nii  \n",
            "  inflating: ../data/T1w_Processed_IXI_with_csv/IXI/sub-IXI062/ses-1/run-1/anat/sub-IXI062_acq-Philips-1.5T_mni_registered_T1w.nii  \n",
            "  inflating: ../data/T1w_Processed_IXI_with_csv/IXI/sub-IXI062/ses-1/run-1/anat/sub-IXI062_acq-Philips-1.5T_segmask_mni_registered_T1w.nii  \n",
            "  inflating: ../data/T1w_Processed_IXI_with_csv/IXI/sub-IXI063/ses-1/run-1/anat/sub-IXI063_acq-Philips-1.5T_mni_registered_T1w.nii  \n",
            "  inflating: ../data/T1w_Processed_IXI_with_csv/IXI/sub-IXI063/ses-1/run-1/anat/sub-IXI063_acq-Philips-1.5T_segmask_mni_registered_T1w.nii  \n",
            "  inflating: ../data/T1w_Processed_IXI_with_csv/IXI/sub-IXI064/ses-1/run-1/anat/sub-IXI064_acq-Philips-1.5T_mni_registered_T1w.nii  \n",
            "  inflating: ../data/T1w_Processed_IXI_with_csv/IXI/sub-IXI064/ses-1/run-1/anat/sub-IXI064_acq-Philips-1.5T_segmask_mni_registered_T1w.nii  \n",
            "  inflating: ../data/T1w_Processed_IXI_with_csv/IXI/sub-IXI065/ses-1/run-1/anat/sub-IXI065_acq-Philips-1.5T_mni_registered_T1w.nii  \n",
            "  inflating: ../data/T1w_Processed_IXI_with_csv/IXI/sub-IXI065/ses-1/run-1/anat/sub-IXI065_acq-Philips-1.5T_segmask_mni_registered_T1w.nii  \n",
            "  inflating: ../data/T1w_Processed_IXI_with_csv/IXI/sub-IXI066/ses-1/run-1/anat/sub-IXI066_acq-Philips-1.5T_mni_registered_T1w.nii  \n",
            "  inflating: ../data/T1w_Processed_IXI_with_csv/IXI/sub-IXI066/ses-1/run-1/anat/sub-IXI066_acq-Philips-1.5T_segmask_mni_registered_T1w.nii  \n",
            "  inflating: ../data/T1w_Processed_IXI_with_csv/IXI/sub-IXI067/ses-1/run-1/anat/sub-IXI067_acq-Philips-3.0T_mni_registered_T1w.nii  \n",
            "  inflating: ../data/T1w_Processed_IXI_with_csv/IXI/sub-IXI067/ses-1/run-1/anat/sub-IXI067_acq-Philips-3.0T_segmask_mni_registered_T1w.nii  \n",
            "  inflating: ../data/T1w_Processed_IXI_with_csv/IXI/sub-IXI068/ses-1/run-1/anat/sub-IXI068_acq-Philips-1.5T_mni_registered_T1w.nii  \n",
            "  inflating: ../data/T1w_Processed_IXI_with_csv/IXI/sub-IXI068/ses-1/run-1/anat/sub-IXI068_acq-Philips-1.5T_segmask_mni_registered_T1w.nii  \n",
            "  inflating: ../data/T1w_Processed_IXI_with_csv/IXI/sub-IXI069/ses-1/run-1/anat/sub-IXI069_acq-Philips-1.5T_mni_registered_T1w.nii  \n",
            "  inflating: ../data/T1w_Processed_IXI_with_csv/IXI/sub-IXI069/ses-1/run-1/anat/sub-IXI069_acq-Philips-1.5T_segmask_mni_registered_T1w.nii  \n",
            "  inflating: ../data/T1w_Processed_IXI_with_csv/IXI/sub-IXI070/ses-1/run-1/anat/sub-IXI070_acq-Philips-1.5T_mni_registered_T1w.nii  \n",
            "  inflating: ../data/T1w_Processed_IXI_with_csv/IXI/sub-IXI070/ses-1/run-1/anat/sub-IXI070_acq-Philips-1.5T_segmask_mni_registered_T1w.nii  \n",
            "  inflating: ../data/T1w_Processed_IXI_with_csv/IXI/sub-IXI071/ses-1/run-1/anat/sub-IXI071_acq-Philips-1.5T_mni_registered_T1w.nii  \n",
            "  inflating: ../data/T1w_Processed_IXI_with_csv/IXI/sub-IXI071/ses-1/run-1/anat/sub-IXI071_acq-Philips-1.5T_segmask_mni_registered_T1w.nii  \n",
            "  inflating: ../data/T1w_Processed_IXI_with_csv/IXI/sub-IXI072/ses-1/run-1/anat/sub-IXI072_acq-Philips-3.0T_mni_registered_T1w.nii  \n",
            "  inflating: ../data/T1w_Processed_IXI_with_csv/IXI/sub-IXI072/ses-1/run-1/anat/sub-IXI072_acq-Philips-3.0T_segmask_mni_registered_T1w.nii  \n",
            "  inflating: ../data/T1w_Processed_IXI_with_csv/IXI/sub-IXI073/ses-1/run-1/anat/sub-IXI073_acq-Philips-1.5T_mni_registered_T1w.nii  \n",
            "  inflating: ../data/T1w_Processed_IXI_with_csv/IXI/sub-IXI073/ses-1/run-1/anat/sub-IXI073_acq-Philips-1.5T_segmask_mni_registered_T1w.nii  \n",
            "  inflating: ../data/T1w_Processed_IXI_with_csv/IXI/sub-IXI074/ses-1/run-1/anat/sub-IXI074_acq-Philips-1.5T_mni_registered_T1w.nii  \n",
            "  inflating: ../data/T1w_Processed_IXI_with_csv/IXI/sub-IXI074/ses-1/run-1/anat/sub-IXI074_acq-Philips-1.5T_segmask_mni_registered_T1w.nii  \n",
            "  inflating: ../data/T1w_Processed_IXI_with_csv/IXI/sub-IXI075/ses-1/run-1/anat/sub-IXI075_acq-Philips-1.5T_mni_registered_T1w.nii  \n",
            "  inflating: ../data/T1w_Processed_IXI_with_csv/IXI/sub-IXI075/ses-1/run-1/anat/sub-IXI075_acq-Philips-1.5T_segmask_mni_registered_T1w.nii  \n",
            "  inflating: ../data/T1w_Processed_IXI_with_csv/IXI/sub-IXI076/ses-1/run-1/anat/sub-IXI076_acq-Philips-1.5T_mni_registered_T1w.nii  \n",
            "  inflating: ../data/T1w_Processed_IXI_with_csv/IXI/sub-IXI076/ses-1/run-1/anat/sub-IXI076_acq-Philips-1.5T_segmask_mni_registered_T1w.nii  \n",
            "  inflating: ../data/T1w_Processed_IXI_with_csv/IXI/sub-IXI077/ses-1/run-1/anat/sub-IXI077_acq-Philips-1.5T_mni_registered_T1w.nii  \n",
            "  inflating: ../data/T1w_Processed_IXI_with_csv/IXI/sub-IXI077/ses-1/run-1/anat/sub-IXI077_acq-Philips-1.5T_segmask_mni_registered_T1w.nii  \n",
            "  inflating: ../data/T1w_Processed_IXI_with_csv/IXI/sub-IXI078/ses-1/run-1/anat/sub-IXI078_acq-Philips-1.5T_mni_registered_T1w.nii  \n",
            "  inflating: ../data/T1w_Processed_IXI_with_csv/IXI/sub-IXI078/ses-1/run-1/anat/sub-IXI078_acq-Philips-1.5T_segmask_mni_registered_T1w.nii  \n",
            "  inflating: ../data/T1w_Processed_IXI_with_csv/IXI/sub-IXI079/ses-1/run-1/anat/sub-IXI079_acq-Philips-3.0T_mni_registered_T1w.nii  \n",
            "  inflating: ../data/T1w_Processed_IXI_with_csv/IXI/sub-IXI079/ses-1/run-1/anat/sub-IXI079_acq-Philips-3.0T_segmask_mni_registered_T1w.nii  \n",
            "  inflating: ../data/T1w_Processed_IXI_with_csv/IXI/sub-IXI080/ses-1/run-1/anat/sub-IXI080_acq-Philips-3.0T_mni_registered_T1w.nii  \n",
            "  inflating: ../data/T1w_Processed_IXI_with_csv/IXI/sub-IXI080/ses-1/run-1/anat/sub-IXI080_acq-Philips-3.0T_segmask_mni_registered_T1w.nii  \n",
            "  inflating: ../data/T1w_Processed_IXI_with_csv/IXI/sub-IXI081/ses-1/run-1/anat/sub-IXI081_acq-Philips-1.5T_mni_registered_T1w.nii  \n",
            "  inflating: ../data/T1w_Processed_IXI_with_csv/IXI/sub-IXI081/ses-1/run-1/anat/sub-IXI081_acq-Philips-1.5T_segmask_mni_registered_T1w.nii  \n",
            "  inflating: ../data/T1w_Processed_IXI_with_csv/IXI/sub-IXI083/ses-1/run-1/anat/sub-IXI083_acq-Philips-3.0T_mni_registered_T1w.nii  \n",
            "  inflating: ../data/T1w_Processed_IXI_with_csv/IXI/sub-IXI083/ses-1/run-1/anat/sub-IXI083_acq-Philips-3.0T_segmask_mni_registered_T1w.nii  \n",
            "  inflating: ../data/T1w_Processed_IXI_with_csv/IXI/sub-IXI084/ses-1/run-1/anat/sub-IXI084_acq-Philips-1.5T_mni_registered_T1w.nii  \n",
            "  inflating: ../data/T1w_Processed_IXI_with_csv/IXI/sub-IXI084/ses-1/run-1/anat/sub-IXI084_acq-Philips-1.5T_segmask_mni_registered_T1w.nii  \n",
            "  inflating: ../data/T1w_Processed_IXI_with_csv/IXI/sub-IXI085/ses-1/run-1/anat/sub-IXI085_acq-Philips-1.5T_mni_registered_T1w.nii  \n",
            "  inflating: ../data/T1w_Processed_IXI_with_csv/IXI/sub-IXI085/ses-1/run-1/anat/sub-IXI085_acq-Philips-1.5T_segmask_mni_registered_T1w.nii  \n",
            "  inflating: ../data/T1w_Processed_IXI_with_csv/IXI/sub-IXI086/ses-1/run-1/anat/sub-IXI086_acq-Philips-1.5T_mni_registered_T1w.nii  \n",
            "  inflating: ../data/T1w_Processed_IXI_with_csv/IXI/sub-IXI086/ses-1/run-1/anat/sub-IXI086_acq-Philips-1.5T_segmask_mni_registered_T1w.nii  \n",
            "  inflating: ../data/T1w_Processed_IXI_with_csv/IXI/sub-IXI087/ses-1/run-1/anat/sub-IXI087_acq-Philips-1.5T_mni_registered_T1w.nii  \n",
            "  inflating: ../data/T1w_Processed_IXI_with_csv/IXI/sub-IXI087/ses-1/run-1/anat/sub-IXI087_acq-Philips-1.5T_segmask_mni_registered_T1w.nii  \n",
            "  inflating: ../data/T1w_Processed_IXI_with_csv/IXI/sub-IXI088/ses-1/run-1/anat/sub-IXI088_acq-Philips-1.5T_mni_registered_T1w.nii  \n",
            "  inflating: ../data/T1w_Processed_IXI_with_csv/IXI/sub-IXI088/ses-1/run-1/anat/sub-IXI088_acq-Philips-1.5T_segmask_mni_registered_T1w.nii  \n",
            "  inflating: ../data/T1w_Processed_IXI_with_csv/IXI/sub-IXI089/ses-1/run-1/anat/sub-IXI089_acq-Philips-1.5T_mni_registered_T1w.nii  \n",
            "  inflating: ../data/T1w_Processed_IXI_with_csv/IXI/sub-IXI089/ses-1/run-1/anat/sub-IXI089_acq-Philips-1.5T_segmask_mni_registered_T1w.nii  \n",
            "  inflating: ../data/T1w_Processed_IXI_with_csv/IXI/sub-IXI090/ses-1/run-1/anat/sub-IXI090_acq-Philips-1.5T_mni_registered_T1w.nii  \n",
            "  inflating: ../data/T1w_Processed_IXI_with_csv/IXI/sub-IXI090/ses-1/run-1/anat/sub-IXI090_acq-Philips-1.5T_segmask_mni_registered_T1w.nii  \n",
            "  inflating: ../data/T1w_Processed_IXI_with_csv/IXI/sub-IXI091/ses-1/run-1/anat/sub-IXI091_acq-Philips-1.5T_mni_registered_T1w.nii  \n",
            "  inflating: ../data/T1w_Processed_IXI_with_csv/IXI/sub-IXI091/ses-1/run-1/anat/sub-IXI091_acq-Philips-1.5T_segmask_mni_registered_T1w.nii  \n",
            "  inflating: ../data/T1w_Processed_IXI_with_csv/IXI/sub-IXI092/ses-1/run-1/anat/sub-IXI092_acq-Philips-3.0T_mni_registered_T1w.nii  \n",
            "  inflating: ../data/T1w_Processed_IXI_with_csv/IXI/sub-IXI092/ses-1/run-1/anat/sub-IXI092_acq-Philips-3.0T_segmask_mni_registered_T1w.nii  \n",
            "  inflating: ../data/T1w_Processed_IXI_with_csv/IXI/sub-IXI093/ses-1/run-1/anat/sub-IXI093_acq-Philips-3.0T_mni_registered_T1w.nii  \n",
            "  inflating: ../data/T1w_Processed_IXI_with_csv/IXI/sub-IXI093/ses-1/run-1/anat/sub-IXI093_acq-Philips-3.0T_segmask_mni_registered_T1w.nii  \n",
            "  inflating: ../data/T1w_Processed_IXI_with_csv/IXI/sub-IXI094/ses-1/run-1/anat/sub-IXI094_acq-Philips-3.0T_mni_registered_T1w.nii  \n",
            "  inflating: ../data/T1w_Processed_IXI_with_csv/IXI/sub-IXI094/ses-1/run-1/anat/sub-IXI094_acq-Philips-3.0T_segmask_mni_registered_T1w.nii  \n",
            "  inflating: ../data/T1w_Processed_IXI_with_csv/IXI/sub-IXI095/ses-1/run-1/anat/sub-IXI095_acq-Philips-3.0T_mni_registered_T1w.nii  \n",
            "  inflating: ../data/T1w_Processed_IXI_with_csv/IXI/sub-IXI095/ses-1/run-1/anat/sub-IXI095_acq-Philips-3.0T_segmask_mni_registered_T1w.nii  \n",
            "  inflating: ../data/T1w_Processed_IXI_with_csv/IXI/sub-IXI096/ses-1/run-1/anat/sub-IXI096_acq-Philips-3.0T_mni_registered_T1w.nii  \n",
            "  inflating: ../data/T1w_Processed_IXI_with_csv/IXI/sub-IXI096/ses-1/run-1/anat/sub-IXI096_acq-Philips-3.0T_segmask_mni_registered_T1w.nii  \n",
            "  inflating: ../data/T1w_Processed_IXI_with_csv/IXI/sub-IXI097/ses-1/run-1/anat/sub-IXI097_acq-Philips-3.0T_mni_registered_T1w.nii  \n",
            "  inflating: ../data/T1w_Processed_IXI_with_csv/IXI/sub-IXI097/ses-1/run-1/anat/sub-IXI097_acq-Philips-3.0T_segmask_mni_registered_T1w.nii  \n",
            "  inflating: ../data/T1w_Processed_IXI_with_csv/IXI/sub-IXI098/ses-1/run-1/anat/sub-IXI098_acq-Philips-1.5T_mni_registered_T1w.nii  \n",
            "  inflating: ../data/T1w_Processed_IXI_with_csv/IXI/sub-IXI098/ses-1/run-1/anat/sub-IXI098_acq-Philips-1.5T_segmask_mni_registered_T1w.nii  \n",
            "  inflating: ../data/T1w_Processed_IXI_with_csv/IXI/sub-IXI099/ses-1/run-1/anat/sub-IXI099_acq-Philips-1.5T_mni_registered_T1w.nii  \n",
            "  inflating: ../data/T1w_Processed_IXI_with_csv/IXI/sub-IXI099/ses-1/run-1/anat/sub-IXI099_acq-Philips-1.5T_segmask_mni_registered_T1w.nii  \n",
            "  inflating: ../data/T1w_Processed_IXI_with_csv/IXI/sub-IXI100/ses-1/run-1/anat/sub-IXI100_acq-Philips-1.5T_mni_registered_T1w.nii  \n",
            "  inflating: ../data/T1w_Processed_IXI_with_csv/IXI/sub-IXI100/ses-1/run-1/anat/sub-IXI100_acq-Philips-1.5T_segmask_mni_registered_T1w.nii  \n",
            "  inflating: ../data/T1w_Processed_IXI_with_csv/IXI/sub-IXI101/ses-1/run-1/anat/sub-IXI101_acq-Philips-1.5T_mni_registered_T1w.nii  \n",
            "  inflating: ../data/T1w_Processed_IXI_with_csv/IXI/sub-IXI101/ses-1/run-1/anat/sub-IXI101_acq-Philips-1.5T_segmask_mni_registered_T1w.nii  \n",
            "  inflating: ../data/T1w_Processed_IXI_with_csv/IXI/sub-IXI102/ses-1/run-1/anat/sub-IXI102_acq-Philips-3.0T_mni_registered_T1w.nii  \n",
            "  inflating: ../data/T1w_Processed_IXI_with_csv/IXI/sub-IXI102/ses-1/run-1/anat/sub-IXI102_acq-Philips-3.0T_segmask_mni_registered_T1w.nii  \n",
            "  inflating: ../data/T1w_Processed_IXI_with_csv/IXI/sub-IXI103/ses-1/run-1/anat/sub-IXI103_acq-Philips-1.5T_mni_registered_T1w.nii  \n",
            "  inflating: ../data/T1w_Processed_IXI_with_csv/IXI/sub-IXI103/ses-1/run-1/anat/sub-IXI103_acq-Philips-1.5T_segmask_mni_registered_T1w.nii  \n",
            "  inflating: ../data/T1w_Processed_IXI_with_csv/IXI/sub-IXI104/ses-1/run-1/anat/sub-IXI104_acq-Philips-3.0T_mni_registered_T1w.nii  \n",
            "  inflating: ../data/T1w_Processed_IXI_with_csv/IXI/sub-IXI104/ses-1/run-1/anat/sub-IXI104_acq-Philips-3.0T_segmask_mni_registered_T1w.nii  \n",
            "  inflating: ../data/T1w_Processed_IXI_with_csv/IXI/sub-IXI105/ses-1/run-1/anat/sub-IXI105_acq-Philips-3.0T_mni_registered_T1w.nii  \n",
            "  inflating: ../data/T1w_Processed_IXI_with_csv/IXI/sub-IXI105/ses-1/run-1/anat/sub-IXI105_acq-Philips-3.0T_segmask_mni_registered_T1w.nii  \n",
            "  inflating: ../data/T1w_Processed_IXI_with_csv/IXI/sub-IXI106/ses-1/run-1/anat/sub-IXI106_acq-Philips-1.5T_mni_registered_T1w.nii  \n",
            "  inflating: ../data/T1w_Processed_IXI_with_csv/IXI/sub-IXI106/ses-1/run-1/anat/sub-IXI106_acq-Philips-1.5T_segmask_mni_registered_T1w.nii  \n",
            "  inflating: ../data/T1w_Processed_IXI_with_csv/IXI/sub-IXI107/ses-1/run-1/anat/sub-IXI107_acq-Philips-1.5T_mni_registered_T1w.nii  \n",
            "  inflating: ../data/T1w_Processed_IXI_with_csv/IXI/sub-IXI107/ses-1/run-1/anat/sub-IXI107_acq-Philips-1.5T_segmask_mni_registered_T1w.nii  \n",
            "  inflating: ../data/T1w_Processed_IXI_with_csv/IXI/sub-IXI108/ses-1/run-1/anat/sub-IXI108_acq-Philips-1.5T_mni_registered_T1w.nii  \n",
            "  inflating: ../data/T1w_Processed_IXI_with_csv/IXI/sub-IXI108/ses-1/run-1/anat/sub-IXI108_acq-Philips-1.5T_segmask_mni_registered_T1w.nii  \n",
            "  inflating: ../data/T1w_Processed_IXI_with_csv/IXI/sub-IXI109/ses-1/run-1/anat/sub-IXI109_acq-Philips-1.5T_mni_registered_T1w.nii  \n",
            "  inflating: ../data/T1w_Processed_IXI_with_csv/IXI/sub-IXI109/ses-1/run-1/anat/sub-IXI109_acq-Philips-1.5T_segmask_mni_registered_T1w.nii  \n",
            "  inflating: ../data/T1w_Processed_IXI_with_csv/IXI/sub-IXI110/ses-1/run-1/anat/sub-IXI110_acq-Philips-1.5T_mni_registered_T1w.nii  \n",
            "  inflating: ../data/T1w_Processed_IXI_with_csv/IXI/sub-IXI110/ses-1/run-1/anat/sub-IXI110_acq-Philips-1.5T_segmask_mni_registered_T1w.nii  \n",
            "  inflating: ../data/T1w_Processed_IXI_with_csv/IXI/sub-IXI111/ses-1/run-1/anat/sub-IXI111_acq-Philips-1.5T_mni_registered_T1w.nii  \n",
            "  inflating: ../data/T1w_Processed_IXI_with_csv/IXI/sub-IXI111/ses-1/run-1/anat/sub-IXI111_acq-Philips-1.5T_segmask_mni_registered_T1w.nii  \n",
            "  inflating: ../data/T1w_Processed_IXI_with_csv/IXI/sub-IXI112/ses-1/run-1/anat/sub-IXI112_acq-Philips-1.5T_mni_registered_T1w.nii  \n",
            "  inflating: ../data/T1w_Processed_IXI_with_csv/IXI/sub-IXI112/ses-1/run-1/anat/sub-IXI112_acq-Philips-1.5T_segmask_mni_registered_T1w.nii  \n",
            "  inflating: ../data/T1w_Processed_IXI_with_csv/IXI/sub-IXI113/ses-1/run-1/anat/sub-IXI113_acq-Philips-1.5T_mni_registered_T1w.nii  \n",
            "  inflating: ../data/T1w_Processed_IXI_with_csv/IXI/sub-IXI113/ses-1/run-1/anat/sub-IXI113_acq-Philips-1.5T_segmask_mni_registered_T1w.nii  \n",
            "  inflating: ../data/T1w_Processed_IXI_with_csv/IXI/sub-IXI114/ses-1/run-1/anat/sub-IXI114_acq-Philips-1.5T_mni_registered_T1w.nii  \n",
            "  inflating: ../data/T1w_Processed_IXI_with_csv/IXI/sub-IXI114/ses-1/run-1/anat/sub-IXI114_acq-Philips-1.5T_segmask_mni_registered_T1w.nii  \n",
            "  inflating: ../data/T1w_Processed_IXI_with_csv/IXI/sub-IXI115/ses-1/run-1/anat/sub-IXI115_acq-Philips-1.5T_mni_registered_T1w.nii  \n",
            "  inflating: ../data/T1w_Processed_IXI_with_csv/IXI/sub-IXI115/ses-1/run-1/anat/sub-IXI115_acq-Philips-1.5T_segmask_mni_registered_T1w.nii  \n",
            "  inflating: ../data/T1w_Processed_IXI_with_csv/IXI/sub-IXI116/ses-1/run-1/anat/sub-IXI116_acq-Philips-1.5T_mni_registered_T1w.nii  \n",
            "  inflating: ../data/T1w_Processed_IXI_with_csv/IXI/sub-IXI116/ses-1/run-1/anat/sub-IXI116_acq-Philips-1.5T_segmask_mni_registered_T1w.nii  \n",
            "  inflating: ../data/T1w_Processed_IXI_with_csv/IXI/sub-IXI117/ses-1/run-1/anat/sub-IXI117_acq-Philips-1.5T_mni_registered_T1w.nii  \n",
            "  inflating: ../data/T1w_Processed_IXI_with_csv/IXI/sub-IXI117/ses-1/run-1/anat/sub-IXI117_acq-Philips-1.5T_segmask_mni_registered_T1w.nii  \n",
            "  inflating: ../data/T1w_Processed_IXI_with_csv/IXI/sub-IXI118/ses-1/run-1/anat/sub-IXI118_acq-Philips-1.5T_mni_registered_T1w.nii  \n",
            "  inflating: ../data/T1w_Processed_IXI_with_csv/IXI/sub-IXI118/ses-1/run-1/anat/sub-IXI118_acq-Philips-1.5T_segmask_mni_registered_T1w.nii  \n",
            "  inflating: ../data/T1w_Processed_IXI_with_csv/IXI/sub-IXI119/ses-1/run-1/anat/sub-IXI119_acq-Philips-1.5T_mni_registered_T1w.nii  \n",
            "  inflating: ../data/T1w_Processed_IXI_with_csv/IXI/sub-IXI119/ses-1/run-1/anat/sub-IXI119_acq-Philips-1.5T_segmask_mni_registered_T1w.nii  \n",
            "  inflating: ../data/T1w_Processed_IXI_with_csv/IXI/sub-IXI120/ses-1/run-1/anat/sub-IXI120_acq-Philips-1.5T_mni_registered_T1w.nii  \n",
            "  inflating: ../data/T1w_Processed_IXI_with_csv/IXI/sub-IXI120/ses-1/run-1/anat/sub-IXI120_acq-Philips-1.5T_segmask_mni_registered_T1w.nii  \n",
            "  inflating: ../data/T1w_Processed_IXI_with_csv/IXI/sub-IXI121/ses-1/run-1/anat/sub-IXI121_acq-Philips-1.5T_mni_registered_T1w.nii  \n",
            "  inflating: ../data/T1w_Processed_IXI_with_csv/IXI/sub-IXI121/ses-1/run-1/anat/sub-IXI121_acq-Philips-1.5T_segmask_mni_registered_T1w.nii  \n",
            "  inflating: ../data/T1w_Processed_IXI_with_csv/IXI/sub-IXI122/ses-1/run-1/anat/sub-IXI122_acq-Philips-1.5T_mni_registered_T1w.nii  \n",
            "  inflating: ../data/T1w_Processed_IXI_with_csv/IXI/sub-IXI122/ses-1/run-1/anat/sub-IXI122_acq-Philips-1.5T_segmask_mni_registered_T1w.nii  \n",
            "  inflating: ../data/T1w_Processed_IXI_with_csv/IXI/sub-IXI123/ses-1/run-1/anat/sub-IXI123_acq-Philips-1.5T_mni_registered_T1w.nii  \n",
            "  inflating: ../data/T1w_Processed_IXI_with_csv/IXI/sub-IXI123/ses-1/run-1/anat/sub-IXI123_acq-Philips-1.5T_segmask_mni_registered_T1w.nii  \n",
            "  inflating: ../data/T1w_Processed_IXI_with_csv/IXI/sub-IXI126/ses-1/run-1/anat/sub-IXI126_acq-Philips-3.0T_mni_registered_T1w.nii  \n",
            "  inflating: ../data/T1w_Processed_IXI_with_csv/IXI/sub-IXI126/ses-1/run-1/anat/sub-IXI126_acq-Philips-3.0T_segmask_mni_registered_T1w.nii  \n",
            "  inflating: ../data/T1w_Processed_IXI_with_csv/IXI/sub-IXI127/ses-1/run-1/anat/sub-IXI127_acq-Philips-3.0T_mni_registered_T1w.nii  \n",
            "  inflating: ../data/T1w_Processed_IXI_with_csv/IXI/sub-IXI127/ses-1/run-1/anat/sub-IXI127_acq-Philips-3.0T_segmask_mni_registered_T1w.nii  \n",
            "  inflating: ../data/T1w_Processed_IXI_with_csv/IXI/sub-IXI128/ses-1/run-1/anat/sub-IXI128_acq-Philips-3.0T_mni_registered_T1w.nii  \n",
            "  inflating: ../data/T1w_Processed_IXI_with_csv/IXI/sub-IXI128/ses-1/run-1/anat/sub-IXI128_acq-Philips-3.0T_segmask_mni_registered_T1w.nii  \n",
            "  inflating: ../data/T1w_Processed_IXI_with_csv/IXI/sub-IXI129/ses-1/run-1/anat/sub-IXI129_acq-Philips-1.5T_mni_registered_T1w.nii  \n",
            "  inflating: ../data/T1w_Processed_IXI_with_csv/IXI/sub-IXI129/ses-1/run-1/anat/sub-IXI129_acq-Philips-1.5T_segmask_mni_registered_T1w.nii  \n",
            "  inflating: ../data/T1w_Processed_IXI_with_csv/IXI/sub-IXI130/ses-1/run-1/anat/sub-IXI130_acq-Philips-3.0T_mni_registered_T1w.nii  \n",
            "  inflating: ../data/T1w_Processed_IXI_with_csv/IXI/sub-IXI130/ses-1/run-1/anat/sub-IXI130_acq-Philips-3.0T_segmask_mni_registered_T1w.nii  \n",
            "  inflating: ../data/T1w_Processed_IXI_with_csv/IXI/sub-IXI131/ses-1/run-1/anat/sub-IXI131_acq-Philips-3.0T_mni_registered_T1w.nii  \n",
            "  inflating: ../data/T1w_Processed_IXI_with_csv/IXI/sub-IXI131/ses-1/run-1/anat/sub-IXI131_acq-Philips-3.0T_segmask_mni_registered_T1w.nii  \n",
            "  inflating: ../data/T1w_Processed_IXI_with_csv/IXI/sub-IXI132/ses-1/run-1/anat/sub-IXI132_acq-Philips-3.0T_mni_registered_T1w.nii  \n",
            "  inflating: ../data/T1w_Processed_IXI_with_csv/IXI/sub-IXI132/ses-1/run-1/anat/sub-IXI132_acq-Philips-3.0T_segmask_mni_registered_T1w.nii  \n",
            "  inflating: ../data/T1w_Processed_IXI_with_csv/IXI/sub-IXI134/ses-1/run-1/anat/sub-IXI134_acq-Philips-1.5T_mni_registered_T1w.nii  \n",
            "  inflating: ../data/T1w_Processed_IXI_with_csv/IXI/sub-IXI134/ses-1/run-1/anat/sub-IXI134_acq-Philips-1.5T_segmask_mni_registered_T1w.nii  \n",
            "  inflating: ../data/T1w_Processed_IXI_with_csv/IXI/sub-IXI135/ses-1/run-1/anat/sub-IXI135_acq-Philips-1.5T_mni_registered_T1w.nii  \n",
            "  inflating: ../data/T1w_Processed_IXI_with_csv/IXI/sub-IXI135/ses-1/run-1/anat/sub-IXI135_acq-Philips-1.5T_segmask_mni_registered_T1w.nii  \n",
            "  inflating: ../data/T1w_Processed_IXI_with_csv/IXI/sub-IXI136/ses-1/run-1/anat/sub-IXI136_acq-Philips-3.0T_mni_registered_T1w.nii  \n",
            "  inflating: ../data/T1w_Processed_IXI_with_csv/IXI/sub-IXI136/ses-1/run-1/anat/sub-IXI136_acq-Philips-3.0T_segmask_mni_registered_T1w.nii  \n",
            "  inflating: ../data/T1w_Processed_IXI_with_csv/IXI/sub-IXI137/ses-1/run-1/anat/sub-IXI137_acq-Philips-3.0T_mni_registered_T1w.nii  \n",
            "  inflating: ../data/T1w_Processed_IXI_with_csv/IXI/sub-IXI137/ses-1/run-1/anat/sub-IXI137_acq-Philips-3.0T_segmask_mni_registered_T1w.nii  \n",
            "  inflating: ../data/T1w_Processed_IXI_with_csv/IXI/sub-IXI138/ses-1/run-1/anat/sub-IXI138_acq-Philips-1.5T_mni_registered_T1w.nii  \n",
            "  inflating: ../data/T1w_Processed_IXI_with_csv/IXI/sub-IXI138/ses-1/run-1/anat/sub-IXI138_acq-Philips-1.5T_segmask_mni_registered_T1w.nii  \n",
            "  inflating: ../data/T1w_Processed_IXI_with_csv/IXI/sub-IXI139/ses-1/run-1/anat/sub-IXI139_acq-Philips-1.5T_mni_registered_T1w.nii  \n",
            "  inflating: ../data/T1w_Processed_IXI_with_csv/IXI/sub-IXI139/ses-1/run-1/anat/sub-IXI139_acq-Philips-1.5T_segmask_mni_registered_T1w.nii  \n",
            "  inflating: ../data/T1w_Processed_IXI_with_csv/IXI/sub-IXI140/ses-1/run-1/anat/sub-IXI140_acq-Philips-1.5T_mni_registered_T1w.nii  \n",
            "  inflating: ../data/T1w_Processed_IXI_with_csv/IXI/sub-IXI140/ses-1/run-1/anat/sub-IXI140_acq-Philips-1.5T_segmask_mni_registered_T1w.nii  \n",
            "  inflating: ../data/T1w_Processed_IXI_with_csv/IXI/sub-IXI141/ses-1/run-1/anat/sub-IXI141_acq-Philips-1.5T_mni_registered_T1w.nii  \n",
            "  inflating: ../data/T1w_Processed_IXI_with_csv/IXI/sub-IXI141/ses-1/run-1/anat/sub-IXI141_acq-Philips-1.5T_segmask_mni_registered_T1w.nii  \n",
            "  inflating: ../data/T1w_Processed_IXI_with_csv/IXI/sub-IXI142/ses-1/run-1/anat/sub-IXI142_acq-Philips-1.5T_mni_registered_T1w.nii  \n",
            "  inflating: ../data/T1w_Processed_IXI_with_csv/IXI/sub-IXI142/ses-1/run-1/anat/sub-IXI142_acq-Philips-1.5T_segmask_mni_registered_T1w.nii  \n",
            "  inflating: ../data/T1w_Processed_IXI_with_csv/IXI/sub-IXI143/ses-1/run-1/anat/sub-IXI143_acq-Philips-1.5T_mni_registered_T1w.nii  \n",
            "  inflating: ../data/T1w_Processed_IXI_with_csv/IXI/sub-IXI143/ses-1/run-1/anat/sub-IXI143_acq-Philips-1.5T_segmask_mni_registered_T1w.nii  \n",
            "  inflating: ../data/T1w_Processed_IXI_with_csv/IXI/sub-IXI144/ses-1/run-1/anat/sub-IXI144_acq-Philips-1.5T_mni_registered_T1w.nii  \n",
            "  inflating: ../data/T1w_Processed_IXI_with_csv/IXI/sub-IXI144/ses-1/run-1/anat/sub-IXI144_acq-Philips-1.5T_segmask_mni_registered_T1w.nii  \n",
            "  inflating: ../data/T1w_Processed_IXI_with_csv/IXI/sub-IXI145/ses-1/run-1/anat/sub-IXI145_acq-Philips-1.5T_mni_registered_T1w.nii  \n",
            "  inflating: ../data/T1w_Processed_IXI_with_csv/IXI/sub-IXI145/ses-1/run-1/anat/sub-IXI145_acq-Philips-1.5T_segmask_mni_registered_T1w.nii  \n",
            "  inflating: ../data/T1w_Processed_IXI_with_csv/IXI/sub-IXI146/ses-1/run-1/anat/sub-IXI146_acq-Philips-3.0T_mni_registered_T1w.nii  \n",
            "  inflating: ../data/T1w_Processed_IXI_with_csv/IXI/sub-IXI146/ses-1/run-1/anat/sub-IXI146_acq-Philips-3.0T_segmask_mni_registered_T1w.nii  \n",
            "  inflating: ../data/T1w_Processed_IXI_with_csv/IXI/sub-IXI148/ses-1/run-1/anat/sub-IXI148_acq-Philips-3.0T_mni_registered_T1w.nii  \n",
            "  inflating: ../data/T1w_Processed_IXI_with_csv/IXI/sub-IXI148/ses-1/run-1/anat/sub-IXI148_acq-Philips-3.0T_segmask_mni_registered_T1w.nii  \n",
            "  inflating: ../data/T1w_Processed_IXI_with_csv/IXI/sub-IXI150/ses-1/run-1/anat/sub-IXI150_acq-Philips-3.0T_mni_registered_T1w.nii  \n",
            "  inflating: ../data/T1w_Processed_IXI_with_csv/IXI/sub-IXI150/ses-1/run-1/anat/sub-IXI150_acq-Philips-3.0T_segmask_mni_registered_T1w.nii  \n",
            "  inflating: ../data/T1w_Processed_IXI_with_csv/IXI/sub-IXI151/ses-1/run-1/anat/sub-IXI151_acq-Philips-1.5T_mni_registered_T1w.nii  \n",
            "  inflating: ../data/T1w_Processed_IXI_with_csv/IXI/sub-IXI151/ses-1/run-1/anat/sub-IXI151_acq-Philips-1.5T_segmask_mni_registered_T1w.nii  \n",
            "  inflating: ../data/T1w_Processed_IXI_with_csv/IXI/sub-IXI153/ses-1/run-1/anat/sub-IXI153_acq-Philips-1.5T_mni_registered_T1w.nii  \n",
            "  inflating: ../data/T1w_Processed_IXI_with_csv/IXI/sub-IXI153/ses-1/run-1/anat/sub-IXI153_acq-Philips-1.5T_segmask_mni_registered_T1w.nii  \n",
            "  inflating: ../data/T1w_Processed_IXI_with_csv/IXI/sub-IXI154/ses-1/run-1/anat/sub-IXI154_acq-Philips-1.5T_mni_registered_T1w.nii  \n",
            "  inflating: ../data/T1w_Processed_IXI_with_csv/IXI/sub-IXI154/ses-1/run-1/anat/sub-IXI154_acq-Philips-1.5T_segmask_mni_registered_T1w.nii  \n",
            "  inflating: ../data/T1w_Processed_IXI_with_csv/IXI/sub-IXI156/ses-1/run-1/anat/sub-IXI156_acq-Philips-1.5T_mni_registered_T1w.nii  \n",
            "  inflating: ../data/T1w_Processed_IXI_with_csv/IXI/sub-IXI156/ses-1/run-1/anat/sub-IXI156_acq-Philips-1.5T_segmask_mni_registered_T1w.nii  \n",
            "  inflating: ../data/T1w_Processed_IXI_with_csv/IXI/sub-IXI157/ses-1/run-1/anat/sub-IXI157_acq-Philips-1.5T_mni_registered_T1w.nii  \n",
            "  inflating: ../data/T1w_Processed_IXI_with_csv/IXI/sub-IXI157/ses-1/run-1/anat/sub-IXI157_acq-Philips-1.5T_segmask_mni_registered_T1w.nii  \n",
            "  inflating: ../data/T1w_Processed_IXI_with_csv/IXI/sub-IXI158/ses-1/run-1/anat/sub-IXI158_acq-Philips-1.5T_mni_registered_T1w.nii  \n",
            "  inflating: ../data/T1w_Processed_IXI_with_csv/IXI/sub-IXI158/ses-1/run-1/anat/sub-IXI158_acq-Philips-1.5T_segmask_mni_registered_T1w.nii  \n",
            "  inflating: ../data/T1w_Processed_IXI_with_csv/IXI/sub-IXI159/ses-1/run-1/anat/sub-IXI159_acq-Philips-3.0T_mni_registered_T1w.nii  \n",
            "  inflating: ../data/T1w_Processed_IXI_with_csv/IXI/sub-IXI159/ses-1/run-1/anat/sub-IXI159_acq-Philips-3.0T_segmask_mni_registered_T1w.nii  \n",
            "  inflating: ../data/T1w_Processed_IXI_with_csv/IXI/sub-IXI160/ses-1/run-1/anat/sub-IXI160_acq-Philips-3.0T_mni_registered_T1w.nii  \n",
            "  inflating: ../data/T1w_Processed_IXI_with_csv/IXI/sub-IXI160/ses-1/run-1/anat/sub-IXI160_acq-Philips-3.0T_segmask_mni_registered_T1w.nii  \n",
            "  inflating: ../data/T1w_Processed_IXI_with_csv/IXI/sub-IXI161/ses-1/run-1/anat/sub-IXI161_acq-Philips-3.0T_mni_registered_T1w.nii  \n",
            "  inflating: ../data/T1w_Processed_IXI_with_csv/IXI/sub-IXI161/ses-1/run-1/anat/sub-IXI161_acq-Philips-3.0T_segmask_mni_registered_T1w.nii  \n",
            "  inflating: ../data/T1w_Processed_IXI_with_csv/IXI/sub-IXI162/ses-1/run-1/anat/sub-IXI162_acq-Philips-3.0T_mni_registered_T1w.nii  \n",
            "  inflating: ../data/T1w_Processed_IXI_with_csv/IXI/sub-IXI162/ses-1/run-1/anat/sub-IXI162_acq-Philips-3.0T_segmask_mni_registered_T1w.nii  \n",
            "  inflating: ../data/T1w_Processed_IXI_with_csv/IXI/sub-IXI163/ses-1/run-1/anat/sub-IXI163_acq-Philips-3.0T_mni_registered_T1w.nii  \n",
            "  inflating: ../data/T1w_Processed_IXI_with_csv/IXI/sub-IXI163/ses-1/run-1/anat/sub-IXI163_acq-Philips-3.0T_segmask_mni_registered_T1w.nii  \n",
            "  inflating: ../data/T1w_Processed_IXI_with_csv/IXI/sub-IXI164/ses-1/run-1/anat/sub-IXI164_acq-Philips-1.5T_mni_registered_T1w.nii  \n",
            "  inflating: ../data/T1w_Processed_IXI_with_csv/IXI/sub-IXI164/ses-1/run-1/anat/sub-IXI164_acq-Philips-1.5T_segmask_mni_registered_T1w.nii  \n",
            "  inflating: ../data/T1w_Processed_IXI_with_csv/IXI/sub-IXI165/ses-1/run-1/anat/sub-IXI165_acq-Philips-3.0T_mni_registered_T1w.nii  \n",
            "  inflating: ../data/T1w_Processed_IXI_with_csv/IXI/sub-IXI165/ses-1/run-1/anat/sub-IXI165_acq-Philips-3.0T_segmask_mni_registered_T1w.nii  \n",
            "  inflating: ../data/T1w_Processed_IXI_with_csv/IXI/sub-IXI166/ses-1/run-1/anat/sub-IXI166_acq-Philips-1.5T_mni_registered_T1w.nii  \n",
            "  inflating: ../data/T1w_Processed_IXI_with_csv/IXI/sub-IXI166/ses-1/run-1/anat/sub-IXI166_acq-Philips-1.5T_segmask_mni_registered_T1w.nii  \n",
            "  inflating: ../data/T1w_Processed_IXI_with_csv/IXI/sub-IXI167/ses-1/run-1/anat/sub-IXI167_acq-Philips-3.0T_mni_registered_T1w.nii  \n",
            "  inflating: ../data/T1w_Processed_IXI_with_csv/IXI/sub-IXI167/ses-1/run-1/anat/sub-IXI167_acq-Philips-3.0T_segmask_mni_registered_T1w.nii  \n",
            "  inflating: ../data/T1w_Processed_IXI_with_csv/IXI/sub-IXI168/ses-1/run-1/anat/sub-IXI168_acq-Philips-3.0T_mni_registered_T1w.nii  \n",
            "  inflating: ../data/T1w_Processed_IXI_with_csv/IXI/sub-IXI168/ses-1/run-1/anat/sub-IXI168_acq-Philips-3.0T_segmask_mni_registered_T1w.nii  \n",
            "  inflating: ../data/T1w_Processed_IXI_with_csv/IXI/sub-IXI169/ses-1/run-1/anat/sub-IXI169_acq-Philips-1.5T_mni_registered_T1w.nii  \n",
            "  inflating: ../data/T1w_Processed_IXI_with_csv/IXI/sub-IXI169/ses-1/run-1/anat/sub-IXI169_acq-Philips-1.5T_segmask_mni_registered_T1w.nii  \n",
            "  inflating: ../data/T1w_Processed_IXI_with_csv/IXI/sub-IXI170/ses-1/run-1/anat/sub-IXI170_acq-Philips-1.5T_mni_registered_T1w.nii  \n",
            "  inflating: ../data/T1w_Processed_IXI_with_csv/IXI/sub-IXI170/ses-1/run-1/anat/sub-IXI170_acq-Philips-1.5T_segmask_mni_registered_T1w.nii  \n",
            "  inflating: ../data/T1w_Processed_IXI_with_csv/IXI/sub-IXI172/ses-1/run-1/anat/sub-IXI172_acq-Philips-1.5T_mni_registered_T1w.nii  \n",
            "  inflating: ../data/T1w_Processed_IXI_with_csv/IXI/sub-IXI172/ses-1/run-1/anat/sub-IXI172_acq-Philips-1.5T_segmask_mni_registered_T1w.nii  \n",
            "  inflating: ../data/T1w_Processed_IXI_with_csv/IXI/sub-IXI173/ses-1/run-1/anat/sub-IXI173_acq-Philips-3.0T_mni_registered_T1w.nii  \n",
            "  inflating: ../data/T1w_Processed_IXI_with_csv/IXI/sub-IXI173/ses-1/run-1/anat/sub-IXI173_acq-Philips-3.0T_segmask_mni_registered_T1w.nii  \n",
            "  inflating: ../data/T1w_Processed_IXI_with_csv/IXI/sub-IXI174/ses-1/run-1/anat/sub-IXI174_acq-Philips-3.0T_mni_registered_T1w.nii  \n",
            "  inflating: ../data/T1w_Processed_IXI_with_csv/IXI/sub-IXI174/ses-1/run-1/anat/sub-IXI174_acq-Philips-3.0T_segmask_mni_registered_T1w.nii  \n",
            "  inflating: ../data/T1w_Processed_IXI_with_csv/IXI/sub-IXI175/ses-1/run-1/anat/sub-IXI175_acq-Philips-3.0T_mni_registered_T1w.nii  \n",
            "  inflating: ../data/T1w_Processed_IXI_with_csv/IXI/sub-IXI175/ses-1/run-1/anat/sub-IXI175_acq-Philips-3.0T_segmask_mni_registered_T1w.nii  \n",
            "  inflating: ../data/T1w_Processed_IXI_with_csv/IXI/sub-IXI176/ses-1/run-1/anat/sub-IXI176_acq-Philips-3.0T_mni_registered_T1w.nii  \n",
            "  inflating: ../data/T1w_Processed_IXI_with_csv/IXI/sub-IXI176/ses-1/run-1/anat/sub-IXI176_acq-Philips-3.0T_segmask_mni_registered_T1w.nii  \n",
            "  inflating: ../data/T1w_Processed_IXI_with_csv/IXI/sub-IXI177/ses-1/run-1/anat/sub-IXI177_acq-Philips-1.5T_mni_registered_T1w.nii  \n",
            "  inflating: ../data/T1w_Processed_IXI_with_csv/IXI/sub-IXI177/ses-1/run-1/anat/sub-IXI177_acq-Philips-1.5T_segmask_mni_registered_T1w.nii  \n",
            "  inflating: ../data/T1w_Processed_IXI_with_csv/IXI/sub-IXI178/ses-1/run-1/anat/sub-IXI178_acq-Philips-1.5T_mni_registered_T1w.nii  \n",
            "  inflating: ../data/T1w_Processed_IXI_with_csv/IXI/sub-IXI178/ses-1/run-1/anat/sub-IXI178_acq-Philips-1.5T_segmask_mni_registered_T1w.nii  \n",
            "  inflating: ../data/T1w_Processed_IXI_with_csv/IXI/sub-IXI179/ses-1/run-1/anat/sub-IXI179_acq-Philips-1.5T_mni_registered_T1w.nii  \n",
            "  inflating: ../data/T1w_Processed_IXI_with_csv/IXI/sub-IXI179/ses-1/run-1/anat/sub-IXI179_acq-Philips-1.5T_segmask_mni_registered_T1w.nii  \n",
            "  inflating: ../data/T1w_Processed_IXI_with_csv/IXI/sub-IXI180/ses-1/run-1/anat/sub-IXI180_acq-Philips-3.0T_mni_registered_T1w.nii  \n",
            "  inflating: ../data/T1w_Processed_IXI_with_csv/IXI/sub-IXI180/ses-1/run-1/anat/sub-IXI180_acq-Philips-3.0T_segmask_mni_registered_T1w.nii  \n",
            "  inflating: ../data/T1w_Processed_IXI_with_csv/IXI/sub-IXI181/ses-1/run-1/anat/sub-IXI181_acq-Philips-1.5T_mni_registered_T1w.nii  \n",
            "  inflating: ../data/T1w_Processed_IXI_with_csv/IXI/sub-IXI181/ses-1/run-1/anat/sub-IXI181_acq-Philips-1.5T_segmask_mni_registered_T1w.nii  \n",
            "  inflating: ../data/T1w_Processed_IXI_with_csv/IXI/sub-IXI182/ses-1/run-1/anat/sub-IXI182_acq-Philips-1.5T_mni_registered_T1w.nii  \n",
            "  inflating: ../data/T1w_Processed_IXI_with_csv/IXI/sub-IXI182/ses-1/run-1/anat/sub-IXI182_acq-Philips-1.5T_segmask_mni_registered_T1w.nii  \n",
            "  inflating: ../data/T1w_Processed_IXI_with_csv/IXI/sub-IXI183/ses-1/run-1/anat/sub-IXI183_acq-Philips-1.5T_mni_registered_T1w.nii  \n",
            "  inflating: ../data/T1w_Processed_IXI_with_csv/IXI/sub-IXI183/ses-1/run-1/anat/sub-IXI183_acq-Philips-1.5T_segmask_mni_registered_T1w.nii  \n",
            "  inflating: ../data/T1w_Processed_IXI_with_csv/IXI/sub-IXI184/ses-1/run-1/anat/sub-IXI184_acq-Philips-1.5T_mni_registered_T1w.nii  \n",
            "  inflating: ../data/T1w_Processed_IXI_with_csv/IXI/sub-IXI184/ses-1/run-1/anat/sub-IXI184_acq-Philips-1.5T_segmask_mni_registered_T1w.nii  \n",
            "  inflating: ../data/T1w_Processed_IXI_with_csv/IXI/sub-IXI185/ses-1/run-1/anat/sub-IXI185_acq-Philips-1.5T_mni_registered_T1w.nii  \n",
            "  inflating: ../data/T1w_Processed_IXI_with_csv/IXI/sub-IXI185/ses-1/run-1/anat/sub-IXI185_acq-Philips-1.5T_segmask_mni_registered_T1w.nii  \n",
            "  inflating: ../data/T1w_Processed_IXI_with_csv/IXI/sub-IXI186/ses-1/run-1/anat/sub-IXI186_acq-Philips-1.5T_mni_registered_T1w.nii  \n",
            "  inflating: ../data/T1w_Processed_IXI_with_csv/IXI/sub-IXI186/ses-1/run-1/anat/sub-IXI186_acq-Philips-1.5T_segmask_mni_registered_T1w.nii  \n",
            "  inflating: ../data/T1w_Processed_IXI_with_csv/IXI/sub-IXI188/ses-1/run-1/anat/sub-IXI188_acq-Philips-1.5T_mni_registered_T1w.nii  \n",
            "  inflating: ../data/T1w_Processed_IXI_with_csv/IXI/sub-IXI188/ses-1/run-1/anat/sub-IXI188_acq-Philips-1.5T_segmask_mni_registered_T1w.nii  \n",
            "  inflating: ../data/T1w_Processed_IXI_with_csv/IXI/sub-IXI189/ses-1/run-1/anat/sub-IXI189_acq-Philips-1.5T_mni_registered_T1w.nii  \n",
            "  inflating: ../data/T1w_Processed_IXI_with_csv/IXI/sub-IXI189/ses-1/run-1/anat/sub-IXI189_acq-Philips-1.5T_segmask_mni_registered_T1w.nii  \n",
            "  inflating: ../data/T1w_Processed_IXI_with_csv/IXI/sub-IXI191/ses-1/run-1/anat/sub-IXI191_acq-Philips-1.5T_mni_registered_T1w.nii  \n",
            "  inflating: ../data/T1w_Processed_IXI_with_csv/IXI/sub-IXI191/ses-1/run-1/anat/sub-IXI191_acq-Philips-1.5T_segmask_mni_registered_T1w.nii  \n",
            "  inflating: ../data/T1w_Processed_IXI_with_csv/IXI/sub-IXI192/ses-1/run-1/anat/sub-IXI192_acq-Philips-1.5T_mni_registered_T1w.nii  \n",
            "  inflating: ../data/T1w_Processed_IXI_with_csv/IXI/sub-IXI192/ses-1/run-1/anat/sub-IXI192_acq-Philips-1.5T_segmask_mni_registered_T1w.nii  \n",
            "  inflating: ../data/T1w_Processed_IXI_with_csv/IXI/sub-IXI193/ses-1/run-1/anat/sub-IXI193_acq-Philips-1.5T_mni_registered_T1w.nii  \n",
            "  inflating: ../data/T1w_Processed_IXI_with_csv/IXI/sub-IXI193/ses-1/run-1/anat/sub-IXI193_acq-Philips-1.5T_segmask_mni_registered_T1w.nii  \n",
            "  inflating: ../data/T1w_Processed_IXI_with_csv/IXI/sub-IXI194/ses-1/run-1/anat/sub-IXI194_acq-Philips-1.5T_mni_registered_T1w.nii  \n",
            "  inflating: ../data/T1w_Processed_IXI_with_csv/IXI/sub-IXI194/ses-1/run-1/anat/sub-IXI194_acq-Philips-1.5T_segmask_mni_registered_T1w.nii  \n",
            "  inflating: ../data/T1w_Processed_IXI_with_csv/IXI/sub-IXI195/ses-1/run-1/anat/sub-IXI195_acq-Philips-3.0T_mni_registered_T1w.nii  \n",
            "  inflating: ../data/T1w_Processed_IXI_with_csv/IXI/sub-IXI195/ses-1/run-1/anat/sub-IXI195_acq-Philips-3.0T_segmask_mni_registered_T1w.nii  \n",
            "  inflating: ../data/T1w_Processed_IXI_with_csv/IXI/sub-IXI196/ses-1/run-1/anat/sub-IXI196_acq-Philips-1.5T_mni_registered_T1w.nii  \n",
            "  inflating: ../data/T1w_Processed_IXI_with_csv/IXI/sub-IXI196/ses-1/run-1/anat/sub-IXI196_acq-Philips-1.5T_segmask_mni_registered_T1w.nii  \n",
            "  inflating: ../data/T1w_Processed_IXI_with_csv/IXI/sub-IXI197/ses-1/run-1/anat/sub-IXI197_acq-Philips-1.5T_mni_registered_T1w.nii  \n",
            "  inflating: ../data/T1w_Processed_IXI_with_csv/IXI/sub-IXI197/ses-1/run-1/anat/sub-IXI197_acq-Philips-1.5T_segmask_mni_registered_T1w.nii  \n",
            "  inflating: ../data/T1w_Processed_IXI_with_csv/IXI/sub-IXI198/ses-1/run-1/anat/sub-IXI198_acq-Philips-1.5T_mni_registered_T1w.nii  \n",
            "  inflating: ../data/T1w_Processed_IXI_with_csv/IXI/sub-IXI198/ses-1/run-1/anat/sub-IXI198_acq-Philips-1.5T_segmask_mni_registered_T1w.nii  \n",
            "  inflating: ../data/T1w_Processed_IXI_with_csv/IXI/sub-IXI199/ses-1/run-1/anat/sub-IXI199_acq-Philips-1.5T_mni_registered_T1w.nii  \n",
            "  inflating: ../data/T1w_Processed_IXI_with_csv/IXI/sub-IXI199/ses-1/run-1/anat/sub-IXI199_acq-Philips-1.5T_segmask_mni_registered_T1w.nii  \n",
            "  inflating: ../data/T1w_Processed_IXI_with_csv/IXI/sub-IXI200/ses-1/run-1/anat/sub-IXI200_acq-Philips-1.5T_mni_registered_T1w.nii  \n",
            "  inflating: ../data/T1w_Processed_IXI_with_csv/IXI/sub-IXI200/ses-1/run-1/anat/sub-IXI200_acq-Philips-1.5T_segmask_mni_registered_T1w.nii  \n",
            "  inflating: ../data/T1w_Processed_IXI_with_csv/IXI/sub-IXI201/ses-1/run-1/anat/sub-IXI201_acq-Philips-3.0T_mni_registered_T1w.nii  \n",
            "  inflating: ../data/T1w_Processed_IXI_with_csv/IXI/sub-IXI201/ses-1/run-1/anat/sub-IXI201_acq-Philips-3.0T_segmask_mni_registered_T1w.nii  \n",
            "  inflating: ../data/T1w_Processed_IXI_with_csv/IXI/sub-IXI202/ses-1/run-1/anat/sub-IXI202_acq-Philips-3.0T_mni_registered_T1w.nii  \n",
            "  inflating: ../data/T1w_Processed_IXI_with_csv/IXI/sub-IXI202/ses-1/run-1/anat/sub-IXI202_acq-Philips-3.0T_segmask_mni_registered_T1w.nii  \n",
            "  inflating: ../data/T1w_Processed_IXI_with_csv/IXI/sub-IXI204/ses-1/run-1/anat/sub-IXI204_acq-Philips-3.0T_mni_registered_T1w.nii  \n",
            "  inflating: ../data/T1w_Processed_IXI_with_csv/IXI/sub-IXI204/ses-1/run-1/anat/sub-IXI204_acq-Philips-3.0T_segmask_mni_registered_T1w.nii  \n",
            "  inflating: ../data/T1w_Processed_IXI_with_csv/IXI/sub-IXI205/ses-1/run-1/anat/sub-IXI205_acq-Philips-3.0T_mni_registered_T1w.nii  \n",
            "  inflating: ../data/T1w_Processed_IXI_with_csv/IXI/sub-IXI205/ses-1/run-1/anat/sub-IXI205_acq-Philips-3.0T_segmask_mni_registered_T1w.nii  \n",
            "  inflating: ../data/T1w_Processed_IXI_with_csv/IXI/sub-IXI206/ses-1/run-1/anat/sub-IXI206_acq-Philips-3.0T_mni_registered_T1w.nii  \n",
            "  inflating: ../data/T1w_Processed_IXI_with_csv/IXI/sub-IXI206/ses-1/run-1/anat/sub-IXI206_acq-Philips-3.0T_segmask_mni_registered_T1w.nii  \n",
            "  inflating: ../data/T1w_Processed_IXI_with_csv/IXI/sub-IXI207/ses-1/run-1/anat/sub-IXI207_acq-Philips-1.5T_mni_registered_T1w.nii  \n",
            "  inflating: ../data/T1w_Processed_IXI_with_csv/IXI/sub-IXI207/ses-1/run-1/anat/sub-IXI207_acq-Philips-1.5T_segmask_mni_registered_T1w.nii  \n",
            "  inflating: ../data/T1w_Processed_IXI_with_csv/IXI/sub-IXI208/ses-1/run-1/anat/sub-IXI208_acq-Philips-1.5T_mni_registered_T1w.nii  \n",
            "  inflating: ../data/T1w_Processed_IXI_with_csv/IXI/sub-IXI208/ses-1/run-1/anat/sub-IXI208_acq-Philips-1.5T_segmask_mni_registered_T1w.nii  \n",
            "  inflating: ../data/T1w_Processed_IXI_with_csv/IXI/sub-IXI209/ses-1/run-1/anat/sub-IXI209_acq-Philips-1.5T_mni_registered_T1w.nii  \n",
            "  inflating: ../data/T1w_Processed_IXI_with_csv/IXI/sub-IXI209/ses-1/run-1/anat/sub-IXI209_acq-Philips-1.5T_segmask_mni_registered_T1w.nii  \n",
            "  inflating: ../data/T1w_Processed_IXI_with_csv/IXI/sub-IXI210/ses-1/run-1/anat/sub-IXI210_acq-Philips-1.5T_mni_registered_T1w.nii  \n",
            "  inflating: ../data/T1w_Processed_IXI_with_csv/IXI/sub-IXI210/ses-1/run-1/anat/sub-IXI210_acq-Philips-1.5T_segmask_mni_registered_T1w.nii  \n",
            "  inflating: ../data/T1w_Processed_IXI_with_csv/IXI/sub-IXI211/ses-1/run-1/anat/sub-IXI211_acq-Philips-3.0T_mni_registered_T1w.nii  \n",
            "  inflating: ../data/T1w_Processed_IXI_with_csv/IXI/sub-IXI211/ses-1/run-1/anat/sub-IXI211_acq-Philips-3.0T_segmask_mni_registered_T1w.nii  \n",
            "  inflating: ../data/T1w_Processed_IXI_with_csv/IXI/sub-IXI212/ses-1/run-1/anat/sub-IXI212_acq-Philips-3.0T_mni_registered_T1w.nii  \n",
            "  inflating: ../data/T1w_Processed_IXI_with_csv/IXI/sub-IXI212/ses-1/run-1/anat/sub-IXI212_acq-Philips-3.0T_segmask_mni_registered_T1w.nii  \n",
            "  inflating: ../data/T1w_Processed_IXI_with_csv/IXI/sub-IXI213/ses-1/run-1/anat/sub-IXI213_acq-Philips-3.0T_mni_registered_T1w.nii  \n",
            "  inflating: ../data/T1w_Processed_IXI_with_csv/IXI/sub-IXI213/ses-1/run-1/anat/sub-IXI213_acq-Philips-3.0T_segmask_mni_registered_T1w.nii  \n",
            "  inflating: ../data/T1w_Processed_IXI_with_csv/IXI/sub-IXI214/ses-1/run-1/anat/sub-IXI214_acq-Philips-3.0T_mni_registered_T1w.nii  \n",
            "  inflating: ../data/T1w_Processed_IXI_with_csv/IXI/sub-IXI214/ses-1/run-1/anat/sub-IXI214_acq-Philips-3.0T_segmask_mni_registered_T1w.nii  \n",
            "  inflating: ../data/T1w_Processed_IXI_with_csv/IXI/sub-IXI216/ses-1/run-1/anat/sub-IXI216_acq-Philips-3.0T_mni_registered_T1w.nii  \n",
            "  inflating: ../data/T1w_Processed_IXI_with_csv/IXI/sub-IXI216/ses-1/run-1/anat/sub-IXI216_acq-Philips-3.0T_segmask_mni_registered_T1w.nii  \n",
            "  inflating: ../data/T1w_Processed_IXI_with_csv/IXI/sub-IXI217/ses-1/run-1/anat/sub-IXI217_acq-Philips-3.0T_mni_registered_T1w.nii  \n",
            "  inflating: ../data/T1w_Processed_IXI_with_csv/IXI/sub-IXI217/ses-1/run-1/anat/sub-IXI217_acq-Philips-3.0T_segmask_mni_registered_T1w.nii  \n",
            "  inflating: ../data/T1w_Processed_IXI_with_csv/IXI/sub-IXI218/ses-1/run-1/anat/sub-IXI218_acq-Philips-3.0T_mni_registered_T1w.nii  \n",
            "  inflating: ../data/T1w_Processed_IXI_with_csv/IXI/sub-IXI218/ses-1/run-1/anat/sub-IXI218_acq-Philips-3.0T_segmask_mni_registered_T1w.nii  \n",
            "  inflating: ../data/T1w_Processed_IXI_with_csv/IXI/sub-IXI221/ses-1/run-1/anat/sub-IXI221_acq-Philips-3.0T_mni_registered_T1w.nii  \n",
            "  inflating: ../data/T1w_Processed_IXI_with_csv/IXI/sub-IXI221/ses-1/run-1/anat/sub-IXI221_acq-Philips-3.0T_segmask_mni_registered_T1w.nii  \n",
            "  inflating: ../data/T1w_Processed_IXI_with_csv/IXI/sub-IXI222/ses-1/run-1/anat/sub-IXI222_acq-Philips-1.5T_mni_registered_T1w.nii  \n",
            "  inflating: ../data/T1w_Processed_IXI_with_csv/IXI/sub-IXI222/ses-1/run-1/anat/sub-IXI222_acq-Philips-1.5T_segmask_mni_registered_T1w.nii  \n",
            "  inflating: ../data/T1w_Processed_IXI_with_csv/IXI/sub-IXI223/ses-1/run-1/anat/sub-IXI223_acq-Philips-1.5T_mni_registered_T1w.nii  \n",
            "  inflating: ../data/T1w_Processed_IXI_with_csv/IXI/sub-IXI223/ses-1/run-1/anat/sub-IXI223_acq-Philips-1.5T_segmask_mni_registered_T1w.nii  \n",
            "  inflating: ../data/T1w_Processed_IXI_with_csv/IXI/sub-IXI224/ses-1/run-1/anat/sub-IXI224_acq-Philips-1.5T_mni_registered_T1w.nii  \n",
            "  inflating: ../data/T1w_Processed_IXI_with_csv/IXI/sub-IXI224/ses-1/run-1/anat/sub-IXI224_acq-Philips-1.5T_segmask_mni_registered_T1w.nii  \n",
            "  inflating: ../data/T1w_Processed_IXI_with_csv/IXI/sub-IXI225/ses-1/run-1/anat/sub-IXI225_acq-Philips-1.5T_mni_registered_T1w.nii  \n",
            "  inflating: ../data/T1w_Processed_IXI_with_csv/IXI/sub-IXI225/ses-1/run-1/anat/sub-IXI225_acq-Philips-1.5T_segmask_mni_registered_T1w.nii  \n",
            "  inflating: ../data/T1w_Processed_IXI_with_csv/IXI/sub-IXI226/ses-1/run-1/anat/sub-IXI226_acq-Philips-3.0T_mni_registered_T1w.nii  \n",
            "  inflating: ../data/T1w_Processed_IXI_with_csv/IXI/sub-IXI226/ses-1/run-1/anat/sub-IXI226_acq-Philips-3.0T_segmask_mni_registered_T1w.nii  \n",
            "  inflating: ../data/T1w_Processed_IXI_with_csv/IXI/sub-IXI227/ses-1/run-1/anat/sub-IXI227_acq-Philips-1.5T_mni_registered_T1w.nii  \n",
            "  inflating: ../data/T1w_Processed_IXI_with_csv/IXI/sub-IXI227/ses-1/run-1/anat/sub-IXI227_acq-Philips-1.5T_segmask_mni_registered_T1w.nii  \n",
            "  inflating: ../data/T1w_Processed_IXI_with_csv/IXI/sub-IXI228/ses-1/run-1/anat/sub-IXI228_acq-Philips-1.5T_mni_registered_T1w.nii  \n",
            "  inflating: ../data/T1w_Processed_IXI_with_csv/IXI/sub-IXI228/ses-1/run-1/anat/sub-IXI228_acq-Philips-1.5T_segmask_mni_registered_T1w.nii  \n",
            "  inflating: ../data/T1w_Processed_IXI_with_csv/IXI/sub-IXI229/ses-1/run-1/anat/sub-IXI229_acq-Philips-1.5T_mni_registered_T1w.nii  \n",
            "  inflating: ../data/T1w_Processed_IXI_with_csv/IXI/sub-IXI229/ses-1/run-1/anat/sub-IXI229_acq-Philips-1.5T_segmask_mni_registered_T1w.nii  \n",
            "  inflating: ../data/T1w_Processed_IXI_with_csv/IXI/sub-IXI230/ses-1/run-1/anat/sub-IXI230_acq-GE-1.5T_mni_registered_T1w.nii  \n",
            "  inflating: ../data/T1w_Processed_IXI_with_csv/IXI/sub-IXI230/ses-1/run-1/anat/sub-IXI230_acq-GE-1.5T_segmask_mni_registered_T1w.nii  \n",
            "  inflating: ../data/T1w_Processed_IXI_with_csv/IXI/sub-IXI231/ses-1/run-1/anat/sub-IXI231_acq-GE-1.5T_mni_registered_T1w.nii  \n",
            "  inflating: ../data/T1w_Processed_IXI_with_csv/IXI/sub-IXI231/ses-1/run-1/anat/sub-IXI231_acq-GE-1.5T_segmask_mni_registered_T1w.nii  \n",
            "  inflating: ../data/T1w_Processed_IXI_with_csv/IXI/sub-IXI232/ses-1/run-1/anat/sub-IXI232_acq-GE-1.5T_mni_registered_T1w.nii  \n",
            "  inflating: ../data/T1w_Processed_IXI_with_csv/IXI/sub-IXI232/ses-1/run-1/anat/sub-IXI232_acq-GE-1.5T_segmask_mni_registered_T1w.nii  \n",
            "  inflating: ../data/T1w_Processed_IXI_with_csv/IXI/sub-IXI233/ses-1/run-1/anat/sub-IXI233_acq-GE-1.5T_mni_registered_T1w.nii  \n",
            "  inflating: ../data/T1w_Processed_IXI_with_csv/IXI/sub-IXI233/ses-1/run-1/anat/sub-IXI233_acq-GE-1.5T_segmask_mni_registered_T1w.nii  \n",
            "  inflating: ../data/T1w_Processed_IXI_with_csv/IXI/sub-IXI234/ses-1/run-1/anat/sub-IXI234_acq-GE-1.5T_mni_registered_T1w.nii  \n",
            "  inflating: ../data/T1w_Processed_IXI_with_csv/IXI/sub-IXI234/ses-1/run-1/anat/sub-IXI234_acq-GE-1.5T_segmask_mni_registered_T1w.nii  \n",
            "  inflating: ../data/T1w_Processed_IXI_with_csv/IXI/sub-IXI236/ses-1/run-1/anat/sub-IXI236_acq-Philips-1.5T_mni_registered_T1w.nii  \n",
            "  inflating: ../data/T1w_Processed_IXI_with_csv/IXI/sub-IXI236/ses-1/run-1/anat/sub-IXI236_acq-Philips-1.5T_segmask_mni_registered_T1w.nii  \n",
            "  inflating: ../data/T1w_Processed_IXI_with_csv/IXI/sub-IXI237/ses-1/run-1/anat/sub-IXI237_acq-Philips-1.5T_mni_registered_T1w.nii  \n",
            "  inflating: ../data/T1w_Processed_IXI_with_csv/IXI/sub-IXI237/ses-1/run-1/anat/sub-IXI237_acq-Philips-1.5T_segmask_mni_registered_T1w.nii  \n",
            "  inflating: ../data/T1w_Processed_IXI_with_csv/IXI/sub-IXI238/ses-1/run-1/anat/sub-IXI238_acq-GE-1.5T_mni_registered_T1w.nii  \n",
            "  inflating: ../data/T1w_Processed_IXI_with_csv/IXI/sub-IXI238/ses-1/run-1/anat/sub-IXI238_acq-GE-1.5T_segmask_mni_registered_T1w.nii  \n",
            "  inflating: ../data/T1w_Processed_IXI_with_csv/IXI/sub-IXI239/ses-1/run-1/anat/sub-IXI239_acq-Philips-3.0T_mni_registered_T1w.nii  \n",
            "  inflating: ../data/T1w_Processed_IXI_with_csv/IXI/sub-IXI239/ses-1/run-1/anat/sub-IXI239_acq-Philips-3.0T_segmask_mni_registered_T1w.nii  \n",
            "  inflating: ../data/T1w_Processed_IXI_with_csv/IXI/sub-IXI240/ses-1/run-1/anat/sub-IXI240_acq-Philips-1.5T_mni_registered_T1w.nii  \n",
            "  inflating: ../data/T1w_Processed_IXI_with_csv/IXI/sub-IXI240/ses-1/run-1/anat/sub-IXI240_acq-Philips-1.5T_segmask_mni_registered_T1w.nii  \n",
            "  inflating: ../data/T1w_Processed_IXI_with_csv/IXI/sub-IXI241/ses-1/run-1/anat/sub-IXI241_acq-Philips-1.5T_mni_registered_T1w.nii  \n",
            "  inflating: ../data/T1w_Processed_IXI_with_csv/IXI/sub-IXI241/ses-1/run-1/anat/sub-IXI241_acq-Philips-1.5T_segmask_mni_registered_T1w.nii  \n",
            "  inflating: ../data/T1w_Processed_IXI_with_csv/IXI/sub-IXI242/ses-1/run-1/anat/sub-IXI242_acq-Philips-3.0T_mni_registered_T1w.nii  \n",
            "  inflating: ../data/T1w_Processed_IXI_with_csv/IXI/sub-IXI242/ses-1/run-1/anat/sub-IXI242_acq-Philips-3.0T_segmask_mni_registered_T1w.nii  \n",
            "  inflating: ../data/T1w_Processed_IXI_with_csv/IXI/sub-IXI244/ses-1/run-1/anat/sub-IXI244_acq-Philips-1.5T_mni_registered_T1w.nii  \n",
            "  inflating: ../data/T1w_Processed_IXI_with_csv/IXI/sub-IXI244/ses-1/run-1/anat/sub-IXI244_acq-Philips-1.5T_segmask_mni_registered_T1w.nii  \n",
            "  inflating: ../data/T1w_Processed_IXI_with_csv/IXI/sub-IXI246/ses-1/run-1/anat/sub-IXI246_acq-Philips-1.5T_mni_registered_T1w.nii  \n",
            "  inflating: ../data/T1w_Processed_IXI_with_csv/IXI/sub-IXI246/ses-1/run-1/anat/sub-IXI246_acq-Philips-1.5T_segmask_mni_registered_T1w.nii  \n",
            "  inflating: ../data/T1w_Processed_IXI_with_csv/IXI/sub-IXI247/ses-1/run-1/anat/sub-IXI247_acq-Philips-1.5T_mni_registered_T1w.nii  \n",
            "  inflating: ../data/T1w_Processed_IXI_with_csv/IXI/sub-IXI247/ses-1/run-1/anat/sub-IXI247_acq-Philips-1.5T_segmask_mni_registered_T1w.nii  \n",
            "  inflating: ../data/T1w_Processed_IXI_with_csv/IXI/sub-IXI248/ses-1/run-1/anat/sub-IXI248_acq-Philips-3.0T_mni_registered_T1w.nii  \n",
            "  inflating: ../data/T1w_Processed_IXI_with_csv/IXI/sub-IXI248/ses-1/run-1/anat/sub-IXI248_acq-Philips-3.0T_segmask_mni_registered_T1w.nii  \n",
            "  inflating: ../data/T1w_Processed_IXI_with_csv/IXI/sub-IXI249/ses-1/run-1/anat/sub-IXI249_acq-Philips-1.5T_mni_registered_T1w.nii  \n",
            "  inflating: ../data/T1w_Processed_IXI_with_csv/IXI/sub-IXI249/ses-1/run-1/anat/sub-IXI249_acq-Philips-1.5T_segmask_mni_registered_T1w.nii  \n",
            "  inflating: ../data/T1w_Processed_IXI_with_csv/IXI/sub-IXI250/ses-1/run-1/anat/sub-IXI250_acq-Philips-1.5T_mni_registered_T1w.nii  \n",
            "  inflating: ../data/T1w_Processed_IXI_with_csv/IXI/sub-IXI250/ses-1/run-1/anat/sub-IXI250_acq-Philips-1.5T_segmask_mni_registered_T1w.nii  \n",
            "  inflating: ../data/T1w_Processed_IXI_with_csv/IXI/sub-IXI251/ses-1/run-1/anat/sub-IXI251_acq-Philips-1.5T_mni_registered_T1w.nii  \n",
            "  inflating: ../data/T1w_Processed_IXI_with_csv/IXI/sub-IXI251/ses-1/run-1/anat/sub-IXI251_acq-Philips-1.5T_segmask_mni_registered_T1w.nii  \n",
            "  inflating: ../data/T1w_Processed_IXI_with_csv/IXI/sub-IXI252/ses-1/run-1/anat/sub-IXI252_acq-Philips-3.0T_mni_registered_T1w.nii  \n",
            "  inflating: ../data/T1w_Processed_IXI_with_csv/IXI/sub-IXI252/ses-1/run-1/anat/sub-IXI252_acq-Philips-3.0T_segmask_mni_registered_T1w.nii  \n",
            "  inflating: ../data/T1w_Processed_IXI_with_csv/IXI/sub-IXI253/ses-1/run-1/anat/sub-IXI253_acq-Philips-3.0T_mni_registered_T1w.nii  \n",
            "  inflating: ../data/T1w_Processed_IXI_with_csv/IXI/sub-IXI253/ses-1/run-1/anat/sub-IXI253_acq-Philips-3.0T_segmask_mni_registered_T1w.nii  \n",
            "  inflating: ../data/T1w_Processed_IXI_with_csv/IXI/sub-IXI254/ses-1/run-1/anat/sub-IXI254_acq-Philips-3.0T_mni_registered_T1w.nii  \n",
            "  inflating: ../data/T1w_Processed_IXI_with_csv/IXI/sub-IXI254/ses-1/run-1/anat/sub-IXI254_acq-Philips-3.0T_segmask_mni_registered_T1w.nii  \n",
            "  inflating: ../data/T1w_Processed_IXI_with_csv/IXI/sub-IXI255/ses-1/run-1/anat/sub-IXI255_acq-Philips-3.0T_mni_registered_T1w.nii  \n",
            "  inflating: ../data/T1w_Processed_IXI_with_csv/IXI/sub-IXI255/ses-1/run-1/anat/sub-IXI255_acq-Philips-3.0T_segmask_mni_registered_T1w.nii  \n",
            "  inflating: ../data/T1w_Processed_IXI_with_csv/IXI/sub-IXI256/ses-1/run-1/anat/sub-IXI256_acq-Philips-3.0T_mni_registered_T1w.nii  \n",
            "  inflating: ../data/T1w_Processed_IXI_with_csv/IXI/sub-IXI256/ses-1/run-1/anat/sub-IXI256_acq-Philips-3.0T_segmask_mni_registered_T1w.nii  \n",
            "  inflating: ../data/T1w_Processed_IXI_with_csv/IXI/sub-IXI257/ses-1/run-1/anat/sub-IXI257_acq-Philips-3.0T_mni_registered_T1w.nii  \n",
            "  inflating: ../data/T1w_Processed_IXI_with_csv/IXI/sub-IXI257/ses-1/run-1/anat/sub-IXI257_acq-Philips-3.0T_segmask_mni_registered_T1w.nii  \n",
            "  inflating: ../data/T1w_Processed_IXI_with_csv/IXI/sub-IXI258/ses-1/run-1/anat/sub-IXI258_acq-Philips-3.0T_mni_registered_T1w.nii  \n",
            "  inflating: ../data/T1w_Processed_IXI_with_csv/IXI/sub-IXI258/ses-1/run-1/anat/sub-IXI258_acq-Philips-3.0T_segmask_mni_registered_T1w.nii  \n",
            "  inflating: ../data/T1w_Processed_IXI_with_csv/IXI/sub-IXI259/ses-1/run-1/anat/sub-IXI259_acq-Philips-3.0T_mni_registered_T1w.nii  \n",
            "  inflating: ../data/T1w_Processed_IXI_with_csv/IXI/sub-IXI259/ses-1/run-1/anat/sub-IXI259_acq-Philips-3.0T_segmask_mni_registered_T1w.nii  \n",
            "  inflating: ../data/T1w_Processed_IXI_with_csv/IXI/sub-IXI260/ses-1/run-1/anat/sub-IXI260_acq-Philips-3.0T_mni_registered_T1w.nii  \n",
            "  inflating: ../data/T1w_Processed_IXI_with_csv/IXI/sub-IXI260/ses-1/run-1/anat/sub-IXI260_acq-Philips-3.0T_segmask_mni_registered_T1w.nii  \n",
            "  inflating: ../data/T1w_Processed_IXI_with_csv/IXI/sub-IXI261/ses-1/run-1/anat/sub-IXI261_acq-Philips-3.0T_mni_registered_T1w.nii  \n",
            "  inflating: ../data/T1w_Processed_IXI_with_csv/IXI/sub-IXI261/ses-1/run-1/anat/sub-IXI261_acq-Philips-3.0T_segmask_mni_registered_T1w.nii  \n",
            "  inflating: ../data/T1w_Processed_IXI_with_csv/IXI/sub-IXI262/ses-1/run-1/anat/sub-IXI262_acq-Philips-3.0T_mni_registered_T1w.nii  \n",
            "  inflating: ../data/T1w_Processed_IXI_with_csv/IXI/sub-IXI262/ses-1/run-1/anat/sub-IXI262_acq-Philips-3.0T_segmask_mni_registered_T1w.nii  \n",
            "  inflating: ../data/T1w_Processed_IXI_with_csv/IXI/sub-IXI263/ses-1/run-1/anat/sub-IXI263_acq-Philips-3.0T_mni_registered_T1w.nii  \n",
            "  inflating: ../data/T1w_Processed_IXI_with_csv/IXI/sub-IXI263/ses-1/run-1/anat/sub-IXI263_acq-Philips-3.0T_segmask_mni_registered_T1w.nii  \n",
            "  inflating: ../data/T1w_Processed_IXI_with_csv/IXI/sub-IXI264/ses-1/run-1/anat/sub-IXI264_acq-Philips-1.5T_mni_registered_T1w.nii  \n",
            "  inflating: ../data/T1w_Processed_IXI_with_csv/IXI/sub-IXI264/ses-1/run-1/anat/sub-IXI264_acq-Philips-1.5T_segmask_mni_registered_T1w.nii  \n",
            "  inflating: ../data/T1w_Processed_IXI_with_csv/IXI/sub-IXI265/ses-1/run-1/anat/sub-IXI265_acq-Philips-1.5T_mni_registered_T1w.nii  \n",
            "  inflating: ../data/T1w_Processed_IXI_with_csv/IXI/sub-IXI265/ses-1/run-1/anat/sub-IXI265_acq-Philips-1.5T_segmask_mni_registered_T1w.nii  \n",
            "  inflating: ../data/T1w_Processed_IXI_with_csv/IXI/sub-IXI266/ses-1/run-1/anat/sub-IXI266_acq-Philips-1.5T_mni_registered_T1w.nii  \n",
            "  inflating: ../data/T1w_Processed_IXI_with_csv/IXI/sub-IXI266/ses-1/run-1/anat/sub-IXI266_acq-Philips-1.5T_segmask_mni_registered_T1w.nii  \n",
            "  inflating: ../data/T1w_Processed_IXI_with_csv/IXI/sub-IXI267/ses-1/run-1/anat/sub-IXI267_acq-Philips-3.0T_mni_registered_T1w.nii  \n",
            "  inflating: ../data/T1w_Processed_IXI_with_csv/IXI/sub-IXI267/ses-1/run-1/anat/sub-IXI267_acq-Philips-3.0T_segmask_mni_registered_T1w.nii  \n",
            "  inflating: ../data/T1w_Processed_IXI_with_csv/IXI/sub-IXI268/ses-1/run-1/anat/sub-IXI268_acq-Philips-1.5T_mni_registered_T1w.nii  \n",
            "  inflating: ../data/T1w_Processed_IXI_with_csv/IXI/sub-IXI268/ses-1/run-1/anat/sub-IXI268_acq-Philips-1.5T_segmask_mni_registered_T1w.nii  \n",
            "  inflating: ../data/T1w_Processed_IXI_with_csv/IXI/sub-IXI269/ses-1/run-1/anat/sub-IXI269_acq-Philips-1.5T_mni_registered_T1w.nii  \n",
            "  inflating: ../data/T1w_Processed_IXI_with_csv/IXI/sub-IXI269/ses-1/run-1/anat/sub-IXI269_acq-Philips-1.5T_segmask_mni_registered_T1w.nii  \n",
            "  inflating: ../data/T1w_Processed_IXI_with_csv/IXI/sub-IXI270/ses-1/run-1/anat/sub-IXI270_acq-Philips-1.5T_mni_registered_T1w.nii  \n",
            "  inflating: ../data/T1w_Processed_IXI_with_csv/IXI/sub-IXI270/ses-1/run-1/anat/sub-IXI270_acq-Philips-1.5T_segmask_mni_registered_T1w.nii  \n",
            "  inflating: ../data/T1w_Processed_IXI_with_csv/IXI/sub-IXI274/ses-1/run-1/anat/sub-IXI274_acq-Philips-3.0T_mni_registered_T1w.nii  \n",
            "  inflating: ../data/T1w_Processed_IXI_with_csv/IXI/sub-IXI274/ses-1/run-1/anat/sub-IXI274_acq-Philips-3.0T_segmask_mni_registered_T1w.nii  \n",
            "  inflating: ../data/T1w_Processed_IXI_with_csv/IXI/sub-IXI275/ses-1/run-1/anat/sub-IXI275_acq-Philips-3.0T_mni_registered_T1w.nii  \n",
            "  inflating: ../data/T1w_Processed_IXI_with_csv/IXI/sub-IXI275/ses-1/run-1/anat/sub-IXI275_acq-Philips-3.0T_segmask_mni_registered_T1w.nii  \n",
            "  inflating: ../data/T1w_Processed_IXI_with_csv/IXI/sub-IXI276/ses-1/run-1/anat/sub-IXI276_acq-Philips-3.0T_mni_registered_T1w.nii  \n",
            "  inflating: ../data/T1w_Processed_IXI_with_csv/IXI/sub-IXI276/ses-1/run-1/anat/sub-IXI276_acq-Philips-3.0T_segmask_mni_registered_T1w.nii  \n",
            "  inflating: ../data/T1w_Processed_IXI_with_csv/IXI/sub-IXI277/ses-1/run-1/anat/sub-IXI277_acq-Philips-3.0T_mni_registered_T1w.nii  \n",
            "  inflating: ../data/T1w_Processed_IXI_with_csv/IXI/sub-IXI277/ses-1/run-1/anat/sub-IXI277_acq-Philips-3.0T_segmask_mni_registered_T1w.nii  \n",
            "  inflating: ../data/T1w_Processed_IXI_with_csv/IXI/sub-IXI278/ses-1/run-1/anat/sub-IXI278_acq-Philips-3.0T_mni_registered_T1w.nii  \n",
            "  inflating: ../data/T1w_Processed_IXI_with_csv/IXI/sub-IXI278/ses-1/run-1/anat/sub-IXI278_acq-Philips-3.0T_segmask_mni_registered_T1w.nii  \n",
            "  inflating: ../data/T1w_Processed_IXI_with_csv/IXI/sub-IXI279/ses-1/run-1/anat/sub-IXI279_acq-Philips-1.5T_mni_registered_T1w.nii  \n",
            "  inflating: ../data/T1w_Processed_IXI_with_csv/IXI/sub-IXI279/ses-1/run-1/anat/sub-IXI279_acq-Philips-1.5T_segmask_mni_registered_T1w.nii  \n",
            "  inflating: ../data/T1w_Processed_IXI_with_csv/IXI/sub-IXI280/ses-1/run-1/anat/sub-IXI280_acq-Philips-3.0T_mni_registered_T1w.nii  \n",
            "  inflating: ../data/T1w_Processed_IXI_with_csv/IXI/sub-IXI280/ses-1/run-1/anat/sub-IXI280_acq-Philips-3.0T_segmask_mni_registered_T1w.nii  \n",
            "  inflating: ../data/T1w_Processed_IXI_with_csv/IXI/sub-IXI282/ses-1/run-1/anat/sub-IXI282_acq-Philips-3.0T_mni_registered_T1w.nii  \n",
            "  inflating: ../data/T1w_Processed_IXI_with_csv/IXI/sub-IXI282/ses-1/run-1/anat/sub-IXI282_acq-Philips-3.0T_segmask_mni_registered_T1w.nii  \n",
            "  inflating: ../data/T1w_Processed_IXI_with_csv/IXI/sub-IXI284/ses-1/run-1/anat/sub-IXI284_acq-Philips-3.0T_mni_registered_T1w.nii  \n",
            "  inflating: ../data/T1w_Processed_IXI_with_csv/IXI/sub-IXI284/ses-1/run-1/anat/sub-IXI284_acq-Philips-3.0T_segmask_mni_registered_T1w.nii  \n",
            "  inflating: ../data/T1w_Processed_IXI_with_csv/IXI/sub-IXI285/ses-1/run-1/anat/sub-IXI285_acq-Philips-1.5T_mni_registered_T1w.nii  \n",
            "  inflating: ../data/T1w_Processed_IXI_with_csv/IXI/sub-IXI285/ses-1/run-1/anat/sub-IXI285_acq-Philips-1.5T_segmask_mni_registered_T1w.nii  \n",
            "  inflating: ../data/T1w_Processed_IXI_with_csv/IXI/sub-IXI286/ses-1/run-1/anat/sub-IXI286_acq-Philips-1.5T_mni_registered_T1w.nii  \n",
            "  inflating: ../data/T1w_Processed_IXI_with_csv/IXI/sub-IXI286/ses-1/run-1/anat/sub-IXI286_acq-Philips-1.5T_segmask_mni_registered_T1w.nii  \n",
            "  inflating: ../data/T1w_Processed_IXI_with_csv/IXI/sub-IXI287/ses-1/run-1/anat/sub-IXI287_acq-Philips-1.5T_mni_registered_T1w.nii  \n",
            "  inflating: ../data/T1w_Processed_IXI_with_csv/IXI/sub-IXI287/ses-1/run-1/anat/sub-IXI287_acq-Philips-1.5T_segmask_mni_registered_T1w.nii  \n",
            "  inflating: ../data/T1w_Processed_IXI_with_csv/IXI/sub-IXI288/ses-1/run-1/anat/sub-IXI288_acq-Philips-1.5T_mni_registered_T1w.nii  \n",
            "  inflating: ../data/T1w_Processed_IXI_with_csv/IXI/sub-IXI288/ses-1/run-1/anat/sub-IXI288_acq-Philips-1.5T_segmask_mni_registered_T1w.nii  \n",
            "  inflating: ../data/T1w_Processed_IXI_with_csv/IXI/sub-IXI289/ses-1/run-1/anat/sub-IXI289_acq-Philips-1.5T_mni_registered_T1w.nii  \n",
            "  inflating: ../data/T1w_Processed_IXI_with_csv/IXI/sub-IXI289/ses-1/run-1/anat/sub-IXI289_acq-Philips-1.5T_segmask_mni_registered_T1w.nii  \n",
            "  inflating: ../data/T1w_Processed_IXI_with_csv/IXI/sub-IXI290/ses-1/run-1/anat/sub-IXI290_acq-GE-1.5T_mni_registered_T1w.nii  \n",
            "  inflating: ../data/T1w_Processed_IXI_with_csv/IXI/sub-IXI290/ses-1/run-1/anat/sub-IXI290_acq-GE-1.5T_segmask_mni_registered_T1w.nii  \n",
            "  inflating: ../data/T1w_Processed_IXI_with_csv/IXI/sub-IXI291/ses-1/run-1/anat/sub-IXI291_acq-GE-1.5T_mni_registered_T1w.nii  \n",
            "  inflating: ../data/T1w_Processed_IXI_with_csv/IXI/sub-IXI291/ses-1/run-1/anat/sub-IXI291_acq-GE-1.5T_segmask_mni_registered_T1w.nii  \n",
            "  inflating: ../data/T1w_Processed_IXI_with_csv/IXI/sub-IXI292/ses-1/run-1/anat/sub-IXI292_acq-GE-1.5T_mni_registered_T1w.nii  \n",
            "  inflating: ../data/T1w_Processed_IXI_with_csv/IXI/sub-IXI292/ses-1/run-1/anat/sub-IXI292_acq-GE-1.5T_segmask_mni_registered_T1w.nii  \n",
            "  inflating: ../data/T1w_Processed_IXI_with_csv/IXI/sub-IXI293/ses-1/run-1/anat/sub-IXI293_acq-GE-1.5T_mni_registered_T1w.nii  \n",
            "  inflating: ../data/T1w_Processed_IXI_with_csv/IXI/sub-IXI293/ses-1/run-1/anat/sub-IXI293_acq-GE-1.5T_segmask_mni_registered_T1w.nii  \n",
            "  inflating: ../data/T1w_Processed_IXI_with_csv/IXI/sub-IXI294/ses-1/run-1/anat/sub-IXI294_acq-GE-1.5T_mni_registered_T1w.nii  \n",
            "  inflating: ../data/T1w_Processed_IXI_with_csv/IXI/sub-IXI294/ses-1/run-1/anat/sub-IXI294_acq-GE-1.5T_segmask_mni_registered_T1w.nii  \n",
            "  inflating: ../data/T1w_Processed_IXI_with_csv/IXI/sub-IXI295/ses-1/run-1/anat/sub-IXI295_acq-Philips-3.0T_mni_registered_T1w.nii  \n",
            "  inflating: ../data/T1w_Processed_IXI_with_csv/IXI/sub-IXI295/ses-1/run-1/anat/sub-IXI295_acq-Philips-3.0T_segmask_mni_registered_T1w.nii  \n",
            "  inflating: ../data/T1w_Processed_IXI_with_csv/IXI/sub-IXI296/ses-1/run-1/anat/sub-IXI296_acq-Philips-3.0T_mni_registered_T1w.nii  \n",
            "  inflating: ../data/T1w_Processed_IXI_with_csv/IXI/sub-IXI296/ses-1/run-1/anat/sub-IXI296_acq-Philips-3.0T_segmask_mni_registered_T1w.nii  \n",
            "  inflating: ../data/T1w_Processed_IXI_with_csv/IXI/sub-IXI297/ses-1/run-1/anat/sub-IXI297_acq-Philips-1.5T_mni_registered_T1w.nii  \n",
            "  inflating: ../data/T1w_Processed_IXI_with_csv/IXI/sub-IXI297/ses-1/run-1/anat/sub-IXI297_acq-Philips-1.5T_segmask_mni_registered_T1w.nii  \n",
            "  inflating: ../data/T1w_Processed_IXI_with_csv/IXI/sub-IXI298/ses-1/run-1/anat/sub-IXI298_acq-Philips-1.5T_mni_registered_T1w.nii  \n",
            "  inflating: ../data/T1w_Processed_IXI_with_csv/IXI/sub-IXI298/ses-1/run-1/anat/sub-IXI298_acq-Philips-1.5T_segmask_mni_registered_T1w.nii  \n",
            "  inflating: ../data/T1w_Processed_IXI_with_csv/IXI/sub-IXI299/ses-1/run-1/anat/sub-IXI299_acq-Philips-1.5T_mni_registered_T1w.nii  \n",
            "  inflating: ../data/T1w_Processed_IXI_with_csv/IXI/sub-IXI299/ses-1/run-1/anat/sub-IXI299_acq-Philips-1.5T_segmask_mni_registered_T1w.nii  \n",
            "  inflating: ../data/T1w_Processed_IXI_with_csv/IXI/sub-IXI300/ses-1/run-1/anat/sub-IXI300_acq-Philips-1.5T_mni_registered_T1w.nii  \n",
            "  inflating: ../data/T1w_Processed_IXI_with_csv/IXI/sub-IXI300/ses-1/run-1/anat/sub-IXI300_acq-Philips-1.5T_segmask_mni_registered_T1w.nii  \n",
            "  inflating: ../data/T1w_Processed_IXI_with_csv/IXI/sub-IXI302/ses-1/run-1/anat/sub-IXI302_acq-Philips-3.0T_mni_registered_T1w.nii  \n",
            "  inflating: ../data/T1w_Processed_IXI_with_csv/IXI/sub-IXI302/ses-1/run-1/anat/sub-IXI302_acq-Philips-3.0T_segmask_mni_registered_T1w.nii  \n",
            "  inflating: ../data/T1w_Processed_IXI_with_csv/IXI/sub-IXI303/ses-1/run-1/anat/sub-IXI303_acq-GE-1.5T_mni_registered_T1w.nii  \n",
            "  inflating: ../data/T1w_Processed_IXI_with_csv/IXI/sub-IXI303/ses-1/run-1/anat/sub-IXI303_acq-GE-1.5T_segmask_mni_registered_T1w.nii  \n",
            "  inflating: ../data/T1w_Processed_IXI_with_csv/IXI/sub-IXI304/ses-1/run-1/anat/sub-IXI304_acq-Philips-1.5T_mni_registered_T1w.nii  \n",
            "  inflating: ../data/T1w_Processed_IXI_with_csv/IXI/sub-IXI304/ses-1/run-1/anat/sub-IXI304_acq-Philips-1.5T_segmask_mni_registered_T1w.nii  \n",
            "  inflating: ../data/T1w_Processed_IXI_with_csv/IXI/sub-IXI305/ses-1/run-1/anat/sub-IXI305_acq-GE-1.5T_mni_registered_T1w.nii  \n",
            "  inflating: ../data/T1w_Processed_IXI_with_csv/IXI/sub-IXI305/ses-1/run-1/anat/sub-IXI305_acq-GE-1.5T_segmask_mni_registered_T1w.nii  \n",
            "  inflating: ../data/T1w_Processed_IXI_with_csv/IXI/sub-IXI306/ses-1/run-1/anat/sub-IXI306_acq-GE-1.5T_mni_registered_T1w.nii  \n",
            "  inflating: ../data/T1w_Processed_IXI_with_csv/IXI/sub-IXI306/ses-1/run-1/anat/sub-IXI306_acq-GE-1.5T_segmask_mni_registered_T1w.nii  \n",
            "  inflating: ../data/T1w_Processed_IXI_with_csv/IXI/sub-IXI307/ses-1/run-1/anat/sub-IXI307_acq-GE-1.5T_mni_registered_T1w.nii  \n",
            "  inflating: ../data/T1w_Processed_IXI_with_csv/IXI/sub-IXI307/ses-1/run-1/anat/sub-IXI307_acq-GE-1.5T_segmask_mni_registered_T1w.nii  \n",
            "  inflating: ../data/T1w_Processed_IXI_with_csv/IXI/sub-IXI308/ses-1/run-1/anat/sub-IXI308_acq-Philips-1.5T_mni_registered_T1w.nii  \n",
            "  inflating: ../data/T1w_Processed_IXI_with_csv/IXI/sub-IXI308/ses-1/run-1/anat/sub-IXI308_acq-Philips-1.5T_segmask_mni_registered_T1w.nii  \n",
            "  inflating: ../data/T1w_Processed_IXI_with_csv/IXI/sub-IXI309/ses-1/run-1/anat/sub-IXI309_acq-GE-1.5T_mni_registered_T1w.nii  \n",
            "  inflating: ../data/T1w_Processed_IXI_with_csv/IXI/sub-IXI309/ses-1/run-1/anat/sub-IXI309_acq-GE-1.5T_segmask_mni_registered_T1w.nii  \n",
            "  inflating: ../data/T1w_Processed_IXI_with_csv/IXI/sub-IXI310/ses-1/run-1/anat/sub-IXI310_acq-GE-1.5T_mni_registered_T1w.nii  \n",
            "  inflating: ../data/T1w_Processed_IXI_with_csv/IXI/sub-IXI310/ses-1/run-1/anat/sub-IXI310_acq-GE-1.5T_segmask_mni_registered_T1w.nii  \n",
            "  inflating: ../data/T1w_Processed_IXI_with_csv/IXI/sub-IXI311/ses-1/run-1/anat/sub-IXI311_acq-Philips-1.5T_mni_registered_T1w.nii  \n",
            "  inflating: ../data/T1w_Processed_IXI_with_csv/IXI/sub-IXI311/ses-1/run-1/anat/sub-IXI311_acq-Philips-1.5T_segmask_mni_registered_T1w.nii  \n",
            "  inflating: ../data/T1w_Processed_IXI_with_csv/IXI/sub-IXI312/ses-1/run-1/anat/sub-IXI312_acq-Philips-1.5T_mni_registered_T1w.nii  \n",
            "  inflating: ../data/T1w_Processed_IXI_with_csv/IXI/sub-IXI312/ses-1/run-1/anat/sub-IXI312_acq-Philips-1.5T_segmask_mni_registered_T1w.nii  \n",
            "  inflating: ../data/T1w_Processed_IXI_with_csv/IXI/sub-IXI313/ses-1/run-1/anat/sub-IXI313_acq-Philips-3.0T_mni_registered_T1w.nii  \n",
            "  inflating: ../data/T1w_Processed_IXI_with_csv/IXI/sub-IXI313/ses-1/run-1/anat/sub-IXI313_acq-Philips-3.0T_segmask_mni_registered_T1w.nii  \n",
            "  inflating: ../data/T1w_Processed_IXI_with_csv/IXI/sub-IXI314/ses-1/run-1/anat/sub-IXI314_acq-GE-1.5T_mni_registered_T1w.nii  \n",
            "  inflating: ../data/T1w_Processed_IXI_with_csv/IXI/sub-IXI314/ses-1/run-1/anat/sub-IXI314_acq-GE-1.5T_segmask_mni_registered_T1w.nii  \n",
            "  inflating: ../data/T1w_Processed_IXI_with_csv/IXI/sub-IXI315/ses-1/run-1/anat/sub-IXI315_acq-GE-1.5T_mni_registered_T1w.nii  \n",
            "  inflating: ../data/T1w_Processed_IXI_with_csv/IXI/sub-IXI315/ses-1/run-1/anat/sub-IXI315_acq-GE-1.5T_segmask_mni_registered_T1w.nii  \n",
            "  inflating: ../data/T1w_Processed_IXI_with_csv/IXI/sub-IXI316/ses-1/run-1/anat/sub-IXI316_acq-Philips-3.0T_mni_registered_T1w.nii  \n",
            "  inflating: ../data/T1w_Processed_IXI_with_csv/IXI/sub-IXI316/ses-1/run-1/anat/sub-IXI316_acq-Philips-3.0T_segmask_mni_registered_T1w.nii  \n",
            "  inflating: ../data/T1w_Processed_IXI_with_csv/IXI/sub-IXI317/ses-1/run-1/anat/sub-IXI317_acq-Philips-1.5T_mni_registered_T1w.nii  \n",
            "  inflating: ../data/T1w_Processed_IXI_with_csv/IXI/sub-IXI317/ses-1/run-1/anat/sub-IXI317_acq-Philips-1.5T_segmask_mni_registered_T1w.nii  \n",
            "  inflating: ../data/T1w_Processed_IXI_with_csv/IXI/sub-IXI318/ses-1/run-1/anat/sub-IXI318_acq-Philips-1.5T_mni_registered_T1w.nii  \n",
            "  inflating: ../data/T1w_Processed_IXI_with_csv/IXI/sub-IXI318/ses-1/run-1/anat/sub-IXI318_acq-Philips-1.5T_segmask_mni_registered_T1w.nii  \n",
            "  inflating: ../data/T1w_Processed_IXI_with_csv/IXI/sub-IXI319/ses-1/run-1/anat/sub-IXI319_acq-Philips-1.5T_mni_registered_T1w.nii  \n",
            "  inflating: ../data/T1w_Processed_IXI_with_csv/IXI/sub-IXI319/ses-1/run-1/anat/sub-IXI319_acq-Philips-1.5T_segmask_mni_registered_T1w.nii  \n",
            "  inflating: ../data/T1w_Processed_IXI_with_csv/IXI/sub-IXI320/ses-1/run-1/anat/sub-IXI320_acq-Philips-1.5T_mni_registered_T1w.nii  \n",
            "  inflating: ../data/T1w_Processed_IXI_with_csv/IXI/sub-IXI320/ses-1/run-1/anat/sub-IXI320_acq-Philips-1.5T_segmask_mni_registered_T1w.nii  \n",
            "  inflating: ../data/T1w_Processed_IXI_with_csv/IXI/sub-IXI321/ses-1/run-1/anat/sub-IXI321_acq-Philips-1.5T_mni_registered_T1w.nii  \n",
            "  inflating: ../data/T1w_Processed_IXI_with_csv/IXI/sub-IXI321/ses-1/run-1/anat/sub-IXI321_acq-Philips-1.5T_segmask_mni_registered_T1w.nii  \n",
            "  inflating: ../data/T1w_Processed_IXI_with_csv/IXI/sub-IXI322/ses-1/run-1/anat/sub-IXI322_acq-GE-1.5T_mni_registered_T1w.nii  \n",
            "  inflating: ../data/T1w_Processed_IXI_with_csv/IXI/sub-IXI322/ses-1/run-1/anat/sub-IXI322_acq-GE-1.5T_segmask_mni_registered_T1w.nii  \n",
            "  inflating: ../data/T1w_Processed_IXI_with_csv/IXI/sub-IXI324/ses-1/run-1/anat/sub-IXI324_acq-Philips-1.5T_mni_registered_T1w.nii  \n",
            "  inflating: ../data/T1w_Processed_IXI_with_csv/IXI/sub-IXI324/ses-1/run-1/anat/sub-IXI324_acq-Philips-1.5T_segmask_mni_registered_T1w.nii  \n",
            "  inflating: ../data/T1w_Processed_IXI_with_csv/IXI/sub-IXI325/ses-1/run-1/anat/sub-IXI325_acq-Philips-1.5T_mni_registered_T1w.nii  \n",
            "  inflating: ../data/T1w_Processed_IXI_with_csv/IXI/sub-IXI325/ses-1/run-1/anat/sub-IXI325_acq-Philips-1.5T_segmask_mni_registered_T1w.nii  \n",
            "  inflating: ../data/T1w_Processed_IXI_with_csv/IXI/sub-IXI326/ses-1/run-1/anat/sub-IXI326_acq-Philips-1.5T_mni_registered_T1w.nii  \n",
            "  inflating: ../data/T1w_Processed_IXI_with_csv/IXI/sub-IXI326/ses-1/run-1/anat/sub-IXI326_acq-Philips-1.5T_segmask_mni_registered_T1w.nii  \n",
            "  inflating: ../data/T1w_Processed_IXI_with_csv/IXI/sub-IXI327/ses-1/run-1/anat/sub-IXI327_acq-Philips-3.0T_mni_registered_T1w.nii  \n",
            "  inflating: ../data/T1w_Processed_IXI_with_csv/IXI/sub-IXI327/ses-1/run-1/anat/sub-IXI327_acq-Philips-3.0T_segmask_mni_registered_T1w.nii  \n",
            "  inflating: ../data/T1w_Processed_IXI_with_csv/IXI/sub-IXI328/ses-1/run-1/anat/sub-IXI328_acq-Philips-3.0T_mni_registered_T1w.nii  \n",
            "  inflating: ../data/T1w_Processed_IXI_with_csv/IXI/sub-IXI328/ses-1/run-1/anat/sub-IXI328_acq-Philips-3.0T_segmask_mni_registered_T1w.nii  \n",
            "  inflating: ../data/T1w_Processed_IXI_with_csv/IXI/sub-IXI329/ses-1/run-1/anat/sub-IXI329_acq-Philips-3.0T_mni_registered_T1w.nii  \n",
            "  inflating: ../data/T1w_Processed_IXI_with_csv/IXI/sub-IXI329/ses-1/run-1/anat/sub-IXI329_acq-Philips-3.0T_segmask_mni_registered_T1w.nii  \n",
            "  inflating: ../data/T1w_Processed_IXI_with_csv/IXI/sub-IXI330/ses-1/run-1/anat/sub-IXI330_acq-Philips-1.5T_mni_registered_T1w.nii  \n",
            "  inflating: ../data/T1w_Processed_IXI_with_csv/IXI/sub-IXI330/ses-1/run-1/anat/sub-IXI330_acq-Philips-1.5T_segmask_mni_registered_T1w.nii  \n",
            "  inflating: ../data/T1w_Processed_IXI_with_csv/IXI/sub-IXI331/ses-1/run-1/anat/sub-IXI331_acq-GE-1.5T_mni_registered_T1w.nii  \n",
            "  inflating: ../data/T1w_Processed_IXI_with_csv/IXI/sub-IXI331/ses-1/run-1/anat/sub-IXI331_acq-GE-1.5T_segmask_mni_registered_T1w.nii  \n",
            "  inflating: ../data/T1w_Processed_IXI_with_csv/IXI/sub-IXI332/ses-1/run-1/anat/sub-IXI332_acq-GE-1.5T_mni_registered_T1w.nii  \n",
            "  inflating: ../data/T1w_Processed_IXI_with_csv/IXI/sub-IXI332/ses-1/run-1/anat/sub-IXI332_acq-GE-1.5T_segmask_mni_registered_T1w.nii  \n",
            "  inflating: ../data/T1w_Processed_IXI_with_csv/IXI/sub-IXI333/ses-1/run-1/anat/sub-IXI333_acq-GE-1.5T_mni_registered_T1w.nii  \n",
            "  inflating: ../data/T1w_Processed_IXI_with_csv/IXI/sub-IXI333/ses-1/run-1/anat/sub-IXI333_acq-GE-1.5T_segmask_mni_registered_T1w.nii  \n",
            "  inflating: ../data/T1w_Processed_IXI_with_csv/IXI/sub-IXI334/ses-1/run-1/anat/sub-IXI334_acq-Philips-3.0T_mni_registered_T1w.nii  \n",
            "  inflating: ../data/T1w_Processed_IXI_with_csv/IXI/sub-IXI334/ses-1/run-1/anat/sub-IXI334_acq-Philips-3.0T_segmask_mni_registered_T1w.nii  \n",
            "  inflating: ../data/T1w_Processed_IXI_with_csv/IXI/sub-IXI335/ses-1/run-1/anat/sub-IXI335_acq-Philips-3.0T_mni_registered_T1w.nii  \n",
            "  inflating: ../data/T1w_Processed_IXI_with_csv/IXI/sub-IXI335/ses-1/run-1/anat/sub-IXI335_acq-Philips-3.0T_segmask_mni_registered_T1w.nii  \n",
            "  inflating: ../data/T1w_Processed_IXI_with_csv/IXI/sub-IXI336/ses-1/run-1/anat/sub-IXI336_acq-Philips-1.5T_mni_registered_T1w.nii  \n",
            "  inflating: ../data/T1w_Processed_IXI_with_csv/IXI/sub-IXI336/ses-1/run-1/anat/sub-IXI336_acq-Philips-1.5T_segmask_mni_registered_T1w.nii  \n",
            "  inflating: ../data/T1w_Processed_IXI_with_csv/IXI/sub-IXI337/ses-1/run-1/anat/sub-IXI337_acq-GE-1.5T_mni_registered_T1w.nii  \n",
            "  inflating: ../data/T1w_Processed_IXI_with_csv/IXI/sub-IXI337/ses-1/run-1/anat/sub-IXI337_acq-GE-1.5T_segmask_mni_registered_T1w.nii  \n",
            "  inflating: ../data/T1w_Processed_IXI_with_csv/IXI/sub-IXI338/ses-1/run-1/anat/sub-IXI338_acq-Philips-3.0T_mni_registered_T1w.nii  \n",
            "  inflating: ../data/T1w_Processed_IXI_with_csv/IXI/sub-IXI338/ses-1/run-1/anat/sub-IXI338_acq-Philips-3.0T_segmask_mni_registered_T1w.nii  \n",
            "  inflating: ../data/T1w_Processed_IXI_with_csv/IXI/sub-IXI340/ses-1/run-1/anat/sub-IXI340_acq-GE-1.5T_mni_registered_T1w.nii  \n",
            "  inflating: ../data/T1w_Processed_IXI_with_csv/IXI/sub-IXI340/ses-1/run-1/anat/sub-IXI340_acq-GE-1.5T_segmask_mni_registered_T1w.nii  \n",
            "  inflating: ../data/T1w_Processed_IXI_with_csv/IXI/sub-IXI341/ses-1/run-1/anat/sub-IXI341_acq-Philips-1.5T_mni_registered_T1w.nii  \n",
            "  inflating: ../data/T1w_Processed_IXI_with_csv/IXI/sub-IXI341/ses-1/run-1/anat/sub-IXI341_acq-Philips-1.5T_segmask_mni_registered_T1w.nii  \n",
            "  inflating: ../data/T1w_Processed_IXI_with_csv/IXI/sub-IXI342/ses-1/run-1/anat/sub-IXI342_acq-Philips-1.5T_mni_registered_T1w.nii  \n",
            "  inflating: ../data/T1w_Processed_IXI_with_csv/IXI/sub-IXI342/ses-1/run-1/anat/sub-IXI342_acq-Philips-1.5T_segmask_mni_registered_T1w.nii  \n",
            "  inflating: ../data/T1w_Processed_IXI_with_csv/IXI/sub-IXI344/ses-1/run-1/anat/sub-IXI344_acq-Philips-1.5T_mni_registered_T1w.nii  \n",
            "  inflating: ../data/T1w_Processed_IXI_with_csv/IXI/sub-IXI344/ses-1/run-1/anat/sub-IXI344_acq-Philips-1.5T_segmask_mni_registered_T1w.nii  \n",
            "  inflating: ../data/T1w_Processed_IXI_with_csv/IXI/sub-IXI345/ses-1/run-1/anat/sub-IXI345_acq-GE-1.5T_mni_registered_T1w.nii  \n",
            "  inflating: ../data/T1w_Processed_IXI_with_csv/IXI/sub-IXI345/ses-1/run-1/anat/sub-IXI345_acq-GE-1.5T_segmask_mni_registered_T1w.nii  \n",
            "  inflating: ../data/T1w_Processed_IXI_with_csv/IXI/sub-IXI347/ses-1/run-1/anat/sub-IXI347_acq-GE-1.5T_mni_registered_T1w.nii  \n",
            "  inflating: ../data/T1w_Processed_IXI_with_csv/IXI/sub-IXI347/ses-1/run-1/anat/sub-IXI347_acq-GE-1.5T_segmask_mni_registered_T1w.nii  \n",
            "  inflating: ../data/T1w_Processed_IXI_with_csv/IXI/sub-IXI348/ses-1/run-1/anat/sub-IXI348_acq-Philips-1.5T_mni_registered_T1w.nii  \n",
            "  inflating: ../data/T1w_Processed_IXI_with_csv/IXI/sub-IXI348/ses-1/run-1/anat/sub-IXI348_acq-Philips-1.5T_segmask_mni_registered_T1w.nii  \n",
            "  inflating: ../data/T1w_Processed_IXI_with_csv/IXI/sub-IXI350/ses-1/run-1/anat/sub-IXI350_acq-Philips-1.5T_mni_registered_T1w.nii  \n",
            "  inflating: ../data/T1w_Processed_IXI_with_csv/IXI/sub-IXI350/ses-1/run-1/anat/sub-IXI350_acq-Philips-1.5T_segmask_mni_registered_T1w.nii  \n",
            "  inflating: ../data/T1w_Processed_IXI_with_csv/IXI/sub-IXI351/ses-1/run-1/anat/sub-IXI351_acq-Philips-1.5T_mni_registered_T1w.nii  \n",
            "  inflating: ../data/T1w_Processed_IXI_with_csv/IXI/sub-IXI351/ses-1/run-1/anat/sub-IXI351_acq-Philips-1.5T_segmask_mni_registered_T1w.nii  \n",
            "  inflating: ../data/T1w_Processed_IXI_with_csv/IXI/sub-IXI353/ses-1/run-1/anat/sub-IXI353_acq-Philips-3.0T_mni_registered_T1w.nii  \n",
            "  inflating: ../data/T1w_Processed_IXI_with_csv/IXI/sub-IXI353/ses-1/run-1/anat/sub-IXI353_acq-Philips-3.0T_segmask_mni_registered_T1w.nii  \n",
            "  inflating: ../data/T1w_Processed_IXI_with_csv/IXI/sub-IXI354/ses-1/run-1/anat/sub-IXI354_acq-Philips-3.0T_mni_registered_T1w.nii  \n",
            "  inflating: ../data/T1w_Processed_IXI_with_csv/IXI/sub-IXI354/ses-1/run-1/anat/sub-IXI354_acq-Philips-3.0T_segmask_mni_registered_T1w.nii  \n",
            "  inflating: ../data/T1w_Processed_IXI_with_csv/IXI/sub-IXI356/ses-1/run-1/anat/sub-IXI356_acq-Philips-3.0T_mni_registered_T1w.nii  \n",
            "  inflating: ../data/T1w_Processed_IXI_with_csv/IXI/sub-IXI356/ses-1/run-1/anat/sub-IXI356_acq-Philips-3.0T_segmask_mni_registered_T1w.nii  \n",
            "  inflating: ../data/T1w_Processed_IXI_with_csv/IXI/sub-IXI357/ses-1/run-1/anat/sub-IXI357_acq-Philips-3.0T_mni_registered_T1w.nii  \n",
            "  inflating: ../data/T1w_Processed_IXI_with_csv/IXI/sub-IXI357/ses-1/run-1/anat/sub-IXI357_acq-Philips-3.0T_segmask_mni_registered_T1w.nii  \n",
            "  inflating: ../data/T1w_Processed_IXI_with_csv/IXI/sub-IXI358/ses-1/run-1/anat/sub-IXI358_acq-Philips-1.5T_mni_registered_T1w.nii  \n",
            "  inflating: ../data/T1w_Processed_IXI_with_csv/IXI/sub-IXI358/ses-1/run-1/anat/sub-IXI358_acq-Philips-1.5T_segmask_mni_registered_T1w.nii  \n",
            "  inflating: ../data/T1w_Processed_IXI_with_csv/IXI/sub-IXI359/ses-1/run-1/anat/sub-IXI359_acq-Philips-1.5T_mni_registered_T1w.nii  \n",
            "  inflating: ../data/T1w_Processed_IXI_with_csv/IXI/sub-IXI359/ses-1/run-1/anat/sub-IXI359_acq-Philips-1.5T_segmask_mni_registered_T1w.nii  \n",
            "  inflating: ../data/T1w_Processed_IXI_with_csv/IXI/sub-IXI360/ses-1/run-1/anat/sub-IXI360_acq-Philips-1.5T_mni_registered_T1w.nii  \n",
            "  inflating: ../data/T1w_Processed_IXI_with_csv/IXI/sub-IXI360/ses-1/run-1/anat/sub-IXI360_acq-Philips-1.5T_segmask_mni_registered_T1w.nii  \n",
            "  inflating: ../data/T1w_Processed_IXI_with_csv/IXI/sub-IXI361/ses-1/run-1/anat/sub-IXI361_acq-Philips-1.5T_mni_registered_T1w.nii  \n",
            "  inflating: ../data/T1w_Processed_IXI_with_csv/IXI/sub-IXI361/ses-1/run-1/anat/sub-IXI361_acq-Philips-1.5T_segmask_mni_registered_T1w.nii  \n",
            "  inflating: ../data/T1w_Processed_IXI_with_csv/IXI/sub-IXI362/ses-1/run-1/anat/sub-IXI362_acq-Philips-3.0T_mni_registered_T1w.nii  \n",
            "  inflating: ../data/T1w_Processed_IXI_with_csv/IXI/sub-IXI362/ses-1/run-1/anat/sub-IXI362_acq-Philips-3.0T_segmask_mni_registered_T1w.nii  \n",
            "  inflating: ../data/T1w_Processed_IXI_with_csv/IXI/sub-IXI363/ses-1/run-1/anat/sub-IXI363_acq-Philips-3.0T_mni_registered_T1w.nii  \n",
            "  inflating: ../data/T1w_Processed_IXI_with_csv/IXI/sub-IXI363/ses-1/run-1/anat/sub-IXI363_acq-Philips-3.0T_segmask_mni_registered_T1w.nii  \n",
            "  inflating: ../data/T1w_Processed_IXI_with_csv/IXI/sub-IXI364/ses-1/run-1/anat/sub-IXI364_acq-Philips-1.5T_mni_registered_T1w.nii  \n",
            "  inflating: ../data/T1w_Processed_IXI_with_csv/IXI/sub-IXI364/ses-1/run-1/anat/sub-IXI364_acq-Philips-1.5T_segmask_mni_registered_T1w.nii  \n",
            "  inflating: ../data/T1w_Processed_IXI_with_csv/IXI/sub-IXI365/ses-1/run-1/anat/sub-IXI365_acq-Philips-1.5T_mni_registered_T1w.nii  \n",
            "  inflating: ../data/T1w_Processed_IXI_with_csv/IXI/sub-IXI365/ses-1/run-1/anat/sub-IXI365_acq-Philips-1.5T_segmask_mni_registered_T1w.nii  \n",
            "  inflating: ../data/T1w_Processed_IXI_with_csv/IXI/sub-IXI367/ses-1/run-1/anat/sub-IXI367_acq-Philips-1.5T_mni_registered_T1w.nii  \n",
            "  inflating: ../data/T1w_Processed_IXI_with_csv/IXI/sub-IXI367/ses-1/run-1/anat/sub-IXI367_acq-Philips-1.5T_segmask_mni_registered_T1w.nii  \n",
            "  inflating: ../data/T1w_Processed_IXI_with_csv/IXI/sub-IXI368/ses-1/run-1/anat/sub-IXI368_acq-Philips-1.5T_mni_registered_T1w.nii  \n",
            "  inflating: ../data/T1w_Processed_IXI_with_csv/IXI/sub-IXI368/ses-1/run-1/anat/sub-IXI368_acq-Philips-1.5T_segmask_mni_registered_T1w.nii  \n",
            "  inflating: ../data/T1w_Processed_IXI_with_csv/IXI/sub-IXI369/ses-1/run-1/anat/sub-IXI369_acq-Philips-1.5T_mni_registered_T1w.nii  \n",
            "  inflating: ../data/T1w_Processed_IXI_with_csv/IXI/sub-IXI369/ses-1/run-1/anat/sub-IXI369_acq-Philips-1.5T_segmask_mni_registered_T1w.nii  \n",
            "  inflating: ../data/T1w_Processed_IXI_with_csv/IXI/sub-IXI370/ses-1/run-1/anat/sub-IXI370_acq-Philips-1.5T_mni_registered_T1w.nii  \n",
            "  inflating: ../data/T1w_Processed_IXI_with_csv/IXI/sub-IXI370/ses-1/run-1/anat/sub-IXI370_acq-Philips-1.5T_segmask_mni_registered_T1w.nii  \n",
            "  inflating: ../data/T1w_Processed_IXI_with_csv/IXI/sub-IXI371/ses-1/run-1/anat/sub-IXI371_acq-GE-1.5T_mni_registered_T1w.nii  \n",
            "  inflating: ../data/T1w_Processed_IXI_with_csv/IXI/sub-IXI371/ses-1/run-1/anat/sub-IXI371_acq-GE-1.5T_segmask_mni_registered_T1w.nii  \n",
            "  inflating: ../data/T1w_Processed_IXI_with_csv/IXI/sub-IXI372/ses-1/run-1/anat/sub-IXI372_acq-GE-1.5T_mni_registered_T1w.nii  \n",
            "  inflating: ../data/T1w_Processed_IXI_with_csv/IXI/sub-IXI372/ses-1/run-1/anat/sub-IXI372_acq-GE-1.5T_segmask_mni_registered_T1w.nii  \n",
            "  inflating: ../data/T1w_Processed_IXI_with_csv/IXI/sub-IXI373/ses-1/run-1/anat/sub-IXI373_acq-GE-1.5T_mni_registered_T1w.nii  \n",
            "  inflating: ../data/T1w_Processed_IXI_with_csv/IXI/sub-IXI373/ses-1/run-1/anat/sub-IXI373_acq-GE-1.5T_segmask_mni_registered_T1w.nii  \n",
            "  inflating: ../data/T1w_Processed_IXI_with_csv/IXI/sub-IXI375/ses-1/run-1/anat/sub-IXI375_acq-Philips-1.5T_mni_registered_T1w.nii  \n",
            "  inflating: ../data/T1w_Processed_IXI_with_csv/IXI/sub-IXI375/ses-1/run-1/anat/sub-IXI375_acq-Philips-1.5T_segmask_mni_registered_T1w.nii  \n",
            "  inflating: ../data/T1w_Processed_IXI_with_csv/IXI/sub-IXI376/ses-1/run-1/anat/sub-IXI376_acq-Philips-1.5T_mni_registered_T1w.nii  \n",
            "  inflating: ../data/T1w_Processed_IXI_with_csv/IXI/sub-IXI376/ses-1/run-1/anat/sub-IXI376_acq-Philips-1.5T_segmask_mni_registered_T1w.nii  \n",
            "  inflating: ../data/T1w_Processed_IXI_with_csv/IXI/sub-IXI377/ses-1/run-1/anat/sub-IXI377_acq-Philips-1.5T_mni_registered_T1w.nii  \n",
            "  inflating: ../data/T1w_Processed_IXI_with_csv/IXI/sub-IXI377/ses-1/run-1/anat/sub-IXI377_acq-Philips-1.5T_segmask_mni_registered_T1w.nii  \n",
            "  inflating: ../data/T1w_Processed_IXI_with_csv/IXI/sub-IXI378/ses-1/run-1/anat/sub-IXI378_acq-GE-1.5T_mni_registered_T1w.nii  \n",
            "  inflating: ../data/T1w_Processed_IXI_with_csv/IXI/sub-IXI378/ses-1/run-1/anat/sub-IXI378_acq-GE-1.5T_segmask_mni_registered_T1w.nii  \n",
            "  inflating: ../data/T1w_Processed_IXI_with_csv/IXI/sub-IXI379/ses-1/run-1/anat/sub-IXI379_acq-Philips-1.5T_mni_registered_T1w.nii  \n",
            "  inflating: ../data/T1w_Processed_IXI_with_csv/IXI/sub-IXI379/ses-1/run-1/anat/sub-IXI379_acq-Philips-1.5T_segmask_mni_registered_T1w.nii  \n",
            "  inflating: ../data/T1w_Processed_IXI_with_csv/IXI/sub-IXI380/ses-1/run-1/anat/sub-IXI380_acq-Philips-1.5T_mni_registered_T1w.nii  \n",
            "  inflating: ../data/T1w_Processed_IXI_with_csv/IXI/sub-IXI380/ses-1/run-1/anat/sub-IXI380_acq-Philips-1.5T_segmask_mni_registered_T1w.nii  \n",
            "  inflating: ../data/T1w_Processed_IXI_with_csv/IXI/sub-IXI381/ses-1/run-1/anat/sub-IXI381_acq-Philips-1.5T_mni_registered_T1w.nii  \n",
            "  inflating: ../data/T1w_Processed_IXI_with_csv/IXI/sub-IXI381/ses-1/run-1/anat/sub-IXI381_acq-Philips-1.5T_segmask_mni_registered_T1w.nii  \n",
            "  inflating: ../data/T1w_Processed_IXI_with_csv/IXI/sub-IXI382/ses-1/run-1/anat/sub-IXI382_acq-GE-1.5T_mni_registered_T1w.nii  \n",
            "  inflating: ../data/T1w_Processed_IXI_with_csv/IXI/sub-IXI382/ses-1/run-1/anat/sub-IXI382_acq-GE-1.5T_segmask_mni_registered_T1w.nii  \n",
            "  inflating: ../data/T1w_Processed_IXI_with_csv/IXI/sub-IXI383/ses-1/run-1/anat/sub-IXI383_acq-Philips-3.0T_mni_registered_T1w.nii  \n",
            "  inflating: ../data/T1w_Processed_IXI_with_csv/IXI/sub-IXI383/ses-1/run-1/anat/sub-IXI383_acq-Philips-3.0T_segmask_mni_registered_T1w.nii  \n",
            "  inflating: ../data/T1w_Processed_IXI_with_csv/IXI/sub-IXI384/ses-1/run-1/anat/sub-IXI384_acq-Philips-3.0T_mni_registered_T1w.nii  \n",
            "  inflating: ../data/T1w_Processed_IXI_with_csv/IXI/sub-IXI384/ses-1/run-1/anat/sub-IXI384_acq-Philips-3.0T_segmask_mni_registered_T1w.nii  \n",
            "  inflating: ../data/T1w_Processed_IXI_with_csv/IXI/sub-IXI385/ses-1/run-1/anat/sub-IXI385_acq-Philips-3.0T_mni_registered_T1w.nii  \n",
            "  inflating: ../data/T1w_Processed_IXI_with_csv/IXI/sub-IXI385/ses-1/run-1/anat/sub-IXI385_acq-Philips-3.0T_segmask_mni_registered_T1w.nii  \n",
            "  inflating: ../data/T1w_Processed_IXI_with_csv/IXI/sub-IXI386/ses-1/run-1/anat/sub-IXI386_acq-Philips-3.0T_mni_registered_T1w.nii  \n",
            "  inflating: ../data/T1w_Processed_IXI_with_csv/IXI/sub-IXI386/ses-1/run-1/anat/sub-IXI386_acq-Philips-3.0T_segmask_mni_registered_T1w.nii  \n",
            "  inflating: ../data/T1w_Processed_IXI_with_csv/IXI/sub-IXI387/ses-1/run-1/anat/sub-IXI387_acq-Philips-3.0T_mni_registered_T1w.nii  \n",
            "  inflating: ../data/T1w_Processed_IXI_with_csv/IXI/sub-IXI387/ses-1/run-1/anat/sub-IXI387_acq-Philips-3.0T_segmask_mni_registered_T1w.nii  \n",
            "  inflating: ../data/T1w_Processed_IXI_with_csv/IXI/sub-IXI388/ses-1/run-1/anat/sub-IXI388_acq-GE-1.5T_mni_registered_T1w.nii  \n",
            "  inflating: ../data/T1w_Processed_IXI_with_csv/IXI/sub-IXI388/ses-1/run-1/anat/sub-IXI388_acq-GE-1.5T_segmask_mni_registered_T1w.nii  \n",
            "  inflating: ../data/T1w_Processed_IXI_with_csv/IXI/sub-IXI389/ses-1/run-1/anat/sub-IXI389_acq-Philips-1.5T_mni_registered_T1w.nii  \n",
            "  inflating: ../data/T1w_Processed_IXI_with_csv/IXI/sub-IXI389/ses-1/run-1/anat/sub-IXI389_acq-Philips-1.5T_segmask_mni_registered_T1w.nii  \n",
            "  inflating: ../data/T1w_Processed_IXI_with_csv/IXI/sub-IXI390/ses-1/run-1/anat/sub-IXI390_acq-Philips-1.5T_mni_registered_T1w.nii  \n",
            "  inflating: ../data/T1w_Processed_IXI_with_csv/IXI/sub-IXI390/ses-1/run-1/anat/sub-IXI390_acq-Philips-1.5T_segmask_mni_registered_T1w.nii  \n",
            "  inflating: ../data/T1w_Processed_IXI_with_csv/IXI/sub-IXI391/ses-1/run-1/anat/sub-IXI391_acq-Philips-1.5T_mni_registered_T1w.nii  \n",
            "  inflating: ../data/T1w_Processed_IXI_with_csv/IXI/sub-IXI391/ses-1/run-1/anat/sub-IXI391_acq-Philips-1.5T_segmask_mni_registered_T1w.nii  \n",
            "  inflating: ../data/T1w_Processed_IXI_with_csv/IXI/sub-IXI392/ses-1/run-1/anat/sub-IXI392_acq-Philips-1.5T_mni_registered_T1w.nii  \n",
            "  inflating: ../data/T1w_Processed_IXI_with_csv/IXI/sub-IXI392/ses-1/run-1/anat/sub-IXI392_acq-Philips-1.5T_segmask_mni_registered_T1w.nii  \n",
            "  inflating: ../data/T1w_Processed_IXI_with_csv/IXI/sub-IXI393/ses-1/run-1/anat/sub-IXI393_acq-Philips-1.5T_mni_registered_T1w.nii  \n",
            "  inflating: ../data/T1w_Processed_IXI_with_csv/IXI/sub-IXI393/ses-1/run-1/anat/sub-IXI393_acq-Philips-1.5T_segmask_mni_registered_T1w.nii  \n",
            "  inflating: ../data/T1w_Processed_IXI_with_csv/IXI/sub-IXI394/ses-1/run-1/anat/sub-IXI394_acq-Philips-1.5T_mni_registered_T1w.nii  \n",
            "  inflating: ../data/T1w_Processed_IXI_with_csv/IXI/sub-IXI394/ses-1/run-1/anat/sub-IXI394_acq-Philips-1.5T_segmask_mni_registered_T1w.nii  \n",
            "  inflating: ../data/T1w_Processed_IXI_with_csv/IXI/sub-IXI395/ses-1/run-1/anat/sub-IXI395_acq-GE-1.5T_mni_registered_T1w.nii  \n",
            "  inflating: ../data/T1w_Processed_IXI_with_csv/IXI/sub-IXI395/ses-1/run-1/anat/sub-IXI395_acq-GE-1.5T_segmask_mni_registered_T1w.nii  \n",
            "  inflating: ../data/T1w_Processed_IXI_with_csv/IXI/sub-IXI396/ses-1/run-1/anat/sub-IXI396_acq-Philips-3.0T_mni_registered_T1w.nii  \n",
            "  inflating: ../data/T1w_Processed_IXI_with_csv/IXI/sub-IXI396/ses-1/run-1/anat/sub-IXI396_acq-Philips-3.0T_segmask_mni_registered_T1w.nii  \n",
            "  inflating: ../data/T1w_Processed_IXI_with_csv/IXI/sub-IXI397/ses-1/run-1/anat/sub-IXI397_acq-Philips-1.5T_mni_registered_T1w.nii  \n",
            "  inflating: ../data/T1w_Processed_IXI_with_csv/IXI/sub-IXI397/ses-1/run-1/anat/sub-IXI397_acq-Philips-1.5T_segmask_mni_registered_T1w.nii  \n",
            "  inflating: ../data/T1w_Processed_IXI_with_csv/IXI/sub-IXI398/ses-1/run-1/anat/sub-IXI398_acq-Philips-1.5T_mni_registered_T1w.nii  \n",
            "  inflating: ../data/T1w_Processed_IXI_with_csv/IXI/sub-IXI398/ses-1/run-1/anat/sub-IXI398_acq-Philips-1.5T_segmask_mni_registered_T1w.nii  \n",
            "  inflating: ../data/T1w_Processed_IXI_with_csv/IXI/sub-IXI399/ses-1/run-1/anat/sub-IXI399_acq-Philips-1.5T_mni_registered_T1w.nii  \n",
            "  inflating: ../data/T1w_Processed_IXI_with_csv/IXI/sub-IXI399/ses-1/run-1/anat/sub-IXI399_acq-Philips-1.5T_segmask_mni_registered_T1w.nii  \n",
            "  inflating: ../data/T1w_Processed_IXI_with_csv/IXI/sub-IXI400/ses-1/run-1/anat/sub-IXI400_acq-Philips-1.5T_mni_registered_T1w.nii  \n",
            "  inflating: ../data/T1w_Processed_IXI_with_csv/IXI/sub-IXI400/ses-1/run-1/anat/sub-IXI400_acq-Philips-1.5T_segmask_mni_registered_T1w.nii  \n",
            "  inflating: ../data/T1w_Processed_IXI_with_csv/IXI/sub-IXI401/ses-1/run-1/anat/sub-IXI401_acq-Philips-1.5T_mni_registered_T1w.nii  \n",
            "  inflating: ../data/T1w_Processed_IXI_with_csv/IXI/sub-IXI401/ses-1/run-1/anat/sub-IXI401_acq-Philips-1.5T_segmask_mni_registered_T1w.nii  \n",
            "  inflating: ../data/T1w_Processed_IXI_with_csv/IXI/sub-IXI402/ses-1/run-1/anat/sub-IXI402_acq-Philips-1.5T_mni_registered_T1w.nii  \n",
            "  inflating: ../data/T1w_Processed_IXI_with_csv/IXI/sub-IXI402/ses-1/run-1/anat/sub-IXI402_acq-Philips-1.5T_segmask_mni_registered_T1w.nii  \n",
            "  inflating: ../data/T1w_Processed_IXI_with_csv/IXI/sub-IXI403/ses-1/run-1/anat/sub-IXI403_acq-Philips-1.5T_mni_registered_T1w.nii  \n",
            "  inflating: ../data/T1w_Processed_IXI_with_csv/IXI/sub-IXI403/ses-1/run-1/anat/sub-IXI403_acq-Philips-1.5T_segmask_mni_registered_T1w.nii  \n",
            "  inflating: ../data/T1w_Processed_IXI_with_csv/IXI/sub-IXI404/ses-1/run-1/anat/sub-IXI404_acq-Philips-1.5T_mni_registered_T1w.nii  \n",
            "  inflating: ../data/T1w_Processed_IXI_with_csv/IXI/sub-IXI404/ses-1/run-1/anat/sub-IXI404_acq-Philips-1.5T_segmask_mni_registered_T1w.nii  \n",
            "  inflating: ../data/T1w_Processed_IXI_with_csv/IXI/sub-IXI405/ses-1/run-1/anat/sub-IXI405_acq-Philips-1.5T_mni_registered_T1w.nii  \n",
            "  inflating: ../data/T1w_Processed_IXI_with_csv/IXI/sub-IXI405/ses-1/run-1/anat/sub-IXI405_acq-Philips-1.5T_segmask_mni_registered_T1w.nii  \n",
            "  inflating: ../data/T1w_Processed_IXI_with_csv/IXI/sub-IXI406/ses-1/run-1/anat/sub-IXI406_acq-Philips-1.5T_mni_registered_T1w.nii  \n",
            "  inflating: ../data/T1w_Processed_IXI_with_csv/IXI/sub-IXI406/ses-1/run-1/anat/sub-IXI406_acq-Philips-1.5T_segmask_mni_registered_T1w.nii  \n",
            "  inflating: ../data/T1w_Processed_IXI_with_csv/IXI/sub-IXI407/ses-1/run-1/anat/sub-IXI407_acq-Philips-1.5T_mni_registered_T1w.nii  \n",
            "  inflating: ../data/T1w_Processed_IXI_with_csv/IXI/sub-IXI407/ses-1/run-1/anat/sub-IXI407_acq-Philips-1.5T_segmask_mni_registered_T1w.nii  \n",
            "  inflating: ../data/T1w_Processed_IXI_with_csv/IXI/sub-IXI408/ses-1/run-1/anat/sub-IXI408_acq-Philips-1.5T_mni_registered_T1w.nii  \n",
            "  inflating: ../data/T1w_Processed_IXI_with_csv/IXI/sub-IXI408/ses-1/run-1/anat/sub-IXI408_acq-Philips-1.5T_segmask_mni_registered_T1w.nii  \n",
            "  inflating: ../data/T1w_Processed_IXI_with_csv/IXI/sub-IXI409/ses-1/run-1/anat/sub-IXI409_acq-Philips-1.5T_mni_registered_T1w.nii  \n",
            "  inflating: ../data/T1w_Processed_IXI_with_csv/IXI/sub-IXI409/ses-1/run-1/anat/sub-IXI409_acq-Philips-1.5T_segmask_mni_registered_T1w.nii  \n",
            "  inflating: ../data/T1w_Processed_IXI_with_csv/IXI/sub-IXI410/ses-1/run-1/anat/sub-IXI410_acq-Philips-1.5T_mni_registered_T1w.nii  \n",
            "  inflating: ../data/T1w_Processed_IXI_with_csv/IXI/sub-IXI410/ses-1/run-1/anat/sub-IXI410_acq-Philips-1.5T_segmask_mni_registered_T1w.nii  \n",
            "  inflating: ../data/T1w_Processed_IXI_with_csv/IXI/sub-IXI411/ses-1/run-1/anat/sub-IXI411_acq-Philips-1.5T_mni_registered_T1w.nii  \n",
            "  inflating: ../data/T1w_Processed_IXI_with_csv/IXI/sub-IXI411/ses-1/run-1/anat/sub-IXI411_acq-Philips-1.5T_segmask_mni_registered_T1w.nii  \n",
            "  inflating: ../data/T1w_Processed_IXI_with_csv/IXI/sub-IXI412/ses-1/run-1/anat/sub-IXI412_acq-Philips-1.5T_mni_registered_T1w.nii  \n",
            "  inflating: ../data/T1w_Processed_IXI_with_csv/IXI/sub-IXI412/ses-1/run-1/anat/sub-IXI412_acq-Philips-1.5T_segmask_mni_registered_T1w.nii  \n",
            "  inflating: ../data/T1w_Processed_IXI_with_csv/IXI/sub-IXI413/ses-1/run-1/anat/sub-IXI413_acq-Philips-1.5T_mni_registered_T1w.nii  \n",
            "  inflating: ../data/T1w_Processed_IXI_with_csv/IXI/sub-IXI413/ses-1/run-1/anat/sub-IXI413_acq-Philips-1.5T_segmask_mni_registered_T1w.nii  \n",
            "  inflating: ../data/T1w_Processed_IXI_with_csv/IXI/sub-IXI414/ses-1/run-1/anat/sub-IXI414_acq-Philips-1.5T_mni_registered_T1w.nii  \n",
            "  inflating: ../data/T1w_Processed_IXI_with_csv/IXI/sub-IXI414/ses-1/run-1/anat/sub-IXI414_acq-Philips-1.5T_segmask_mni_registered_T1w.nii  \n",
            "  inflating: ../data/T1w_Processed_IXI_with_csv/IXI/sub-IXI415/ses-1/run-1/anat/sub-IXI415_acq-Philips-1.5T_mni_registered_T1w.nii  \n",
            "  inflating: ../data/T1w_Processed_IXI_with_csv/IXI/sub-IXI415/ses-1/run-1/anat/sub-IXI415_acq-Philips-1.5T_segmask_mni_registered_T1w.nii  \n",
            "  inflating: ../data/T1w_Processed_IXI_with_csv/IXI/sub-IXI416/ses-1/run-1/anat/sub-IXI416_acq-Philips-1.5T_mni_registered_T1w.nii  \n",
            "  inflating: ../data/T1w_Processed_IXI_with_csv/IXI/sub-IXI416/ses-1/run-1/anat/sub-IXI416_acq-Philips-1.5T_segmask_mni_registered_T1w.nii  \n",
            "  inflating: ../data/T1w_Processed_IXI_with_csv/IXI/sub-IXI417/ses-1/run-1/anat/sub-IXI417_acq-Philips-1.5T_mni_registered_T1w.nii  \n",
            "  inflating: ../data/T1w_Processed_IXI_with_csv/IXI/sub-IXI417/ses-1/run-1/anat/sub-IXI417_acq-Philips-1.5T_segmask_mni_registered_T1w.nii  \n",
            "  inflating: ../data/T1w_Processed_IXI_with_csv/IXI/sub-IXI418/ses-1/run-1/anat/sub-IXI418_acq-Philips-1.5T_mni_registered_T1w.nii  \n",
            "  inflating: ../data/T1w_Processed_IXI_with_csv/IXI/sub-IXI418/ses-1/run-1/anat/sub-IXI418_acq-Philips-1.5T_segmask_mni_registered_T1w.nii  \n",
            "  inflating: ../data/T1w_Processed_IXI_with_csv/IXI/sub-IXI419/ses-1/run-1/anat/sub-IXI419_acq-Philips-1.5T_mni_registered_T1w.nii  \n",
            "  inflating: ../data/T1w_Processed_IXI_with_csv/IXI/sub-IXI419/ses-1/run-1/anat/sub-IXI419_acq-Philips-1.5T_segmask_mni_registered_T1w.nii  \n",
            "  inflating: ../data/T1w_Processed_IXI_with_csv/IXI/sub-IXI420/ses-1/run-1/anat/sub-IXI420_acq-Philips-1.5T_mni_registered_T1w.nii  \n",
            "  inflating: ../data/T1w_Processed_IXI_with_csv/IXI/sub-IXI420/ses-1/run-1/anat/sub-IXI420_acq-Philips-1.5T_segmask_mni_registered_T1w.nii  \n",
            "  inflating: ../data/T1w_Processed_IXI_with_csv/IXI/sub-IXI422/ses-1/run-1/anat/sub-IXI422_acq-Philips-1.5T_mni_registered_T1w.nii  \n",
            "  inflating: ../data/T1w_Processed_IXI_with_csv/IXI/sub-IXI422/ses-1/run-1/anat/sub-IXI422_acq-Philips-1.5T_segmask_mni_registered_T1w.nii  \n",
            "  inflating: ../data/T1w_Processed_IXI_with_csv/IXI/sub-IXI423/ses-1/run-1/anat/sub-IXI423_acq-GE-1.5T_mni_registered_T1w.nii  \n",
            "  inflating: ../data/T1w_Processed_IXI_with_csv/IXI/sub-IXI423/ses-1/run-1/anat/sub-IXI423_acq-GE-1.5T_segmask_mni_registered_T1w.nii  \n",
            "  inflating: ../data/T1w_Processed_IXI_with_csv/IXI/sub-IXI424/ses-1/run-1/anat/sub-IXI424_acq-GE-1.5T_mni_registered_T1w.nii  \n",
            "  inflating: ../data/T1w_Processed_IXI_with_csv/IXI/sub-IXI424/ses-1/run-1/anat/sub-IXI424_acq-GE-1.5T_segmask_mni_registered_T1w.nii  \n",
            "  inflating: ../data/T1w_Processed_IXI_with_csv/IXI/sub-IXI425/ses-1/run-1/anat/sub-IXI425_acq-GE-1.5T_mni_registered_T1w.nii  \n",
            "  inflating: ../data/T1w_Processed_IXI_with_csv/IXI/sub-IXI425/ses-1/run-1/anat/sub-IXI425_acq-GE-1.5T_segmask_mni_registered_T1w.nii  \n",
            "  inflating: ../data/T1w_Processed_IXI_with_csv/IXI/sub-IXI426/ses-1/run-1/anat/sub-IXI426_acq-GE-1.5T_mni_registered_T1w.nii  \n",
            "  inflating: ../data/T1w_Processed_IXI_with_csv/IXI/sub-IXI426/ses-1/run-1/anat/sub-IXI426_acq-GE-1.5T_segmask_mni_registered_T1w.nii  \n",
            "  inflating: ../data/T1w_Processed_IXI_with_csv/IXI/sub-IXI427/ses-1/run-1/anat/sub-IXI427_acq-GE-1.5T_mni_registered_T1w.nii  \n",
            "  inflating: ../data/T1w_Processed_IXI_with_csv/IXI/sub-IXI427/ses-1/run-1/anat/sub-IXI427_acq-GE-1.5T_segmask_mni_registered_T1w.nii  \n",
            "  inflating: ../data/T1w_Processed_IXI_with_csv/IXI/sub-IXI428/ses-1/run-1/anat/sub-IXI428_acq-Philips-1.5T_mni_registered_T1w.nii  \n",
            "  inflating: ../data/T1w_Processed_IXI_with_csv/IXI/sub-IXI428/ses-1/run-1/anat/sub-IXI428_acq-Philips-1.5T_segmask_mni_registered_T1w.nii  \n",
            "  inflating: ../data/T1w_Processed_IXI_with_csv/IXI/sub-IXI429/ses-1/run-1/anat/sub-IXI429_acq-Philips-1.5T_mni_registered_T1w.nii  \n",
            "  inflating: ../data/T1w_Processed_IXI_with_csv/IXI/sub-IXI429/ses-1/run-1/anat/sub-IXI429_acq-Philips-1.5T_segmask_mni_registered_T1w.nii  \n",
            "  inflating: ../data/T1w_Processed_IXI_with_csv/IXI/sub-IXI430/ses-1/run-1/anat/sub-IXI430_acq-GE-1.5T_mni_registered_T1w.nii  \n",
            "  inflating: ../data/T1w_Processed_IXI_with_csv/IXI/sub-IXI430/ses-1/run-1/anat/sub-IXI430_acq-GE-1.5T_segmask_mni_registered_T1w.nii  \n",
            "  inflating: ../data/T1w_Processed_IXI_with_csv/IXI/sub-IXI431/ses-1/run-1/anat/sub-IXI431_acq-Philips-1.5T_mni_registered_T1w.nii  \n",
            "  inflating: ../data/T1w_Processed_IXI_with_csv/IXI/sub-IXI431/ses-1/run-1/anat/sub-IXI431_acq-Philips-1.5T_segmask_mni_registered_T1w.nii  \n",
            "  inflating: ../data/T1w_Processed_IXI_with_csv/IXI/sub-IXI432/ses-1/run-1/anat/sub-IXI432_acq-Philips-1.5T_mni_registered_T1w.nii  \n",
            "  inflating: ../data/T1w_Processed_IXI_with_csv/IXI/sub-IXI432/ses-1/run-1/anat/sub-IXI432_acq-Philips-1.5T_segmask_mni_registered_T1w.nii  \n",
            "  inflating: ../data/T1w_Processed_IXI_with_csv/IXI/sub-IXI433/ses-1/run-1/anat/sub-IXI433_acq-GE-1.5T_mni_registered_T1w.nii  \n",
            "  inflating: ../data/T1w_Processed_IXI_with_csv/IXI/sub-IXI433/ses-1/run-1/anat/sub-IXI433_acq-GE-1.5T_segmask_mni_registered_T1w.nii  \n",
            "  inflating: ../data/T1w_Processed_IXI_with_csv/IXI/sub-IXI434/ses-1/run-1/anat/sub-IXI434_acq-GE-1.5T_mni_registered_T1w.nii  \n",
            "  inflating: ../data/T1w_Processed_IXI_with_csv/IXI/sub-IXI434/ses-1/run-1/anat/sub-IXI434_acq-GE-1.5T_segmask_mni_registered_T1w.nii  \n",
            "  inflating: ../data/T1w_Processed_IXI_with_csv/IXI/sub-IXI435/ses-1/run-1/anat/sub-IXI435_acq-GE-1.5T_mni_registered_T1w.nii  \n",
            "  inflating: ../data/T1w_Processed_IXI_with_csv/IXI/sub-IXI435/ses-1/run-1/anat/sub-IXI435_acq-GE-1.5T_segmask_mni_registered_T1w.nii  \n",
            "  inflating: ../data/T1w_Processed_IXI_with_csv/IXI/sub-IXI436/ses-1/run-1/anat/sub-IXI436_acq-Philips-3.0T_mni_registered_T1w.nii  \n",
            "  inflating: ../data/T1w_Processed_IXI_with_csv/IXI/sub-IXI436/ses-1/run-1/anat/sub-IXI436_acq-Philips-3.0T_segmask_mni_registered_T1w.nii  \n",
            "  inflating: ../data/T1w_Processed_IXI_with_csv/IXI/sub-IXI437/ses-1/run-1/anat/sub-IXI437_acq-Philips-3.0T_mni_registered_T1w.nii  \n",
            "  inflating: ../data/T1w_Processed_IXI_with_csv/IXI/sub-IXI437/ses-1/run-1/anat/sub-IXI437_acq-Philips-3.0T_segmask_mni_registered_T1w.nii  \n",
            "  inflating: ../data/T1w_Processed_IXI_with_csv/IXI/sub-IXI438/ses-1/run-1/anat/sub-IXI438_acq-Philips-3.0T_mni_registered_T1w.nii  \n",
            "  inflating: ../data/T1w_Processed_IXI_with_csv/IXI/sub-IXI438/ses-1/run-1/anat/sub-IXI438_acq-Philips-3.0T_segmask_mni_registered_T1w.nii  \n",
            "  inflating: ../data/T1w_Processed_IXI_with_csv/IXI/sub-IXI439/ses-1/run-1/anat/sub-IXI439_acq-Philips-3.0T_mni_registered_T1w.nii  \n",
            "  inflating: ../data/T1w_Processed_IXI_with_csv/IXI/sub-IXI439/ses-1/run-1/anat/sub-IXI439_acq-Philips-3.0T_segmask_mni_registered_T1w.nii  \n",
            "  inflating: ../data/T1w_Processed_IXI_with_csv/IXI/sub-IXI440/ses-1/run-1/anat/sub-IXI440_acq-Philips-3.0T_mni_registered_T1w.nii  \n",
            "  inflating: ../data/T1w_Processed_IXI_with_csv/IXI/sub-IXI440/ses-1/run-1/anat/sub-IXI440_acq-Philips-3.0T_segmask_mni_registered_T1w.nii  \n",
            "  inflating: ../data/T1w_Processed_IXI_with_csv/IXI/sub-IXI441/ses-1/run-1/anat/sub-IXI441_acq-Philips-3.0T_mni_registered_T1w.nii  \n",
            "  inflating: ../data/T1w_Processed_IXI_with_csv/IXI/sub-IXI441/ses-1/run-1/anat/sub-IXI441_acq-Philips-3.0T_segmask_mni_registered_T1w.nii  \n",
            "  inflating: ../data/T1w_Processed_IXI_with_csv/IXI/sub-IXI442/ses-1/run-1/anat/sub-IXI442_acq-GE-1.5T_mni_registered_T1w.nii  \n",
            "  inflating: ../data/T1w_Processed_IXI_with_csv/IXI/sub-IXI442/ses-1/run-1/anat/sub-IXI442_acq-GE-1.5T_segmask_mni_registered_T1w.nii  \n",
            "  inflating: ../data/T1w_Processed_IXI_with_csv/IXI/sub-IXI443/ses-1/run-1/anat/sub-IXI443_acq-Philips-3.0T_mni_registered_T1w.nii  \n",
            "  inflating: ../data/T1w_Processed_IXI_with_csv/IXI/sub-IXI443/ses-1/run-1/anat/sub-IXI443_acq-Philips-3.0T_segmask_mni_registered_T1w.nii  \n",
            "  inflating: ../data/T1w_Processed_IXI_with_csv/IXI/sub-IXI444/ses-1/run-1/anat/sub-IXI444_acq-Philips-3.0T_mni_registered_T1w.nii  \n",
            "  inflating: ../data/T1w_Processed_IXI_with_csv/IXI/sub-IXI444/ses-1/run-1/anat/sub-IXI444_acq-Philips-3.0T_segmask_mni_registered_T1w.nii  \n",
            "  inflating: ../data/T1w_Processed_IXI_with_csv/IXI/sub-IXI445/ses-1/run-1/anat/sub-IXI445_acq-Philips-3.0T_mni_registered_T1w.nii  \n",
            "  inflating: ../data/T1w_Processed_IXI_with_csv/IXI/sub-IXI445/ses-1/run-1/anat/sub-IXI445_acq-Philips-3.0T_segmask_mni_registered_T1w.nii  \n",
            "  inflating: ../data/T1w_Processed_IXI_with_csv/IXI/sub-IXI446/ses-1/run-1/anat/sub-IXI446_acq-Philips-3.0T_mni_registered_T1w.nii  \n",
            "  inflating: ../data/T1w_Processed_IXI_with_csv/IXI/sub-IXI446/ses-1/run-1/anat/sub-IXI446_acq-Philips-3.0T_segmask_mni_registered_T1w.nii  \n",
            "  inflating: ../data/T1w_Processed_IXI_with_csv/IXI/sub-IXI447/ses-1/run-1/anat/sub-IXI447_acq-Philips-1.5T_mni_registered_T1w.nii  \n",
            "  inflating: ../data/T1w_Processed_IXI_with_csv/IXI/sub-IXI447/ses-1/run-1/anat/sub-IXI447_acq-Philips-1.5T_segmask_mni_registered_T1w.nii  \n",
            "  inflating: ../data/T1w_Processed_IXI_with_csv/IXI/sub-IXI448/ses-1/run-1/anat/sub-IXI448_acq-Philips-3.0T_mni_registered_T1w.nii  \n",
            "  inflating: ../data/T1w_Processed_IXI_with_csv/IXI/sub-IXI448/ses-1/run-1/anat/sub-IXI448_acq-Philips-3.0T_segmask_mni_registered_T1w.nii  \n",
            "  inflating: ../data/T1w_Processed_IXI_with_csv/IXI/sub-IXI449/ses-1/run-1/anat/sub-IXI449_acq-Philips-1.5T_mni_registered_T1w.nii  \n",
            "  inflating: ../data/T1w_Processed_IXI_with_csv/IXI/sub-IXI449/ses-1/run-1/anat/sub-IXI449_acq-Philips-1.5T_segmask_mni_registered_T1w.nii  \n",
            "  inflating: ../data/T1w_Processed_IXI_with_csv/IXI/sub-IXI450/ses-1/run-1/anat/sub-IXI450_acq-Philips-1.5T_mni_registered_T1w.nii  \n",
            "  inflating: ../data/T1w_Processed_IXI_with_csv/IXI/sub-IXI450/ses-1/run-1/anat/sub-IXI450_acq-Philips-1.5T_segmask_mni_registered_T1w.nii  \n",
            "  inflating: ../data/T1w_Processed_IXI_with_csv/IXI/sub-IXI451/ses-1/run-1/anat/sub-IXI451_acq-Philips-3.0T_mni_registered_T1w.nii  \n",
            "  inflating: ../data/T1w_Processed_IXI_with_csv/IXI/sub-IXI451/ses-1/run-1/anat/sub-IXI451_acq-Philips-3.0T_segmask_mni_registered_T1w.nii  \n",
            "  inflating: ../data/T1w_Processed_IXI_with_csv/IXI/sub-IXI452/ses-1/run-1/anat/sub-IXI452_acq-Philips-3.0T_mni_registered_T1w.nii  \n",
            "  inflating: ../data/T1w_Processed_IXI_with_csv/IXI/sub-IXI452/ses-1/run-1/anat/sub-IXI452_acq-Philips-3.0T_segmask_mni_registered_T1w.nii  \n",
            "  inflating: ../data/T1w_Processed_IXI_with_csv/IXI/sub-IXI453/ses-1/run-1/anat/sub-IXI453_acq-Philips-3.0T_mni_registered_T1w.nii  \n",
            "  inflating: ../data/T1w_Processed_IXI_with_csv/IXI/sub-IXI453/ses-1/run-1/anat/sub-IXI453_acq-Philips-3.0T_segmask_mni_registered_T1w.nii  \n",
            "  inflating: ../data/T1w_Processed_IXI_with_csv/IXI/sub-IXI454/ses-1/run-1/anat/sub-IXI454_acq-Philips-1.5T_mni_registered_T1w.nii  \n",
            "  inflating: ../data/T1w_Processed_IXI_with_csv/IXI/sub-IXI454/ses-1/run-1/anat/sub-IXI454_acq-Philips-1.5T_segmask_mni_registered_T1w.nii  \n",
            "  inflating: ../data/T1w_Processed_IXI_with_csv/IXI/sub-IXI455/ses-1/run-1/anat/sub-IXI455_acq-Philips-1.5T_mni_registered_T1w.nii  \n",
            "  inflating: ../data/T1w_Processed_IXI_with_csv/IXI/sub-IXI455/ses-1/run-1/anat/sub-IXI455_acq-Philips-1.5T_segmask_mni_registered_T1w.nii  \n",
            "  inflating: ../data/T1w_Processed_IXI_with_csv/IXI/sub-IXI456/ses-1/run-1/anat/sub-IXI456_acq-Philips-1.5T_mni_registered_T1w.nii  \n",
            "  inflating: ../data/T1w_Processed_IXI_with_csv/IXI/sub-IXI456/ses-1/run-1/anat/sub-IXI456_acq-Philips-1.5T_segmask_mni_registered_T1w.nii  \n",
            "  inflating: ../data/T1w_Processed_IXI_with_csv/IXI/sub-IXI457/ses-1/run-1/anat/sub-IXI457_acq-Philips-1.5T_mni_registered_T1w.nii  \n",
            "  inflating: ../data/T1w_Processed_IXI_with_csv/IXI/sub-IXI457/ses-1/run-1/anat/sub-IXI457_acq-Philips-1.5T_segmask_mni_registered_T1w.nii  \n",
            "  inflating: ../data/T1w_Processed_IXI_with_csv/IXI/sub-IXI458/ses-1/run-1/anat/sub-IXI458_acq-Philips-1.5T_mni_registered_T1w.nii  \n",
            "  inflating: ../data/T1w_Processed_IXI_with_csv/IXI/sub-IXI458/ses-1/run-1/anat/sub-IXI458_acq-Philips-1.5T_segmask_mni_registered_T1w.nii  \n",
            "  inflating: ../data/T1w_Processed_IXI_with_csv/IXI/sub-IXI459/ses-1/run-1/anat/sub-IXI459_acq-Philips-1.5T_mni_registered_T1w.nii  \n",
            "  inflating: ../data/T1w_Processed_IXI_with_csv/IXI/sub-IXI459/ses-1/run-1/anat/sub-IXI459_acq-Philips-1.5T_segmask_mni_registered_T1w.nii  \n",
            "  inflating: ../data/T1w_Processed_IXI_with_csv/IXI/sub-IXI460/ses-1/run-1/anat/sub-IXI460_acq-Philips-1.5T_mni_registered_T1w.nii  \n",
            "  inflating: ../data/T1w_Processed_IXI_with_csv/IXI/sub-IXI460/ses-1/run-1/anat/sub-IXI460_acq-Philips-1.5T_segmask_mni_registered_T1w.nii  \n",
            "  inflating: ../data/T1w_Processed_IXI_with_csv/IXI/sub-IXI461/ses-1/run-1/anat/sub-IXI461_acq-Philips-1.5T_mni_registered_T1w.nii  \n",
            "  inflating: ../data/T1w_Processed_IXI_with_csv/IXI/sub-IXI461/ses-1/run-1/anat/sub-IXI461_acq-Philips-1.5T_segmask_mni_registered_T1w.nii  \n",
            "  inflating: ../data/T1w_Processed_IXI_with_csv/IXI/sub-IXI462/ses-1/run-1/anat/sub-IXI462_acq-GE-1.5T_mni_registered_T1w.nii  \n",
            "  inflating: ../data/T1w_Processed_IXI_with_csv/IXI/sub-IXI462/ses-1/run-1/anat/sub-IXI462_acq-GE-1.5T_segmask_mni_registered_T1w.nii  \n",
            "  inflating: ../data/T1w_Processed_IXI_with_csv/IXI/sub-IXI463/ses-1/run-1/anat/sub-IXI463_acq-GE-1.5T_mni_registered_T1w.nii  \n",
            "  inflating: ../data/T1w_Processed_IXI_with_csv/IXI/sub-IXI463/ses-1/run-1/anat/sub-IXI463_acq-GE-1.5T_segmask_mni_registered_T1w.nii  \n",
            "  inflating: ../data/T1w_Processed_IXI_with_csv/IXI/sub-IXI464/ses-1/run-1/anat/sub-IXI464_acq-GE-1.5T_mni_registered_T1w.nii  \n",
            "  inflating: ../data/T1w_Processed_IXI_with_csv/IXI/sub-IXI464/ses-1/run-1/anat/sub-IXI464_acq-GE-1.5T_segmask_mni_registered_T1w.nii  \n",
            "  inflating: ../data/T1w_Processed_IXI_with_csv/IXI/sub-IXI465/ses-1/run-1/anat/sub-IXI465_acq-Philips-3.0T_mni_registered_T1w.nii  \n",
            "  inflating: ../data/T1w_Processed_IXI_with_csv/IXI/sub-IXI465/ses-1/run-1/anat/sub-IXI465_acq-Philips-3.0T_segmask_mni_registered_T1w.nii  \n",
            "  inflating: ../data/T1w_Processed_IXI_with_csv/IXI/sub-IXI467/ses-1/run-1/anat/sub-IXI467_acq-Philips-1.5T_mni_registered_T1w.nii  \n",
            "  inflating: ../data/T1w_Processed_IXI_with_csv/IXI/sub-IXI467/ses-1/run-1/anat/sub-IXI467_acq-Philips-1.5T_segmask_mni_registered_T1w.nii  \n",
            "  inflating: ../data/T1w_Processed_IXI_with_csv/IXI/sub-IXI468/ses-1/run-1/anat/sub-IXI468_acq-Philips-1.5T_mni_registered_T1w.nii  \n",
            "  inflating: ../data/T1w_Processed_IXI_with_csv/IXI/sub-IXI468/ses-1/run-1/anat/sub-IXI468_acq-Philips-1.5T_segmask_mni_registered_T1w.nii  \n",
            "  inflating: ../data/T1w_Processed_IXI_with_csv/IXI/sub-IXI469/ses-1/run-1/anat/sub-IXI469_acq-GE-1.5T_mni_registered_T1w.nii  \n",
            "  inflating: ../data/T1w_Processed_IXI_with_csv/IXI/sub-IXI469/ses-1/run-1/anat/sub-IXI469_acq-GE-1.5T_segmask_mni_registered_T1w.nii  \n",
            "  inflating: ../data/T1w_Processed_IXI_with_csv/IXI/sub-IXI470/ses-1/run-1/anat/sub-IXI470_acq-GE-1.5T_mni_registered_T1w.nii  \n",
            "  inflating: ../data/T1w_Processed_IXI_with_csv/IXI/sub-IXI470/ses-1/run-1/anat/sub-IXI470_acq-GE-1.5T_segmask_mni_registered_T1w.nii  \n",
            "  inflating: ../data/T1w_Processed_IXI_with_csv/IXI/sub-IXI473/ses-1/run-1/anat/sub-IXI473_acq-GE-1.5T_mni_registered_T1w.nii  \n",
            "  inflating: ../data/T1w_Processed_IXI_with_csv/IXI/sub-IXI473/ses-1/run-1/anat/sub-IXI473_acq-GE-1.5T_segmask_mni_registered_T1w.nii  \n",
            "  inflating: ../data/T1w_Processed_IXI_with_csv/IXI/sub-IXI474/ses-1/run-1/anat/sub-IXI474_acq-GE-1.5T_mni_registered_T1w.nii  \n",
            "  inflating: ../data/T1w_Processed_IXI_with_csv/IXI/sub-IXI474/ses-1/run-1/anat/sub-IXI474_acq-GE-1.5T_segmask_mni_registered_T1w.nii  \n",
            "  inflating: ../data/T1w_Processed_IXI_with_csv/IXI/sub-IXI475/ses-1/run-1/anat/sub-IXI475_acq-GE-1.5T_mni_registered_T1w.nii  \n",
            "  inflating: ../data/T1w_Processed_IXI_with_csv/IXI/sub-IXI475/ses-1/run-1/anat/sub-IXI475_acq-GE-1.5T_segmask_mni_registered_T1w.nii  \n",
            "  inflating: ../data/T1w_Processed_IXI_with_csv/IXI/sub-IXI477/ses-1/run-1/anat/sub-IXI477_acq-GE-1.5T_mni_registered_T1w.nii  \n",
            "  inflating: ../data/T1w_Processed_IXI_with_csv/IXI/sub-IXI477/ses-1/run-1/anat/sub-IXI477_acq-GE-1.5T_segmask_mni_registered_T1w.nii  \n",
            "  inflating: ../data/T1w_Processed_IXI_with_csv/IXI/sub-IXI478/ses-1/run-1/anat/sub-IXI478_acq-GE-1.5T_mni_registered_T1w.nii  \n",
            "  inflating: ../data/T1w_Processed_IXI_with_csv/IXI/sub-IXI478/ses-1/run-1/anat/sub-IXI478_acq-GE-1.5T_segmask_mni_registered_T1w.nii  \n",
            "  inflating: ../data/T1w_Processed_IXI_with_csv/IXI/sub-IXI479/ses-1/run-1/anat/sub-IXI479_acq-Philips-1.5T_mni_registered_T1w.nii  \n",
            "  inflating: ../data/T1w_Processed_IXI_with_csv/IXI/sub-IXI479/ses-1/run-1/anat/sub-IXI479_acq-Philips-1.5T_segmask_mni_registered_T1w.nii  \n",
            "  inflating: ../data/T1w_Processed_IXI_with_csv/IXI/sub-IXI480/ses-1/run-1/anat/sub-IXI480_acq-Philips-1.5T_mni_registered_T1w.nii  \n",
            "  inflating: ../data/T1w_Processed_IXI_with_csv/IXI/sub-IXI480/ses-1/run-1/anat/sub-IXI480_acq-Philips-1.5T_segmask_mni_registered_T1w.nii  \n",
            "  inflating: ../data/T1w_Processed_IXI_with_csv/IXI/sub-IXI481/ses-1/run-1/anat/sub-IXI481_acq-Philips-3.0T_mni_registered_T1w.nii  \n",
            "  inflating: ../data/T1w_Processed_IXI_with_csv/IXI/sub-IXI481/ses-1/run-1/anat/sub-IXI481_acq-Philips-3.0T_segmask_mni_registered_T1w.nii  \n",
            "  inflating: ../data/T1w_Processed_IXI_with_csv/IXI/sub-IXI482/ses-1/run-1/anat/sub-IXI482_acq-Philips-3.0T_mni_registered_T1w.nii  \n",
            "  inflating: ../data/T1w_Processed_IXI_with_csv/IXI/sub-IXI482/ses-1/run-1/anat/sub-IXI482_acq-Philips-3.0T_segmask_mni_registered_T1w.nii  \n",
            "  inflating: ../data/T1w_Processed_IXI_with_csv/IXI/sub-IXI483/ses-1/run-1/anat/sub-IXI483_acq-Philips-3.0T_mni_registered_T1w.nii  \n",
            "  inflating: ../data/T1w_Processed_IXI_with_csv/IXI/sub-IXI483/ses-1/run-1/anat/sub-IXI483_acq-Philips-3.0T_segmask_mni_registered_T1w.nii  \n",
            "  inflating: ../data/T1w_Processed_IXI_with_csv/IXI/sub-IXI484/ses-1/run-1/anat/sub-IXI484_acq-Philips-3.0T_mni_registered_T1w.nii  \n",
            "  inflating: ../data/T1w_Processed_IXI_with_csv/IXI/sub-IXI484/ses-1/run-1/anat/sub-IXI484_acq-Philips-3.0T_segmask_mni_registered_T1w.nii  \n",
            "  inflating: ../data/T1w_Processed_IXI_with_csv/IXI/sub-IXI485/ses-1/run-1/anat/sub-IXI485_acq-Philips-3.0T_mni_registered_T1w.nii  \n",
            "  inflating: ../data/T1w_Processed_IXI_with_csv/IXI/sub-IXI485/ses-1/run-1/anat/sub-IXI485_acq-Philips-3.0T_segmask_mni_registered_T1w.nii  \n",
            "  inflating: ../data/T1w_Processed_IXI_with_csv/IXI/sub-IXI486/ses-1/run-1/anat/sub-IXI486_acq-Philips-1.5T_mni_registered_T1w.nii  \n",
            "  inflating: ../data/T1w_Processed_IXI_with_csv/IXI/sub-IXI486/ses-1/run-1/anat/sub-IXI486_acq-Philips-1.5T_segmask_mni_registered_T1w.nii  \n",
            "  inflating: ../data/T1w_Processed_IXI_with_csv/IXI/sub-IXI487/ses-1/run-1/anat/sub-IXI487_acq-Philips-1.5T_mni_registered_T1w.nii  \n",
            "  inflating: ../data/T1w_Processed_IXI_with_csv/IXI/sub-IXI487/ses-1/run-1/anat/sub-IXI487_acq-Philips-1.5T_segmask_mni_registered_T1w.nii  \n",
            "  inflating: ../data/T1w_Processed_IXI_with_csv/IXI/sub-IXI488/ses-1/run-1/anat/sub-IXI488_acq-Philips-1.5T_mni_registered_T1w.nii  \n",
            "  inflating: ../data/T1w_Processed_IXI_with_csv/IXI/sub-IXI488/ses-1/run-1/anat/sub-IXI488_acq-Philips-1.5T_segmask_mni_registered_T1w.nii  \n",
            "  inflating: ../data/T1w_Processed_IXI_with_csv/IXI/sub-IXI489/ses-1/run-1/anat/sub-IXI489_acq-Philips-1.5T_mni_registered_T1w.nii  \n",
            "  inflating: ../data/T1w_Processed_IXI_with_csv/IXI/sub-IXI489/ses-1/run-1/anat/sub-IXI489_acq-Philips-1.5T_segmask_mni_registered_T1w.nii  \n",
            "  inflating: ../data/T1w_Processed_IXI_with_csv/IXI/sub-IXI490/ses-1/run-1/anat/sub-IXI490_acq-Philips-1.5T_mni_registered_T1w.nii  \n",
            "  inflating: ../data/T1w_Processed_IXI_with_csv/IXI/sub-IXI490/ses-1/run-1/anat/sub-IXI490_acq-Philips-1.5T_segmask_mni_registered_T1w.nii  \n",
            "  inflating: ../data/T1w_Processed_IXI_with_csv/IXI/sub-IXI491/ses-1/run-1/anat/sub-IXI491_acq-Philips-1.5T_mni_registered_T1w.nii  \n",
            "  inflating: ../data/T1w_Processed_IXI_with_csv/IXI/sub-IXI491/ses-1/run-1/anat/sub-IXI491_acq-Philips-1.5T_segmask_mni_registered_T1w.nii  \n",
            "  inflating: ../data/T1w_Processed_IXI_with_csv/IXI/sub-IXI492/ses-1/run-1/anat/sub-IXI492_acq-Philips-1.5T_mni_registered_T1w.nii  \n",
            "  inflating: ../data/T1w_Processed_IXI_with_csv/IXI/sub-IXI492/ses-1/run-1/anat/sub-IXI492_acq-Philips-1.5T_segmask_mni_registered_T1w.nii  \n",
            "  inflating: ../data/T1w_Processed_IXI_with_csv/IXI/sub-IXI493/ses-1/run-1/anat/sub-IXI493_acq-Philips-1.5T_mni_registered_T1w.nii  \n",
            "  inflating: ../data/T1w_Processed_IXI_with_csv/IXI/sub-IXI493/ses-1/run-1/anat/sub-IXI493_acq-Philips-1.5T_segmask_mni_registered_T1w.nii  \n",
            "  inflating: ../data/T1w_Processed_IXI_with_csv/IXI/sub-IXI494/ses-1/run-1/anat/sub-IXI494_acq-Philips-1.5T_mni_registered_T1w.nii  \n",
            "  inflating: ../data/T1w_Processed_IXI_with_csv/IXI/sub-IXI494/ses-1/run-1/anat/sub-IXI494_acq-Philips-1.5T_segmask_mni_registered_T1w.nii  \n",
            "  inflating: ../data/T1w_Processed_IXI_with_csv/IXI/sub-IXI495/ses-1/run-1/anat/sub-IXI495_acq-Philips-1.5T_mni_registered_T1w.nii  \n",
            "  inflating: ../data/T1w_Processed_IXI_with_csv/IXI/sub-IXI495/ses-1/run-1/anat/sub-IXI495_acq-Philips-1.5T_segmask_mni_registered_T1w.nii  \n",
            "  inflating: ../data/T1w_Processed_IXI_with_csv/IXI/sub-IXI496/ses-1/run-1/anat/sub-IXI496_acq-Philips-1.5T_mni_registered_T1w.nii  \n",
            "  inflating: ../data/T1w_Processed_IXI_with_csv/IXI/sub-IXI496/ses-1/run-1/anat/sub-IXI496_acq-Philips-1.5T_segmask_mni_registered_T1w.nii  \n",
            "  inflating: ../data/T1w_Processed_IXI_with_csv/IXI/sub-IXI497/ses-1/run-1/anat/sub-IXI497_acq-Philips-1.5T_mni_registered_T1w.nii  \n",
            "  inflating: ../data/T1w_Processed_IXI_with_csv/IXI/sub-IXI497/ses-1/run-1/anat/sub-IXI497_acq-Philips-1.5T_segmask_mni_registered_T1w.nii  \n",
            "  inflating: ../data/T1w_Processed_IXI_with_csv/IXI/sub-IXI498/ses-1/run-1/anat/sub-IXI498_acq-Philips-1.5T_mni_registered_T1w.nii  \n",
            "  inflating: ../data/T1w_Processed_IXI_with_csv/IXI/sub-IXI498/ses-1/run-1/anat/sub-IXI498_acq-Philips-1.5T_segmask_mni_registered_T1w.nii  \n",
            "  inflating: ../data/T1w_Processed_IXI_with_csv/IXI/sub-IXI499/ses-1/run-1/anat/sub-IXI499_acq-Philips-1.5T_mni_registered_T1w.nii  \n",
            "  inflating: ../data/T1w_Processed_IXI_with_csv/IXI/sub-IXI499/ses-1/run-1/anat/sub-IXI499_acq-Philips-1.5T_segmask_mni_registered_T1w.nii  \n",
            "  inflating: ../data/T1w_Processed_IXI_with_csv/IXI/sub-IXI500/ses-1/run-1/anat/sub-IXI500_acq-Philips-1.5T_mni_registered_T1w.nii  \n",
            "  inflating: ../data/T1w_Processed_IXI_with_csv/IXI/sub-IXI500/ses-1/run-1/anat/sub-IXI500_acq-Philips-1.5T_segmask_mni_registered_T1w.nii  \n",
            "  inflating: ../data/T1w_Processed_IXI_with_csv/IXI/sub-IXI501/ses-1/run-1/anat/sub-IXI501_acq-Philips-1.5T_mni_registered_T1w.nii  \n",
            "  inflating: ../data/T1w_Processed_IXI_with_csv/IXI/sub-IXI501/ses-1/run-1/anat/sub-IXI501_acq-Philips-1.5T_segmask_mni_registered_T1w.nii  \n",
            "  inflating: ../data/T1w_Processed_IXI_with_csv/IXI/sub-IXI502/ses-1/run-1/anat/sub-IXI502_acq-Philips-1.5T_mni_registered_T1w.nii  \n",
            "  inflating: ../data/T1w_Processed_IXI_with_csv/IXI/sub-IXI502/ses-1/run-1/anat/sub-IXI502_acq-Philips-1.5T_segmask_mni_registered_T1w.nii  \n",
            "  inflating: ../data/T1w_Processed_IXI_with_csv/IXI/sub-IXI503/ses-1/run-1/anat/sub-IXI503_acq-Philips-1.5T_mni_registered_T1w.nii  \n",
            "  inflating: ../data/T1w_Processed_IXI_with_csv/IXI/sub-IXI503/ses-1/run-1/anat/sub-IXI503_acq-Philips-1.5T_segmask_mni_registered_T1w.nii  \n",
            "  inflating: ../data/T1w_Processed_IXI_with_csv/IXI/sub-IXI504/ses-1/run-1/anat/sub-IXI504_acq-Philips-1.5T_mni_registered_T1w.nii  \n",
            "  inflating: ../data/T1w_Processed_IXI_with_csv/IXI/sub-IXI504/ses-1/run-1/anat/sub-IXI504_acq-Philips-1.5T_segmask_mni_registered_T1w.nii  \n",
            "  inflating: ../data/T1w_Processed_IXI_with_csv/IXI/sub-IXI505/ses-1/run-1/anat/sub-IXI505_acq-Philips-1.5T_mni_registered_T1w.nii  \n",
            "  inflating: ../data/T1w_Processed_IXI_with_csv/IXI/sub-IXI505/ses-1/run-1/anat/sub-IXI505_acq-Philips-1.5T_segmask_mni_registered_T1w.nii  \n",
            "  inflating: ../data/T1w_Processed_IXI_with_csv/IXI/sub-IXI506/ses-1/run-1/anat/sub-IXI506_acq-Philips-1.5T_mni_registered_T1w.nii  \n",
            "  inflating: ../data/T1w_Processed_IXI_with_csv/IXI/sub-IXI506/ses-1/run-1/anat/sub-IXI506_acq-Philips-1.5T_segmask_mni_registered_T1w.nii  \n",
            "  inflating: ../data/T1w_Processed_IXI_with_csv/IXI/sub-IXI507/ses-1/run-1/anat/sub-IXI507_acq-Philips-1.5T_mni_registered_T1w.nii  \n",
            "  inflating: ../data/T1w_Processed_IXI_with_csv/IXI/sub-IXI507/ses-1/run-1/anat/sub-IXI507_acq-Philips-1.5T_segmask_mni_registered_T1w.nii  \n",
            "  inflating: ../data/T1w_Processed_IXI_with_csv/IXI/sub-IXI508/ses-1/run-1/anat/sub-IXI508_acq-Philips-3.0T_mni_registered_T1w.nii  \n",
            "  inflating: ../data/T1w_Processed_IXI_with_csv/IXI/sub-IXI508/ses-1/run-1/anat/sub-IXI508_acq-Philips-3.0T_segmask_mni_registered_T1w.nii  \n",
            "  inflating: ../data/T1w_Processed_IXI_with_csv/IXI/sub-IXI510/ses-1/run-1/anat/sub-IXI510_acq-GE-1.5T_mni_registered_T1w.nii  \n",
            "  inflating: ../data/T1w_Processed_IXI_with_csv/IXI/sub-IXI510/ses-1/run-1/anat/sub-IXI510_acq-GE-1.5T_segmask_mni_registered_T1w.nii  \n",
            "  inflating: ../data/T1w_Processed_IXI_with_csv/IXI/sub-IXI511/ses-1/run-1/anat/sub-IXI511_acq-Philips-3.0T_mni_registered_T1w.nii  \n",
            "  inflating: ../data/T1w_Processed_IXI_with_csv/IXI/sub-IXI511/ses-1/run-1/anat/sub-IXI511_acq-Philips-3.0T_segmask_mni_registered_T1w.nii  \n",
            "  inflating: ../data/T1w_Processed_IXI_with_csv/IXI/sub-IXI512/ses-1/run-1/anat/sub-IXI512_acq-Philips-1.5T_mni_registered_T1w.nii  \n",
            "  inflating: ../data/T1w_Processed_IXI_with_csv/IXI/sub-IXI512/ses-1/run-1/anat/sub-IXI512_acq-Philips-1.5T_segmask_mni_registered_T1w.nii  \n",
            "  inflating: ../data/T1w_Processed_IXI_with_csv/IXI/sub-IXI515/ses-1/run-1/anat/sub-IXI515_acq-Philips-3.0T_mni_registered_T1w.nii  \n",
            "  inflating: ../data/T1w_Processed_IXI_with_csv/IXI/sub-IXI515/ses-1/run-1/anat/sub-IXI515_acq-Philips-3.0T_segmask_mni_registered_T1w.nii  \n",
            "  inflating: ../data/T1w_Processed_IXI_with_csv/IXI/sub-IXI516/ses-1/run-1/anat/sub-IXI516_acq-Philips-3.0T_mni_registered_T1w.nii  \n",
            "  inflating: ../data/T1w_Processed_IXI_with_csv/IXI/sub-IXI516/ses-1/run-1/anat/sub-IXI516_acq-Philips-3.0T_segmask_mni_registered_T1w.nii  \n",
            "  inflating: ../data/T1w_Processed_IXI_with_csv/IXI/sub-IXI517/ses-1/run-1/anat/sub-IXI517_acq-GE-1.5T_mni_registered_T1w.nii  \n",
            "  inflating: ../data/T1w_Processed_IXI_with_csv/IXI/sub-IXI517/ses-1/run-1/anat/sub-IXI517_acq-GE-1.5T_segmask_mni_registered_T1w.nii  \n",
            "  inflating: ../data/T1w_Processed_IXI_with_csv/IXI/sub-IXI518/ses-1/run-1/anat/sub-IXI518_acq-Philips-3.0T_mni_registered_T1w.nii  \n",
            "  inflating: ../data/T1w_Processed_IXI_with_csv/IXI/sub-IXI518/ses-1/run-1/anat/sub-IXI518_acq-Philips-3.0T_segmask_mni_registered_T1w.nii  \n",
            "  inflating: ../data/T1w_Processed_IXI_with_csv/IXI/sub-IXI519/ses-1/run-1/anat/sub-IXI519_acq-Philips-3.0T_mni_registered_T1w.nii  \n",
            "  inflating: ../data/T1w_Processed_IXI_with_csv/IXI/sub-IXI519/ses-1/run-1/anat/sub-IXI519_acq-Philips-3.0T_segmask_mni_registered_T1w.nii  \n",
            "  inflating: ../data/T1w_Processed_IXI_with_csv/IXI/sub-IXI521/ses-1/run-1/anat/sub-IXI521_acq-Philips-3.0T_mni_registered_T1w.nii  \n",
            "  inflating: ../data/T1w_Processed_IXI_with_csv/IXI/sub-IXI521/ses-1/run-1/anat/sub-IXI521_acq-Philips-3.0T_segmask_mni_registered_T1w.nii  \n",
            "  inflating: ../data/T1w_Processed_IXI_with_csv/IXI/sub-IXI522/ses-1/run-1/anat/sub-IXI522_acq-Philips-3.0T_mni_registered_T1w.nii  \n",
            "  inflating: ../data/T1w_Processed_IXI_with_csv/IXI/sub-IXI522/ses-1/run-1/anat/sub-IXI522_acq-Philips-3.0T_segmask_mni_registered_T1w.nii  \n",
            "  inflating: ../data/T1w_Processed_IXI_with_csv/IXI/sub-IXI523/ses-1/run-1/anat/sub-IXI523_acq-Philips-1.5T_mni_registered_T1w.nii  \n",
            "  inflating: ../data/T1w_Processed_IXI_with_csv/IXI/sub-IXI523/ses-1/run-1/anat/sub-IXI523_acq-Philips-1.5T_segmask_mni_registered_T1w.nii  \n",
            "  inflating: ../data/T1w_Processed_IXI_with_csv/IXI/sub-IXI524/ses-1/run-1/anat/sub-IXI524_acq-Philips-3.0T_mni_registered_T1w.nii  \n",
            "  inflating: ../data/T1w_Processed_IXI_with_csv/IXI/sub-IXI524/ses-1/run-1/anat/sub-IXI524_acq-Philips-3.0T_segmask_mni_registered_T1w.nii  \n",
            "  inflating: ../data/T1w_Processed_IXI_with_csv/IXI/sub-IXI525/ses-1/run-1/anat/sub-IXI525_acq-Philips-3.0T_mni_registered_T1w.nii  \n",
            "  inflating: ../data/T1w_Processed_IXI_with_csv/IXI/sub-IXI525/ses-1/run-1/anat/sub-IXI525_acq-Philips-3.0T_segmask_mni_registered_T1w.nii  \n",
            "  inflating: ../data/T1w_Processed_IXI_with_csv/IXI/sub-IXI526/ses-1/run-1/anat/sub-IXI526_acq-Philips-3.0T_mni_registered_T1w.nii  \n",
            "  inflating: ../data/T1w_Processed_IXI_with_csv/IXI/sub-IXI526/ses-1/run-1/anat/sub-IXI526_acq-Philips-3.0T_segmask_mni_registered_T1w.nii  \n",
            "  inflating: ../data/T1w_Processed_IXI_with_csv/IXI/sub-IXI527/ses-1/run-1/anat/sub-IXI527_acq-Philips-3.0T_mni_registered_T1w.nii  \n",
            "  inflating: ../data/T1w_Processed_IXI_with_csv/IXI/sub-IXI527/ses-1/run-1/anat/sub-IXI527_acq-Philips-3.0T_segmask_mni_registered_T1w.nii  \n",
            "  inflating: ../data/T1w_Processed_IXI_with_csv/IXI/sub-IXI528/ses-1/run-1/anat/sub-IXI528_acq-Philips-1.5T_mni_registered_T1w.nii  \n",
            "  inflating: ../data/T1w_Processed_IXI_with_csv/IXI/sub-IXI528/ses-1/run-1/anat/sub-IXI528_acq-Philips-1.5T_segmask_mni_registered_T1w.nii  \n",
            "  inflating: ../data/T1w_Processed_IXI_with_csv/IXI/sub-IXI531/ses-1/run-1/anat/sub-IXI531_acq-Philips-1.5T_mni_registered_T1w.nii  \n",
            "  inflating: ../data/T1w_Processed_IXI_with_csv/IXI/sub-IXI531/ses-1/run-1/anat/sub-IXI531_acq-Philips-1.5T_segmask_mni_registered_T1w.nii  \n",
            "  inflating: ../data/T1w_Processed_IXI_with_csv/IXI/sub-IXI532/ses-1/run-1/anat/sub-IXI532_acq-GE-1.5T_mni_registered_T1w.nii  \n",
            "  inflating: ../data/T1w_Processed_IXI_with_csv/IXI/sub-IXI532/ses-1/run-1/anat/sub-IXI532_acq-GE-1.5T_segmask_mni_registered_T1w.nii  \n",
            "  inflating: ../data/T1w_Processed_IXI_with_csv/IXI/sub-IXI533/ses-1/run-1/anat/sub-IXI533_acq-Philips-1.5T_mni_registered_T1w.nii  \n",
            "  inflating: ../data/T1w_Processed_IXI_with_csv/IXI/sub-IXI533/ses-1/run-1/anat/sub-IXI533_acq-Philips-1.5T_segmask_mni_registered_T1w.nii  \n",
            "  inflating: ../data/T1w_Processed_IXI_with_csv/IXI/sub-IXI534/ses-1/run-1/anat/sub-IXI534_acq-Philips-1.5T_mni_registered_T1w.nii  \n",
            "  inflating: ../data/T1w_Processed_IXI_with_csv/IXI/sub-IXI534/ses-1/run-1/anat/sub-IXI534_acq-Philips-1.5T_segmask_mni_registered_T1w.nii  \n",
            "  inflating: ../data/T1w_Processed_IXI_with_csv/IXI/sub-IXI535/ses-1/run-1/anat/sub-IXI535_acq-Philips-1.5T_mni_registered_T1w.nii  \n",
            "  inflating: ../data/T1w_Processed_IXI_with_csv/IXI/sub-IXI535/ses-1/run-1/anat/sub-IXI535_acq-Philips-1.5T_segmask_mni_registered_T1w.nii  \n",
            "  inflating: ../data/T1w_Processed_IXI_with_csv/IXI/sub-IXI536/ses-1/run-1/anat/sub-IXI536_acq-Philips-1.5T_mni_registered_T1w.nii  \n",
            "  inflating: ../data/T1w_Processed_IXI_with_csv/IXI/sub-IXI536/ses-1/run-1/anat/sub-IXI536_acq-Philips-1.5T_segmask_mni_registered_T1w.nii  \n",
            "  inflating: ../data/T1w_Processed_IXI_with_csv/IXI/sub-IXI537/ses-1/run-1/anat/sub-IXI537_acq-Philips-3.0T_mni_registered_T1w.nii  \n",
            "  inflating: ../data/T1w_Processed_IXI_with_csv/IXI/sub-IXI537/ses-1/run-1/anat/sub-IXI537_acq-Philips-3.0T_segmask_mni_registered_T1w.nii  \n",
            "  inflating: ../data/T1w_Processed_IXI_with_csv/IXI/sub-IXI538/ses-1/run-1/anat/sub-IXI538_acq-Philips-3.0T_mni_registered_T1w.nii  \n",
            "  inflating: ../data/T1w_Processed_IXI_with_csv/IXI/sub-IXI538/ses-1/run-1/anat/sub-IXI538_acq-Philips-3.0T_segmask_mni_registered_T1w.nii  \n",
            "  inflating: ../data/T1w_Processed_IXI_with_csv/IXI/sub-IXI539/ses-1/run-1/anat/sub-IXI539_acq-Philips-1.5T_mni_registered_T1w.nii  \n",
            "  inflating: ../data/T1w_Processed_IXI_with_csv/IXI/sub-IXI539/ses-1/run-1/anat/sub-IXI539_acq-Philips-1.5T_segmask_mni_registered_T1w.nii  \n",
            "  inflating: ../data/T1w_Processed_IXI_with_csv/IXI/sub-IXI541/ses-1/run-1/anat/sub-IXI541_acq-GE-1.5T_mni_registered_T1w.nii  \n",
            "  inflating: ../data/T1w_Processed_IXI_with_csv/IXI/sub-IXI541/ses-1/run-1/anat/sub-IXI541_acq-GE-1.5T_segmask_mni_registered_T1w.nii  \n",
            "  inflating: ../data/T1w_Processed_IXI_with_csv/IXI/sub-IXI542/ses-1/run-1/anat/sub-IXI542_acq-GE-1.5T_mni_registered_T1w.nii  \n",
            "  inflating: ../data/T1w_Processed_IXI_with_csv/IXI/sub-IXI542/ses-1/run-1/anat/sub-IXI542_acq-GE-1.5T_segmask_mni_registered_T1w.nii  \n",
            "  inflating: ../data/T1w_Processed_IXI_with_csv/IXI/sub-IXI543/ses-1/run-1/anat/sub-IXI543_acq-GE-1.5T_mni_registered_T1w.nii  \n",
            "  inflating: ../data/T1w_Processed_IXI_with_csv/IXI/sub-IXI543/ses-1/run-1/anat/sub-IXI543_acq-GE-1.5T_segmask_mni_registered_T1w.nii  \n",
            "  inflating: ../data/T1w_Processed_IXI_with_csv/IXI/sub-IXI544/ses-1/run-1/anat/sub-IXI544_acq-Philips-3.0T_mni_registered_T1w.nii  \n",
            "  inflating: ../data/T1w_Processed_IXI_with_csv/IXI/sub-IXI544/ses-1/run-1/anat/sub-IXI544_acq-Philips-3.0T_segmask_mni_registered_T1w.nii  \n",
            "  inflating: ../data/T1w_Processed_IXI_with_csv/IXI/sub-IXI546/ses-1/run-1/anat/sub-IXI546_acq-Philips-3.0T_mni_registered_T1w.nii  \n",
            "  inflating: ../data/T1w_Processed_IXI_with_csv/IXI/sub-IXI546/ses-1/run-1/anat/sub-IXI546_acq-Philips-3.0T_segmask_mni_registered_T1w.nii  \n",
            "  inflating: ../data/T1w_Processed_IXI_with_csv/IXI/sub-IXI547/ses-1/run-1/anat/sub-IXI547_acq-GE-1.5T_mni_registered_T1w.nii  \n",
            "  inflating: ../data/T1w_Processed_IXI_with_csv/IXI/sub-IXI547/ses-1/run-1/anat/sub-IXI547_acq-GE-1.5T_segmask_mni_registered_T1w.nii  \n",
            "  inflating: ../data/T1w_Processed_IXI_with_csv/IXI/sub-IXI548/ses-1/run-1/anat/sub-IXI548_acq-GE-1.5T_mni_registered_T1w.nii  \n",
            "  inflating: ../data/T1w_Processed_IXI_with_csv/IXI/sub-IXI548/ses-1/run-1/anat/sub-IXI548_acq-GE-1.5T_segmask_mni_registered_T1w.nii  \n",
            "  inflating: ../data/T1w_Processed_IXI_with_csv/IXI/sub-IXI549/ses-1/run-1/anat/sub-IXI549_acq-Philips-1.5T_mni_registered_T1w.nii  \n",
            "  inflating: ../data/T1w_Processed_IXI_with_csv/IXI/sub-IXI549/ses-1/run-1/anat/sub-IXI549_acq-Philips-1.5T_segmask_mni_registered_T1w.nii  \n",
            "  inflating: ../data/T1w_Processed_IXI_with_csv/IXI/sub-IXI550/ses-1/run-1/anat/sub-IXI550_acq-Philips-1.5T_mni_registered_T1w.nii  \n",
            "  inflating: ../data/T1w_Processed_IXI_with_csv/IXI/sub-IXI550/ses-1/run-1/anat/sub-IXI550_acq-Philips-1.5T_segmask_mni_registered_T1w.nii  \n",
            "  inflating: ../data/T1w_Processed_IXI_with_csv/IXI/sub-IXI551/ses-1/run-1/anat/sub-IXI551_acq-Philips-1.5T_mni_registered_T1w.nii  \n",
            "  inflating: ../data/T1w_Processed_IXI_with_csv/IXI/sub-IXI551/ses-1/run-1/anat/sub-IXI551_acq-Philips-1.5T_segmask_mni_registered_T1w.nii  \n",
            "  inflating: ../data/T1w_Processed_IXI_with_csv/IXI/sub-IXI552/ses-1/run-1/anat/sub-IXI552_acq-Philips-1.5T_mni_registered_T1w.nii  \n",
            "  inflating: ../data/T1w_Processed_IXI_with_csv/IXI/sub-IXI552/ses-1/run-1/anat/sub-IXI552_acq-Philips-1.5T_segmask_mni_registered_T1w.nii  \n",
            "  inflating: ../data/T1w_Processed_IXI_with_csv/IXI/sub-IXI553/ses-1/run-1/anat/sub-IXI553_acq-GE-1.5T_mni_registered_T1w.nii  \n",
            "  inflating: ../data/T1w_Processed_IXI_with_csv/IXI/sub-IXI553/ses-1/run-1/anat/sub-IXI553_acq-GE-1.5T_segmask_mni_registered_T1w.nii  \n",
            "  inflating: ../data/T1w_Processed_IXI_with_csv/IXI/sub-IXI554/ses-1/run-1/anat/sub-IXI554_acq-Philips-1.5T_mni_registered_T1w.nii  \n",
            "  inflating: ../data/T1w_Processed_IXI_with_csv/IXI/sub-IXI554/ses-1/run-1/anat/sub-IXI554_acq-Philips-1.5T_segmask_mni_registered_T1w.nii  \n",
            "  inflating: ../data/T1w_Processed_IXI_with_csv/IXI/sub-IXI555/ses-1/run-1/anat/sub-IXI555_acq-Philips-1.5T_mni_registered_T1w.nii  \n",
            "  inflating: ../data/T1w_Processed_IXI_with_csv/IXI/sub-IXI555/ses-1/run-1/anat/sub-IXI555_acq-Philips-1.5T_segmask_mni_registered_T1w.nii  \n",
            "  inflating: ../data/T1w_Processed_IXI_with_csv/IXI/sub-IXI556/ses-1/run-1/anat/sub-IXI556_acq-Philips-3.0T_mni_registered_T1w.nii  \n",
            "  inflating: ../data/T1w_Processed_IXI_with_csv/IXI/sub-IXI556/ses-1/run-1/anat/sub-IXI556_acq-Philips-3.0T_segmask_mni_registered_T1w.nii  \n",
            "  inflating: ../data/T1w_Processed_IXI_with_csv/IXI/sub-IXI558/ses-1/run-1/anat/sub-IXI558_acq-Philips-1.5T_mni_registered_T1w.nii  \n",
            "  inflating: ../data/T1w_Processed_IXI_with_csv/IXI/sub-IXI558/ses-1/run-1/anat/sub-IXI558_acq-Philips-1.5T_segmask_mni_registered_T1w.nii  \n",
            "  inflating: ../data/T1w_Processed_IXI_with_csv/IXI/sub-IXI559/ses-1/run-1/anat/sub-IXI559_acq-Philips-3.0T_mni_registered_T1w.nii  \n",
            "  inflating: ../data/T1w_Processed_IXI_with_csv/IXI/sub-IXI559/ses-1/run-1/anat/sub-IXI559_acq-Philips-3.0T_segmask_mni_registered_T1w.nii  \n",
            "  inflating: ../data/T1w_Processed_IXI_with_csv/IXI/sub-IXI560/ses-1/run-1/anat/sub-IXI560_acq-Philips-1.5T_mni_registered_T1w.nii  \n",
            "  inflating: ../data/T1w_Processed_IXI_with_csv/IXI/sub-IXI560/ses-1/run-1/anat/sub-IXI560_acq-Philips-1.5T_segmask_mni_registered_T1w.nii  \n",
            "  inflating: ../data/T1w_Processed_IXI_with_csv/IXI/sub-IXI561/ses-1/run-1/anat/sub-IXI561_acq-GE-1.5T_mni_registered_T1w.nii  \n",
            "  inflating: ../data/T1w_Processed_IXI_with_csv/IXI/sub-IXI561/ses-1/run-1/anat/sub-IXI561_acq-GE-1.5T_segmask_mni_registered_T1w.nii  \n",
            "  inflating: ../data/T1w_Processed_IXI_with_csv/IXI/sub-IXI562/ses-1/run-1/anat/sub-IXI562_acq-Philips-1.5T_mni_registered_T1w.nii  \n",
            "  inflating: ../data/T1w_Processed_IXI_with_csv/IXI/sub-IXI562/ses-1/run-1/anat/sub-IXI562_acq-Philips-1.5T_segmask_mni_registered_T1w.nii  \n",
            "  inflating: ../data/T1w_Processed_IXI_with_csv/IXI/sub-IXI563/ses-1/run-1/anat/sub-IXI563_acq-GE-1.5T_mni_registered_T1w.nii  \n",
            "  inflating: ../data/T1w_Processed_IXI_with_csv/IXI/sub-IXI563/ses-1/run-1/anat/sub-IXI563_acq-GE-1.5T_segmask_mni_registered_T1w.nii  \n",
            "  inflating: ../data/T1w_Processed_IXI_with_csv/IXI/sub-IXI565/ses-1/run-1/anat/sub-IXI565_acq-Philips-3.0T_mni_registered_T1w.nii  \n",
            "  inflating: ../data/T1w_Processed_IXI_with_csv/IXI/sub-IXI565/ses-1/run-1/anat/sub-IXI565_acq-Philips-3.0T_segmask_mni_registered_T1w.nii  \n",
            "  inflating: ../data/T1w_Processed_IXI_with_csv/IXI/sub-IXI566/ses-1/run-1/anat/sub-IXI566_acq-Philips-3.0T_mni_registered_T1w.nii  \n",
            "  inflating: ../data/T1w_Processed_IXI_with_csv/IXI/sub-IXI566/ses-1/run-1/anat/sub-IXI566_acq-Philips-3.0T_segmask_mni_registered_T1w.nii  \n",
            "  inflating: ../data/T1w_Processed_IXI_with_csv/IXI/sub-IXI567/ses-1/run-1/anat/sub-IXI567_acq-Philips-3.0T_mni_registered_T1w.nii  \n",
            "  inflating: ../data/T1w_Processed_IXI_with_csv/IXI/sub-IXI567/ses-1/run-1/anat/sub-IXI567_acq-Philips-3.0T_segmask_mni_registered_T1w.nii  \n",
            "  inflating: ../data/T1w_Processed_IXI_with_csv/IXI/sub-IXI568/ses-1/run-1/anat/sub-IXI568_acq-Philips-3.0T_mni_registered_T1w.nii  \n",
            "  inflating: ../data/T1w_Processed_IXI_with_csv/IXI/sub-IXI568/ses-1/run-1/anat/sub-IXI568_acq-Philips-3.0T_segmask_mni_registered_T1w.nii  \n",
            "  inflating: ../data/T1w_Processed_IXI_with_csv/IXI/sub-IXI569/ses-1/run-1/anat/sub-IXI569_acq-Philips-1.5T_mni_registered_T1w.nii  \n",
            "  inflating: ../data/T1w_Processed_IXI_with_csv/IXI/sub-IXI569/ses-1/run-1/anat/sub-IXI569_acq-Philips-1.5T_segmask_mni_registered_T1w.nii  \n",
            "  inflating: ../data/T1w_Processed_IXI_with_csv/IXI/sub-IXI571/ses-1/run-1/anat/sub-IXI571_acq-GE-1.5T_mni_registered_T1w.nii  \n",
            "  inflating: ../data/T1w_Processed_IXI_with_csv/IXI/sub-IXI571/ses-1/run-1/anat/sub-IXI571_acq-GE-1.5T_segmask_mni_registered_T1w.nii  \n",
            "  inflating: ../data/T1w_Processed_IXI_with_csv/IXI/sub-IXI572/ses-1/run-1/anat/sub-IXI572_acq-Philips-3.0T_mni_registered_T1w.nii  \n",
            "  inflating: ../data/T1w_Processed_IXI_with_csv/IXI/sub-IXI572/ses-1/run-1/anat/sub-IXI572_acq-Philips-3.0T_segmask_mni_registered_T1w.nii  \n",
            "  inflating: ../data/T1w_Processed_IXI_with_csv/IXI/sub-IXI573/ses-1/run-1/anat/sub-IXI573_acq-GE-1.5T_mni_registered_T1w.nii  \n",
            "  inflating: ../data/T1w_Processed_IXI_with_csv/IXI/sub-IXI573/ses-1/run-1/anat/sub-IXI573_acq-GE-1.5T_segmask_mni_registered_T1w.nii  \n",
            "  inflating: ../data/T1w_Processed_IXI_with_csv/IXI/sub-IXI574/ses-1/run-1/anat/sub-IXI574_acq-GE-1.5T_mni_registered_T1w.nii  \n",
            "  inflating: ../data/T1w_Processed_IXI_with_csv/IXI/sub-IXI574/ses-1/run-1/anat/sub-IXI574_acq-GE-1.5T_segmask_mni_registered_T1w.nii  \n",
            "  inflating: ../data/T1w_Processed_IXI_with_csv/IXI/sub-IXI575/ses-1/run-1/anat/sub-IXI575_acq-Philips-3.0T_mni_registered_T1w.nii  \n",
            "  inflating: ../data/T1w_Processed_IXI_with_csv/IXI/sub-IXI575/ses-1/run-1/anat/sub-IXI575_acq-Philips-3.0T_segmask_mni_registered_T1w.nii  \n",
            "  inflating: ../data/T1w_Processed_IXI_with_csv/IXI/sub-IXI576/ses-1/run-1/anat/sub-IXI576_acq-Philips-1.5T_mni_registered_T1w.nii  \n",
            "  inflating: ../data/T1w_Processed_IXI_with_csv/IXI/sub-IXI576/ses-1/run-1/anat/sub-IXI576_acq-Philips-1.5T_segmask_mni_registered_T1w.nii  \n",
            "  inflating: ../data/T1w_Processed_IXI_with_csv/IXI/sub-IXI577/ses-1/run-1/anat/sub-IXI577_acq-Philips-3.0T_mni_registered_T1w.nii  \n",
            "  inflating: ../data/T1w_Processed_IXI_with_csv/IXI/sub-IXI577/ses-1/run-1/anat/sub-IXI577_acq-Philips-3.0T_segmask_mni_registered_T1w.nii  \n",
            "  inflating: ../data/T1w_Processed_IXI_with_csv/IXI/sub-IXI578/ses-1/run-1/anat/sub-IXI578_acq-Philips-1.5T_mni_registered_T1w.nii  \n",
            "  inflating: ../data/T1w_Processed_IXI_with_csv/IXI/sub-IXI578/ses-1/run-1/anat/sub-IXI578_acq-Philips-1.5T_segmask_mni_registered_T1w.nii  \n",
            "  inflating: ../data/T1w_Processed_IXI_with_csv/IXI/sub-IXI579/ses-1/run-1/anat/sub-IXI579_acq-Philips-1.5T_mni_registered_T1w.nii  \n",
            "  inflating: ../data/T1w_Processed_IXI_with_csv/IXI/sub-IXI579/ses-1/run-1/anat/sub-IXI579_acq-Philips-1.5T_segmask_mni_registered_T1w.nii  \n",
            "  inflating: ../data/T1w_Processed_IXI_with_csv/IXI/sub-IXI582/ses-1/run-1/anat/sub-IXI582_acq-Philips-1.5T_mni_registered_T1w.nii  \n",
            "  inflating: ../data/T1w_Processed_IXI_with_csv/IXI/sub-IXI582/ses-1/run-1/anat/sub-IXI582_acq-Philips-1.5T_segmask_mni_registered_T1w.nii  \n",
            "  inflating: ../data/T1w_Processed_IXI_with_csv/IXI/sub-IXI584/ses-1/run-1/anat/sub-IXI584_acq-Philips-1.5T_mni_registered_T1w.nii  \n",
            "  inflating: ../data/T1w_Processed_IXI_with_csv/IXI/sub-IXI584/ses-1/run-1/anat/sub-IXI584_acq-Philips-1.5T_segmask_mni_registered_T1w.nii  \n",
            "  inflating: ../data/T1w_Processed_IXI_with_csv/IXI/sub-IXI585/ses-1/run-1/anat/sub-IXI585_acq-Philips-1.5T_mni_registered_T1w.nii  \n",
            "  inflating: ../data/T1w_Processed_IXI_with_csv/IXI/sub-IXI585/ses-1/run-1/anat/sub-IXI585_acq-Philips-1.5T_segmask_mni_registered_T1w.nii  \n",
            "  inflating: ../data/T1w_Processed_IXI_with_csv/IXI/sub-IXI586/ses-1/run-1/anat/sub-IXI586_acq-Philips-3.0T_mni_registered_T1w.nii  \n",
            "  inflating: ../data/T1w_Processed_IXI_with_csv/IXI/sub-IXI586/ses-1/run-1/anat/sub-IXI586_acq-Philips-3.0T_segmask_mni_registered_T1w.nii  \n",
            "  inflating: ../data/T1w_Processed_IXI_with_csv/IXI/sub-IXI587/ses-1/run-1/anat/sub-IXI587_acq-Philips-1.5T_mni_registered_T1w.nii  \n",
            "  inflating: ../data/T1w_Processed_IXI_with_csv/IXI/sub-IXI587/ses-1/run-1/anat/sub-IXI587_acq-Philips-1.5T_segmask_mni_registered_T1w.nii  \n",
            "  inflating: ../data/T1w_Processed_IXI_with_csv/IXI/sub-IXI588/ses-1/run-1/anat/sub-IXI588_acq-GE-1.5T_mni_registered_T1w.nii  \n",
            "  inflating: ../data/T1w_Processed_IXI_with_csv/IXI/sub-IXI588/ses-1/run-1/anat/sub-IXI588_acq-GE-1.5T_segmask_mni_registered_T1w.nii  \n",
            "  inflating: ../data/T1w_Processed_IXI_with_csv/IXI/sub-IXI589/ses-1/run-1/anat/sub-IXI589_acq-Philips-1.5T_mni_registered_T1w.nii  \n",
            "  inflating: ../data/T1w_Processed_IXI_with_csv/IXI/sub-IXI589/ses-1/run-1/anat/sub-IXI589_acq-Philips-1.5T_segmask_mni_registered_T1w.nii  \n",
            "  inflating: ../data/T1w_Processed_IXI_with_csv/IXI/sub-IXI591/ses-1/run-1/anat/sub-IXI591_acq-Philips-1.5T_mni_registered_T1w.nii  \n",
            "  inflating: ../data/T1w_Processed_IXI_with_csv/IXI/sub-IXI591/ses-1/run-1/anat/sub-IXI591_acq-Philips-1.5T_segmask_mni_registered_T1w.nii  \n",
            "  inflating: ../data/T1w_Processed_IXI_with_csv/IXI/sub-IXI592/ses-1/run-1/anat/sub-IXI592_acq-Philips-1.5T_mni_registered_T1w.nii  \n",
            "  inflating: ../data/T1w_Processed_IXI_with_csv/IXI/sub-IXI592/ses-1/run-1/anat/sub-IXI592_acq-Philips-1.5T_segmask_mni_registered_T1w.nii  \n",
            "  inflating: ../data/T1w_Processed_IXI_with_csv/IXI/sub-IXI593/ses-1/run-1/anat/sub-IXI593_acq-Philips-1.5T_mni_registered_T1w.nii  \n",
            "  inflating: ../data/T1w_Processed_IXI_with_csv/IXI/sub-IXI593/ses-1/run-1/anat/sub-IXI593_acq-Philips-1.5T_segmask_mni_registered_T1w.nii  \n",
            "  inflating: ../data/T1w_Processed_IXI_with_csv/IXI/sub-IXI594/ses-1/run-1/anat/sub-IXI594_acq-Philips-1.5T_mni_registered_T1w.nii  \n",
            "  inflating: ../data/T1w_Processed_IXI_with_csv/IXI/sub-IXI594/ses-1/run-1/anat/sub-IXI594_acq-Philips-1.5T_segmask_mni_registered_T1w.nii  \n",
            "  inflating: ../data/T1w_Processed_IXI_with_csv/IXI/sub-IXI595/ses-1/run-1/anat/sub-IXI595_acq-GE-1.5T_mni_registered_T1w.nii  \n",
            "  inflating: ../data/T1w_Processed_IXI_with_csv/IXI/sub-IXI595/ses-1/run-1/anat/sub-IXI595_acq-GE-1.5T_segmask_mni_registered_T1w.nii  \n",
            "  inflating: ../data/T1w_Processed_IXI_with_csv/IXI/sub-IXI596/ses-1/run-1/anat/sub-IXI596_acq-GE-1.5T_mni_registered_T1w.nii  \n",
            "  inflating: ../data/T1w_Processed_IXI_with_csv/IXI/sub-IXI596/ses-1/run-1/anat/sub-IXI596_acq-GE-1.5T_segmask_mni_registered_T1w.nii  \n",
            "  inflating: ../data/T1w_Processed_IXI_with_csv/IXI/sub-IXI597/ses-1/run-1/anat/sub-IXI597_acq-GE-1.5T_mni_registered_T1w.nii  \n",
            "  inflating: ../data/T1w_Processed_IXI_with_csv/IXI/sub-IXI597/ses-1/run-1/anat/sub-IXI597_acq-GE-1.5T_segmask_mni_registered_T1w.nii  \n",
            "  inflating: ../data/T1w_Processed_IXI_with_csv/IXI/sub-IXI598/ses-1/run-1/anat/sub-IXI598_acq-Philips-3.0T_mni_registered_T1w.nii  \n",
            "  inflating: ../data/T1w_Processed_IXI_with_csv/IXI/sub-IXI598/ses-1/run-1/anat/sub-IXI598_acq-Philips-3.0T_segmask_mni_registered_T1w.nii  \n",
            "  inflating: ../data/T1w_Processed_IXI_with_csv/IXI/sub-IXI599/ses-1/run-1/anat/sub-IXI599_acq-Philips-3.0T_mni_registered_T1w.nii  \n",
            "  inflating: ../data/T1w_Processed_IXI_with_csv/IXI/sub-IXI599/ses-1/run-1/anat/sub-IXI599_acq-Philips-3.0T_segmask_mni_registered_T1w.nii  \n",
            "  inflating: ../data/T1w_Processed_IXI_with_csv/IXI/sub-IXI600/ses-1/run-1/anat/sub-IXI600_acq-Philips-3.0T_mni_registered_T1w.nii  \n",
            "  inflating: ../data/T1w_Processed_IXI_with_csv/IXI/sub-IXI600/ses-1/run-1/anat/sub-IXI600_acq-Philips-3.0T_segmask_mni_registered_T1w.nii  \n",
            "  inflating: ../data/T1w_Processed_IXI_with_csv/IXI/sub-IXI601/ses-1/run-1/anat/sub-IXI601_acq-Philips-3.0T_mni_registered_T1w.nii  \n",
            "  inflating: ../data/T1w_Processed_IXI_with_csv/IXI/sub-IXI601/ses-1/run-1/anat/sub-IXI601_acq-Philips-3.0T_segmask_mni_registered_T1w.nii  \n",
            "  inflating: ../data/T1w_Processed_IXI_with_csv/IXI/sub-IXI603/ses-1/run-1/anat/sub-IXI603_acq-Philips-3.0T_mni_registered_T1w.nii  \n",
            "  inflating: ../data/T1w_Processed_IXI_with_csv/IXI/sub-IXI603/ses-1/run-1/anat/sub-IXI603_acq-Philips-3.0T_segmask_mni_registered_T1w.nii  \n",
            "  inflating: ../data/T1w_Processed_IXI_with_csv/IXI/sub-IXI605/ses-1/run-1/anat/sub-IXI605_acq-Philips-3.0T_mni_registered_T1w.nii  \n",
            "  inflating: ../data/T1w_Processed_IXI_with_csv/IXI/sub-IXI605/ses-1/run-1/anat/sub-IXI605_acq-Philips-3.0T_segmask_mni_registered_T1w.nii  \n",
            "  inflating: ../data/T1w_Processed_IXI_with_csv/IXI/sub-IXI606/ses-1/run-1/anat/sub-IXI606_acq-Philips-3.0T_mni_registered_T1w.nii  \n",
            "  inflating: ../data/T1w_Processed_IXI_with_csv/IXI/sub-IXI606/ses-1/run-1/anat/sub-IXI606_acq-Philips-3.0T_segmask_mni_registered_T1w.nii  \n",
            "  inflating: ../data/T1w_Processed_IXI_with_csv/IXI/sub-IXI607/ses-1/run-1/anat/sub-IXI607_acq-Philips-1.5T_mni_registered_T1w.nii  \n",
            "  inflating: ../data/T1w_Processed_IXI_with_csv/IXI/sub-IXI607/ses-1/run-1/anat/sub-IXI607_acq-Philips-1.5T_segmask_mni_registered_T1w.nii  \n",
            "  inflating: ../data/T1w_Processed_IXI_with_csv/IXI/sub-IXI608/ses-1/run-1/anat/sub-IXI608_acq-Philips-3.0T_mni_registered_T1w.nii  \n",
            "  inflating: ../data/T1w_Processed_IXI_with_csv/IXI/sub-IXI608/ses-1/run-1/anat/sub-IXI608_acq-Philips-3.0T_segmask_mni_registered_T1w.nii  \n",
            "  inflating: ../data/T1w_Processed_IXI_with_csv/IXI/sub-IXI609/ses-1/run-1/anat/sub-IXI609_acq-Philips-3.0T_mni_registered_T1w.nii  \n",
            "  inflating: ../data/T1w_Processed_IXI_with_csv/IXI/sub-IXI609/ses-1/run-1/anat/sub-IXI609_acq-Philips-3.0T_segmask_mni_registered_T1w.nii  \n",
            "  inflating: ../data/T1w_Processed_IXI_with_csv/IXI/sub-IXI610/ses-1/run-1/anat/sub-IXI610_acq-Philips-3.0T_mni_registered_T1w.nii  \n",
            "  inflating: ../data/T1w_Processed_IXI_with_csv/IXI/sub-IXI610/ses-1/run-1/anat/sub-IXI610_acq-Philips-3.0T_segmask_mni_registered_T1w.nii  \n",
            "  inflating: ../data/T1w_Processed_IXI_with_csv/IXI/sub-IXI611/ses-1/run-1/anat/sub-IXI611_acq-Philips-3.0T_mni_registered_T1w.nii  \n",
            "  inflating: ../data/T1w_Processed_IXI_with_csv/IXI/sub-IXI611/ses-1/run-1/anat/sub-IXI611_acq-Philips-3.0T_segmask_mni_registered_T1w.nii  \n",
            "  inflating: ../data/T1w_Processed_IXI_with_csv/IXI/sub-IXI612/ses-1/run-1/anat/sub-IXI612_acq-Philips-3.0T_mni_registered_T1w.nii  \n",
            "  inflating: ../data/T1w_Processed_IXI_with_csv/IXI/sub-IXI612/ses-1/run-1/anat/sub-IXI612_acq-Philips-3.0T_segmask_mni_registered_T1w.nii  \n",
            "  inflating: ../data/T1w_Processed_IXI_with_csv/IXI/sub-IXI613/ses-1/run-1/anat/sub-IXI613_acq-Philips-3.0T_mni_registered_T1w.nii  \n",
            "  inflating: ../data/T1w_Processed_IXI_with_csv/IXI/sub-IXI613/ses-1/run-1/anat/sub-IXI613_acq-Philips-3.0T_segmask_mni_registered_T1w.nii  \n",
            "  inflating: ../data/T1w_Processed_IXI_with_csv/IXI/sub-IXI614/ses-1/run-1/anat/sub-IXI614_acq-Philips-3.0T_mni_registered_T1w.nii  \n",
            "  inflating: ../data/T1w_Processed_IXI_with_csv/IXI/sub-IXI614/ses-1/run-1/anat/sub-IXI614_acq-Philips-3.0T_segmask_mni_registered_T1w.nii  \n",
            "  inflating: ../data/T1w_Processed_IXI_with_csv/IXI/sub-IXI616/ses-1/run-1/anat/sub-IXI616_acq-Philips-1.5T_mni_registered_T1w.nii  \n",
            "  inflating: ../data/T1w_Processed_IXI_with_csv/IXI/sub-IXI616/ses-1/run-1/anat/sub-IXI616_acq-Philips-1.5T_segmask_mni_registered_T1w.nii  \n",
            "  inflating: ../data/T1w_Processed_IXI_with_csv/IXI/sub-IXI617/ses-1/run-1/anat/sub-IXI617_acq-Philips-1.5T_mni_registered_T1w.nii  \n",
            "  inflating: ../data/T1w_Processed_IXI_with_csv/IXI/sub-IXI617/ses-1/run-1/anat/sub-IXI617_acq-Philips-1.5T_segmask_mni_registered_T1w.nii  \n",
            "  inflating: ../data/T1w_Processed_IXI_with_csv/IXI/sub-IXI618/ses-1/run-1/anat/sub-IXI618_acq-Philips-1.5T_mni_registered_T1w.nii  \n",
            "  inflating: ../data/T1w_Processed_IXI_with_csv/IXI/sub-IXI618/ses-1/run-1/anat/sub-IXI618_acq-Philips-1.5T_segmask_mni_registered_T1w.nii  \n",
            "  inflating: ../data/T1w_Processed_IXI_with_csv/IXI/sub-IXI619/ses-1/run-1/anat/sub-IXI619_acq-Philips-1.5T_mni_registered_T1w.nii  \n",
            "  inflating: ../data/T1w_Processed_IXI_with_csv/IXI/sub-IXI619/ses-1/run-1/anat/sub-IXI619_acq-Philips-1.5T_segmask_mni_registered_T1w.nii  \n",
            "  inflating: ../data/T1w_Processed_IXI_with_csv/IXI/sub-IXI621/ses-1/run-1/anat/sub-IXI621_acq-Philips-1.5T_mni_registered_T1w.nii  \n",
            "  inflating: ../data/T1w_Processed_IXI_with_csv/IXI/sub-IXI621/ses-1/run-1/anat/sub-IXI621_acq-Philips-1.5T_segmask_mni_registered_T1w.nii  \n",
            "  inflating: ../data/T1w_Processed_IXI_with_csv/IXI/sub-IXI622/ses-1/run-1/anat/sub-IXI622_acq-Philips-1.5T_mni_registered_T1w.nii  \n",
            "  inflating: ../data/T1w_Processed_IXI_with_csv/IXI/sub-IXI622/ses-1/run-1/anat/sub-IXI622_acq-Philips-1.5T_segmask_mni_registered_T1w.nii  \n",
            "  inflating: ../data/T1w_Processed_IXI_with_csv/IXI/sub-IXI623/ses-1/run-1/anat/sub-IXI623_acq-Philips-1.5T_mni_registered_T1w.nii  \n",
            "  inflating: ../data/T1w_Processed_IXI_with_csv/IXI/sub-IXI623/ses-1/run-1/anat/sub-IXI623_acq-Philips-1.5T_segmask_mni_registered_T1w.nii  \n",
            "  inflating: ../data/T1w_Processed_IXI_with_csv/IXI/sub-IXI625/ses-1/run-1/anat/sub-IXI625_acq-Philips-1.5T_mni_registered_T1w.nii  \n",
            "  inflating: ../data/T1w_Processed_IXI_with_csv/IXI/sub-IXI625/ses-1/run-1/anat/sub-IXI625_acq-Philips-1.5T_segmask_mni_registered_T1w.nii  \n",
            "  inflating: ../data/T1w_Processed_IXI_with_csv/IXI/sub-IXI626/ses-1/run-1/anat/sub-IXI626_acq-Philips-1.5T_mni_registered_T1w.nii  \n",
            "  inflating: ../data/T1w_Processed_IXI_with_csv/IXI/sub-IXI626/ses-1/run-1/anat/sub-IXI626_acq-Philips-1.5T_segmask_mni_registered_T1w.nii  \n",
            "  inflating: ../data/T1w_Processed_IXI_with_csv/IXI/sub-IXI627/ses-1/run-1/anat/sub-IXI627_acq-Philips-1.5T_mni_registered_T1w.nii  \n",
            "  inflating: ../data/T1w_Processed_IXI_with_csv/IXI/sub-IXI627/ses-1/run-1/anat/sub-IXI627_acq-Philips-1.5T_segmask_mni_registered_T1w.nii  \n",
            "  inflating: ../data/T1w_Processed_IXI_with_csv/IXI/sub-IXI629/ses-1/run-1/anat/sub-IXI629_acq-Philips-1.5T_mni_registered_T1w.nii  \n",
            "  inflating: ../data/T1w_Processed_IXI_with_csv/IXI/sub-IXI629/ses-1/run-1/anat/sub-IXI629_acq-Philips-1.5T_segmask_mni_registered_T1w.nii  \n",
            "  inflating: ../data/T1w_Processed_IXI_with_csv/IXI/sub-IXI630/ses-1/run-1/anat/sub-IXI630_acq-Philips-1.5T_mni_registered_T1w.nii  \n",
            "  inflating: ../data/T1w_Processed_IXI_with_csv/IXI/sub-IXI630/ses-1/run-1/anat/sub-IXI630_acq-Philips-1.5T_segmask_mni_registered_T1w.nii  \n",
            "  inflating: ../data/T1w_Processed_IXI_with_csv/IXI/sub-IXI631/ses-1/run-1/anat/sub-IXI631_acq-Philips-3.0T_mni_registered_T1w.nii  \n",
            "  inflating: ../data/T1w_Processed_IXI_with_csv/IXI/sub-IXI631/ses-1/run-1/anat/sub-IXI631_acq-Philips-3.0T_segmask_mni_registered_T1w.nii  \n",
            "  inflating: ../data/T1w_Processed_IXI_with_csv/IXI/sub-IXI632/ses-1/run-1/anat/sub-IXI632_acq-Philips-3.0T_mni_registered_T1w.nii  \n",
            "  inflating: ../data/T1w_Processed_IXI_with_csv/IXI/sub-IXI632/ses-1/run-1/anat/sub-IXI632_acq-Philips-3.0T_segmask_mni_registered_T1w.nii  \n",
            "  inflating: ../data/T1w_Processed_IXI_with_csv/IXI/sub-IXI633/ses-1/run-1/anat/sub-IXI633_acq-Philips-3.0T_mni_registered_T1w.nii  \n",
            "  inflating: ../data/T1w_Processed_IXI_with_csv/IXI/sub-IXI633/ses-1/run-1/anat/sub-IXI633_acq-Philips-3.0T_segmask_mni_registered_T1w.nii  \n",
            "  inflating: ../data/T1w_Processed_IXI_with_csv/IXI/sub-IXI634/ses-1/run-1/anat/sub-IXI634_acq-Philips-3.0T_mni_registered_T1w.nii  \n",
            "  inflating: ../data/T1w_Processed_IXI_with_csv/IXI/sub-IXI634/ses-1/run-1/anat/sub-IXI634_acq-Philips-3.0T_segmask_mni_registered_T1w.nii  \n",
            "  inflating: ../data/T1w_Processed_IXI_with_csv/IXI/sub-IXI635/ses-1/run-1/anat/sub-IXI635_acq-Philips-3.0T_mni_registered_T1w.nii  \n",
            "  inflating: ../data/T1w_Processed_IXI_with_csv/IXI/sub-IXI635/ses-1/run-1/anat/sub-IXI635_acq-Philips-3.0T_segmask_mni_registered_T1w.nii  \n",
            "  inflating: ../data/T1w_Processed_IXI_with_csv/IXI/sub-IXI636/ses-1/run-1/anat/sub-IXI636_acq-Philips-3.0T_mni_registered_T1w.nii  \n",
            "  inflating: ../data/T1w_Processed_IXI_with_csv/IXI/sub-IXI636/ses-1/run-1/anat/sub-IXI636_acq-Philips-3.0T_segmask_mni_registered_T1w.nii  \n",
            "  inflating: ../data/T1w_Processed_IXI_with_csv/IXI/sub-IXI637/ses-1/run-1/anat/sub-IXI637_acq-Philips-3.0T_mni_registered_T1w.nii  \n",
            "  inflating: ../data/T1w_Processed_IXI_with_csv/IXI/sub-IXI637/ses-1/run-1/anat/sub-IXI637_acq-Philips-3.0T_segmask_mni_registered_T1w.nii  \n",
            "  inflating: ../data/T1w_Processed_IXI_with_csv/IXI/sub-IXI638/ses-1/run-1/anat/sub-IXI638_acq-Philips-3.0T_mni_registered_T1w.nii  \n",
            "  inflating: ../data/T1w_Processed_IXI_with_csv/IXI/sub-IXI638/ses-1/run-1/anat/sub-IXI638_acq-Philips-3.0T_segmask_mni_registered_T1w.nii  \n",
            "  inflating: ../data/T1w_Processed_IXI_with_csv/IXI/sub-IXI639/ses-1/run-1/anat/sub-IXI639_acq-Philips-1.5T_mni_registered_T1w.nii  \n",
            "  inflating: ../data/T1w_Processed_IXI_with_csv/IXI/sub-IXI639/ses-1/run-1/anat/sub-IXI639_acq-Philips-1.5T_segmask_mni_registered_T1w.nii  \n",
            "  inflating: ../data/T1w_Processed_IXI_with_csv/IXI/sub-IXI640/ses-1/run-1/anat/sub-IXI640_acq-Philips-1.5T_mni_registered_T1w.nii  \n",
            "  inflating: ../data/T1w_Processed_IXI_with_csv/IXI/sub-IXI640/ses-1/run-1/anat/sub-IXI640_acq-Philips-1.5T_segmask_mni_registered_T1w.nii  \n",
            "  inflating: ../data/T1w_Processed_IXI_with_csv/IXI/sub-IXI641/ses-1/run-1/anat/sub-IXI641_acq-Philips-1.5T_mni_registered_T1w.nii  \n",
            "  inflating: ../data/T1w_Processed_IXI_with_csv/IXI/sub-IXI641/ses-1/run-1/anat/sub-IXI641_acq-Philips-1.5T_segmask_mni_registered_T1w.nii  \n",
            "  inflating: ../data/T1w_Processed_IXI_with_csv/IXI/sub-IXI642/ses-1/run-1/anat/sub-IXI642_acq-Philips-1.5T_mni_registered_T1w.nii  \n",
            "  inflating: ../data/T1w_Processed_IXI_with_csv/IXI/sub-IXI642/ses-1/run-1/anat/sub-IXI642_acq-Philips-1.5T_segmask_mni_registered_T1w.nii  \n",
            "  inflating: ../data/T1w_Processed_IXI_with_csv/IXI/sub-IXI643/ses-1/run-1/anat/sub-IXI643_acq-Philips-3.0T_mni_registered_T1w.nii  \n",
            "  inflating: ../data/T1w_Processed_IXI_with_csv/IXI/sub-IXI643/ses-1/run-1/anat/sub-IXI643_acq-Philips-3.0T_segmask_mni_registered_T1w.nii  \n",
            "  inflating: ../data/T1w_Processed_IXI_with_csv/IXI/sub-IXI644/ses-1/run-1/anat/sub-IXI644_acq-Philips-1.5T_mni_registered_T1w.nii  \n",
            "  inflating: ../data/T1w_Processed_IXI_with_csv/IXI/sub-IXI644/ses-1/run-1/anat/sub-IXI644_acq-Philips-1.5T_segmask_mni_registered_T1w.nii  \n",
            "  inflating: ../data/T1w_Processed_IXI_with_csv/IXI/sub-IXI646/ses-1/run-1/anat/sub-IXI646_acq-Philips-3.0T_mni_registered_T1w.nii  \n",
            "  inflating: ../data/T1w_Processed_IXI_with_csv/IXI/sub-IXI646/ses-1/run-1/anat/sub-IXI646_acq-Philips-3.0T_segmask_mni_registered_T1w.nii  \n",
            "  inflating: ../data/T1w_Processed_IXI_with_csv/IXI/sub-IXI648/ses-1/run-1/anat/sub-IXI648_acq-Philips-1.5T_mni_registered_T1w.nii  \n",
            "  inflating: ../data/T1w_Processed_IXI_with_csv/IXI/sub-IXI648/ses-1/run-1/anat/sub-IXI648_acq-Philips-1.5T_segmask_mni_registered_T1w.nii  \n",
            "  inflating: ../data/T1w_Processed_IXI_with_csv/IXI/sub-IXI651/ses-1/run-1/anat/sub-IXI651_acq-Philips-1.5T_mni_registered_T1w.nii  \n",
            "  inflating: ../data/T1w_Processed_IXI_with_csv/IXI/sub-IXI651/ses-1/run-1/anat/sub-IXI651_acq-Philips-1.5T_segmask_mni_registered_T1w.nii  \n",
            "  inflating: ../data/T1w_Processed_IXI_with_csv/IXI/sub-IXI652/ses-1/run-1/anat/sub-IXI652_acq-Philips-1.5T_mni_registered_T1w.nii  \n",
            "  inflating: ../data/T1w_Processed_IXI_with_csv/IXI/sub-IXI652/ses-1/run-1/anat/sub-IXI652_acq-Philips-1.5T_segmask_mni_registered_T1w.nii  \n",
            "  inflating: ../data/T1w_Processed_IXI_with_csv/IXI/sub-IXI653/ses-1/run-1/anat/sub-IXI653_acq-Philips-1.5T_mni_registered_T1w.nii  \n",
            "  inflating: ../data/T1w_Processed_IXI_with_csv/IXI/sub-IXI653/ses-1/run-1/anat/sub-IXI653_acq-Philips-1.5T_segmask_mni_registered_T1w.nii  \n",
            "  inflating: ../data/T1w_Processed_IXI_with_csv/IXI/sub-IXI661/ses-1/run-1/anat/sub-IXI661_acq-Philips-3.0T_mni_registered_T1w.nii  \n",
            "  inflating: ../data/T1w_Processed_IXI_with_csv/IXI/sub-IXI661/ses-1/run-1/anat/sub-IXI661_acq-Philips-3.0T_segmask_mni_registered_T1w.nii  \n",
            "  inflating: ../data/T1w_Processed_IXI_with_csv/IXI/sub-IXI662/ses-1/run-1/anat/sub-IXI662_acq-Philips-1.5T_mni_registered_T1w.nii  \n",
            "  inflating: ../data/T1w_Processed_IXI_with_csv/IXI/sub-IXI662/ses-1/run-1/anat/sub-IXI662_acq-Philips-1.5T_segmask_mni_registered_T1w.nii  \n",
            "  inflating: ../data/T1w_Processed_IXI_with_csv/IXI/subjects.csv  \n",
            "  inflating: ../data/T1w_Processed_IXI_with_csv/IXI/thickness.csv  \n",
            "  inflating: ../data/subjects.csv    \n",
            "  inflating: ../data/thickness.csv   \n",
            "renamed '../data/T1w_Processed_IXI_with_csv/IXI/sub-IXI002' -> '../data/IXI/sub-IXI002'\n",
            "renamed '../data/T1w_Processed_IXI_with_csv/IXI/sub-IXI012' -> '../data/IXI/sub-IXI012'\n",
            "renamed '../data/T1w_Processed_IXI_with_csv/IXI/sub-IXI013' -> '../data/IXI/sub-IXI013'\n",
            "renamed '../data/T1w_Processed_IXI_with_csv/IXI/sub-IXI014' -> '../data/IXI/sub-IXI014'\n",
            "renamed '../data/T1w_Processed_IXI_with_csv/IXI/sub-IXI015' -> '../data/IXI/sub-IXI015'\n",
            "renamed '../data/T1w_Processed_IXI_with_csv/IXI/sub-IXI016' -> '../data/IXI/sub-IXI016'\n",
            "renamed '../data/T1w_Processed_IXI_with_csv/IXI/sub-IXI017' -> '../data/IXI/sub-IXI017'\n",
            "renamed '../data/T1w_Processed_IXI_with_csv/IXI/sub-IXI019' -> '../data/IXI/sub-IXI019'\n",
            "renamed '../data/T1w_Processed_IXI_with_csv/IXI/sub-IXI020' -> '../data/IXI/sub-IXI020'\n",
            "renamed '../data/T1w_Processed_IXI_with_csv/IXI/sub-IXI021' -> '../data/IXI/sub-IXI021'\n",
            "renamed '../data/T1w_Processed_IXI_with_csv/IXI/sub-IXI022' -> '../data/IXI/sub-IXI022'\n",
            "renamed '../data/T1w_Processed_IXI_with_csv/IXI/sub-IXI023' -> '../data/IXI/sub-IXI023'\n",
            "renamed '../data/T1w_Processed_IXI_with_csv/IXI/sub-IXI024' -> '../data/IXI/sub-IXI024'\n",
            "renamed '../data/T1w_Processed_IXI_with_csv/IXI/sub-IXI025' -> '../data/IXI/sub-IXI025'\n",
            "renamed '../data/T1w_Processed_IXI_with_csv/IXI/sub-IXI026' -> '../data/IXI/sub-IXI026'\n",
            "renamed '../data/T1w_Processed_IXI_with_csv/IXI/sub-IXI027' -> '../data/IXI/sub-IXI027'\n",
            "renamed '../data/T1w_Processed_IXI_with_csv/IXI/sub-IXI028' -> '../data/IXI/sub-IXI028'\n",
            "renamed '../data/T1w_Processed_IXI_with_csv/IXI/sub-IXI029' -> '../data/IXI/sub-IXI029'\n",
            "renamed '../data/T1w_Processed_IXI_with_csv/IXI/sub-IXI030' -> '../data/IXI/sub-IXI030'\n",
            "renamed '../data/T1w_Processed_IXI_with_csv/IXI/sub-IXI031' -> '../data/IXI/sub-IXI031'\n",
            "renamed '../data/T1w_Processed_IXI_with_csv/IXI/sub-IXI033' -> '../data/IXI/sub-IXI033'\n",
            "renamed '../data/T1w_Processed_IXI_with_csv/IXI/sub-IXI034' -> '../data/IXI/sub-IXI034'\n",
            "renamed '../data/T1w_Processed_IXI_with_csv/IXI/sub-IXI035' -> '../data/IXI/sub-IXI035'\n",
            "renamed '../data/T1w_Processed_IXI_with_csv/IXI/sub-IXI036' -> '../data/IXI/sub-IXI036'\n",
            "renamed '../data/T1w_Processed_IXI_with_csv/IXI/sub-IXI037' -> '../data/IXI/sub-IXI037'\n",
            "renamed '../data/T1w_Processed_IXI_with_csv/IXI/sub-IXI038' -> '../data/IXI/sub-IXI038'\n",
            "renamed '../data/T1w_Processed_IXI_with_csv/IXI/sub-IXI039' -> '../data/IXI/sub-IXI039'\n",
            "renamed '../data/T1w_Processed_IXI_with_csv/IXI/sub-IXI040' -> '../data/IXI/sub-IXI040'\n",
            "renamed '../data/T1w_Processed_IXI_with_csv/IXI/sub-IXI041' -> '../data/IXI/sub-IXI041'\n",
            "renamed '../data/T1w_Processed_IXI_with_csv/IXI/sub-IXI042' -> '../data/IXI/sub-IXI042'\n",
            "renamed '../data/T1w_Processed_IXI_with_csv/IXI/sub-IXI043' -> '../data/IXI/sub-IXI043'\n",
            "renamed '../data/T1w_Processed_IXI_with_csv/IXI/sub-IXI044' -> '../data/IXI/sub-IXI044'\n",
            "renamed '../data/T1w_Processed_IXI_with_csv/IXI/sub-IXI045' -> '../data/IXI/sub-IXI045'\n",
            "renamed '../data/T1w_Processed_IXI_with_csv/IXI/sub-IXI046' -> '../data/IXI/sub-IXI046'\n",
            "renamed '../data/T1w_Processed_IXI_with_csv/IXI/sub-IXI048' -> '../data/IXI/sub-IXI048'\n",
            "renamed '../data/T1w_Processed_IXI_with_csv/IXI/sub-IXI049' -> '../data/IXI/sub-IXI049'\n",
            "renamed '../data/T1w_Processed_IXI_with_csv/IXI/sub-IXI050' -> '../data/IXI/sub-IXI050'\n",
            "renamed '../data/T1w_Processed_IXI_with_csv/IXI/sub-IXI051' -> '../data/IXI/sub-IXI051'\n",
            "renamed '../data/T1w_Processed_IXI_with_csv/IXI/sub-IXI052' -> '../data/IXI/sub-IXI052'\n",
            "renamed '../data/T1w_Processed_IXI_with_csv/IXI/sub-IXI053' -> '../data/IXI/sub-IXI053'\n",
            "renamed '../data/T1w_Processed_IXI_with_csv/IXI/sub-IXI054' -> '../data/IXI/sub-IXI054'\n",
            "renamed '../data/T1w_Processed_IXI_with_csv/IXI/sub-IXI055' -> '../data/IXI/sub-IXI055'\n",
            "renamed '../data/T1w_Processed_IXI_with_csv/IXI/sub-IXI056' -> '../data/IXI/sub-IXI056'\n",
            "renamed '../data/T1w_Processed_IXI_with_csv/IXI/sub-IXI057' -> '../data/IXI/sub-IXI057'\n",
            "renamed '../data/T1w_Processed_IXI_with_csv/IXI/sub-IXI058' -> '../data/IXI/sub-IXI058'\n",
            "renamed '../data/T1w_Processed_IXI_with_csv/IXI/sub-IXI059' -> '../data/IXI/sub-IXI059'\n",
            "renamed '../data/T1w_Processed_IXI_with_csv/IXI/sub-IXI060' -> '../data/IXI/sub-IXI060'\n",
            "renamed '../data/T1w_Processed_IXI_with_csv/IXI/sub-IXI061' -> '../data/IXI/sub-IXI061'\n",
            "renamed '../data/T1w_Processed_IXI_with_csv/IXI/sub-IXI062' -> '../data/IXI/sub-IXI062'\n",
            "renamed '../data/T1w_Processed_IXI_with_csv/IXI/sub-IXI063' -> '../data/IXI/sub-IXI063'\n",
            "renamed '../data/T1w_Processed_IXI_with_csv/IXI/sub-IXI064' -> '../data/IXI/sub-IXI064'\n",
            "renamed '../data/T1w_Processed_IXI_with_csv/IXI/sub-IXI065' -> '../data/IXI/sub-IXI065'\n",
            "renamed '../data/T1w_Processed_IXI_with_csv/IXI/sub-IXI066' -> '../data/IXI/sub-IXI066'\n",
            "renamed '../data/T1w_Processed_IXI_with_csv/IXI/sub-IXI067' -> '../data/IXI/sub-IXI067'\n",
            "renamed '../data/T1w_Processed_IXI_with_csv/IXI/sub-IXI068' -> '../data/IXI/sub-IXI068'\n",
            "renamed '../data/T1w_Processed_IXI_with_csv/IXI/sub-IXI069' -> '../data/IXI/sub-IXI069'\n",
            "renamed '../data/T1w_Processed_IXI_with_csv/IXI/sub-IXI070' -> '../data/IXI/sub-IXI070'\n",
            "renamed '../data/T1w_Processed_IXI_with_csv/IXI/sub-IXI071' -> '../data/IXI/sub-IXI071'\n",
            "renamed '../data/T1w_Processed_IXI_with_csv/IXI/sub-IXI072' -> '../data/IXI/sub-IXI072'\n",
            "renamed '../data/T1w_Processed_IXI_with_csv/IXI/sub-IXI073' -> '../data/IXI/sub-IXI073'\n",
            "renamed '../data/T1w_Processed_IXI_with_csv/IXI/sub-IXI074' -> '../data/IXI/sub-IXI074'\n",
            "renamed '../data/T1w_Processed_IXI_with_csv/IXI/sub-IXI075' -> '../data/IXI/sub-IXI075'\n",
            "renamed '../data/T1w_Processed_IXI_with_csv/IXI/sub-IXI076' -> '../data/IXI/sub-IXI076'\n",
            "renamed '../data/T1w_Processed_IXI_with_csv/IXI/sub-IXI077' -> '../data/IXI/sub-IXI077'\n",
            "renamed '../data/T1w_Processed_IXI_with_csv/IXI/sub-IXI078' -> '../data/IXI/sub-IXI078'\n",
            "renamed '../data/T1w_Processed_IXI_with_csv/IXI/sub-IXI079' -> '../data/IXI/sub-IXI079'\n",
            "renamed '../data/T1w_Processed_IXI_with_csv/IXI/sub-IXI080' -> '../data/IXI/sub-IXI080'\n",
            "renamed '../data/T1w_Processed_IXI_with_csv/IXI/sub-IXI081' -> '../data/IXI/sub-IXI081'\n",
            "renamed '../data/T1w_Processed_IXI_with_csv/IXI/sub-IXI083' -> '../data/IXI/sub-IXI083'\n",
            "renamed '../data/T1w_Processed_IXI_with_csv/IXI/sub-IXI084' -> '../data/IXI/sub-IXI084'\n",
            "renamed '../data/T1w_Processed_IXI_with_csv/IXI/sub-IXI085' -> '../data/IXI/sub-IXI085'\n",
            "renamed '../data/T1w_Processed_IXI_with_csv/IXI/sub-IXI086' -> '../data/IXI/sub-IXI086'\n",
            "renamed '../data/T1w_Processed_IXI_with_csv/IXI/sub-IXI087' -> '../data/IXI/sub-IXI087'\n",
            "renamed '../data/T1w_Processed_IXI_with_csv/IXI/sub-IXI088' -> '../data/IXI/sub-IXI088'\n",
            "renamed '../data/T1w_Processed_IXI_with_csv/IXI/sub-IXI089' -> '../data/IXI/sub-IXI089'\n",
            "renamed '../data/T1w_Processed_IXI_with_csv/IXI/sub-IXI090' -> '../data/IXI/sub-IXI090'\n",
            "renamed '../data/T1w_Processed_IXI_with_csv/IXI/sub-IXI091' -> '../data/IXI/sub-IXI091'\n",
            "renamed '../data/T1w_Processed_IXI_with_csv/IXI/sub-IXI092' -> '../data/IXI/sub-IXI092'\n",
            "renamed '../data/T1w_Processed_IXI_with_csv/IXI/sub-IXI093' -> '../data/IXI/sub-IXI093'\n",
            "renamed '../data/T1w_Processed_IXI_with_csv/IXI/sub-IXI094' -> '../data/IXI/sub-IXI094'\n",
            "renamed '../data/T1w_Processed_IXI_with_csv/IXI/sub-IXI095' -> '../data/IXI/sub-IXI095'\n",
            "renamed '../data/T1w_Processed_IXI_with_csv/IXI/sub-IXI096' -> '../data/IXI/sub-IXI096'\n",
            "renamed '../data/T1w_Processed_IXI_with_csv/IXI/sub-IXI097' -> '../data/IXI/sub-IXI097'\n",
            "renamed '../data/T1w_Processed_IXI_with_csv/IXI/sub-IXI098' -> '../data/IXI/sub-IXI098'\n",
            "renamed '../data/T1w_Processed_IXI_with_csv/IXI/sub-IXI099' -> '../data/IXI/sub-IXI099'\n",
            "renamed '../data/T1w_Processed_IXI_with_csv/IXI/sub-IXI100' -> '../data/IXI/sub-IXI100'\n",
            "renamed '../data/T1w_Processed_IXI_with_csv/IXI/sub-IXI101' -> '../data/IXI/sub-IXI101'\n",
            "renamed '../data/T1w_Processed_IXI_with_csv/IXI/sub-IXI102' -> '../data/IXI/sub-IXI102'\n",
            "renamed '../data/T1w_Processed_IXI_with_csv/IXI/sub-IXI103' -> '../data/IXI/sub-IXI103'\n",
            "renamed '../data/T1w_Processed_IXI_with_csv/IXI/sub-IXI104' -> '../data/IXI/sub-IXI104'\n",
            "renamed '../data/T1w_Processed_IXI_with_csv/IXI/sub-IXI105' -> '../data/IXI/sub-IXI105'\n",
            "renamed '../data/T1w_Processed_IXI_with_csv/IXI/sub-IXI106' -> '../data/IXI/sub-IXI106'\n",
            "renamed '../data/T1w_Processed_IXI_with_csv/IXI/sub-IXI107' -> '../data/IXI/sub-IXI107'\n",
            "renamed '../data/T1w_Processed_IXI_with_csv/IXI/sub-IXI108' -> '../data/IXI/sub-IXI108'\n",
            "renamed '../data/T1w_Processed_IXI_with_csv/IXI/sub-IXI109' -> '../data/IXI/sub-IXI109'\n",
            "renamed '../data/T1w_Processed_IXI_with_csv/IXI/sub-IXI110' -> '../data/IXI/sub-IXI110'\n",
            "renamed '../data/T1w_Processed_IXI_with_csv/IXI/sub-IXI111' -> '../data/IXI/sub-IXI111'\n",
            "renamed '../data/T1w_Processed_IXI_with_csv/IXI/sub-IXI112' -> '../data/IXI/sub-IXI112'\n",
            "renamed '../data/T1w_Processed_IXI_with_csv/IXI/sub-IXI113' -> '../data/IXI/sub-IXI113'\n",
            "renamed '../data/T1w_Processed_IXI_with_csv/IXI/sub-IXI114' -> '../data/IXI/sub-IXI114'\n",
            "renamed '../data/T1w_Processed_IXI_with_csv/IXI/sub-IXI115' -> '../data/IXI/sub-IXI115'\n",
            "renamed '../data/T1w_Processed_IXI_with_csv/IXI/sub-IXI116' -> '../data/IXI/sub-IXI116'\n",
            "renamed '../data/T1w_Processed_IXI_with_csv/IXI/sub-IXI117' -> '../data/IXI/sub-IXI117'\n",
            "renamed '../data/T1w_Processed_IXI_with_csv/IXI/sub-IXI118' -> '../data/IXI/sub-IXI118'\n",
            "renamed '../data/T1w_Processed_IXI_with_csv/IXI/sub-IXI119' -> '../data/IXI/sub-IXI119'\n",
            "renamed '../data/T1w_Processed_IXI_with_csv/IXI/sub-IXI120' -> '../data/IXI/sub-IXI120'\n",
            "renamed '../data/T1w_Processed_IXI_with_csv/IXI/sub-IXI121' -> '../data/IXI/sub-IXI121'\n",
            "renamed '../data/T1w_Processed_IXI_with_csv/IXI/sub-IXI122' -> '../data/IXI/sub-IXI122'\n",
            "renamed '../data/T1w_Processed_IXI_with_csv/IXI/sub-IXI123' -> '../data/IXI/sub-IXI123'\n",
            "renamed '../data/T1w_Processed_IXI_with_csv/IXI/sub-IXI126' -> '../data/IXI/sub-IXI126'\n",
            "renamed '../data/T1w_Processed_IXI_with_csv/IXI/sub-IXI127' -> '../data/IXI/sub-IXI127'\n",
            "renamed '../data/T1w_Processed_IXI_with_csv/IXI/sub-IXI128' -> '../data/IXI/sub-IXI128'\n",
            "renamed '../data/T1w_Processed_IXI_with_csv/IXI/sub-IXI129' -> '../data/IXI/sub-IXI129'\n",
            "renamed '../data/T1w_Processed_IXI_with_csv/IXI/sub-IXI130' -> '../data/IXI/sub-IXI130'\n",
            "renamed '../data/T1w_Processed_IXI_with_csv/IXI/sub-IXI131' -> '../data/IXI/sub-IXI131'\n",
            "renamed '../data/T1w_Processed_IXI_with_csv/IXI/sub-IXI132' -> '../data/IXI/sub-IXI132'\n",
            "renamed '../data/T1w_Processed_IXI_with_csv/IXI/sub-IXI134' -> '../data/IXI/sub-IXI134'\n",
            "renamed '../data/T1w_Processed_IXI_with_csv/IXI/sub-IXI135' -> '../data/IXI/sub-IXI135'\n",
            "renamed '../data/T1w_Processed_IXI_with_csv/IXI/sub-IXI136' -> '../data/IXI/sub-IXI136'\n",
            "renamed '../data/T1w_Processed_IXI_with_csv/IXI/sub-IXI137' -> '../data/IXI/sub-IXI137'\n",
            "renamed '../data/T1w_Processed_IXI_with_csv/IXI/sub-IXI138' -> '../data/IXI/sub-IXI138'\n",
            "renamed '../data/T1w_Processed_IXI_with_csv/IXI/sub-IXI139' -> '../data/IXI/sub-IXI139'\n",
            "renamed '../data/T1w_Processed_IXI_with_csv/IXI/sub-IXI140' -> '../data/IXI/sub-IXI140'\n",
            "renamed '../data/T1w_Processed_IXI_with_csv/IXI/sub-IXI141' -> '../data/IXI/sub-IXI141'\n",
            "renamed '../data/T1w_Processed_IXI_with_csv/IXI/sub-IXI142' -> '../data/IXI/sub-IXI142'\n",
            "renamed '../data/T1w_Processed_IXI_with_csv/IXI/sub-IXI143' -> '../data/IXI/sub-IXI143'\n",
            "renamed '../data/T1w_Processed_IXI_with_csv/IXI/sub-IXI144' -> '../data/IXI/sub-IXI144'\n",
            "renamed '../data/T1w_Processed_IXI_with_csv/IXI/sub-IXI145' -> '../data/IXI/sub-IXI145'\n",
            "renamed '../data/T1w_Processed_IXI_with_csv/IXI/sub-IXI146' -> '../data/IXI/sub-IXI146'\n",
            "renamed '../data/T1w_Processed_IXI_with_csv/IXI/sub-IXI148' -> '../data/IXI/sub-IXI148'\n",
            "renamed '../data/T1w_Processed_IXI_with_csv/IXI/sub-IXI150' -> '../data/IXI/sub-IXI150'\n",
            "renamed '../data/T1w_Processed_IXI_with_csv/IXI/sub-IXI151' -> '../data/IXI/sub-IXI151'\n",
            "renamed '../data/T1w_Processed_IXI_with_csv/IXI/sub-IXI153' -> '../data/IXI/sub-IXI153'\n",
            "renamed '../data/T1w_Processed_IXI_with_csv/IXI/sub-IXI154' -> '../data/IXI/sub-IXI154'\n",
            "renamed '../data/T1w_Processed_IXI_with_csv/IXI/sub-IXI156' -> '../data/IXI/sub-IXI156'\n",
            "renamed '../data/T1w_Processed_IXI_with_csv/IXI/sub-IXI157' -> '../data/IXI/sub-IXI157'\n",
            "renamed '../data/T1w_Processed_IXI_with_csv/IXI/sub-IXI158' -> '../data/IXI/sub-IXI158'\n",
            "renamed '../data/T1w_Processed_IXI_with_csv/IXI/sub-IXI159' -> '../data/IXI/sub-IXI159'\n",
            "renamed '../data/T1w_Processed_IXI_with_csv/IXI/sub-IXI160' -> '../data/IXI/sub-IXI160'\n",
            "renamed '../data/T1w_Processed_IXI_with_csv/IXI/sub-IXI161' -> '../data/IXI/sub-IXI161'\n",
            "renamed '../data/T1w_Processed_IXI_with_csv/IXI/sub-IXI162' -> '../data/IXI/sub-IXI162'\n",
            "renamed '../data/T1w_Processed_IXI_with_csv/IXI/sub-IXI163' -> '../data/IXI/sub-IXI163'\n",
            "renamed '../data/T1w_Processed_IXI_with_csv/IXI/sub-IXI164' -> '../data/IXI/sub-IXI164'\n",
            "renamed '../data/T1w_Processed_IXI_with_csv/IXI/sub-IXI165' -> '../data/IXI/sub-IXI165'\n",
            "renamed '../data/T1w_Processed_IXI_with_csv/IXI/sub-IXI166' -> '../data/IXI/sub-IXI166'\n",
            "renamed '../data/T1w_Processed_IXI_with_csv/IXI/sub-IXI167' -> '../data/IXI/sub-IXI167'\n",
            "renamed '../data/T1w_Processed_IXI_with_csv/IXI/sub-IXI168' -> '../data/IXI/sub-IXI168'\n",
            "renamed '../data/T1w_Processed_IXI_with_csv/IXI/sub-IXI169' -> '../data/IXI/sub-IXI169'\n",
            "renamed '../data/T1w_Processed_IXI_with_csv/IXI/sub-IXI170' -> '../data/IXI/sub-IXI170'\n",
            "renamed '../data/T1w_Processed_IXI_with_csv/IXI/sub-IXI172' -> '../data/IXI/sub-IXI172'\n",
            "renamed '../data/T1w_Processed_IXI_with_csv/IXI/sub-IXI173' -> '../data/IXI/sub-IXI173'\n",
            "renamed '../data/T1w_Processed_IXI_with_csv/IXI/sub-IXI174' -> '../data/IXI/sub-IXI174'\n",
            "renamed '../data/T1w_Processed_IXI_with_csv/IXI/sub-IXI175' -> '../data/IXI/sub-IXI175'\n",
            "renamed '../data/T1w_Processed_IXI_with_csv/IXI/sub-IXI176' -> '../data/IXI/sub-IXI176'\n",
            "renamed '../data/T1w_Processed_IXI_with_csv/IXI/sub-IXI177' -> '../data/IXI/sub-IXI177'\n",
            "renamed '../data/T1w_Processed_IXI_with_csv/IXI/sub-IXI178' -> '../data/IXI/sub-IXI178'\n",
            "renamed '../data/T1w_Processed_IXI_with_csv/IXI/sub-IXI179' -> '../data/IXI/sub-IXI179'\n",
            "renamed '../data/T1w_Processed_IXI_with_csv/IXI/sub-IXI180' -> '../data/IXI/sub-IXI180'\n",
            "renamed '../data/T1w_Processed_IXI_with_csv/IXI/sub-IXI181' -> '../data/IXI/sub-IXI181'\n",
            "renamed '../data/T1w_Processed_IXI_with_csv/IXI/sub-IXI182' -> '../data/IXI/sub-IXI182'\n",
            "renamed '../data/T1w_Processed_IXI_with_csv/IXI/sub-IXI183' -> '../data/IXI/sub-IXI183'\n",
            "renamed '../data/T1w_Processed_IXI_with_csv/IXI/sub-IXI184' -> '../data/IXI/sub-IXI184'\n",
            "renamed '../data/T1w_Processed_IXI_with_csv/IXI/sub-IXI185' -> '../data/IXI/sub-IXI185'\n",
            "renamed '../data/T1w_Processed_IXI_with_csv/IXI/sub-IXI186' -> '../data/IXI/sub-IXI186'\n",
            "renamed '../data/T1w_Processed_IXI_with_csv/IXI/sub-IXI188' -> '../data/IXI/sub-IXI188'\n",
            "renamed '../data/T1w_Processed_IXI_with_csv/IXI/sub-IXI189' -> '../data/IXI/sub-IXI189'\n",
            "renamed '../data/T1w_Processed_IXI_with_csv/IXI/sub-IXI191' -> '../data/IXI/sub-IXI191'\n",
            "renamed '../data/T1w_Processed_IXI_with_csv/IXI/sub-IXI192' -> '../data/IXI/sub-IXI192'\n",
            "renamed '../data/T1w_Processed_IXI_with_csv/IXI/sub-IXI193' -> '../data/IXI/sub-IXI193'\n",
            "renamed '../data/T1w_Processed_IXI_with_csv/IXI/sub-IXI194' -> '../data/IXI/sub-IXI194'\n",
            "renamed '../data/T1w_Processed_IXI_with_csv/IXI/sub-IXI195' -> '../data/IXI/sub-IXI195'\n",
            "renamed '../data/T1w_Processed_IXI_with_csv/IXI/sub-IXI196' -> '../data/IXI/sub-IXI196'\n",
            "renamed '../data/T1w_Processed_IXI_with_csv/IXI/sub-IXI197' -> '../data/IXI/sub-IXI197'\n",
            "renamed '../data/T1w_Processed_IXI_with_csv/IXI/sub-IXI198' -> '../data/IXI/sub-IXI198'\n",
            "renamed '../data/T1w_Processed_IXI_with_csv/IXI/sub-IXI199' -> '../data/IXI/sub-IXI199'\n",
            "renamed '../data/T1w_Processed_IXI_with_csv/IXI/sub-IXI200' -> '../data/IXI/sub-IXI200'\n",
            "renamed '../data/T1w_Processed_IXI_with_csv/IXI/sub-IXI201' -> '../data/IXI/sub-IXI201'\n",
            "renamed '../data/T1w_Processed_IXI_with_csv/IXI/sub-IXI202' -> '../data/IXI/sub-IXI202'\n",
            "renamed '../data/T1w_Processed_IXI_with_csv/IXI/sub-IXI204' -> '../data/IXI/sub-IXI204'\n",
            "renamed '../data/T1w_Processed_IXI_with_csv/IXI/sub-IXI205' -> '../data/IXI/sub-IXI205'\n",
            "renamed '../data/T1w_Processed_IXI_with_csv/IXI/sub-IXI206' -> '../data/IXI/sub-IXI206'\n",
            "renamed '../data/T1w_Processed_IXI_with_csv/IXI/sub-IXI207' -> '../data/IXI/sub-IXI207'\n",
            "renamed '../data/T1w_Processed_IXI_with_csv/IXI/sub-IXI208' -> '../data/IXI/sub-IXI208'\n",
            "renamed '../data/T1w_Processed_IXI_with_csv/IXI/sub-IXI209' -> '../data/IXI/sub-IXI209'\n",
            "renamed '../data/T1w_Processed_IXI_with_csv/IXI/sub-IXI210' -> '../data/IXI/sub-IXI210'\n",
            "renamed '../data/T1w_Processed_IXI_with_csv/IXI/sub-IXI211' -> '../data/IXI/sub-IXI211'\n",
            "renamed '../data/T1w_Processed_IXI_with_csv/IXI/sub-IXI212' -> '../data/IXI/sub-IXI212'\n",
            "renamed '../data/T1w_Processed_IXI_with_csv/IXI/sub-IXI213' -> '../data/IXI/sub-IXI213'\n",
            "renamed '../data/T1w_Processed_IXI_with_csv/IXI/sub-IXI214' -> '../data/IXI/sub-IXI214'\n",
            "renamed '../data/T1w_Processed_IXI_with_csv/IXI/sub-IXI216' -> '../data/IXI/sub-IXI216'\n",
            "renamed '../data/T1w_Processed_IXI_with_csv/IXI/sub-IXI217' -> '../data/IXI/sub-IXI217'\n",
            "renamed '../data/T1w_Processed_IXI_with_csv/IXI/sub-IXI218' -> '../data/IXI/sub-IXI218'\n",
            "renamed '../data/T1w_Processed_IXI_with_csv/IXI/sub-IXI221' -> '../data/IXI/sub-IXI221'\n",
            "renamed '../data/T1w_Processed_IXI_with_csv/IXI/sub-IXI222' -> '../data/IXI/sub-IXI222'\n",
            "renamed '../data/T1w_Processed_IXI_with_csv/IXI/sub-IXI223' -> '../data/IXI/sub-IXI223'\n",
            "renamed '../data/T1w_Processed_IXI_with_csv/IXI/sub-IXI224' -> '../data/IXI/sub-IXI224'\n",
            "renamed '../data/T1w_Processed_IXI_with_csv/IXI/sub-IXI225' -> '../data/IXI/sub-IXI225'\n",
            "renamed '../data/T1w_Processed_IXI_with_csv/IXI/sub-IXI226' -> '../data/IXI/sub-IXI226'\n",
            "renamed '../data/T1w_Processed_IXI_with_csv/IXI/sub-IXI227' -> '../data/IXI/sub-IXI227'\n",
            "renamed '../data/T1w_Processed_IXI_with_csv/IXI/sub-IXI228' -> '../data/IXI/sub-IXI228'\n",
            "renamed '../data/T1w_Processed_IXI_with_csv/IXI/sub-IXI229' -> '../data/IXI/sub-IXI229'\n",
            "renamed '../data/T1w_Processed_IXI_with_csv/IXI/sub-IXI230' -> '../data/IXI/sub-IXI230'\n",
            "renamed '../data/T1w_Processed_IXI_with_csv/IXI/sub-IXI231' -> '../data/IXI/sub-IXI231'\n",
            "renamed '../data/T1w_Processed_IXI_with_csv/IXI/sub-IXI232' -> '../data/IXI/sub-IXI232'\n",
            "renamed '../data/T1w_Processed_IXI_with_csv/IXI/sub-IXI233' -> '../data/IXI/sub-IXI233'\n",
            "renamed '../data/T1w_Processed_IXI_with_csv/IXI/sub-IXI234' -> '../data/IXI/sub-IXI234'\n",
            "renamed '../data/T1w_Processed_IXI_with_csv/IXI/sub-IXI236' -> '../data/IXI/sub-IXI236'\n",
            "renamed '../data/T1w_Processed_IXI_with_csv/IXI/sub-IXI237' -> '../data/IXI/sub-IXI237'\n",
            "renamed '../data/T1w_Processed_IXI_with_csv/IXI/sub-IXI238' -> '../data/IXI/sub-IXI238'\n",
            "renamed '../data/T1w_Processed_IXI_with_csv/IXI/sub-IXI239' -> '../data/IXI/sub-IXI239'\n",
            "renamed '../data/T1w_Processed_IXI_with_csv/IXI/sub-IXI240' -> '../data/IXI/sub-IXI240'\n",
            "renamed '../data/T1w_Processed_IXI_with_csv/IXI/sub-IXI241' -> '../data/IXI/sub-IXI241'\n",
            "renamed '../data/T1w_Processed_IXI_with_csv/IXI/sub-IXI242' -> '../data/IXI/sub-IXI242'\n",
            "renamed '../data/T1w_Processed_IXI_with_csv/IXI/sub-IXI244' -> '../data/IXI/sub-IXI244'\n",
            "renamed '../data/T1w_Processed_IXI_with_csv/IXI/sub-IXI246' -> '../data/IXI/sub-IXI246'\n",
            "renamed '../data/T1w_Processed_IXI_with_csv/IXI/sub-IXI247' -> '../data/IXI/sub-IXI247'\n",
            "renamed '../data/T1w_Processed_IXI_with_csv/IXI/sub-IXI248' -> '../data/IXI/sub-IXI248'\n",
            "renamed '../data/T1w_Processed_IXI_with_csv/IXI/sub-IXI249' -> '../data/IXI/sub-IXI249'\n",
            "renamed '../data/T1w_Processed_IXI_with_csv/IXI/sub-IXI250' -> '../data/IXI/sub-IXI250'\n",
            "renamed '../data/T1w_Processed_IXI_with_csv/IXI/sub-IXI251' -> '../data/IXI/sub-IXI251'\n",
            "renamed '../data/T1w_Processed_IXI_with_csv/IXI/sub-IXI252' -> '../data/IXI/sub-IXI252'\n",
            "renamed '../data/T1w_Processed_IXI_with_csv/IXI/sub-IXI253' -> '../data/IXI/sub-IXI253'\n",
            "renamed '../data/T1w_Processed_IXI_with_csv/IXI/sub-IXI254' -> '../data/IXI/sub-IXI254'\n",
            "renamed '../data/T1w_Processed_IXI_with_csv/IXI/sub-IXI255' -> '../data/IXI/sub-IXI255'\n",
            "renamed '../data/T1w_Processed_IXI_with_csv/IXI/sub-IXI256' -> '../data/IXI/sub-IXI256'\n",
            "renamed '../data/T1w_Processed_IXI_with_csv/IXI/sub-IXI257' -> '../data/IXI/sub-IXI257'\n",
            "renamed '../data/T1w_Processed_IXI_with_csv/IXI/sub-IXI258' -> '../data/IXI/sub-IXI258'\n",
            "renamed '../data/T1w_Processed_IXI_with_csv/IXI/sub-IXI259' -> '../data/IXI/sub-IXI259'\n",
            "renamed '../data/T1w_Processed_IXI_with_csv/IXI/sub-IXI260' -> '../data/IXI/sub-IXI260'\n",
            "renamed '../data/T1w_Processed_IXI_with_csv/IXI/sub-IXI261' -> '../data/IXI/sub-IXI261'\n",
            "renamed '../data/T1w_Processed_IXI_with_csv/IXI/sub-IXI262' -> '../data/IXI/sub-IXI262'\n",
            "renamed '../data/T1w_Processed_IXI_with_csv/IXI/sub-IXI263' -> '../data/IXI/sub-IXI263'\n",
            "renamed '../data/T1w_Processed_IXI_with_csv/IXI/sub-IXI264' -> '../data/IXI/sub-IXI264'\n",
            "renamed '../data/T1w_Processed_IXI_with_csv/IXI/sub-IXI265' -> '../data/IXI/sub-IXI265'\n",
            "renamed '../data/T1w_Processed_IXI_with_csv/IXI/sub-IXI266' -> '../data/IXI/sub-IXI266'\n",
            "renamed '../data/T1w_Processed_IXI_with_csv/IXI/sub-IXI267' -> '../data/IXI/sub-IXI267'\n",
            "renamed '../data/T1w_Processed_IXI_with_csv/IXI/sub-IXI268' -> '../data/IXI/sub-IXI268'\n",
            "renamed '../data/T1w_Processed_IXI_with_csv/IXI/sub-IXI269' -> '../data/IXI/sub-IXI269'\n",
            "renamed '../data/T1w_Processed_IXI_with_csv/IXI/sub-IXI270' -> '../data/IXI/sub-IXI270'\n",
            "renamed '../data/T1w_Processed_IXI_with_csv/IXI/sub-IXI274' -> '../data/IXI/sub-IXI274'\n",
            "renamed '../data/T1w_Processed_IXI_with_csv/IXI/sub-IXI275' -> '../data/IXI/sub-IXI275'\n",
            "renamed '../data/T1w_Processed_IXI_with_csv/IXI/sub-IXI276' -> '../data/IXI/sub-IXI276'\n",
            "renamed '../data/T1w_Processed_IXI_with_csv/IXI/sub-IXI277' -> '../data/IXI/sub-IXI277'\n",
            "renamed '../data/T1w_Processed_IXI_with_csv/IXI/sub-IXI278' -> '../data/IXI/sub-IXI278'\n",
            "renamed '../data/T1w_Processed_IXI_with_csv/IXI/sub-IXI279' -> '../data/IXI/sub-IXI279'\n",
            "renamed '../data/T1w_Processed_IXI_with_csv/IXI/sub-IXI280' -> '../data/IXI/sub-IXI280'\n",
            "renamed '../data/T1w_Processed_IXI_with_csv/IXI/sub-IXI282' -> '../data/IXI/sub-IXI282'\n",
            "renamed '../data/T1w_Processed_IXI_with_csv/IXI/sub-IXI284' -> '../data/IXI/sub-IXI284'\n",
            "renamed '../data/T1w_Processed_IXI_with_csv/IXI/sub-IXI285' -> '../data/IXI/sub-IXI285'\n",
            "renamed '../data/T1w_Processed_IXI_with_csv/IXI/sub-IXI286' -> '../data/IXI/sub-IXI286'\n",
            "renamed '../data/T1w_Processed_IXI_with_csv/IXI/sub-IXI287' -> '../data/IXI/sub-IXI287'\n",
            "renamed '../data/T1w_Processed_IXI_with_csv/IXI/sub-IXI288' -> '../data/IXI/sub-IXI288'\n",
            "renamed '../data/T1w_Processed_IXI_with_csv/IXI/sub-IXI289' -> '../data/IXI/sub-IXI289'\n",
            "renamed '../data/T1w_Processed_IXI_with_csv/IXI/sub-IXI290' -> '../data/IXI/sub-IXI290'\n",
            "renamed '../data/T1w_Processed_IXI_with_csv/IXI/sub-IXI291' -> '../data/IXI/sub-IXI291'\n",
            "renamed '../data/T1w_Processed_IXI_with_csv/IXI/sub-IXI292' -> '../data/IXI/sub-IXI292'\n",
            "renamed '../data/T1w_Processed_IXI_with_csv/IXI/sub-IXI293' -> '../data/IXI/sub-IXI293'\n",
            "renamed '../data/T1w_Processed_IXI_with_csv/IXI/sub-IXI294' -> '../data/IXI/sub-IXI294'\n",
            "renamed '../data/T1w_Processed_IXI_with_csv/IXI/sub-IXI295' -> '../data/IXI/sub-IXI295'\n",
            "renamed '../data/T1w_Processed_IXI_with_csv/IXI/sub-IXI296' -> '../data/IXI/sub-IXI296'\n",
            "renamed '../data/T1w_Processed_IXI_with_csv/IXI/sub-IXI297' -> '../data/IXI/sub-IXI297'\n",
            "renamed '../data/T1w_Processed_IXI_with_csv/IXI/sub-IXI298' -> '../data/IXI/sub-IXI298'\n",
            "renamed '../data/T1w_Processed_IXI_with_csv/IXI/sub-IXI299' -> '../data/IXI/sub-IXI299'\n",
            "renamed '../data/T1w_Processed_IXI_with_csv/IXI/sub-IXI300' -> '../data/IXI/sub-IXI300'\n",
            "renamed '../data/T1w_Processed_IXI_with_csv/IXI/sub-IXI302' -> '../data/IXI/sub-IXI302'\n",
            "renamed '../data/T1w_Processed_IXI_with_csv/IXI/sub-IXI303' -> '../data/IXI/sub-IXI303'\n",
            "renamed '../data/T1w_Processed_IXI_with_csv/IXI/sub-IXI304' -> '../data/IXI/sub-IXI304'\n",
            "renamed '../data/T1w_Processed_IXI_with_csv/IXI/sub-IXI305' -> '../data/IXI/sub-IXI305'\n",
            "renamed '../data/T1w_Processed_IXI_with_csv/IXI/sub-IXI306' -> '../data/IXI/sub-IXI306'\n",
            "renamed '../data/T1w_Processed_IXI_with_csv/IXI/sub-IXI307' -> '../data/IXI/sub-IXI307'\n",
            "renamed '../data/T1w_Processed_IXI_with_csv/IXI/sub-IXI308' -> '../data/IXI/sub-IXI308'\n",
            "renamed '../data/T1w_Processed_IXI_with_csv/IXI/sub-IXI309' -> '../data/IXI/sub-IXI309'\n",
            "renamed '../data/T1w_Processed_IXI_with_csv/IXI/sub-IXI310' -> '../data/IXI/sub-IXI310'\n",
            "renamed '../data/T1w_Processed_IXI_with_csv/IXI/sub-IXI311' -> '../data/IXI/sub-IXI311'\n",
            "renamed '../data/T1w_Processed_IXI_with_csv/IXI/sub-IXI312' -> '../data/IXI/sub-IXI312'\n",
            "renamed '../data/T1w_Processed_IXI_with_csv/IXI/sub-IXI313' -> '../data/IXI/sub-IXI313'\n",
            "renamed '../data/T1w_Processed_IXI_with_csv/IXI/sub-IXI314' -> '../data/IXI/sub-IXI314'\n",
            "renamed '../data/T1w_Processed_IXI_with_csv/IXI/sub-IXI315' -> '../data/IXI/sub-IXI315'\n",
            "renamed '../data/T1w_Processed_IXI_with_csv/IXI/sub-IXI316' -> '../data/IXI/sub-IXI316'\n",
            "renamed '../data/T1w_Processed_IXI_with_csv/IXI/sub-IXI317' -> '../data/IXI/sub-IXI317'\n",
            "renamed '../data/T1w_Processed_IXI_with_csv/IXI/sub-IXI318' -> '../data/IXI/sub-IXI318'\n",
            "renamed '../data/T1w_Processed_IXI_with_csv/IXI/sub-IXI319' -> '../data/IXI/sub-IXI319'\n",
            "renamed '../data/T1w_Processed_IXI_with_csv/IXI/sub-IXI320' -> '../data/IXI/sub-IXI320'\n",
            "renamed '../data/T1w_Processed_IXI_with_csv/IXI/sub-IXI321' -> '../data/IXI/sub-IXI321'\n",
            "renamed '../data/T1w_Processed_IXI_with_csv/IXI/sub-IXI322' -> '../data/IXI/sub-IXI322'\n",
            "renamed '../data/T1w_Processed_IXI_with_csv/IXI/sub-IXI324' -> '../data/IXI/sub-IXI324'\n",
            "renamed '../data/T1w_Processed_IXI_with_csv/IXI/sub-IXI325' -> '../data/IXI/sub-IXI325'\n",
            "renamed '../data/T1w_Processed_IXI_with_csv/IXI/sub-IXI326' -> '../data/IXI/sub-IXI326'\n",
            "renamed '../data/T1w_Processed_IXI_with_csv/IXI/sub-IXI327' -> '../data/IXI/sub-IXI327'\n",
            "renamed '../data/T1w_Processed_IXI_with_csv/IXI/sub-IXI328' -> '../data/IXI/sub-IXI328'\n",
            "renamed '../data/T1w_Processed_IXI_with_csv/IXI/sub-IXI329' -> '../data/IXI/sub-IXI329'\n",
            "renamed '../data/T1w_Processed_IXI_with_csv/IXI/sub-IXI330' -> '../data/IXI/sub-IXI330'\n",
            "renamed '../data/T1w_Processed_IXI_with_csv/IXI/sub-IXI331' -> '../data/IXI/sub-IXI331'\n",
            "renamed '../data/T1w_Processed_IXI_with_csv/IXI/sub-IXI332' -> '../data/IXI/sub-IXI332'\n",
            "renamed '../data/T1w_Processed_IXI_with_csv/IXI/sub-IXI333' -> '../data/IXI/sub-IXI333'\n",
            "renamed '../data/T1w_Processed_IXI_with_csv/IXI/sub-IXI334' -> '../data/IXI/sub-IXI334'\n",
            "renamed '../data/T1w_Processed_IXI_with_csv/IXI/sub-IXI335' -> '../data/IXI/sub-IXI335'\n",
            "renamed '../data/T1w_Processed_IXI_with_csv/IXI/sub-IXI336' -> '../data/IXI/sub-IXI336'\n",
            "renamed '../data/T1w_Processed_IXI_with_csv/IXI/sub-IXI337' -> '../data/IXI/sub-IXI337'\n",
            "renamed '../data/T1w_Processed_IXI_with_csv/IXI/sub-IXI338' -> '../data/IXI/sub-IXI338'\n",
            "renamed '../data/T1w_Processed_IXI_with_csv/IXI/sub-IXI340' -> '../data/IXI/sub-IXI340'\n",
            "renamed '../data/T1w_Processed_IXI_with_csv/IXI/sub-IXI341' -> '../data/IXI/sub-IXI341'\n",
            "renamed '../data/T1w_Processed_IXI_with_csv/IXI/sub-IXI342' -> '../data/IXI/sub-IXI342'\n",
            "renamed '../data/T1w_Processed_IXI_with_csv/IXI/sub-IXI344' -> '../data/IXI/sub-IXI344'\n",
            "renamed '../data/T1w_Processed_IXI_with_csv/IXI/sub-IXI345' -> '../data/IXI/sub-IXI345'\n",
            "renamed '../data/T1w_Processed_IXI_with_csv/IXI/sub-IXI347' -> '../data/IXI/sub-IXI347'\n",
            "renamed '../data/T1w_Processed_IXI_with_csv/IXI/sub-IXI348' -> '../data/IXI/sub-IXI348'\n",
            "renamed '../data/T1w_Processed_IXI_with_csv/IXI/sub-IXI350' -> '../data/IXI/sub-IXI350'\n",
            "renamed '../data/T1w_Processed_IXI_with_csv/IXI/sub-IXI351' -> '../data/IXI/sub-IXI351'\n",
            "renamed '../data/T1w_Processed_IXI_with_csv/IXI/sub-IXI353' -> '../data/IXI/sub-IXI353'\n",
            "renamed '../data/T1w_Processed_IXI_with_csv/IXI/sub-IXI354' -> '../data/IXI/sub-IXI354'\n",
            "renamed '../data/T1w_Processed_IXI_with_csv/IXI/sub-IXI356' -> '../data/IXI/sub-IXI356'\n",
            "renamed '../data/T1w_Processed_IXI_with_csv/IXI/sub-IXI357' -> '../data/IXI/sub-IXI357'\n",
            "renamed '../data/T1w_Processed_IXI_with_csv/IXI/sub-IXI358' -> '../data/IXI/sub-IXI358'\n",
            "renamed '../data/T1w_Processed_IXI_with_csv/IXI/sub-IXI359' -> '../data/IXI/sub-IXI359'\n",
            "renamed '../data/T1w_Processed_IXI_with_csv/IXI/sub-IXI360' -> '../data/IXI/sub-IXI360'\n",
            "renamed '../data/T1w_Processed_IXI_with_csv/IXI/sub-IXI361' -> '../data/IXI/sub-IXI361'\n",
            "renamed '../data/T1w_Processed_IXI_with_csv/IXI/sub-IXI362' -> '../data/IXI/sub-IXI362'\n",
            "renamed '../data/T1w_Processed_IXI_with_csv/IXI/sub-IXI363' -> '../data/IXI/sub-IXI363'\n",
            "renamed '../data/T1w_Processed_IXI_with_csv/IXI/sub-IXI364' -> '../data/IXI/sub-IXI364'\n",
            "renamed '../data/T1w_Processed_IXI_with_csv/IXI/sub-IXI365' -> '../data/IXI/sub-IXI365'\n",
            "renamed '../data/T1w_Processed_IXI_with_csv/IXI/sub-IXI367' -> '../data/IXI/sub-IXI367'\n",
            "renamed '../data/T1w_Processed_IXI_with_csv/IXI/sub-IXI368' -> '../data/IXI/sub-IXI368'\n",
            "renamed '../data/T1w_Processed_IXI_with_csv/IXI/sub-IXI369' -> '../data/IXI/sub-IXI369'\n",
            "renamed '../data/T1w_Processed_IXI_with_csv/IXI/sub-IXI370' -> '../data/IXI/sub-IXI370'\n",
            "renamed '../data/T1w_Processed_IXI_with_csv/IXI/sub-IXI371' -> '../data/IXI/sub-IXI371'\n",
            "renamed '../data/T1w_Processed_IXI_with_csv/IXI/sub-IXI372' -> '../data/IXI/sub-IXI372'\n",
            "renamed '../data/T1w_Processed_IXI_with_csv/IXI/sub-IXI373' -> '../data/IXI/sub-IXI373'\n",
            "renamed '../data/T1w_Processed_IXI_with_csv/IXI/sub-IXI375' -> '../data/IXI/sub-IXI375'\n",
            "renamed '../data/T1w_Processed_IXI_with_csv/IXI/sub-IXI376' -> '../data/IXI/sub-IXI376'\n",
            "renamed '../data/T1w_Processed_IXI_with_csv/IXI/sub-IXI377' -> '../data/IXI/sub-IXI377'\n",
            "renamed '../data/T1w_Processed_IXI_with_csv/IXI/sub-IXI378' -> '../data/IXI/sub-IXI378'\n",
            "renamed '../data/T1w_Processed_IXI_with_csv/IXI/sub-IXI379' -> '../data/IXI/sub-IXI379'\n",
            "renamed '../data/T1w_Processed_IXI_with_csv/IXI/sub-IXI380' -> '../data/IXI/sub-IXI380'\n",
            "renamed '../data/T1w_Processed_IXI_with_csv/IXI/sub-IXI381' -> '../data/IXI/sub-IXI381'\n",
            "renamed '../data/T1w_Processed_IXI_with_csv/IXI/sub-IXI382' -> '../data/IXI/sub-IXI382'\n",
            "renamed '../data/T1w_Processed_IXI_with_csv/IXI/sub-IXI383' -> '../data/IXI/sub-IXI383'\n",
            "renamed '../data/T1w_Processed_IXI_with_csv/IXI/sub-IXI384' -> '../data/IXI/sub-IXI384'\n",
            "renamed '../data/T1w_Processed_IXI_with_csv/IXI/sub-IXI385' -> '../data/IXI/sub-IXI385'\n",
            "renamed '../data/T1w_Processed_IXI_with_csv/IXI/sub-IXI386' -> '../data/IXI/sub-IXI386'\n",
            "renamed '../data/T1w_Processed_IXI_with_csv/IXI/sub-IXI387' -> '../data/IXI/sub-IXI387'\n",
            "renamed '../data/T1w_Processed_IXI_with_csv/IXI/sub-IXI388' -> '../data/IXI/sub-IXI388'\n",
            "renamed '../data/T1w_Processed_IXI_with_csv/IXI/sub-IXI389' -> '../data/IXI/sub-IXI389'\n",
            "renamed '../data/T1w_Processed_IXI_with_csv/IXI/sub-IXI390' -> '../data/IXI/sub-IXI390'\n",
            "renamed '../data/T1w_Processed_IXI_with_csv/IXI/sub-IXI391' -> '../data/IXI/sub-IXI391'\n",
            "renamed '../data/T1w_Processed_IXI_with_csv/IXI/sub-IXI392' -> '../data/IXI/sub-IXI392'\n",
            "renamed '../data/T1w_Processed_IXI_with_csv/IXI/sub-IXI393' -> '../data/IXI/sub-IXI393'\n",
            "renamed '../data/T1w_Processed_IXI_with_csv/IXI/sub-IXI394' -> '../data/IXI/sub-IXI394'\n",
            "renamed '../data/T1w_Processed_IXI_with_csv/IXI/sub-IXI395' -> '../data/IXI/sub-IXI395'\n",
            "renamed '../data/T1w_Processed_IXI_with_csv/IXI/sub-IXI396' -> '../data/IXI/sub-IXI396'\n",
            "renamed '../data/T1w_Processed_IXI_with_csv/IXI/sub-IXI397' -> '../data/IXI/sub-IXI397'\n",
            "renamed '../data/T1w_Processed_IXI_with_csv/IXI/sub-IXI398' -> '../data/IXI/sub-IXI398'\n",
            "renamed '../data/T1w_Processed_IXI_with_csv/IXI/sub-IXI399' -> '../data/IXI/sub-IXI399'\n",
            "renamed '../data/T1w_Processed_IXI_with_csv/IXI/sub-IXI400' -> '../data/IXI/sub-IXI400'\n",
            "renamed '../data/T1w_Processed_IXI_with_csv/IXI/sub-IXI401' -> '../data/IXI/sub-IXI401'\n",
            "renamed '../data/T1w_Processed_IXI_with_csv/IXI/sub-IXI402' -> '../data/IXI/sub-IXI402'\n",
            "renamed '../data/T1w_Processed_IXI_with_csv/IXI/sub-IXI403' -> '../data/IXI/sub-IXI403'\n",
            "renamed '../data/T1w_Processed_IXI_with_csv/IXI/sub-IXI404' -> '../data/IXI/sub-IXI404'\n",
            "renamed '../data/T1w_Processed_IXI_with_csv/IXI/sub-IXI405' -> '../data/IXI/sub-IXI405'\n",
            "renamed '../data/T1w_Processed_IXI_with_csv/IXI/sub-IXI406' -> '../data/IXI/sub-IXI406'\n",
            "renamed '../data/T1w_Processed_IXI_with_csv/IXI/sub-IXI407' -> '../data/IXI/sub-IXI407'\n",
            "renamed '../data/T1w_Processed_IXI_with_csv/IXI/sub-IXI408' -> '../data/IXI/sub-IXI408'\n",
            "renamed '../data/T1w_Processed_IXI_with_csv/IXI/sub-IXI409' -> '../data/IXI/sub-IXI409'\n",
            "renamed '../data/T1w_Processed_IXI_with_csv/IXI/sub-IXI410' -> '../data/IXI/sub-IXI410'\n",
            "renamed '../data/T1w_Processed_IXI_with_csv/IXI/sub-IXI411' -> '../data/IXI/sub-IXI411'\n",
            "renamed '../data/T1w_Processed_IXI_with_csv/IXI/sub-IXI412' -> '../data/IXI/sub-IXI412'\n",
            "renamed '../data/T1w_Processed_IXI_with_csv/IXI/sub-IXI413' -> '../data/IXI/sub-IXI413'\n",
            "renamed '../data/T1w_Processed_IXI_with_csv/IXI/sub-IXI414' -> '../data/IXI/sub-IXI414'\n",
            "renamed '../data/T1w_Processed_IXI_with_csv/IXI/sub-IXI415' -> '../data/IXI/sub-IXI415'\n",
            "renamed '../data/T1w_Processed_IXI_with_csv/IXI/sub-IXI416' -> '../data/IXI/sub-IXI416'\n",
            "renamed '../data/T1w_Processed_IXI_with_csv/IXI/sub-IXI417' -> '../data/IXI/sub-IXI417'\n",
            "renamed '../data/T1w_Processed_IXI_with_csv/IXI/sub-IXI418' -> '../data/IXI/sub-IXI418'\n",
            "renamed '../data/T1w_Processed_IXI_with_csv/IXI/sub-IXI419' -> '../data/IXI/sub-IXI419'\n",
            "renamed '../data/T1w_Processed_IXI_with_csv/IXI/sub-IXI420' -> '../data/IXI/sub-IXI420'\n",
            "renamed '../data/T1w_Processed_IXI_with_csv/IXI/sub-IXI422' -> '../data/IXI/sub-IXI422'\n",
            "renamed '../data/T1w_Processed_IXI_with_csv/IXI/sub-IXI423' -> '../data/IXI/sub-IXI423'\n",
            "renamed '../data/T1w_Processed_IXI_with_csv/IXI/sub-IXI424' -> '../data/IXI/sub-IXI424'\n",
            "renamed '../data/T1w_Processed_IXI_with_csv/IXI/sub-IXI425' -> '../data/IXI/sub-IXI425'\n",
            "renamed '../data/T1w_Processed_IXI_with_csv/IXI/sub-IXI426' -> '../data/IXI/sub-IXI426'\n",
            "renamed '../data/T1w_Processed_IXI_with_csv/IXI/sub-IXI427' -> '../data/IXI/sub-IXI427'\n",
            "renamed '../data/T1w_Processed_IXI_with_csv/IXI/sub-IXI428' -> '../data/IXI/sub-IXI428'\n",
            "renamed '../data/T1w_Processed_IXI_with_csv/IXI/sub-IXI429' -> '../data/IXI/sub-IXI429'\n",
            "renamed '../data/T1w_Processed_IXI_with_csv/IXI/sub-IXI430' -> '../data/IXI/sub-IXI430'\n",
            "renamed '../data/T1w_Processed_IXI_with_csv/IXI/sub-IXI431' -> '../data/IXI/sub-IXI431'\n",
            "renamed '../data/T1w_Processed_IXI_with_csv/IXI/sub-IXI432' -> '../data/IXI/sub-IXI432'\n",
            "renamed '../data/T1w_Processed_IXI_with_csv/IXI/sub-IXI433' -> '../data/IXI/sub-IXI433'\n",
            "renamed '../data/T1w_Processed_IXI_with_csv/IXI/sub-IXI434' -> '../data/IXI/sub-IXI434'\n",
            "renamed '../data/T1w_Processed_IXI_with_csv/IXI/sub-IXI435' -> '../data/IXI/sub-IXI435'\n",
            "renamed '../data/T1w_Processed_IXI_with_csv/IXI/sub-IXI436' -> '../data/IXI/sub-IXI436'\n",
            "renamed '../data/T1w_Processed_IXI_with_csv/IXI/sub-IXI437' -> '../data/IXI/sub-IXI437'\n",
            "renamed '../data/T1w_Processed_IXI_with_csv/IXI/sub-IXI438' -> '../data/IXI/sub-IXI438'\n",
            "renamed '../data/T1w_Processed_IXI_with_csv/IXI/sub-IXI439' -> '../data/IXI/sub-IXI439'\n",
            "renamed '../data/T1w_Processed_IXI_with_csv/IXI/sub-IXI440' -> '../data/IXI/sub-IXI440'\n",
            "renamed '../data/T1w_Processed_IXI_with_csv/IXI/sub-IXI441' -> '../data/IXI/sub-IXI441'\n",
            "renamed '../data/T1w_Processed_IXI_with_csv/IXI/sub-IXI442' -> '../data/IXI/sub-IXI442'\n",
            "renamed '../data/T1w_Processed_IXI_with_csv/IXI/sub-IXI443' -> '../data/IXI/sub-IXI443'\n",
            "renamed '../data/T1w_Processed_IXI_with_csv/IXI/sub-IXI444' -> '../data/IXI/sub-IXI444'\n",
            "renamed '../data/T1w_Processed_IXI_with_csv/IXI/sub-IXI445' -> '../data/IXI/sub-IXI445'\n",
            "renamed '../data/T1w_Processed_IXI_with_csv/IXI/sub-IXI446' -> '../data/IXI/sub-IXI446'\n",
            "renamed '../data/T1w_Processed_IXI_with_csv/IXI/sub-IXI447' -> '../data/IXI/sub-IXI447'\n",
            "renamed '../data/T1w_Processed_IXI_with_csv/IXI/sub-IXI448' -> '../data/IXI/sub-IXI448'\n",
            "renamed '../data/T1w_Processed_IXI_with_csv/IXI/sub-IXI449' -> '../data/IXI/sub-IXI449'\n",
            "renamed '../data/T1w_Processed_IXI_with_csv/IXI/sub-IXI450' -> '../data/IXI/sub-IXI450'\n",
            "renamed '../data/T1w_Processed_IXI_with_csv/IXI/sub-IXI451' -> '../data/IXI/sub-IXI451'\n",
            "renamed '../data/T1w_Processed_IXI_with_csv/IXI/sub-IXI452' -> '../data/IXI/sub-IXI452'\n",
            "renamed '../data/T1w_Processed_IXI_with_csv/IXI/sub-IXI453' -> '../data/IXI/sub-IXI453'\n",
            "renamed '../data/T1w_Processed_IXI_with_csv/IXI/sub-IXI454' -> '../data/IXI/sub-IXI454'\n",
            "renamed '../data/T1w_Processed_IXI_with_csv/IXI/sub-IXI455' -> '../data/IXI/sub-IXI455'\n",
            "renamed '../data/T1w_Processed_IXI_with_csv/IXI/sub-IXI456' -> '../data/IXI/sub-IXI456'\n",
            "renamed '../data/T1w_Processed_IXI_with_csv/IXI/sub-IXI457' -> '../data/IXI/sub-IXI457'\n",
            "renamed '../data/T1w_Processed_IXI_with_csv/IXI/sub-IXI458' -> '../data/IXI/sub-IXI458'\n",
            "renamed '../data/T1w_Processed_IXI_with_csv/IXI/sub-IXI459' -> '../data/IXI/sub-IXI459'\n",
            "renamed '../data/T1w_Processed_IXI_with_csv/IXI/sub-IXI460' -> '../data/IXI/sub-IXI460'\n",
            "renamed '../data/T1w_Processed_IXI_with_csv/IXI/sub-IXI461' -> '../data/IXI/sub-IXI461'\n",
            "renamed '../data/T1w_Processed_IXI_with_csv/IXI/sub-IXI462' -> '../data/IXI/sub-IXI462'\n",
            "renamed '../data/T1w_Processed_IXI_with_csv/IXI/sub-IXI463' -> '../data/IXI/sub-IXI463'\n",
            "renamed '../data/T1w_Processed_IXI_with_csv/IXI/sub-IXI464' -> '../data/IXI/sub-IXI464'\n",
            "renamed '../data/T1w_Processed_IXI_with_csv/IXI/sub-IXI465' -> '../data/IXI/sub-IXI465'\n",
            "renamed '../data/T1w_Processed_IXI_with_csv/IXI/sub-IXI467' -> '../data/IXI/sub-IXI467'\n",
            "renamed '../data/T1w_Processed_IXI_with_csv/IXI/sub-IXI468' -> '../data/IXI/sub-IXI468'\n",
            "renamed '../data/T1w_Processed_IXI_with_csv/IXI/sub-IXI469' -> '../data/IXI/sub-IXI469'\n",
            "renamed '../data/T1w_Processed_IXI_with_csv/IXI/sub-IXI470' -> '../data/IXI/sub-IXI470'\n",
            "renamed '../data/T1w_Processed_IXI_with_csv/IXI/sub-IXI473' -> '../data/IXI/sub-IXI473'\n",
            "renamed '../data/T1w_Processed_IXI_with_csv/IXI/sub-IXI474' -> '../data/IXI/sub-IXI474'\n",
            "renamed '../data/T1w_Processed_IXI_with_csv/IXI/sub-IXI475' -> '../data/IXI/sub-IXI475'\n",
            "renamed '../data/T1w_Processed_IXI_with_csv/IXI/sub-IXI477' -> '../data/IXI/sub-IXI477'\n",
            "renamed '../data/T1w_Processed_IXI_with_csv/IXI/sub-IXI478' -> '../data/IXI/sub-IXI478'\n",
            "renamed '../data/T1w_Processed_IXI_with_csv/IXI/sub-IXI479' -> '../data/IXI/sub-IXI479'\n",
            "renamed '../data/T1w_Processed_IXI_with_csv/IXI/sub-IXI480' -> '../data/IXI/sub-IXI480'\n",
            "renamed '../data/T1w_Processed_IXI_with_csv/IXI/sub-IXI481' -> '../data/IXI/sub-IXI481'\n",
            "renamed '../data/T1w_Processed_IXI_with_csv/IXI/sub-IXI482' -> '../data/IXI/sub-IXI482'\n",
            "renamed '../data/T1w_Processed_IXI_with_csv/IXI/sub-IXI483' -> '../data/IXI/sub-IXI483'\n",
            "renamed '../data/T1w_Processed_IXI_with_csv/IXI/sub-IXI484' -> '../data/IXI/sub-IXI484'\n",
            "renamed '../data/T1w_Processed_IXI_with_csv/IXI/sub-IXI485' -> '../data/IXI/sub-IXI485'\n",
            "renamed '../data/T1w_Processed_IXI_with_csv/IXI/sub-IXI486' -> '../data/IXI/sub-IXI486'\n",
            "renamed '../data/T1w_Processed_IXI_with_csv/IXI/sub-IXI487' -> '../data/IXI/sub-IXI487'\n",
            "renamed '../data/T1w_Processed_IXI_with_csv/IXI/sub-IXI488' -> '../data/IXI/sub-IXI488'\n",
            "renamed '../data/T1w_Processed_IXI_with_csv/IXI/sub-IXI489' -> '../data/IXI/sub-IXI489'\n",
            "renamed '../data/T1w_Processed_IXI_with_csv/IXI/sub-IXI490' -> '../data/IXI/sub-IXI490'\n",
            "renamed '../data/T1w_Processed_IXI_with_csv/IXI/sub-IXI491' -> '../data/IXI/sub-IXI491'\n",
            "renamed '../data/T1w_Processed_IXI_with_csv/IXI/sub-IXI492' -> '../data/IXI/sub-IXI492'\n",
            "renamed '../data/T1w_Processed_IXI_with_csv/IXI/sub-IXI493' -> '../data/IXI/sub-IXI493'\n",
            "renamed '../data/T1w_Processed_IXI_with_csv/IXI/sub-IXI494' -> '../data/IXI/sub-IXI494'\n",
            "renamed '../data/T1w_Processed_IXI_with_csv/IXI/sub-IXI495' -> '../data/IXI/sub-IXI495'\n",
            "renamed '../data/T1w_Processed_IXI_with_csv/IXI/sub-IXI496' -> '../data/IXI/sub-IXI496'\n",
            "renamed '../data/T1w_Processed_IXI_with_csv/IXI/sub-IXI497' -> '../data/IXI/sub-IXI497'\n",
            "renamed '../data/T1w_Processed_IXI_with_csv/IXI/sub-IXI498' -> '../data/IXI/sub-IXI498'\n",
            "renamed '../data/T1w_Processed_IXI_with_csv/IXI/sub-IXI499' -> '../data/IXI/sub-IXI499'\n",
            "renamed '../data/T1w_Processed_IXI_with_csv/IXI/sub-IXI500' -> '../data/IXI/sub-IXI500'\n",
            "renamed '../data/T1w_Processed_IXI_with_csv/IXI/sub-IXI501' -> '../data/IXI/sub-IXI501'\n",
            "renamed '../data/T1w_Processed_IXI_with_csv/IXI/sub-IXI502' -> '../data/IXI/sub-IXI502'\n",
            "renamed '../data/T1w_Processed_IXI_with_csv/IXI/sub-IXI503' -> '../data/IXI/sub-IXI503'\n",
            "renamed '../data/T1w_Processed_IXI_with_csv/IXI/sub-IXI504' -> '../data/IXI/sub-IXI504'\n",
            "renamed '../data/T1w_Processed_IXI_with_csv/IXI/sub-IXI505' -> '../data/IXI/sub-IXI505'\n",
            "renamed '../data/T1w_Processed_IXI_with_csv/IXI/sub-IXI506' -> '../data/IXI/sub-IXI506'\n",
            "renamed '../data/T1w_Processed_IXI_with_csv/IXI/sub-IXI507' -> '../data/IXI/sub-IXI507'\n",
            "renamed '../data/T1w_Processed_IXI_with_csv/IXI/sub-IXI508' -> '../data/IXI/sub-IXI508'\n",
            "renamed '../data/T1w_Processed_IXI_with_csv/IXI/sub-IXI510' -> '../data/IXI/sub-IXI510'\n",
            "renamed '../data/T1w_Processed_IXI_with_csv/IXI/sub-IXI511' -> '../data/IXI/sub-IXI511'\n",
            "renamed '../data/T1w_Processed_IXI_with_csv/IXI/sub-IXI512' -> '../data/IXI/sub-IXI512'\n",
            "renamed '../data/T1w_Processed_IXI_with_csv/IXI/sub-IXI515' -> '../data/IXI/sub-IXI515'\n",
            "renamed '../data/T1w_Processed_IXI_with_csv/IXI/sub-IXI516' -> '../data/IXI/sub-IXI516'\n",
            "renamed '../data/T1w_Processed_IXI_with_csv/IXI/sub-IXI517' -> '../data/IXI/sub-IXI517'\n",
            "renamed '../data/T1w_Processed_IXI_with_csv/IXI/sub-IXI518' -> '../data/IXI/sub-IXI518'\n",
            "renamed '../data/T1w_Processed_IXI_with_csv/IXI/sub-IXI519' -> '../data/IXI/sub-IXI519'\n",
            "renamed '../data/T1w_Processed_IXI_with_csv/IXI/sub-IXI521' -> '../data/IXI/sub-IXI521'\n",
            "renamed '../data/T1w_Processed_IXI_with_csv/IXI/sub-IXI522' -> '../data/IXI/sub-IXI522'\n",
            "renamed '../data/T1w_Processed_IXI_with_csv/IXI/sub-IXI523' -> '../data/IXI/sub-IXI523'\n",
            "renamed '../data/T1w_Processed_IXI_with_csv/IXI/sub-IXI524' -> '../data/IXI/sub-IXI524'\n",
            "renamed '../data/T1w_Processed_IXI_with_csv/IXI/sub-IXI525' -> '../data/IXI/sub-IXI525'\n",
            "renamed '../data/T1w_Processed_IXI_with_csv/IXI/sub-IXI526' -> '../data/IXI/sub-IXI526'\n",
            "renamed '../data/T1w_Processed_IXI_with_csv/IXI/sub-IXI527' -> '../data/IXI/sub-IXI527'\n",
            "renamed '../data/T1w_Processed_IXI_with_csv/IXI/sub-IXI528' -> '../data/IXI/sub-IXI528'\n",
            "renamed '../data/T1w_Processed_IXI_with_csv/IXI/sub-IXI531' -> '../data/IXI/sub-IXI531'\n",
            "renamed '../data/T1w_Processed_IXI_with_csv/IXI/sub-IXI532' -> '../data/IXI/sub-IXI532'\n",
            "renamed '../data/T1w_Processed_IXI_with_csv/IXI/sub-IXI533' -> '../data/IXI/sub-IXI533'\n",
            "renamed '../data/T1w_Processed_IXI_with_csv/IXI/sub-IXI534' -> '../data/IXI/sub-IXI534'\n",
            "renamed '../data/T1w_Processed_IXI_with_csv/IXI/sub-IXI535' -> '../data/IXI/sub-IXI535'\n",
            "renamed '../data/T1w_Processed_IXI_with_csv/IXI/sub-IXI536' -> '../data/IXI/sub-IXI536'\n",
            "renamed '../data/T1w_Processed_IXI_with_csv/IXI/sub-IXI537' -> '../data/IXI/sub-IXI537'\n",
            "renamed '../data/T1w_Processed_IXI_with_csv/IXI/sub-IXI538' -> '../data/IXI/sub-IXI538'\n",
            "renamed '../data/T1w_Processed_IXI_with_csv/IXI/sub-IXI539' -> '../data/IXI/sub-IXI539'\n",
            "renamed '../data/T1w_Processed_IXI_with_csv/IXI/sub-IXI541' -> '../data/IXI/sub-IXI541'\n",
            "renamed '../data/T1w_Processed_IXI_with_csv/IXI/sub-IXI542' -> '../data/IXI/sub-IXI542'\n",
            "renamed '../data/T1w_Processed_IXI_with_csv/IXI/sub-IXI543' -> '../data/IXI/sub-IXI543'\n",
            "renamed '../data/T1w_Processed_IXI_with_csv/IXI/sub-IXI544' -> '../data/IXI/sub-IXI544'\n",
            "renamed '../data/T1w_Processed_IXI_with_csv/IXI/sub-IXI546' -> '../data/IXI/sub-IXI546'\n",
            "renamed '../data/T1w_Processed_IXI_with_csv/IXI/sub-IXI547' -> '../data/IXI/sub-IXI547'\n",
            "renamed '../data/T1w_Processed_IXI_with_csv/IXI/sub-IXI548' -> '../data/IXI/sub-IXI548'\n",
            "renamed '../data/T1w_Processed_IXI_with_csv/IXI/sub-IXI549' -> '../data/IXI/sub-IXI549'\n",
            "renamed '../data/T1w_Processed_IXI_with_csv/IXI/sub-IXI550' -> '../data/IXI/sub-IXI550'\n",
            "renamed '../data/T1w_Processed_IXI_with_csv/IXI/sub-IXI551' -> '../data/IXI/sub-IXI551'\n",
            "renamed '../data/T1w_Processed_IXI_with_csv/IXI/sub-IXI552' -> '../data/IXI/sub-IXI552'\n",
            "renamed '../data/T1w_Processed_IXI_with_csv/IXI/sub-IXI553' -> '../data/IXI/sub-IXI553'\n",
            "renamed '../data/T1w_Processed_IXI_with_csv/IXI/sub-IXI554' -> '../data/IXI/sub-IXI554'\n",
            "renamed '../data/T1w_Processed_IXI_with_csv/IXI/sub-IXI555' -> '../data/IXI/sub-IXI555'\n",
            "renamed '../data/T1w_Processed_IXI_with_csv/IXI/sub-IXI556' -> '../data/IXI/sub-IXI556'\n",
            "renamed '../data/T1w_Processed_IXI_with_csv/IXI/sub-IXI558' -> '../data/IXI/sub-IXI558'\n",
            "renamed '../data/T1w_Processed_IXI_with_csv/IXI/sub-IXI559' -> '../data/IXI/sub-IXI559'\n",
            "renamed '../data/T1w_Processed_IXI_with_csv/IXI/sub-IXI560' -> '../data/IXI/sub-IXI560'\n",
            "renamed '../data/T1w_Processed_IXI_with_csv/IXI/sub-IXI561' -> '../data/IXI/sub-IXI561'\n",
            "renamed '../data/T1w_Processed_IXI_with_csv/IXI/sub-IXI562' -> '../data/IXI/sub-IXI562'\n",
            "renamed '../data/T1w_Processed_IXI_with_csv/IXI/sub-IXI563' -> '../data/IXI/sub-IXI563'\n",
            "renamed '../data/T1w_Processed_IXI_with_csv/IXI/sub-IXI565' -> '../data/IXI/sub-IXI565'\n",
            "renamed '../data/T1w_Processed_IXI_with_csv/IXI/sub-IXI566' -> '../data/IXI/sub-IXI566'\n",
            "renamed '../data/T1w_Processed_IXI_with_csv/IXI/sub-IXI567' -> '../data/IXI/sub-IXI567'\n",
            "renamed '../data/T1w_Processed_IXI_with_csv/IXI/sub-IXI568' -> '../data/IXI/sub-IXI568'\n",
            "renamed '../data/T1w_Processed_IXI_with_csv/IXI/sub-IXI569' -> '../data/IXI/sub-IXI569'\n",
            "renamed '../data/T1w_Processed_IXI_with_csv/IXI/sub-IXI571' -> '../data/IXI/sub-IXI571'\n",
            "renamed '../data/T1w_Processed_IXI_with_csv/IXI/sub-IXI572' -> '../data/IXI/sub-IXI572'\n",
            "renamed '../data/T1w_Processed_IXI_with_csv/IXI/sub-IXI573' -> '../data/IXI/sub-IXI573'\n",
            "renamed '../data/T1w_Processed_IXI_with_csv/IXI/sub-IXI574' -> '../data/IXI/sub-IXI574'\n",
            "renamed '../data/T1w_Processed_IXI_with_csv/IXI/sub-IXI575' -> '../data/IXI/sub-IXI575'\n",
            "renamed '../data/T1w_Processed_IXI_with_csv/IXI/sub-IXI576' -> '../data/IXI/sub-IXI576'\n",
            "renamed '../data/T1w_Processed_IXI_with_csv/IXI/sub-IXI577' -> '../data/IXI/sub-IXI577'\n",
            "renamed '../data/T1w_Processed_IXI_with_csv/IXI/sub-IXI578' -> '../data/IXI/sub-IXI578'\n",
            "renamed '../data/T1w_Processed_IXI_with_csv/IXI/sub-IXI579' -> '../data/IXI/sub-IXI579'\n",
            "renamed '../data/T1w_Processed_IXI_with_csv/IXI/sub-IXI582' -> '../data/IXI/sub-IXI582'\n",
            "renamed '../data/T1w_Processed_IXI_with_csv/IXI/sub-IXI584' -> '../data/IXI/sub-IXI584'\n",
            "renamed '../data/T1w_Processed_IXI_with_csv/IXI/sub-IXI585' -> '../data/IXI/sub-IXI585'\n",
            "renamed '../data/T1w_Processed_IXI_with_csv/IXI/sub-IXI586' -> '../data/IXI/sub-IXI586'\n",
            "renamed '../data/T1w_Processed_IXI_with_csv/IXI/sub-IXI587' -> '../data/IXI/sub-IXI587'\n",
            "renamed '../data/T1w_Processed_IXI_with_csv/IXI/sub-IXI588' -> '../data/IXI/sub-IXI588'\n",
            "renamed '../data/T1w_Processed_IXI_with_csv/IXI/sub-IXI589' -> '../data/IXI/sub-IXI589'\n",
            "renamed '../data/T1w_Processed_IXI_with_csv/IXI/sub-IXI591' -> '../data/IXI/sub-IXI591'\n",
            "renamed '../data/T1w_Processed_IXI_with_csv/IXI/sub-IXI592' -> '../data/IXI/sub-IXI592'\n",
            "renamed '../data/T1w_Processed_IXI_with_csv/IXI/sub-IXI593' -> '../data/IXI/sub-IXI593'\n",
            "renamed '../data/T1w_Processed_IXI_with_csv/IXI/sub-IXI594' -> '../data/IXI/sub-IXI594'\n",
            "renamed '../data/T1w_Processed_IXI_with_csv/IXI/sub-IXI595' -> '../data/IXI/sub-IXI595'\n",
            "renamed '../data/T1w_Processed_IXI_with_csv/IXI/sub-IXI596' -> '../data/IXI/sub-IXI596'\n",
            "renamed '../data/T1w_Processed_IXI_with_csv/IXI/sub-IXI597' -> '../data/IXI/sub-IXI597'\n",
            "renamed '../data/T1w_Processed_IXI_with_csv/IXI/sub-IXI598' -> '../data/IXI/sub-IXI598'\n",
            "renamed '../data/T1w_Processed_IXI_with_csv/IXI/sub-IXI599' -> '../data/IXI/sub-IXI599'\n",
            "renamed '../data/T1w_Processed_IXI_with_csv/IXI/sub-IXI600' -> '../data/IXI/sub-IXI600'\n",
            "renamed '../data/T1w_Processed_IXI_with_csv/IXI/sub-IXI601' -> '../data/IXI/sub-IXI601'\n",
            "renamed '../data/T1w_Processed_IXI_with_csv/IXI/sub-IXI603' -> '../data/IXI/sub-IXI603'\n",
            "renamed '../data/T1w_Processed_IXI_with_csv/IXI/sub-IXI605' -> '../data/IXI/sub-IXI605'\n",
            "renamed '../data/T1w_Processed_IXI_with_csv/IXI/sub-IXI606' -> '../data/IXI/sub-IXI606'\n",
            "renamed '../data/T1w_Processed_IXI_with_csv/IXI/sub-IXI607' -> '../data/IXI/sub-IXI607'\n",
            "renamed '../data/T1w_Processed_IXI_with_csv/IXI/sub-IXI608' -> '../data/IXI/sub-IXI608'\n",
            "renamed '../data/T1w_Processed_IXI_with_csv/IXI/sub-IXI609' -> '../data/IXI/sub-IXI609'\n",
            "renamed '../data/T1w_Processed_IXI_with_csv/IXI/sub-IXI610' -> '../data/IXI/sub-IXI610'\n",
            "renamed '../data/T1w_Processed_IXI_with_csv/IXI/sub-IXI611' -> '../data/IXI/sub-IXI611'\n",
            "renamed '../data/T1w_Processed_IXI_with_csv/IXI/sub-IXI612' -> '../data/IXI/sub-IXI612'\n",
            "renamed '../data/T1w_Processed_IXI_with_csv/IXI/sub-IXI613' -> '../data/IXI/sub-IXI613'\n",
            "renamed '../data/T1w_Processed_IXI_with_csv/IXI/sub-IXI614' -> '../data/IXI/sub-IXI614'\n",
            "renamed '../data/T1w_Processed_IXI_with_csv/IXI/sub-IXI616' -> '../data/IXI/sub-IXI616'\n",
            "renamed '../data/T1w_Processed_IXI_with_csv/IXI/sub-IXI617' -> '../data/IXI/sub-IXI617'\n",
            "renamed '../data/T1w_Processed_IXI_with_csv/IXI/sub-IXI618' -> '../data/IXI/sub-IXI618'\n",
            "renamed '../data/T1w_Processed_IXI_with_csv/IXI/sub-IXI619' -> '../data/IXI/sub-IXI619'\n",
            "renamed '../data/T1w_Processed_IXI_with_csv/IXI/sub-IXI621' -> '../data/IXI/sub-IXI621'\n",
            "renamed '../data/T1w_Processed_IXI_with_csv/IXI/sub-IXI622' -> '../data/IXI/sub-IXI622'\n",
            "renamed '../data/T1w_Processed_IXI_with_csv/IXI/sub-IXI623' -> '../data/IXI/sub-IXI623'\n",
            "renamed '../data/T1w_Processed_IXI_with_csv/IXI/sub-IXI625' -> '../data/IXI/sub-IXI625'\n",
            "renamed '../data/T1w_Processed_IXI_with_csv/IXI/sub-IXI626' -> '../data/IXI/sub-IXI626'\n",
            "renamed '../data/T1w_Processed_IXI_with_csv/IXI/sub-IXI627' -> '../data/IXI/sub-IXI627'\n",
            "renamed '../data/T1w_Processed_IXI_with_csv/IXI/sub-IXI629' -> '../data/IXI/sub-IXI629'\n",
            "renamed '../data/T1w_Processed_IXI_with_csv/IXI/sub-IXI630' -> '../data/IXI/sub-IXI630'\n",
            "renamed '../data/T1w_Processed_IXI_with_csv/IXI/sub-IXI631' -> '../data/IXI/sub-IXI631'\n",
            "renamed '../data/T1w_Processed_IXI_with_csv/IXI/sub-IXI632' -> '../data/IXI/sub-IXI632'\n",
            "renamed '../data/T1w_Processed_IXI_with_csv/IXI/sub-IXI633' -> '../data/IXI/sub-IXI633'\n",
            "renamed '../data/T1w_Processed_IXI_with_csv/IXI/sub-IXI634' -> '../data/IXI/sub-IXI634'\n",
            "renamed '../data/T1w_Processed_IXI_with_csv/IXI/sub-IXI635' -> '../data/IXI/sub-IXI635'\n",
            "renamed '../data/T1w_Processed_IXI_with_csv/IXI/sub-IXI636' -> '../data/IXI/sub-IXI636'\n",
            "renamed '../data/T1w_Processed_IXI_with_csv/IXI/sub-IXI637' -> '../data/IXI/sub-IXI637'\n",
            "renamed '../data/T1w_Processed_IXI_with_csv/IXI/sub-IXI638' -> '../data/IXI/sub-IXI638'\n",
            "renamed '../data/T1w_Processed_IXI_with_csv/IXI/sub-IXI639' -> '../data/IXI/sub-IXI639'\n",
            "renamed '../data/T1w_Processed_IXI_with_csv/IXI/sub-IXI640' -> '../data/IXI/sub-IXI640'\n",
            "renamed '../data/T1w_Processed_IXI_with_csv/IXI/sub-IXI641' -> '../data/IXI/sub-IXI641'\n",
            "renamed '../data/T1w_Processed_IXI_with_csv/IXI/sub-IXI642' -> '../data/IXI/sub-IXI642'\n",
            "renamed '../data/T1w_Processed_IXI_with_csv/IXI/sub-IXI643' -> '../data/IXI/sub-IXI643'\n",
            "renamed '../data/T1w_Processed_IXI_with_csv/IXI/sub-IXI644' -> '../data/IXI/sub-IXI644'\n",
            "renamed '../data/T1w_Processed_IXI_with_csv/IXI/sub-IXI646' -> '../data/IXI/sub-IXI646'\n",
            "renamed '../data/T1w_Processed_IXI_with_csv/IXI/sub-IXI648' -> '../data/IXI/sub-IXI648'\n",
            "renamed '../data/T1w_Processed_IXI_with_csv/IXI/sub-IXI651' -> '../data/IXI/sub-IXI651'\n",
            "renamed '../data/T1w_Processed_IXI_with_csv/IXI/sub-IXI652' -> '../data/IXI/sub-IXI652'\n",
            "renamed '../data/T1w_Processed_IXI_with_csv/IXI/sub-IXI653' -> '../data/IXI/sub-IXI653'\n",
            "renamed '../data/T1w_Processed_IXI_with_csv/IXI/sub-IXI661' -> '../data/IXI/sub-IXI661'\n",
            "renamed '../data/T1w_Processed_IXI_with_csv/IXI/sub-IXI662' -> '../data/IXI/sub-IXI662'\n",
            "renamed '../data/T1w_Processed_IXI_with_csv/IXI/subjects.csv' -> '../data/IXI/subjects.csv'\n",
            "renamed '../data/T1w_Processed_IXI_with_csv/IXI/thickness.csv' -> '../data/IXI/thickness.csv'\n"
          ]
        }
      ]
    },
    {
      "cell_type": "code",
      "execution_count": null,
      "id": "449bdd4d",
      "metadata": {
        "id": "449bdd4d"
      },
      "outputs": [],
      "source": [
        "# os.environ[\"CUDA_VISIBLE_DEVICES\"] = \"0\""
      ]
    },
    {
      "cell_type": "code",
      "source": [
        "th.manual_seed(0)\n",
        "random.seed(0)\n",
        "np.random.seed(0)"
      ],
      "metadata": {
        "id": "yDI2dUz8piVD"
      },
      "id": "yDI2dUz8piVD",
      "execution_count": 6,
      "outputs": []
    },
    {
      "cell_type": "code",
      "execution_count": 7,
      "id": "4e220407",
      "metadata": {
        "colab": {
          "base_uri": "https://localhost:8080/"
        },
        "id": "4e220407",
        "outputId": "65963aec-2ff8-4172-8514-c3a624dc97f4"
      },
      "outputs": [
        {
          "output_type": "stream",
          "name": "stdout",
          "text": [
            "Using device: cuda\n"
          ]
        }
      ],
      "source": [
        "device = th.device('cuda' if th.cuda.is_available() else 'cpu')\n",
        "print('Using device:', device)"
      ]
    },
    {
      "cell_type": "code",
      "execution_count": 8,
      "id": "d01f201d",
      "metadata": {
        "colab": {
          "base_uri": "https://localhost:8080/",
          "height": 400
        },
        "id": "d01f201d",
        "outputId": "2a9c149c-2bef-4d95-a5b5-a60e6df5e5f6"
      },
      "outputs": [
        {
          "output_type": "execute_result",
          "data": {
            "text/plain": [
              "  subject_id    age     sex       scanner                  site diagnosis  \\\n",
              "0     IXI002  35.80  Female  Philips-1.5T        Guy’s-Hospital   Healthy   \n",
              "1     IXI012  38.78    Male  Philips-3.0T  Hammersmith-Hospital   Healthy   \n",
              "2     IXI013  46.71    Male  Philips-3.0T  Hammersmith-Hospital   Healthy   \n",
              "3     IXI014  34.24  Female  Philips-3.0T  Hammersmith-Hospital   Healthy   \n",
              "4     IXI015  24.28    Male  Philips-3.0T  Hammersmith-Hospital   Healthy   \n",
              "\n",
              "  dataset_name subject_key  session  run  \\\n",
              "0          IXI  IXI002_IXI        1    1   \n",
              "1          IXI  IXI012_IXI        1    1   \n",
              "2          IXI  IXI013_IXI        1    1   \n",
              "3          IXI  IXI014_IXI        1    1   \n",
              "4          IXI  IXI015_IXI        1    1   \n",
              "\n",
              "                                      registered_mni  \n",
              "0  sub-IXI002/ses-1/run-1/anat/sub-IXI002_acq-Phi...  \n",
              "1  sub-IXI012/ses-1/run-1/anat/sub-IXI012_acq-Phi...  \n",
              "2  sub-IXI013/ses-1/run-1/anat/sub-IXI013_acq-Phi...  \n",
              "3  sub-IXI014/ses-1/run-1/anat/sub-IXI014_acq-Phi...  \n",
              "4  sub-IXI015/ses-1/run-1/anat/sub-IXI015_acq-Phi...  "
            ],
            "text/html": [
              "\n",
              "  <div id=\"df-110e89db-3a65-4b4e-bb13-84cf1e2ea7ea\" class=\"colab-df-container\">\n",
              "    <div>\n",
              "<style scoped>\n",
              "    .dataframe tbody tr th:only-of-type {\n",
              "        vertical-align: middle;\n",
              "    }\n",
              "\n",
              "    .dataframe tbody tr th {\n",
              "        vertical-align: top;\n",
              "    }\n",
              "\n",
              "    .dataframe thead th {\n",
              "        text-align: right;\n",
              "    }\n",
              "</style>\n",
              "<table border=\"1\" class=\"dataframe\">\n",
              "  <thead>\n",
              "    <tr style=\"text-align: right;\">\n",
              "      <th></th>\n",
              "      <th>subject_id</th>\n",
              "      <th>age</th>\n",
              "      <th>sex</th>\n",
              "      <th>scanner</th>\n",
              "      <th>site</th>\n",
              "      <th>diagnosis</th>\n",
              "      <th>dataset_name</th>\n",
              "      <th>subject_key</th>\n",
              "      <th>session</th>\n",
              "      <th>run</th>\n",
              "      <th>registered_mni</th>\n",
              "    </tr>\n",
              "  </thead>\n",
              "  <tbody>\n",
              "    <tr>\n",
              "      <th>0</th>\n",
              "      <td>IXI002</td>\n",
              "      <td>35.80</td>\n",
              "      <td>Female</td>\n",
              "      <td>Philips-1.5T</td>\n",
              "      <td>Guy’s-Hospital</td>\n",
              "      <td>Healthy</td>\n",
              "      <td>IXI</td>\n",
              "      <td>IXI002_IXI</td>\n",
              "      <td>1</td>\n",
              "      <td>1</td>\n",
              "      <td>sub-IXI002/ses-1/run-1/anat/sub-IXI002_acq-Phi...</td>\n",
              "    </tr>\n",
              "    <tr>\n",
              "      <th>1</th>\n",
              "      <td>IXI012</td>\n",
              "      <td>38.78</td>\n",
              "      <td>Male</td>\n",
              "      <td>Philips-3.0T</td>\n",
              "      <td>Hammersmith-Hospital</td>\n",
              "      <td>Healthy</td>\n",
              "      <td>IXI</td>\n",
              "      <td>IXI012_IXI</td>\n",
              "      <td>1</td>\n",
              "      <td>1</td>\n",
              "      <td>sub-IXI012/ses-1/run-1/anat/sub-IXI012_acq-Phi...</td>\n",
              "    </tr>\n",
              "    <tr>\n",
              "      <th>2</th>\n",
              "      <td>IXI013</td>\n",
              "      <td>46.71</td>\n",
              "      <td>Male</td>\n",
              "      <td>Philips-3.0T</td>\n",
              "      <td>Hammersmith-Hospital</td>\n",
              "      <td>Healthy</td>\n",
              "      <td>IXI</td>\n",
              "      <td>IXI013_IXI</td>\n",
              "      <td>1</td>\n",
              "      <td>1</td>\n",
              "      <td>sub-IXI013/ses-1/run-1/anat/sub-IXI013_acq-Phi...</td>\n",
              "    </tr>\n",
              "    <tr>\n",
              "      <th>3</th>\n",
              "      <td>IXI014</td>\n",
              "      <td>34.24</td>\n",
              "      <td>Female</td>\n",
              "      <td>Philips-3.0T</td>\n",
              "      <td>Hammersmith-Hospital</td>\n",
              "      <td>Healthy</td>\n",
              "      <td>IXI</td>\n",
              "      <td>IXI014_IXI</td>\n",
              "      <td>1</td>\n",
              "      <td>1</td>\n",
              "      <td>sub-IXI014/ses-1/run-1/anat/sub-IXI014_acq-Phi...</td>\n",
              "    </tr>\n",
              "    <tr>\n",
              "      <th>4</th>\n",
              "      <td>IXI015</td>\n",
              "      <td>24.28</td>\n",
              "      <td>Male</td>\n",
              "      <td>Philips-3.0T</td>\n",
              "      <td>Hammersmith-Hospital</td>\n",
              "      <td>Healthy</td>\n",
              "      <td>IXI</td>\n",
              "      <td>IXI015_IXI</td>\n",
              "      <td>1</td>\n",
              "      <td>1</td>\n",
              "      <td>sub-IXI015/ses-1/run-1/anat/sub-IXI015_acq-Phi...</td>\n",
              "    </tr>\n",
              "  </tbody>\n",
              "</table>\n",
              "</div>\n",
              "    <div class=\"colab-df-buttons\">\n",
              "\n",
              "  <div class=\"colab-df-container\">\n",
              "    <button class=\"colab-df-convert\" onclick=\"convertToInteractive('df-110e89db-3a65-4b4e-bb13-84cf1e2ea7ea')\"\n",
              "            title=\"Convert this dataframe to an interactive table.\"\n",
              "            style=\"display:none;\">\n",
              "\n",
              "  <svg xmlns=\"http://www.w3.org/2000/svg\" height=\"24px\" viewBox=\"0 -960 960 960\">\n",
              "    <path d=\"M120-120v-720h720v720H120Zm60-500h600v-160H180v160Zm220 220h160v-160H400v160Zm0 220h160v-160H400v160ZM180-400h160v-160H180v160Zm440 0h160v-160H620v160ZM180-180h160v-160H180v160Zm440 0h160v-160H620v160Z\"/>\n",
              "  </svg>\n",
              "    </button>\n",
              "\n",
              "  <style>\n",
              "    .colab-df-container {\n",
              "      display:flex;\n",
              "      gap: 12px;\n",
              "    }\n",
              "\n",
              "    .colab-df-convert {\n",
              "      background-color: #E8F0FE;\n",
              "      border: none;\n",
              "      border-radius: 50%;\n",
              "      cursor: pointer;\n",
              "      display: none;\n",
              "      fill: #1967D2;\n",
              "      height: 32px;\n",
              "      padding: 0 0 0 0;\n",
              "      width: 32px;\n",
              "    }\n",
              "\n",
              "    .colab-df-convert:hover {\n",
              "      background-color: #E2EBFA;\n",
              "      box-shadow: 0px 1px 2px rgba(60, 64, 67, 0.3), 0px 1px 3px 1px rgba(60, 64, 67, 0.15);\n",
              "      fill: #174EA6;\n",
              "    }\n",
              "\n",
              "    .colab-df-buttons div {\n",
              "      margin-bottom: 4px;\n",
              "    }\n",
              "\n",
              "    [theme=dark] .colab-df-convert {\n",
              "      background-color: #3B4455;\n",
              "      fill: #D2E3FC;\n",
              "    }\n",
              "\n",
              "    [theme=dark] .colab-df-convert:hover {\n",
              "      background-color: #434B5C;\n",
              "      box-shadow: 0px 1px 3px 1px rgba(0, 0, 0, 0.15);\n",
              "      filter: drop-shadow(0px 1px 2px rgba(0, 0, 0, 0.3));\n",
              "      fill: #FFFFFF;\n",
              "    }\n",
              "  </style>\n",
              "\n",
              "    <script>\n",
              "      const buttonEl =\n",
              "        document.querySelector('#df-110e89db-3a65-4b4e-bb13-84cf1e2ea7ea button.colab-df-convert');\n",
              "      buttonEl.style.display =\n",
              "        google.colab.kernel.accessAllowed ? 'block' : 'none';\n",
              "\n",
              "      async function convertToInteractive(key) {\n",
              "        const element = document.querySelector('#df-110e89db-3a65-4b4e-bb13-84cf1e2ea7ea');\n",
              "        const dataTable =\n",
              "          await google.colab.kernel.invokeFunction('convertToInteractive',\n",
              "                                                    [key], {});\n",
              "        if (!dataTable) return;\n",
              "\n",
              "        const docLinkHtml = 'Like what you see? Visit the ' +\n",
              "          '<a target=\"_blank\" href=https://colab.research.google.com/notebooks/data_table.ipynb>data table notebook</a>'\n",
              "          + ' to learn more about interactive tables.';\n",
              "        element.innerHTML = '';\n",
              "        dataTable['output_type'] = 'display_data';\n",
              "        await google.colab.output.renderOutput(dataTable, element);\n",
              "        const docLink = document.createElement('div');\n",
              "        docLink.innerHTML = docLinkHtml;\n",
              "        element.appendChild(docLink);\n",
              "      }\n",
              "    </script>\n",
              "  </div>\n",
              "\n",
              "\n",
              "    <div id=\"df-2090ccc4-7551-43e0-871d-881f9e3cc4a3\">\n",
              "      <button class=\"colab-df-quickchart\" onclick=\"quickchart('df-2090ccc4-7551-43e0-871d-881f9e3cc4a3')\"\n",
              "                title=\"Suggest charts\"\n",
              "                style=\"display:none;\">\n",
              "\n",
              "<svg xmlns=\"http://www.w3.org/2000/svg\" height=\"24px\"viewBox=\"0 0 24 24\"\n",
              "     width=\"24px\">\n",
              "    <g>\n",
              "        <path d=\"M19 3H5c-1.1 0-2 .9-2 2v14c0 1.1.9 2 2 2h14c1.1 0 2-.9 2-2V5c0-1.1-.9-2-2-2zM9 17H7v-7h2v7zm4 0h-2V7h2v10zm4 0h-2v-4h2v4z\"/>\n",
              "    </g>\n",
              "</svg>\n",
              "      </button>\n",
              "\n",
              "<style>\n",
              "  .colab-df-quickchart {\n",
              "      --bg-color: #E8F0FE;\n",
              "      --fill-color: #1967D2;\n",
              "      --hover-bg-color: #E2EBFA;\n",
              "      --hover-fill-color: #174EA6;\n",
              "      --disabled-fill-color: #AAA;\n",
              "      --disabled-bg-color: #DDD;\n",
              "  }\n",
              "\n",
              "  [theme=dark] .colab-df-quickchart {\n",
              "      --bg-color: #3B4455;\n",
              "      --fill-color: #D2E3FC;\n",
              "      --hover-bg-color: #434B5C;\n",
              "      --hover-fill-color: #FFFFFF;\n",
              "      --disabled-bg-color: #3B4455;\n",
              "      --disabled-fill-color: #666;\n",
              "  }\n",
              "\n",
              "  .colab-df-quickchart {\n",
              "    background-color: var(--bg-color);\n",
              "    border: none;\n",
              "    border-radius: 50%;\n",
              "    cursor: pointer;\n",
              "    display: none;\n",
              "    fill: var(--fill-color);\n",
              "    height: 32px;\n",
              "    padding: 0;\n",
              "    width: 32px;\n",
              "  }\n",
              "\n",
              "  .colab-df-quickchart:hover {\n",
              "    background-color: var(--hover-bg-color);\n",
              "    box-shadow: 0 1px 2px rgba(60, 64, 67, 0.3), 0 1px 3px 1px rgba(60, 64, 67, 0.15);\n",
              "    fill: var(--button-hover-fill-color);\n",
              "  }\n",
              "\n",
              "  .colab-df-quickchart-complete:disabled,\n",
              "  .colab-df-quickchart-complete:disabled:hover {\n",
              "    background-color: var(--disabled-bg-color);\n",
              "    fill: var(--disabled-fill-color);\n",
              "    box-shadow: none;\n",
              "  }\n",
              "\n",
              "  .colab-df-spinner {\n",
              "    border: 2px solid var(--fill-color);\n",
              "    border-color: transparent;\n",
              "    border-bottom-color: var(--fill-color);\n",
              "    animation:\n",
              "      spin 1s steps(1) infinite;\n",
              "  }\n",
              "\n",
              "  @keyframes spin {\n",
              "    0% {\n",
              "      border-color: transparent;\n",
              "      border-bottom-color: var(--fill-color);\n",
              "      border-left-color: var(--fill-color);\n",
              "    }\n",
              "    20% {\n",
              "      border-color: transparent;\n",
              "      border-left-color: var(--fill-color);\n",
              "      border-top-color: var(--fill-color);\n",
              "    }\n",
              "    30% {\n",
              "      border-color: transparent;\n",
              "      border-left-color: var(--fill-color);\n",
              "      border-top-color: var(--fill-color);\n",
              "      border-right-color: var(--fill-color);\n",
              "    }\n",
              "    40% {\n",
              "      border-color: transparent;\n",
              "      border-right-color: var(--fill-color);\n",
              "      border-top-color: var(--fill-color);\n",
              "    }\n",
              "    60% {\n",
              "      border-color: transparent;\n",
              "      border-right-color: var(--fill-color);\n",
              "    }\n",
              "    80% {\n",
              "      border-color: transparent;\n",
              "      border-right-color: var(--fill-color);\n",
              "      border-bottom-color: var(--fill-color);\n",
              "    }\n",
              "    90% {\n",
              "      border-color: transparent;\n",
              "      border-bottom-color: var(--fill-color);\n",
              "    }\n",
              "  }\n",
              "</style>\n",
              "\n",
              "      <script>\n",
              "        async function quickchart(key) {\n",
              "          const quickchartButtonEl =\n",
              "            document.querySelector('#' + key + ' button');\n",
              "          quickchartButtonEl.disabled = true;  // To prevent multiple clicks.\n",
              "          quickchartButtonEl.classList.add('colab-df-spinner');\n",
              "          try {\n",
              "            const charts = await google.colab.kernel.invokeFunction(\n",
              "                'suggestCharts', [key], {});\n",
              "          } catch (error) {\n",
              "            console.error('Error during call to suggestCharts:', error);\n",
              "          }\n",
              "          quickchartButtonEl.classList.remove('colab-df-spinner');\n",
              "          quickchartButtonEl.classList.add('colab-df-quickchart-complete');\n",
              "        }\n",
              "        (() => {\n",
              "          let quickchartButtonEl =\n",
              "            document.querySelector('#df-2090ccc4-7551-43e0-871d-881f9e3cc4a3 button');\n",
              "          quickchartButtonEl.style.display =\n",
              "            google.colab.kernel.accessAllowed ? 'block' : 'none';\n",
              "        })();\n",
              "      </script>\n",
              "    </div>\n",
              "\n",
              "    </div>\n",
              "  </div>\n"
            ],
            "application/vnd.google.colaboratory.intrinsic+json": {
              "type": "dataframe",
              "variable_name": "masterfile",
              "summary": "{\n  \"name\": \"masterfile\",\n  \"rows\": 560,\n  \"fields\": [\n    {\n      \"column\": \"subject_id\",\n      \"properties\": {\n        \"dtype\": \"string\",\n        \"num_unique_values\": 560,\n        \"samples\": [\n          \"IXI522\",\n          \"IXI399\",\n          \"IXI206\"\n        ],\n        \"semantic_type\": \"\",\n        \"description\": \"\"\n      }\n    },\n    {\n      \"column\": \"age\",\n      \"properties\": {\n        \"dtype\": \"number\",\n        \"std\": 16.441332129650636,\n        \"min\": 19.98,\n        \"max\": 86.32,\n        \"num_unique_values\": 516,\n        \"samples\": [\n          58.79,\n          41.3,\n          28.24\n        ],\n        \"semantic_type\": \"\",\n        \"description\": \"\"\n      }\n    },\n    {\n      \"column\": \"sex\",\n      \"properties\": {\n        \"dtype\": \"category\",\n        \"num_unique_values\": 2,\n        \"samples\": [\n          \"Male\",\n          \"Female\"\n        ],\n        \"semantic_type\": \"\",\n        \"description\": \"\"\n      }\n    },\n    {\n      \"column\": \"scanner\",\n      \"properties\": {\n        \"dtype\": \"category\",\n        \"num_unique_values\": 3,\n        \"samples\": [\n          \"Philips-1.5T\",\n          \"Philips-3.0T\"\n        ],\n        \"semantic_type\": \"\",\n        \"description\": \"\"\n      }\n    },\n    {\n      \"column\": \"site\",\n      \"properties\": {\n        \"dtype\": \"category\",\n        \"num_unique_values\": 3,\n        \"samples\": [\n          \"Guy\\u2019s-Hospital\",\n          \"Hammersmith-Hospital\"\n        ],\n        \"semantic_type\": \"\",\n        \"description\": \"\"\n      }\n    },\n    {\n      \"column\": \"diagnosis\",\n      \"properties\": {\n        \"dtype\": \"category\",\n        \"num_unique_values\": 1,\n        \"samples\": [\n          \"Healthy\"\n        ],\n        \"semantic_type\": \"\",\n        \"description\": \"\"\n      }\n    },\n    {\n      \"column\": \"dataset_name\",\n      \"properties\": {\n        \"dtype\": \"category\",\n        \"num_unique_values\": 1,\n        \"samples\": [\n          \"IXI\"\n        ],\n        \"semantic_type\": \"\",\n        \"description\": \"\"\n      }\n    },\n    {\n      \"column\": \"subject_key\",\n      \"properties\": {\n        \"dtype\": \"string\",\n        \"num_unique_values\": 560,\n        \"samples\": [\n          \"IXI522_IXI\"\n        ],\n        \"semantic_type\": \"\",\n        \"description\": \"\"\n      }\n    },\n    {\n      \"column\": \"session\",\n      \"properties\": {\n        \"dtype\": \"number\",\n        \"std\": 0,\n        \"min\": 1,\n        \"max\": 1,\n        \"num_unique_values\": 1,\n        \"samples\": [\n          1\n        ],\n        \"semantic_type\": \"\",\n        \"description\": \"\"\n      }\n    },\n    {\n      \"column\": \"run\",\n      \"properties\": {\n        \"dtype\": \"number\",\n        \"std\": 0,\n        \"min\": 1,\n        \"max\": 1,\n        \"num_unique_values\": 1,\n        \"samples\": [\n          1\n        ],\n        \"semantic_type\": \"\",\n        \"description\": \"\"\n      }\n    },\n    {\n      \"column\": \"registered_mni\",\n      \"properties\": {\n        \"dtype\": \"string\",\n        \"num_unique_values\": 560,\n        \"samples\": [\n          \"sub-IXI522/ses-1/run-1/anat/sub-IXI522_acq-Philips-3.0T_mni_registered_T1w.nii.gz\"\n        ],\n        \"semantic_type\": \"\",\n        \"description\": \"\"\n      }\n    }\n  ]\n}"
            }
          },
          "metadata": {},
          "execution_count": 8
        }
      ],
      "source": [
        "masterfile_path = \"../data/IXI/subjects.csv\"\n",
        "masterfile = pd.read_csv(masterfile_path)\n",
        "masterfile = masterfile[masterfile[\"age\"] != -1.0]\n",
        "masterfile.head(5)"
      ]
    },
    {
      "cell_type": "markdown",
      "id": "895afbfe",
      "metadata": {
        "id": "895afbfe"
      },
      "source": [
        "Let's create a class to handle the data\n",
        "\n",
        "We use the `torch` `Dataset` interface for this"
      ]
    },
    {
      "cell_type": "markdown",
      "id": "09948e71",
      "metadata": {
        "id": "09948e71"
      },
      "source": [
        "To handle the MRI data we use `monai`. Monai is a library for neuroimaging that implements useful transformations for our data."
      ]
    },
    {
      "cell_type": "code",
      "execution_count": 9,
      "id": "473da05e",
      "metadata": {
        "id": "473da05e"
      },
      "outputs": [],
      "source": [
        "class MRIDataset(Dataset):\n",
        "    def __init__(self,\n",
        "                 metadata_df: pd.DataFrame,\n",
        "                 base_path = \"../data/IXI\",\n",
        "                 transform = None):\n",
        "        self.df = metadata_df\n",
        "        self.transform = transform\n",
        "        self.base_path = base_path\n",
        "\n",
        "        self.img_loader = mtr.LoadImage(image_only=True)\n",
        "\n",
        "    def __len__(self):\n",
        "        return len(self.df)\n",
        "\n",
        "    def __getitem__(self, idx):\n",
        "        row = self.df.iloc[idx]\n",
        "        vol = self.img_loader(os.path.join(self.base_path, row[\"registered_mni\"][:-3]))\n",
        "        if self.transform:\n",
        "            vol = self.transform(vol)\n",
        "        return {\n",
        "            \"t1n\": vol if not th.is_tensor(vol) else th.as_tensor(vol),\n",
        "            \"age\": th.tensor(float(row[\"age\"]), dtype=th.float32),\n",
        "        }"
      ]
    },
    {
      "cell_type": "code",
      "execution_count": 10,
      "id": "e56f75bf",
      "metadata": {
        "colab": {
          "base_uri": "https://localhost:8080/"
        },
        "id": "e56f75bf",
        "outputId": "34c99f81-985c-49f3-c857-bcd6f837d1d0"
      },
      "outputs": [
        {
          "output_type": "execute_result",
          "data": {
            "text/plain": [
              "{'t1n': metatensor([[[0., 0., 0.,  ..., 0., 0., 0.],\n",
              "          [0., 0., 0.,  ..., 0., 0., 0.],\n",
              "          [0., 0., 0.,  ..., 0., 0., 0.],\n",
              "          ...,\n",
              "          [0., 0., 0.,  ..., 0., 0., 0.],\n",
              "          [0., 0., 0.,  ..., 0., 0., 0.],\n",
              "          [0., 0., 0.,  ..., 0., 0., 0.]],\n",
              " \n",
              "         [[0., 0., 0.,  ..., 0., 0., 0.],\n",
              "          [0., 0., 0.,  ..., 0., 0., 0.],\n",
              "          [0., 0., 0.,  ..., 0., 0., 0.],\n",
              "          ...,\n",
              "          [0., 0., 0.,  ..., 0., 0., 0.],\n",
              "          [0., 0., 0.,  ..., 0., 0., 0.],\n",
              "          [0., 0., 0.,  ..., 0., 0., 0.]],\n",
              " \n",
              "         [[0., 0., 0.,  ..., 0., 0., 0.],\n",
              "          [0., 0., 0.,  ..., 0., 0., 0.],\n",
              "          [0., 0., 0.,  ..., 0., 0., 0.],\n",
              "          ...,\n",
              "          [0., 0., 0.,  ..., 0., 0., 0.],\n",
              "          [0., 0., 0.,  ..., 0., 0., 0.],\n",
              "          [0., 0., 0.,  ..., 0., 0., 0.]],\n",
              " \n",
              "         ...,\n",
              " \n",
              "         [[0., 0., 0.,  ..., 0., 0., 0.],\n",
              "          [0., 0., 0.,  ..., 0., 0., 0.],\n",
              "          [0., 0., 0.,  ..., 0., 0., 0.],\n",
              "          ...,\n",
              "          [0., 0., 0.,  ..., 0., 0., 0.],\n",
              "          [0., 0., 0.,  ..., 0., 0., 0.],\n",
              "          [0., 0., 0.,  ..., 0., 0., 0.]],\n",
              " \n",
              "         [[0., 0., 0.,  ..., 0., 0., 0.],\n",
              "          [0., 0., 0.,  ..., 0., 0., 0.],\n",
              "          [0., 0., 0.,  ..., 0., 0., 0.],\n",
              "          ...,\n",
              "          [0., 0., 0.,  ..., 0., 0., 0.],\n",
              "          [0., 0., 0.,  ..., 0., 0., 0.],\n",
              "          [0., 0., 0.,  ..., 0., 0., 0.]],\n",
              " \n",
              "         [[0., 0., 0.,  ..., 0., 0., 0.],\n",
              "          [0., 0., 0.,  ..., 0., 0., 0.],\n",
              "          [0., 0., 0.,  ..., 0., 0., 0.],\n",
              "          ...,\n",
              "          [0., 0., 0.,  ..., 0., 0., 0.],\n",
              "          [0., 0., 0.,  ..., 0., 0., 0.],\n",
              "          [0., 0., 0.,  ..., 0., 0., 0.]]]),\n",
              " 'age': tensor(35.8000)}"
            ]
          },
          "metadata": {},
          "execution_count": 10
        }
      ],
      "source": [
        "ds = MRIDataset(\n",
        "    metadata_df=masterfile\n",
        ")\n",
        "\n",
        "ds[0]"
      ]
    },
    {
      "cell_type": "markdown",
      "id": "08270fd8",
      "metadata": {
        "id": "08270fd8"
      },
      "source": [
        "Let's see if what we are getting makes sense"
      ]
    },
    {
      "cell_type": "code",
      "execution_count": 11,
      "id": "085fc725",
      "metadata": {
        "id": "085fc725"
      },
      "outputs": [],
      "source": [
        "def show_brain(img, slice_idx = \"half\"):\n",
        "    if isinstance(slice_idx, str) and slice_idx == \"half\":\n",
        "        points = [x//2 for x in img.shape[-3:]]\n",
        "    else:\n",
        "        points = [slice_idx for _ in range(3)]\n",
        "\n",
        "    fig, ax = plt.subplots(1,3, figsize=(6,21))\n",
        "    img_to_show = img\n",
        "    while len(img_to_show.shape) > 3:\n",
        "        img_to_show = img_to_show[0]\n",
        "\n",
        "    ax[0].imshow(img_to_show[points[0]], cmap=\"Greys_r\")\n",
        "    ax[1].imshow(img_to_show[:,points[1]], cmap=\"Greys_r\")\n",
        "    ax[2].imshow(img_to_show[:,:,points[2]], cmap=\"Greys_r\")\n",
        "    plt.show()"
      ]
    },
    {
      "cell_type": "code",
      "execution_count": 12,
      "id": "cd27735c",
      "metadata": {
        "id": "cd27735c"
      },
      "outputs": [],
      "source": [
        "sample = ds[0]"
      ]
    },
    {
      "cell_type": "code",
      "execution_count": 13,
      "id": "f1098e8c",
      "metadata": {
        "colab": {
          "base_uri": "https://localhost:8080/",
          "height": 247
        },
        "id": "f1098e8c",
        "outputId": "d6d8679c-3f47-4d6a-f9e2-902bb0b68d6a"
      },
      "outputs": [
        {
          "output_type": "display_data",
          "data": {
            "text/plain": [
              "<Figure size 600x2100 with 3 Axes>"
            ],
            "image/png": "[encoded data removed]"
          },
          "metadata": {}
        },
        {
          "output_type": "execute_result",
          "data": {
            "text/plain": [
              "(metatensor(0.), metatensor(141.))"
            ]
          },
          "metadata": {},
          "execution_count": 13
        }
      ],
      "source": [
        "show_brain(sample[\"t1n\"])\n",
        "(sample[\"t1n\"].min(), sample[\"t1n\"].max())"
      ]
    },
    {
      "cell_type": "markdown",
      "id": "9c47b034",
      "metadata": {
        "id": "9c47b034"
      },
      "source": [
        "It makes sense, but someone may have noticed that the images are not normalised.\n",
        "This is an usual step in every DL pipeline. So let's do it from now.\n",
        "\n",
        "Normalization helps making gradients of DL models more stable, as we remove extreme values from the images and allows us to make them more similar with each other, removing some unwanted differences. We will retain individual differences, but will be easier for DL methods to handle this type of data."
      ]
    },
    {
      "cell_type": "code",
      "execution_count": 14,
      "id": "0bf2b188",
      "metadata": {
        "id": "0bf2b188"
      },
      "outputs": [],
      "source": [
        "transforms = mtr.Compose([\n",
        "    mtr.ScaleIntensity(0,1)\n",
        "])\n",
        "\n",
        "ds.transform = transforms"
      ]
    },
    {
      "cell_type": "code",
      "execution_count": 15,
      "id": "14e06f18",
      "metadata": {
        "colab": {
          "base_uri": "https://localhost:8080/"
        },
        "id": "14e06f18",
        "outputId": "4792eaf1-bc12-41bf-bd67-72e2d7a4fea8"
      },
      "outputs": [
        {
          "output_type": "execute_result",
          "data": {
            "text/plain": [
              "{'t1n': metatensor([[[0., 0., 0.,  ..., 0., 0., 0.],\n",
              "          [0., 0., 0.,  ..., 0., 0., 0.],\n",
              "          [0., 0., 0.,  ..., 0., 0., 0.],\n",
              "          ...,\n",
              "          [0., 0., 0.,  ..., 0., 0., 0.],\n",
              "          [0., 0., 0.,  ..., 0., 0., 0.],\n",
              "          [0., 0., 0.,  ..., 0., 0., 0.]],\n",
              " \n",
              "         [[0., 0., 0.,  ..., 0., 0., 0.],\n",
              "          [0., 0., 0.,  ..., 0., 0., 0.],\n",
              "          [0., 0., 0.,  ..., 0., 0., 0.],\n",
              "          ...,\n",
              "          [0., 0., 0.,  ..., 0., 0., 0.],\n",
              "          [0., 0., 0.,  ..., 0., 0., 0.],\n",
              "          [0., 0., 0.,  ..., 0., 0., 0.]],\n",
              " \n",
              "         [[0., 0., 0.,  ..., 0., 0., 0.],\n",
              "          [0., 0., 0.,  ..., 0., 0., 0.],\n",
              "          [0., 0., 0.,  ..., 0., 0., 0.],\n",
              "          ...,\n",
              "          [0., 0., 0.,  ..., 0., 0., 0.],\n",
              "          [0., 0., 0.,  ..., 0., 0., 0.],\n",
              "          [0., 0., 0.,  ..., 0., 0., 0.]],\n",
              " \n",
              "         ...,\n",
              " \n",
              "         [[0., 0., 0.,  ..., 0., 0., 0.],\n",
              "          [0., 0., 0.,  ..., 0., 0., 0.],\n",
              "          [0., 0., 0.,  ..., 0., 0., 0.],\n",
              "          ...,\n",
              "          [0., 0., 0.,  ..., 0., 0., 0.],\n",
              "          [0., 0., 0.,  ..., 0., 0., 0.],\n",
              "          [0., 0., 0.,  ..., 0., 0., 0.]],\n",
              " \n",
              "         [[0., 0., 0.,  ..., 0., 0., 0.],\n",
              "          [0., 0., 0.,  ..., 0., 0., 0.],\n",
              "          [0., 0., 0.,  ..., 0., 0., 0.],\n",
              "          ...,\n",
              "          [0., 0., 0.,  ..., 0., 0., 0.],\n",
              "          [0., 0., 0.,  ..., 0., 0., 0.],\n",
              "          [0., 0., 0.,  ..., 0., 0., 0.]],\n",
              " \n",
              "         [[0., 0., 0.,  ..., 0., 0., 0.],\n",
              "          [0., 0., 0.,  ..., 0., 0., 0.],\n",
              "          [0., 0., 0.,  ..., 0., 0., 0.],\n",
              "          ...,\n",
              "          [0., 0., 0.,  ..., 0., 0., 0.],\n",
              "          [0., 0., 0.,  ..., 0., 0., 0.],\n",
              "          [0., 0., 0.,  ..., 0., 0., 0.]]]),\n",
              " 'age': tensor(35.8000)}"
            ]
          },
          "metadata": {},
          "execution_count": 15
        }
      ],
      "source": [
        "ds[0]"
      ]
    },
    {
      "cell_type": "code",
      "execution_count": 16,
      "id": "1ace8af9",
      "metadata": {
        "colab": {
          "base_uri": "https://localhost:8080/",
          "height": 247
        },
        "id": "1ace8af9",
        "outputId": "192571b9-a9e7-43ad-8424-9b2c35db4d7e"
      },
      "outputs": [
        {
          "output_type": "display_data",
          "data": {
            "text/plain": [
              "<Figure size 600x2100 with 3 Axes>"
            ],
            "image/png": "[encoded data removed]"
          },
          "metadata": {}
        },
        {
          "output_type": "execute_result",
          "data": {
            "text/plain": [
              "(metatensor(0.), metatensor(1.))"
            ]
          },
          "metadata": {},
          "execution_count": 16
        }
      ],
      "source": [
        "sample = ds[0]\n",
        "show_brain(sample[\"t1n\"])\n",
        "(sample[\"t1n\"].min(), sample[\"t1n\"].max())"
      ]
    },
    {
      "cell_type": "markdown",
      "id": "d4523b2c",
      "metadata": {
        "id": "d4523b2c"
      },
      "source": [
        "Nothing has changed visually speaking, but this will improve the training."
      ]
    },
    {
      "cell_type": "markdown",
      "id": "72a27d5c",
      "metadata": {
        "id": "72a27d5c"
      },
      "source": [
        "For our DL task, we will need similar evaluations as we did for regression. So, let's apply again our division"
      ]
    },
    {
      "cell_type": "code",
      "execution_count": 17,
      "id": "7cd2b259",
      "metadata": {
        "colab": {
          "base_uri": "https://localhost:8080/"
        },
        "id": "7cd2b259",
        "outputId": "97ba7c1a-1057-40dc-d200-cb6c8ddf8a9c"
      },
      "outputs": [
        {
          "output_type": "execute_result",
          "data": {
            "text/plain": [
              "(66, 494)"
            ]
          },
          "metadata": {},
          "execution_count": 17
        }
      ],
      "source": [
        "test_set = masterfile[masterfile[\"scanner\"] == \"GE-1.5T\"]\n",
        "train_set = masterfile[masterfile[\"scanner\"] != \"GE-1.5T\"]\n",
        "\n",
        "test_set[\"subject_id\"].nunique(), train_set[\"subject_id\"].nunique()"
      ]
    },
    {
      "cell_type": "markdown",
      "id": "02433d9f",
      "metadata": {
        "id": "02433d9f"
      },
      "source": [
        "We will use CV for our task.\n",
        "Deep learning model requires heavy amount of data to learn useful patterns in our data. For training our model, using CV is mandatory since our sample size is very low.\n",
        "\n",
        "However, for time purposes, I will show here the normal split"
      ]
    },
    {
      "cell_type": "code",
      "execution_count": 18,
      "id": "bb9c663b",
      "metadata": {
        "id": "bb9c663b"
      },
      "outputs": [],
      "source": [
        "internal_df = train_set.copy()\n",
        "internal_df[\"age_bin\"] = pd.cut(train_set[\"age\"], bins=10, labels=False, include_lowest=True)\n",
        "internal_df[\"stratify_key\"] = internal_df[\"age_bin\"].astype(str) + \"_\" + internal_df[\"sex\"].astype(str)\n",
        "\n",
        "# What we should do\n",
        "# skf = StratifiedKFold(n_splits = 3, shuffle = False)\n",
        "# What I will do\n",
        "train_idx, val_idx = train_test_split(np.arange(len(internal_df)),\n",
        "                                       train_size=0.2,\n",
        "                                       random_state=0,\n",
        "                                       shuffle=True,\n",
        "                                       stratify=internal_df[\"stratify_key\"].values)"
      ]
    },
    {
      "cell_type": "markdown",
      "id": "3262eea9",
      "metadata": {
        "id": "3262eea9"
      },
      "source": [
        "We will now create a very simple CNN for 3D Data. For this end, let's see the size of our mri scan"
      ]
    },
    {
      "cell_type": "code",
      "execution_count": 19,
      "id": "24d98cf2",
      "metadata": {
        "colab": {
          "base_uri": "https://localhost:8080/"
        },
        "id": "24d98cf2",
        "outputId": "fc4bec5b-62a6-4119-a743-c8c205289b26"
      },
      "outputs": [
        {
          "output_type": "execute_result",
          "data": {
            "text/plain": [
              "torch.Size([182, 218, 182])"
            ]
          },
          "metadata": {},
          "execution_count": 19
        }
      ],
      "source": [
        "ds[0][\"t1n\"].shape"
      ]
    },
    {
      "cell_type": "markdown",
      "id": "0a6a36f4",
      "metadata": {
        "id": "0a6a36f4"
      },
      "source": [
        "The size is very large, and this can become quickly a problem for our network. Let's implement a transformation that crops this volume to a given size. We should calculate optimal crop. I did already this for you (kinda), and we can use a fixed known crop"
      ]
    },
    {
      "cell_type": "code",
      "execution_count": 20,
      "id": "9e87c788",
      "metadata": {
        "id": "9e87c788"
      },
      "outputs": [],
      "source": [
        "transforms = mtr.Compose([\n",
        "    mtr.EnsureChannelFirst(),\n",
        "    mtr.SpatialCrop(\n",
        "        roi_start = (6, 2, 0),\n",
        "        roi_end = (173, 214, 160),\n",
        "    ),\n",
        "    mtr.ScaleIntensity(0,1)\n",
        "])\n",
        "\n",
        "ds.transform = transforms"
      ]
    },
    {
      "cell_type": "code",
      "execution_count": 21,
      "id": "8637a265",
      "metadata": {
        "colab": {
          "base_uri": "https://localhost:8080/",
          "height": 265
        },
        "id": "8637a265",
        "outputId": "935072e7-250c-437b-bdb3-94502d2feb53"
      },
      "outputs": [
        {
          "output_type": "display_data",
          "data": {
            "text/plain": [
              "<Figure size 600x2100 with 3 Axes>"
            ],
            "image/png": "[encoded data removed]"
          },
          "metadata": {}
        },
        {
          "output_type": "execute_result",
          "data": {
            "text/plain": [
              "torch.Size([1, 167, 212, 160])"
            ]
          },
          "metadata": {},
          "execution_count": 21
        }
      ],
      "source": [
        "sample = ds[0]\n",
        "show_brain(sample[\"t1n\"])\n",
        "sample[\"t1n\"].shape"
      ]
    },
    {
      "cell_type": "markdown",
      "id": "d066163b",
      "metadata": {
        "id": "d066163b"
      },
      "source": [
        "We greatly reduced the dimensionality. This will be insanely useful in training."
      ]
    },
    {
      "cell_type": "markdown",
      "id": "7d5a306b",
      "metadata": {
        "id": "7d5a306b"
      },
      "source": [
        "Let's now create a simple 3D CNN"
      ]
    },
    {
      "cell_type": "code",
      "execution_count": 22,
      "id": "87b9a6fd",
      "metadata": {
        "id": "87b9a6fd"
      },
      "outputs": [],
      "source": [
        "class Simple3DCNN(nn.Module):\n",
        "    def __init__(self):\n",
        "        super().__init__()\n",
        "        self.conv1 = nn.Conv3d(1, 8, kernel_size=3, padding=1)\n",
        "        self.bn1 = nn.BatchNorm3d(8)\n",
        "        self.conv2 = nn.Conv3d(8, 16, kernel_size=3, padding=1)\n",
        "        self.bn2 = nn.BatchNorm3d(16)\n",
        "        self.pool1 = nn.MaxPool3d(2)\n",
        "        self.pool2 = nn.AdaptiveMaxPool3d(1)\n",
        "        self.fc1 = nn.Linear(16, 64)\n",
        "        self.fc2 = nn.Linear(64, 1)\n",
        "\n",
        "    def forward(self, x: th.Tensor):\n",
        "        x = self.pool1(F.relu(self.bn1(self.conv1(x))))\n",
        "        x = self.pool2(F.relu(self.bn2(self.conv2(x))))\n",
        "        x = x.view(x.size(0), -1)\n",
        "        x = F.relu(self.fc1(x))\n",
        "        out = self.fc2(x)\n",
        "        return out\n",
        "\n",
        "network = Simple3DCNN().to(device=device)"
      ]
    },
    {
      "cell_type": "code",
      "execution_count": 17,
      "id": "9e51d1e6",
      "metadata": {
        "colab": {
          "base_uri": "https://localhost:8080/"
        },
        "id": "9e51d1e6",
        "outputId": "0dac9d81-9f1a-43f9-b531-536b89a1cd41"
      },
      "outputs": [
        {
          "output_type": "execute_result",
          "data": {
            "text/plain": [
              "metatensor([[1.1700]], device='cuda:0', grad_fn=<AliasBackward0>)"
            ]
          },
          "metadata": {},
          "execution_count": 17
        }
      ],
      "source": [
        "# Try the network\n",
        "network(ds[0][\"t1n\"].unsqueeze(0).to(device))"
      ]
    },
    {
      "cell_type": "code",
      "execution_count": 18,
      "id": "c84a4057",
      "metadata": {
        "id": "c84a4057"
      },
      "outputs": [],
      "source": [
        "optimizer = th.optim.AdamW(network.parameters(), lr=1e-3)\n",
        "loss_fn = nn.L1Loss() # We are interested to minimise the MAE"
      ]
    },
    {
      "cell_type": "markdown",
      "id": "26128b37",
      "metadata": {
        "id": "26128b37"
      },
      "source": [
        "Let's define our training loop and validation"
      ]
    },
    {
      "cell_type": "code",
      "execution_count": 22,
      "id": "69c4dfec",
      "metadata": {
        "id": "69c4dfec"
      },
      "outputs": [],
      "source": [
        "def train_epoch(model, loader, optimizer):\n",
        "    model.train()\n",
        "    running = 0.0\n",
        "    for batch in tqdm.tqdm(loader):\n",
        "        img = batch[\"t1n\"].to(device)\n",
        "        age = batch[\"age\"].to(device).view(-1, 1)\n",
        "        pred = model(img).view(-1, 1)\n",
        "        loss = loss_fn(pred, age)\n",
        "        optimizer.zero_grad()\n",
        "        loss.backward()\n",
        "        optimizer.step()\n",
        "        running += loss.item() * img.size(0)\n",
        "    return running / len(loader.dataset)\n",
        "\n",
        "def eval_model(model, loader):\n",
        "    model.eval()\n",
        "    with th.no_grad():\n",
        "        losses = []\n",
        "        for batch in loader:\n",
        "            img = batch[\"t1n\"].to(device)\n",
        "            age = batch[\"age\"].to(device).view(-1, 1)\n",
        "            pred = model(img).view(-1, 1)\n",
        "            losses.append(th.abs(pred - age).cpu().numpy())\n",
        "    all_errors = np.concatenate(losses)\n",
        "    return np.mean(all_errors), np.std(all_errors)"
      ]
    },
    {
      "cell_type": "code",
      "execution_count": 65,
      "id": "49f85dd1",
      "metadata": {
        "id": "49f85dd1"
      },
      "outputs": [],
      "source": [
        "# for train_idx, val_idx in skf.split(train_set, internal_df[\"stratify_key\"].values):\n",
        "ds_tr = MRIDataset(\n",
        "    train_set.iloc[train_idx],\n",
        "    transform=transforms\n",
        ")\n",
        "ds_val = MRIDataset(\n",
        "    train_set.iloc[val_idx],\n",
        "    transform=transforms\n",
        ")\n",
        "train_dl = DataLoader(ds_tr, batch_size=12,\n",
        "                        shuffle=True,\n",
        "                        num_workers=2,\n",
        "                        pin_memory=False,\n",
        "                        persistent_workers=True,\n",
        "                        prefetch_factor=2)\n",
        "val_dl = DataLoader(ds_val, batch_size=12,\n",
        "                        num_workers=2,\n",
        "                        pin_memory=False,\n",
        "                        persistent_workers=True,\n",
        "                        prefetch_factor=2)"
      ]
    },
    {
      "cell_type": "code",
      "execution_count": null,
      "id": "17a08145",
      "metadata": {
        "id": "17a08145",
        "outputId": "b3e90fb2-1e6a-4cae-b34e-6526471b3de7"
      },
      "outputs": [
        {
          "name": "stderr",
          "output_type": "stream",
          "text": [
            "100%|██████████| 7/7 [00:08<00:00,  1.28s/it]\n"
          ]
        },
        {
          "name": "stdout",
          "output_type": "stream",
          "text": [
            "Epoch 157: train loss 3.878, val MAE 14.423 ± 9.866\n"
          ]
        },
        {
          "name": "stderr",
          "output_type": "stream",
          "text": [
            "100%|██████████| 7/7 [00:04<00:00,  1.71it/s]\n"
          ]
        },
        {
          "name": "stdout",
          "output_type": "stream",
          "text": [
            "Epoch 158: train loss 3.705, val MAE 13.758 ± 10.413\n",
            "New lowest reached: 13.758. Saving checkpoint\n"
          ]
        },
        {
          "name": "stderr",
          "output_type": "stream",
          "text": [
            "100%|██████████| 7/7 [00:03<00:00,  1.76it/s]\n"
          ]
        },
        {
          "name": "stdout",
          "output_type": "stream",
          "text": [
            "Epoch 159: train loss 3.972, val MAE 14.090 ± 10.075\n"
          ]
        },
        {
          "name": "stderr",
          "output_type": "stream",
          "text": [
            "100%|██████████| 7/7 [00:03<00:00,  1.86it/s]\n"
          ]
        },
        {
          "name": "stdout",
          "output_type": "stream",
          "text": [
            "Epoch 160: train loss 5.016, val MAE 14.053 ± 10.079\n"
          ]
        },
        {
          "name": "stderr",
          "output_type": "stream",
          "text": [
            "100%|██████████| 7/7 [00:03<00:00,  1.82it/s]\n"
          ]
        },
        {
          "name": "stdout",
          "output_type": "stream",
          "text": [
            "Epoch 161: train loss 5.437, val MAE 14.060 ± 10.028\n"
          ]
        },
        {
          "name": "stderr",
          "output_type": "stream",
          "text": [
            "100%|██████████| 7/7 [00:04<00:00,  1.66it/s]\n"
          ]
        },
        {
          "name": "stdout",
          "output_type": "stream",
          "text": [
            "Epoch 162: train loss 2.998, val MAE 15.241 ± 10.349\n"
          ]
        },
        {
          "name": "stderr",
          "output_type": "stream",
          "text": [
            "100%|██████████| 7/7 [00:03<00:00,  1.78it/s]\n"
          ]
        },
        {
          "name": "stdout",
          "output_type": "stream",
          "text": [
            "Epoch 163: train loss 2.576, val MAE 15.698 ± 10.463\n"
          ]
        },
        {
          "name": "stderr",
          "output_type": "stream",
          "text": [
            "100%|██████████| 7/7 [00:04<00:00,  1.71it/s]\n"
          ]
        },
        {
          "name": "stdout",
          "output_type": "stream",
          "text": [
            "Epoch 164: train loss 2.964, val MAE 16.091 ± 10.631\n"
          ]
        },
        {
          "name": "stderr",
          "output_type": "stream",
          "text": [
            "100%|██████████| 7/7 [00:03<00:00,  1.75it/s]\n"
          ]
        },
        {
          "name": "stdout",
          "output_type": "stream",
          "text": [
            "Epoch 165: train loss 3.868, val MAE 14.963 ± 10.245\n"
          ]
        },
        {
          "name": "stderr",
          "output_type": "stream",
          "text": [
            "100%|██████████| 7/7 [00:03<00:00,  1.77it/s]\n"
          ]
        },
        {
          "name": "stdout",
          "output_type": "stream",
          "text": [
            "Epoch 166: train loss 3.168, val MAE 15.979 ± 10.563\n"
          ]
        },
        {
          "name": "stderr",
          "output_type": "stream",
          "text": [
            "100%|██████████| 7/7 [00:03<00:00,  1.80it/s]\n"
          ]
        },
        {
          "name": "stdout",
          "output_type": "stream",
          "text": [
            "Epoch 167: train loss 4.012, val MAE 14.534 ± 10.180\n"
          ]
        },
        {
          "name": "stderr",
          "output_type": "stream",
          "text": [
            "100%|██████████| 7/7 [00:04<00:00,  1.72it/s]\n"
          ]
        },
        {
          "name": "stdout",
          "output_type": "stream",
          "text": [
            "Epoch 168: train loss 3.459, val MAE 14.526 ± 10.069\n"
          ]
        },
        {
          "name": "stderr",
          "output_type": "stream",
          "text": [
            "100%|██████████| 7/7 [00:04<00:00,  1.68it/s]\n"
          ]
        },
        {
          "name": "stdout",
          "output_type": "stream",
          "text": [
            "Epoch 169: train loss 3.179, val MAE 15.957 ± 10.409\n"
          ]
        },
        {
          "name": "stderr",
          "output_type": "stream",
          "text": [
            "100%|██████████| 7/7 [00:04<00:00,  1.60it/s]\n"
          ]
        },
        {
          "name": "stdout",
          "output_type": "stream",
          "text": [
            "Epoch 170: train loss 3.573, val MAE 15.812 ± 10.283\n"
          ]
        },
        {
          "name": "stderr",
          "output_type": "stream",
          "text": [
            "100%|██████████| 7/7 [00:04<00:00,  1.66it/s]\n"
          ]
        },
        {
          "name": "stdout",
          "output_type": "stream",
          "text": [
            "Epoch 171: train loss 3.620, val MAE 14.943 ± 9.986\n"
          ]
        },
        {
          "name": "stderr",
          "output_type": "stream",
          "text": [
            "100%|██████████| 7/7 [00:04<00:00,  1.70it/s]\n"
          ]
        },
        {
          "name": "stdout",
          "output_type": "stream",
          "text": [
            "Epoch 172: train loss 3.049, val MAE 15.039 ± 10.157\n"
          ]
        },
        {
          "name": "stderr",
          "output_type": "stream",
          "text": [
            "100%|██████████| 7/7 [00:04<00:00,  1.64it/s]\n"
          ]
        },
        {
          "name": "stdout",
          "output_type": "stream",
          "text": [
            "Epoch 173: train loss 3.178, val MAE 15.101 ± 10.274\n"
          ]
        },
        {
          "name": "stderr",
          "output_type": "stream",
          "text": [
            "100%|██████████| 7/7 [00:04<00:00,  1.65it/s]\n"
          ]
        },
        {
          "name": "stdout",
          "output_type": "stream",
          "text": [
            "Epoch 174: train loss 2.282, val MAE 14.248 ± 10.143\n"
          ]
        },
        {
          "name": "stderr",
          "output_type": "stream",
          "text": [
            "100%|██████████| 7/7 [00:04<00:00,  1.66it/s]\n"
          ]
        },
        {
          "name": "stdout",
          "output_type": "stream",
          "text": [
            "Epoch 175: train loss 5.421, val MAE 14.312 ± 9.792\n"
          ]
        },
        {
          "name": "stderr",
          "output_type": "stream",
          "text": [
            "100%|██████████| 7/7 [00:04<00:00,  1.64it/s]\n"
          ]
        },
        {
          "name": "stdout",
          "output_type": "stream",
          "text": [
            "Epoch 176: train loss 3.232, val MAE 14.089 ± 9.864\n"
          ]
        },
        {
          "name": "stderr",
          "output_type": "stream",
          "text": [
            "100%|██████████| 7/7 [00:04<00:00,  1.71it/s]\n"
          ]
        },
        {
          "name": "stdout",
          "output_type": "stream",
          "text": [
            "Epoch 177: train loss 3.164, val MAE 14.118 ± 9.881\n"
          ]
        },
        {
          "name": "stderr",
          "output_type": "stream",
          "text": [
            "100%|██████████| 7/7 [00:04<00:00,  1.65it/s]\n"
          ]
        },
        {
          "name": "stdout",
          "output_type": "stream",
          "text": [
            "Epoch 178: train loss 2.493, val MAE 15.168 ± 10.151\n"
          ]
        },
        {
          "name": "stderr",
          "output_type": "stream",
          "text": [
            "100%|██████████| 7/7 [00:03<00:00,  1.77it/s]\n"
          ]
        },
        {
          "name": "stdout",
          "output_type": "stream",
          "text": [
            "Epoch 179: train loss 2.090, val MAE 15.823 ± 10.482\n"
          ]
        },
        {
          "name": "stderr",
          "output_type": "stream",
          "text": [
            "100%|██████████| 7/7 [00:03<00:00,  1.79it/s]\n"
          ]
        },
        {
          "name": "stdout",
          "output_type": "stream",
          "text": [
            "Epoch 180: train loss 4.177, val MAE 15.034 ± 10.278\n"
          ]
        },
        {
          "name": "stderr",
          "output_type": "stream",
          "text": [
            "100%|██████████| 7/7 [00:03<00:00,  1.77it/s]\n"
          ]
        },
        {
          "name": "stdout",
          "output_type": "stream",
          "text": [
            "Epoch 181: train loss 2.882, val MAE 15.233 ± 10.295\n"
          ]
        },
        {
          "name": "stderr",
          "output_type": "stream",
          "text": [
            "100%|██████████| 7/7 [00:04<00:00,  1.67it/s]\n"
          ]
        },
        {
          "name": "stdout",
          "output_type": "stream",
          "text": [
            "Epoch 182: train loss 2.457, val MAE 14.450 ± 10.139\n"
          ]
        },
        {
          "name": "stderr",
          "output_type": "stream",
          "text": [
            "100%|██████████| 7/7 [00:04<00:00,  1.69it/s]\n"
          ]
        },
        {
          "name": "stdout",
          "output_type": "stream",
          "text": [
            "Epoch 183: train loss 3.748, val MAE 14.368 ± 10.056\n"
          ]
        },
        {
          "name": "stderr",
          "output_type": "stream",
          "text": [
            "100%|██████████| 7/7 [00:04<00:00,  1.72it/s]\n"
          ]
        },
        {
          "name": "stdout",
          "output_type": "stream",
          "text": [
            "Epoch 184: train loss 3.448, val MAE 14.722 ± 10.162\n"
          ]
        },
        {
          "name": "stderr",
          "output_type": "stream",
          "text": [
            "100%|██████████| 7/7 [00:04<00:00,  1.68it/s]\n"
          ]
        },
        {
          "name": "stdout",
          "output_type": "stream",
          "text": [
            "Epoch 185: train loss 3.914, val MAE 14.589 ± 10.053\n"
          ]
        },
        {
          "name": "stderr",
          "output_type": "stream",
          "text": [
            "100%|██████████| 7/7 [00:04<00:00,  1.63it/s]\n"
          ]
        },
        {
          "name": "stdout",
          "output_type": "stream",
          "text": [
            "Epoch 186: train loss 4.750, val MAE 16.967 ± 11.008\n"
          ]
        },
        {
          "name": "stderr",
          "output_type": "stream",
          "text": [
            "100%|██████████| 7/7 [00:04<00:00,  1.72it/s]\n"
          ]
        },
        {
          "name": "stdout",
          "output_type": "stream",
          "text": [
            "Epoch 187: train loss 3.484, val MAE 14.197 ± 10.999\n"
          ]
        },
        {
          "name": "stderr",
          "output_type": "stream",
          "text": [
            "100%|██████████| 7/7 [00:03<00:00,  1.75it/s]\n"
          ]
        },
        {
          "name": "stdout",
          "output_type": "stream",
          "text": [
            "Epoch 188: train loss 7.759, val MAE 14.829 ± 10.101\n"
          ]
        },
        {
          "name": "stderr",
          "output_type": "stream",
          "text": [
            "100%|██████████| 7/7 [00:04<00:00,  1.72it/s]\n"
          ]
        },
        {
          "name": "stdout",
          "output_type": "stream",
          "text": [
            "Epoch 189: train loss 4.376, val MAE 16.322 ± 10.594\n"
          ]
        },
        {
          "name": "stderr",
          "output_type": "stream",
          "text": [
            "100%|██████████| 7/7 [00:04<00:00,  1.74it/s]\n"
          ]
        },
        {
          "name": "stdout",
          "output_type": "stream",
          "text": [
            "Epoch 190: train loss 4.406, val MAE 18.248 ± 11.690\n"
          ]
        },
        {
          "name": "stderr",
          "output_type": "stream",
          "text": [
            "100%|██████████| 7/7 [00:04<00:00,  1.70it/s]\n"
          ]
        },
        {
          "name": "stdout",
          "output_type": "stream",
          "text": [
            "Epoch 191: train loss 5.264, val MAE 15.302 ± 10.334\n"
          ]
        },
        {
          "name": "stderr",
          "output_type": "stream",
          "text": [
            "100%|██████████| 7/7 [00:04<00:00,  1.75it/s]\n"
          ]
        },
        {
          "name": "stdout",
          "output_type": "stream",
          "text": [
            "Epoch 192: train loss 5.152, val MAE 15.144 ± 10.021\n"
          ]
        },
        {
          "name": "stderr",
          "output_type": "stream",
          "text": [
            "100%|██████████| 7/7 [00:03<00:00,  1.79it/s]\n"
          ]
        },
        {
          "name": "stdout",
          "output_type": "stream",
          "text": [
            "Epoch 193: train loss 4.431, val MAE 14.273 ± 9.662\n"
          ]
        },
        {
          "name": "stderr",
          "output_type": "stream",
          "text": [
            "100%|██████████| 7/7 [00:04<00:00,  1.66it/s]\n"
          ]
        },
        {
          "name": "stdout",
          "output_type": "stream",
          "text": [
            "Epoch 194: train loss 4.191, val MAE 14.861 ± 9.955\n"
          ]
        },
        {
          "name": "stderr",
          "output_type": "stream",
          "text": [
            "100%|██████████| 7/7 [00:04<00:00,  1.63it/s]\n"
          ]
        },
        {
          "name": "stdout",
          "output_type": "stream",
          "text": [
            "Epoch 195: train loss 3.107, val MAE 16.749 ± 10.925\n"
          ]
        },
        {
          "name": "stderr",
          "output_type": "stream",
          "text": [
            "100%|██████████| 7/7 [00:04<00:00,  1.70it/s]\n"
          ]
        },
        {
          "name": "stdout",
          "output_type": "stream",
          "text": [
            "Epoch 196: train loss 11.082, val MAE 17.955 ± 11.494\n"
          ]
        },
        {
          "name": "stderr",
          "output_type": "stream",
          "text": [
            "100%|██████████| 7/7 [00:04<00:00,  1.70it/s]\n"
          ]
        },
        {
          "name": "stdout",
          "output_type": "stream",
          "text": [
            "Epoch 197: train loss 4.455, val MAE 14.780 ± 9.769\n"
          ]
        },
        {
          "name": "stderr",
          "output_type": "stream",
          "text": [
            "100%|██████████| 7/7 [00:04<00:00,  1.74it/s]\n"
          ]
        },
        {
          "name": "stdout",
          "output_type": "stream",
          "text": [
            "Epoch 198: train loss 3.717, val MAE 14.896 ± 9.720\n"
          ]
        },
        {
          "name": "stderr",
          "output_type": "stream",
          "text": [
            "100%|██████████| 7/7 [00:04<00:00,  1.70it/s]\n"
          ]
        },
        {
          "name": "stdout",
          "output_type": "stream",
          "text": [
            "Epoch 199: train loss 3.054, val MAE 14.775 ± 9.805\n"
          ]
        },
        {
          "name": "stderr",
          "output_type": "stream",
          "text": [
            "100%|██████████| 7/7 [00:03<00:00,  1.81it/s]\n"
          ]
        },
        {
          "name": "stdout",
          "output_type": "stream",
          "text": [
            "Epoch 200: train loss 3.826, val MAE 15.889 ± 10.440\n"
          ]
        }
      ],
      "source": [
        "best_val_mae = np.inf\n",
        "\n",
        "curr_epoch = 0\n",
        "\n",
        "losses = pd.DataFrame(columns=[\"epoch\", \"tr_mae\", \"val_mae\"])\n",
        "if os.path.exists(\"../checkpoints/Simple3DCNN_best_model.pth\"):\n",
        "    state_dict = th.load(\"../checkpoints/Simple3DCNN_best_model.pth\", weights_only=False)\n",
        "    curr_epoch = state_dict[\"epoch\"]\n",
        "    best_val_mae = state_dict[\"best_val_mae\"]\n",
        "    network.load_state_dict(state_dict[\"model_state_dict\"])\n",
        "    optimizer.load_state_dict(state_dict[\"optimizer_state_dict\"])\n",
        "    losses = pd.read_csv(\"../results/Simple3DCNN_results.csv\")\n",
        "    losses = losses[losses[\"epoch\"] <= curr_epoch]\n",
        "\n",
        "for epoch in range(curr_epoch+1, 200):\n",
        "    tr_loss = train_epoch(network, train_dl, optimizer)\n",
        "    val_mae, val_std = eval_model(network, val_dl)\n",
        "    print(f'Epoch {epoch+1}: train loss {tr_loss:.3f}, val MAE {val_mae:.3f} ± {val_std:.3f}')\n",
        "    if val_mae < best_val_mae:\n",
        "        best_val_mae = val_mae\n",
        "        print(f\"New lowest reached: {best_val_mae:.3f}. Saving checkpoint\")\n",
        "        checkpoint = {\n",
        "            'epoch': epoch,                         # last epoch\n",
        "            'model_state_dict': network.state_dict(), # model parameters\n",
        "            'optimizer_state_dict': optimizer.state_dict(),  # optimizer state\n",
        "            'best_val_mae': best_val_mae\n",
        "        }\n",
        "        os.makedirs(\"../checkpoints\", exist_ok=True)\n",
        "        th.save(checkpoint, f'../checkpoints/Simple3DCNN_best_model.pth')\n",
        "    losses.loc[len(losses)] = {\"tr_mae\": tr_loss, \"val_mae\": val_mae, \"epoch\": epoch}\n",
        "    os.makedirs(\"../results\", exist_ok=True)\n",
        "    losses.to_csv(\"../results/Simple3DCNN_results.csv\", index=False)"
      ]
    },
    {
      "cell_type": "markdown",
      "id": "9c6180d6",
      "metadata": {
        "id": "9c6180d6"
      },
      "source": [
        "This requires some time, so I did it for you. Let's load the model"
      ]
    },
    {
      "cell_type": "code",
      "execution_count": 21,
      "id": "32a3f33d",
      "metadata": {
        "id": "32a3f33d"
      },
      "outputs": [],
      "source": [
        "if os.path.exists(\"../checkpoints/Simple3DCNN_best_model.pth\"):\n",
        "    state_dict = th.load(\"../checkpoints/Simple3DCNN_best_model.pth\", weights_only=False)\n",
        "    curr_epoch = state_dict[\"epoch\"]\n",
        "    best_val_mae = state_dict[\"best_val_mae\"]\n",
        "    network.load_state_dict(state_dict[\"model_state_dict\"])\n",
        "    optimizer.load_state_dict(state_dict[\"optimizer_state_dict\"])\n",
        "    losses = pd.read_csv(\"../results/Simple3DCNN_results.csv\")\n",
        "\n",
        "    print(state_dict)"
      ]
    },
    {
      "cell_type": "code",
      "execution_count": 24,
      "id": "4daa1e75",
      "metadata": {
        "colab": {
          "base_uri": "https://localhost:8080/",
          "height": 202
        },
        "id": "4daa1e75",
        "outputId": "bd59c5d3-0cb3-4bf1-a41f-25b298305254"
      },
      "outputs": [
        {
          "output_type": "error",
          "ename": "NameError",
          "evalue": "name 'eval_model' is not defined",
          "traceback": [
            "\u001b[0;31m---------------------------------------------------------------------------\u001b[0m",
            "\u001b[0;31mNameError\u001b[0m                                 Traceback (most recent call last)",
            "\u001b[0;32m/tmp/ipython-input-1435259346.py\u001b[0m in \u001b[0;36m<cell line: 0>\u001b[0;34m()\u001b[0m\n\u001b[1;32m     10\u001b[0m                         prefetch_factor=None)\n\u001b[1;32m     11\u001b[0m \u001b[0;34m\u001b[0m\u001b[0m\n\u001b[0;32m---> 12\u001b[0;31m \u001b[0mtest_mae\u001b[0m\u001b[0;34m,\u001b[0m \u001b[0mtest_std\u001b[0m \u001b[0;34m=\u001b[0m \u001b[0meval_model\u001b[0m\u001b[0;34m(\u001b[0m\u001b[0mnetwork\u001b[0m\u001b[0;34m,\u001b[0m \u001b[0mtest_dl\u001b[0m\u001b[0;34m)\u001b[0m\u001b[0;34m\u001b[0m\u001b[0;34m\u001b[0m\u001b[0m\n\u001b[0m\u001b[1;32m     13\u001b[0m \u001b[0mprint\u001b[0m\u001b[0;34m(\u001b[0m\u001b[0;34mf'Test MAE {test_mae:.3f} ± {test_std:.3f}'\u001b[0m\u001b[0;34m)\u001b[0m\u001b[0;34m\u001b[0m\u001b[0;34m\u001b[0m\u001b[0m\n",
            "\u001b[0;31mNameError\u001b[0m: name 'eval_model' is not defined"
          ]
        }
      ],
      "source": [
        "test_ds = MRIDataset(\n",
        "    test_set,\n",
        "    transform=transforms\n",
        ")\n",
        "\n",
        "test_dl = DataLoader(test_ds, batch_size=16,\n",
        "                        num_workers=1,\n",
        "                        pin_memory=True,\n",
        "                        persistent_workers=False,\n",
        "                        prefetch_factor=None)\n",
        "\n",
        "test_mae, test_std = eval_model(network, test_dl)\n",
        "print(f'Test MAE {test_mae:.3f} ± {test_std:.3f}')"
      ]
    },
    {
      "cell_type": "markdown",
      "id": "18cb4030",
      "metadata": {
        "id": "18cb4030"
      },
      "source": [
        "When testing our model on the external dataset, we see we got very bad results compared to a classical regression.\n",
        "Why is this the case?\n",
        "\n",
        "Let's look at the plot of the losses"
      ]
    },
    {
      "cell_type": "code",
      "execution_count": null,
      "id": "60ecd929",
      "metadata": {
        "id": "60ecd929",
        "outputId": "2a811f41-8706-4878-8659-72c2f2c493ac"
      },
      "outputs": [
        {
          "data": {
            "image/png": "[encoded data removed]",
            "text/plain": [
              "<Figure size 640x480 with 1 Axes>"
            ]
          },
          "metadata": {},
          "output_type": "display_data"
        }
      ],
      "source": [
        "vec_losses = losses[[\"epoch\", \"tr_mae\", \"val_mae\"]].values\n",
        "\n",
        "plt.plot(vec_losses[:, 0], vec_losses[:, 1], label=\"train loss\")\n",
        "plt.plot(vec_losses[:, 0], vec_losses[:, 2], label=\"validation loss\")\n",
        "plt.legend()\n",
        "plt.show()"
      ]
    },
    {
      "cell_type": "markdown",
      "id": "d3f90332",
      "metadata": {
        "id": "d3f90332"
      },
      "source": [
        "Our model can't reach a lower validation loss after 20/30 epochs, and it plateaues at around 16 mae. Instead, training is going down, which means it is adapting to the dataset. However, the training loss seems erratic after a certain epoch. Can we make an educated guess on why this is the case?"
      ]
    },
    {
      "cell_type": "markdown",
      "id": "e3afceae",
      "metadata": {
        "id": "e3afceae"
      },
      "source": [
        "To deal with this problem, we need to make the network more generalisable. Let's modify it a bit:"
      ]
    },
    {
      "cell_type": "code",
      "execution_count": 24,
      "id": "301b75da",
      "metadata": {
        "id": "301b75da"
      },
      "outputs": [],
      "source": [
        "class Dropout3DCNN(nn.Module):\n",
        "    def __init__(self):\n",
        "        super().__init__()\n",
        "        self.conv1 = nn.Conv3d(1, 8, kernel_size=3, padding=1)\n",
        "        self.bn1 = nn.BatchNorm3d(8)\n",
        "        self.conv2 = nn.Conv3d(8, 16, kernel_size=3, padding=1)\n",
        "        self.bn2 = nn.BatchNorm3d(16)\n",
        "        self.pool1 = nn.MaxPool3d(2)\n",
        "        self.pool2 = nn.AdaptiveAvgPool3d(1)\n",
        "        self.fc1 = nn.Linear(16, 64)\n",
        "        self.dropout = nn.Dropout(0.3) # We add a Dropout layer for enhanced generalibility\n",
        "        self.fc2 = nn.Linear(64, 1)\n",
        "\n",
        "    def forward(self, x: th.Tensor):\n",
        "        x = self.pool1(F.relu(self.bn1(self.conv1(x))))\n",
        "        x = self.pool2(F.relu(self.bn2(self.conv2(x))))\n",
        "        x = x.view(x.size(0), -1)\n",
        "        x = F.relu(self.fc1(x))\n",
        "        x = self.dropout(x)\n",
        "        out = self.fc2(x)\n",
        "        return out\n",
        "\n",
        "network = Dropout3DCNN().to(device=device)\n",
        "optimizer = th.optim.AdamW(network.parameters(), lr=5e-3)\n",
        "loss_fn = nn.L1Loss() # We are interested to minimise the MAE"
      ]
    },
    {
      "cell_type": "code",
      "execution_count": 30,
      "id": "b7be3909",
      "metadata": {
        "colab": {
          "base_uri": "https://localhost:8080/",
          "height": 1000
        },
        "id": "b7be3909",
        "outputId": "36ec4a3e-f175-439a-8089-7f4281fec001"
      },
      "outputs": [
        {
          "output_type": "stream",
          "name": "stderr",
          "text": [
            "100%|██████████| 9/9 [00:13<00:00,  1.47s/it]\n"
          ]
        },
        {
          "output_type": "stream",
          "name": "stdout",
          "text": [
            "Epoch 52: train loss 13.620, val MAE 13.216 ± 8.245\n"
          ]
        },
        {
          "output_type": "stream",
          "name": "stderr",
          "text": [
            "100%|██████████| 9/9 [00:11<00:00,  1.27s/it]\n"
          ]
        },
        {
          "output_type": "stream",
          "name": "stdout",
          "text": [
            "Epoch 53: train loss 14.294, val MAE 13.204 ± 7.926\n"
          ]
        },
        {
          "output_type": "stream",
          "name": "stderr",
          "text": [
            "100%|██████████| 9/9 [00:11<00:00,  1.30s/it]\n"
          ]
        },
        {
          "output_type": "stream",
          "name": "stdout",
          "text": [
            "Epoch 54: train loss 13.971, val MAE 13.347 ± 7.459\n"
          ]
        },
        {
          "output_type": "stream",
          "name": "stderr",
          "text": [
            "100%|██████████| 9/9 [00:11<00:00,  1.31s/it]\n"
          ]
        },
        {
          "output_type": "stream",
          "name": "stdout",
          "text": [
            "Epoch 55: train loss 15.313, val MAE 13.196 ± 7.572\n"
          ]
        },
        {
          "output_type": "stream",
          "name": "stderr",
          "text": [
            "100%|██████████| 9/9 [00:11<00:00,  1.32s/it]\n"
          ]
        },
        {
          "output_type": "stream",
          "name": "stdout",
          "text": [
            "Epoch 56: train loss 13.721, val MAE 13.234 ± 8.159\n"
          ]
        },
        {
          "output_type": "stream",
          "name": "stderr",
          "text": [
            "100%|██████████| 9/9 [00:11<00:00,  1.32s/it]\n"
          ]
        },
        {
          "output_type": "stream",
          "name": "stdout",
          "text": [
            "Epoch 57: train loss 13.392, val MAE 13.188 ± 7.871\n"
          ]
        },
        {
          "output_type": "stream",
          "name": "stderr",
          "text": [
            "100%|██████████| 9/9 [00:11<00:00,  1.32s/it]\n"
          ]
        },
        {
          "output_type": "stream",
          "name": "stdout",
          "text": [
            "Epoch 58: train loss 14.169, val MAE 13.354 ± 7.485\n"
          ]
        },
        {
          "output_type": "stream",
          "name": "stderr",
          "text": [
            "100%|██████████| 9/9 [00:11<00:00,  1.31s/it]\n"
          ]
        },
        {
          "output_type": "stream",
          "name": "stdout",
          "text": [
            "Epoch 59: train loss 14.992, val MAE 13.270 ± 7.585\n"
          ]
        },
        {
          "output_type": "stream",
          "name": "stderr",
          "text": [
            "100%|██████████| 9/9 [00:11<00:00,  1.29s/it]\n"
          ]
        },
        {
          "output_type": "stream",
          "name": "stdout",
          "text": [
            "Epoch 60: train loss 14.818, val MAE 13.180 ± 7.541\n"
          ]
        },
        {
          "output_type": "stream",
          "name": "stderr",
          "text": [
            "100%|██████████| 9/9 [00:12<00:00,  1.34s/it]\n"
          ]
        },
        {
          "output_type": "stream",
          "name": "stdout",
          "text": [
            "Epoch 61: train loss 14.081, val MAE 13.119 ± 8.135\n",
            "New lowest reached: 13.119. Saving checkpoint\n"
          ]
        },
        {
          "output_type": "stream",
          "name": "stderr",
          "text": [
            "100%|██████████| 9/9 [00:11<00:00,  1.31s/it]\n"
          ]
        },
        {
          "output_type": "stream",
          "name": "stdout",
          "text": [
            "Epoch 62: train loss 13.991, val MAE 13.245 ± 8.294\n"
          ]
        },
        {
          "output_type": "stream",
          "name": "stderr",
          "text": [
            "100%|██████████| 9/9 [00:11<00:00,  1.31s/it]\n"
          ]
        },
        {
          "output_type": "stream",
          "name": "stdout",
          "text": [
            "Epoch 63: train loss 13.698, val MAE 13.782 ± 7.796\n"
          ]
        },
        {
          "output_type": "stream",
          "name": "stderr",
          "text": [
            "100%|██████████| 9/9 [00:11<00:00,  1.31s/it]\n"
          ]
        },
        {
          "output_type": "stream",
          "name": "stdout",
          "text": [
            "Epoch 64: train loss 14.345, val MAE 13.575 ± 7.605\n"
          ]
        },
        {
          "output_type": "stream",
          "name": "stderr",
          "text": [
            "100%|██████████| 9/9 [00:11<00:00,  1.29s/it]\n"
          ]
        },
        {
          "output_type": "stream",
          "name": "stdout",
          "text": [
            "Epoch 65: train loss 13.574, val MAE 13.306 ± 7.565\n"
          ]
        },
        {
          "output_type": "stream",
          "name": "stderr",
          "text": [
            "100%|██████████| 9/9 [00:11<00:00,  1.28s/it]\n"
          ]
        },
        {
          "output_type": "stream",
          "name": "stdout",
          "text": [
            "Epoch 66: train loss 14.448, val MAE 13.254 ± 8.359\n"
          ]
        },
        {
          "output_type": "stream",
          "name": "stderr",
          "text": [
            "100%|██████████| 9/9 [00:11<00:00,  1.24s/it]\n"
          ]
        },
        {
          "output_type": "stream",
          "name": "stdout",
          "text": [
            "Epoch 67: train loss 13.824, val MAE 13.215 ± 7.627\n"
          ]
        },
        {
          "output_type": "stream",
          "name": "stderr",
          "text": [
            "100%|██████████| 9/9 [00:11<00:00,  1.24s/it]\n"
          ]
        },
        {
          "output_type": "stream",
          "name": "stdout",
          "text": [
            "Epoch 68: train loss 13.525, val MAE 13.136 ± 7.920\n"
          ]
        },
        {
          "output_type": "stream",
          "name": "stderr",
          "text": [
            "100%|██████████| 9/9 [00:11<00:00,  1.23s/it]\n"
          ]
        },
        {
          "output_type": "stream",
          "name": "stdout",
          "text": [
            "Epoch 69: train loss 15.356, val MAE 14.003 ± 8.110\n"
          ]
        },
        {
          "output_type": "stream",
          "name": "stderr",
          "text": [
            "100%|██████████| 9/9 [00:11<00:00,  1.26s/it]\n"
          ]
        },
        {
          "output_type": "error",
          "ename": "KeyboardInterrupt",
          "evalue": "",
          "traceback": [
            "\u001b[0;31m---------------------------------------------------------------------------\u001b[0m",
            "\u001b[0;31mKeyboardInterrupt\u001b[0m                         Traceback (most recent call last)",
            "\u001b[0;32m/tmp/ipython-input-3838032253.py\u001b[0m in \u001b[0;36m<cell line: 0>\u001b[0;34m()\u001b[0m\n\u001b[1;32m     15\u001b[0m \u001b[0;32mfor\u001b[0m \u001b[0mepoch\u001b[0m \u001b[0;32min\u001b[0m \u001b[0mrange\u001b[0m\u001b[0;34m(\u001b[0m\u001b[0mcurr_epoch\u001b[0m\u001b[0;34m+\u001b[0m\u001b[0;36m1\u001b[0m\u001b[0;34m,\u001b[0m \u001b[0;36m200\u001b[0m\u001b[0;34m)\u001b[0m\u001b[0;34m:\u001b[0m\u001b[0;34m\u001b[0m\u001b[0;34m\u001b[0m\u001b[0m\n\u001b[1;32m     16\u001b[0m     \u001b[0mtr_loss\u001b[0m \u001b[0;34m=\u001b[0m \u001b[0mtrain_epoch\u001b[0m\u001b[0;34m(\u001b[0m\u001b[0mnetwork\u001b[0m\u001b[0;34m,\u001b[0m \u001b[0mtrain_dl\u001b[0m\u001b[0;34m,\u001b[0m \u001b[0moptimizer\u001b[0m\u001b[0;34m)\u001b[0m\u001b[0;34m\u001b[0m\u001b[0;34m\u001b[0m\u001b[0m\n\u001b[0;32m---> 17\u001b[0;31m     \u001b[0mval_mae\u001b[0m\u001b[0;34m,\u001b[0m \u001b[0mval_std\u001b[0m \u001b[0;34m=\u001b[0m \u001b[0meval_model\u001b[0m\u001b[0;34m(\u001b[0m\u001b[0mnetwork\u001b[0m\u001b[0;34m,\u001b[0m \u001b[0mval_dl\u001b[0m\u001b[0;34m)\u001b[0m\u001b[0;34m\u001b[0m\u001b[0;34m\u001b[0m\u001b[0m\n\u001b[0m\u001b[1;32m     18\u001b[0m     \u001b[0mprint\u001b[0m\u001b[0;34m(\u001b[0m\u001b[0;34mf'Epoch {epoch+1}: train loss {tr_loss:.3f}, val MAE {val_mae:.3f} ± {val_std:.3f}'\u001b[0m\u001b[0;34m)\u001b[0m\u001b[0;34m\u001b[0m\u001b[0;34m\u001b[0m\u001b[0m\n\u001b[1;32m     19\u001b[0m     \u001b[0;32mif\u001b[0m \u001b[0mval_mae\u001b[0m \u001b[0;34m<\u001b[0m \u001b[0mbest_val_mae\u001b[0m\u001b[0;34m:\u001b[0m\u001b[0;34m\u001b[0m\u001b[0;34m\u001b[0m\u001b[0m\n",
            "\u001b[0;32m/tmp/ipython-input-3567349261.py\u001b[0m in \u001b[0;36meval_model\u001b[0;34m(model, loader)\u001b[0m\n\u001b[1;32m     17\u001b[0m     \u001b[0;32mwith\u001b[0m \u001b[0mth\u001b[0m\u001b[0;34m.\u001b[0m\u001b[0mno_grad\u001b[0m\u001b[0;34m(\u001b[0m\u001b[0;34m)\u001b[0m\u001b[0;34m:\u001b[0m\u001b[0;34m\u001b[0m\u001b[0;34m\u001b[0m\u001b[0m\n\u001b[1;32m     18\u001b[0m         \u001b[0mlosses\u001b[0m \u001b[0;34m=\u001b[0m \u001b[0;34m[\u001b[0m\u001b[0;34m]\u001b[0m\u001b[0;34m\u001b[0m\u001b[0;34m\u001b[0m\u001b[0m\n\u001b[0;32m---> 19\u001b[0;31m         \u001b[0;32mfor\u001b[0m \u001b[0mbatch\u001b[0m \u001b[0;32min\u001b[0m \u001b[0mloader\u001b[0m\u001b[0;34m:\u001b[0m\u001b[0;34m\u001b[0m\u001b[0;34m\u001b[0m\u001b[0m\n\u001b[0m\u001b[1;32m     20\u001b[0m             \u001b[0mimg\u001b[0m \u001b[0;34m=\u001b[0m \u001b[0mbatch\u001b[0m\u001b[0;34m[\u001b[0m\u001b[0;34m\"t1n\"\u001b[0m\u001b[0;34m]\u001b[0m\u001b[0;34m.\u001b[0m\u001b[0mto\u001b[0m\u001b[0;34m(\u001b[0m\u001b[0mdevice\u001b[0m\u001b[0;34m)\u001b[0m\u001b[0;34m\u001b[0m\u001b[0;34m\u001b[0m\u001b[0m\n\u001b[1;32m     21\u001b[0m             \u001b[0mage\u001b[0m \u001b[0;34m=\u001b[0m \u001b[0mbatch\u001b[0m\u001b[0;34m[\u001b[0m\u001b[0;34m\"age\"\u001b[0m\u001b[0;34m]\u001b[0m\u001b[0;34m.\u001b[0m\u001b[0mto\u001b[0m\u001b[0;34m(\u001b[0m\u001b[0mdevice\u001b[0m\u001b[0;34m)\u001b[0m\u001b[0;34m.\u001b[0m\u001b[0mview\u001b[0m\u001b[0;34m(\u001b[0m\u001b[0;34m-\u001b[0m\u001b[0;36m1\u001b[0m\u001b[0;34m,\u001b[0m \u001b[0;36m1\u001b[0m\u001b[0;34m)\u001b[0m\u001b[0;34m\u001b[0m\u001b[0;34m\u001b[0m\u001b[0m\n",
            "\u001b[0;32m/usr/local/lib/python3.12/dist-packages/torch/utils/data/dataloader.py\u001b[0m in \u001b[0;36m__next__\u001b[0;34m(self)\u001b[0m\n\u001b[1;32m    732\u001b[0m                 \u001b[0;31m# TODO(https://github.com/pytorch/pytorch/issues/76750)\u001b[0m\u001b[0;34m\u001b[0m\u001b[0;34m\u001b[0m\u001b[0m\n\u001b[1;32m    733\u001b[0m                 \u001b[0mself\u001b[0m\u001b[0;34m.\u001b[0m\u001b[0m_reset\u001b[0m\u001b[0;34m(\u001b[0m\u001b[0;34m)\u001b[0m  \u001b[0;31m# type: ignore[call-arg]\u001b[0m\u001b[0;34m\u001b[0m\u001b[0;34m\u001b[0m\u001b[0m\n\u001b[0;32m--> 734\u001b[0;31m             \u001b[0mdata\u001b[0m \u001b[0;34m=\u001b[0m \u001b[0mself\u001b[0m\u001b[0;34m.\u001b[0m\u001b[0m_next_data\u001b[0m\u001b[0;34m(\u001b[0m\u001b[0;34m)\u001b[0m\u001b[0;34m\u001b[0m\u001b[0;34m\u001b[0m\u001b[0m\n\u001b[0m\u001b[1;32m    735\u001b[0m             \u001b[0mself\u001b[0m\u001b[0;34m.\u001b[0m\u001b[0m_num_yielded\u001b[0m \u001b[0;34m+=\u001b[0m \u001b[0;36m1\u001b[0m\u001b[0;34m\u001b[0m\u001b[0;34m\u001b[0m\u001b[0m\n\u001b[1;32m    736\u001b[0m             if (\n",
            "\u001b[0;32m/usr/local/lib/python3.12/dist-packages/torch/utils/data/dataloader.py\u001b[0m in \u001b[0;36m_next_data\u001b[0;34m(self)\u001b[0m\n\u001b[1;32m   1490\u001b[0m \u001b[0;34m\u001b[0m\u001b[0m\n\u001b[1;32m   1491\u001b[0m             \u001b[0;32massert\u001b[0m \u001b[0;32mnot\u001b[0m \u001b[0mself\u001b[0m\u001b[0;34m.\u001b[0m\u001b[0m_shutdown\u001b[0m \u001b[0;32mand\u001b[0m \u001b[0mself\u001b[0m\u001b[0;34m.\u001b[0m\u001b[0m_tasks_outstanding\u001b[0m \u001b[0;34m>\u001b[0m \u001b[0;36m0\u001b[0m\u001b[0;34m\u001b[0m\u001b[0;34m\u001b[0m\u001b[0m\n\u001b[0;32m-> 1492\u001b[0;31m             \u001b[0midx\u001b[0m\u001b[0;34m,\u001b[0m \u001b[0mdata\u001b[0m \u001b[0;34m=\u001b[0m \u001b[0mself\u001b[0m\u001b[0;34m.\u001b[0m\u001b[0m_get_data\u001b[0m\u001b[0;34m(\u001b[0m\u001b[0;34m)\u001b[0m\u001b[0;34m\u001b[0m\u001b[0;34m\u001b[0m\u001b[0m\n\u001b[0m\u001b[1;32m   1493\u001b[0m             \u001b[0mself\u001b[0m\u001b[0;34m.\u001b[0m\u001b[0m_tasks_outstanding\u001b[0m \u001b[0;34m-=\u001b[0m \u001b[0;36m1\u001b[0m\u001b[0;34m\u001b[0m\u001b[0;34m\u001b[0m\u001b[0m\n\u001b[1;32m   1494\u001b[0m             \u001b[0;32mif\u001b[0m \u001b[0mself\u001b[0m\u001b[0;34m.\u001b[0m\u001b[0m_dataset_kind\u001b[0m \u001b[0;34m==\u001b[0m \u001b[0m_DatasetKind\u001b[0m\u001b[0;34m.\u001b[0m\u001b[0mIterable\u001b[0m\u001b[0;34m:\u001b[0m\u001b[0;34m\u001b[0m\u001b[0;34m\u001b[0m\u001b[0m\n",
            "\u001b[0;32m/usr/local/lib/python3.12/dist-packages/torch/utils/data/dataloader.py\u001b[0m in \u001b[0;36m_get_data\u001b[0;34m(self)\u001b[0m\n\u001b[1;32m   1452\u001b[0m         \u001b[0;32melse\u001b[0m\u001b[0;34m:\u001b[0m\u001b[0;34m\u001b[0m\u001b[0;34m\u001b[0m\u001b[0m\n\u001b[1;32m   1453\u001b[0m             \u001b[0;32mwhile\u001b[0m \u001b[0;32mTrue\u001b[0m\u001b[0;34m:\u001b[0m\u001b[0;34m\u001b[0m\u001b[0;34m\u001b[0m\u001b[0m\n\u001b[0;32m-> 1454\u001b[0;31m                 \u001b[0msuccess\u001b[0m\u001b[0;34m,\u001b[0m \u001b[0mdata\u001b[0m \u001b[0;34m=\u001b[0m \u001b[0mself\u001b[0m\u001b[0;34m.\u001b[0m\u001b[0m_try_get_data\u001b[0m\u001b[0;34m(\u001b[0m\u001b[0;34m)\u001b[0m\u001b[0;34m\u001b[0m\u001b[0;34m\u001b[0m\u001b[0m\n\u001b[0m\u001b[1;32m   1455\u001b[0m                 \u001b[0;32mif\u001b[0m \u001b[0msuccess\u001b[0m\u001b[0;34m:\u001b[0m\u001b[0;34m\u001b[0m\u001b[0;34m\u001b[0m\u001b[0m\n\u001b[1;32m   1456\u001b[0m                     \u001b[0;32mreturn\u001b[0m \u001b[0mdata\u001b[0m\u001b[0;34m\u001b[0m\u001b[0;34m\u001b[0m\u001b[0m\n",
            "\u001b[0;32m/usr/local/lib/python3.12/dist-packages/torch/utils/data/dataloader.py\u001b[0m in \u001b[0;36m_try_get_data\u001b[0;34m(self, timeout)\u001b[0m\n\u001b[1;32m   1283\u001b[0m         \u001b[0;31m#   (bool: whether successfully get data, any: data if successful else None)\u001b[0m\u001b[0;34m\u001b[0m\u001b[0;34m\u001b[0m\u001b[0m\n\u001b[1;32m   1284\u001b[0m         \u001b[0;32mtry\u001b[0m\u001b[0;34m:\u001b[0m\u001b[0;34m\u001b[0m\u001b[0;34m\u001b[0m\u001b[0m\n\u001b[0;32m-> 1285\u001b[0;31m             \u001b[0mdata\u001b[0m \u001b[0;34m=\u001b[0m \u001b[0mself\u001b[0m\u001b[0;34m.\u001b[0m\u001b[0m_data_queue\u001b[0m\u001b[0;34m.\u001b[0m\u001b[0mget\u001b[0m\u001b[0;34m(\u001b[0m\u001b[0mtimeout\u001b[0m\u001b[0;34m=\u001b[0m\u001b[0mtimeout\u001b[0m\u001b[0;34m)\u001b[0m\u001b[0;34m\u001b[0m\u001b[0;34m\u001b[0m\u001b[0m\n\u001b[0m\u001b[1;32m   1286\u001b[0m             \u001b[0;32mreturn\u001b[0m \u001b[0;34m(\u001b[0m\u001b[0;32mTrue\u001b[0m\u001b[0;34m,\u001b[0m \u001b[0mdata\u001b[0m\u001b[0;34m)\u001b[0m\u001b[0;34m\u001b[0m\u001b[0;34m\u001b[0m\u001b[0m\n\u001b[1;32m   1287\u001b[0m         \u001b[0;32mexcept\u001b[0m \u001b[0mException\u001b[0m \u001b[0;32mas\u001b[0m \u001b[0me\u001b[0m\u001b[0;34m:\u001b[0m\u001b[0;34m\u001b[0m\u001b[0;34m\u001b[0m\u001b[0m\n",
            "\u001b[0;32m/usr/lib/python3.12/multiprocessing/queues.py\u001b[0m in \u001b[0;36mget\u001b[0;34m(self, block, timeout)\u001b[0m\n\u001b[1;32m    111\u001b[0m                 \u001b[0;32mif\u001b[0m \u001b[0mblock\u001b[0m\u001b[0;34m:\u001b[0m\u001b[0;34m\u001b[0m\u001b[0;34m\u001b[0m\u001b[0m\n\u001b[1;32m    112\u001b[0m                     \u001b[0mtimeout\u001b[0m \u001b[0;34m=\u001b[0m \u001b[0mdeadline\u001b[0m \u001b[0;34m-\u001b[0m \u001b[0mtime\u001b[0m\u001b[0;34m.\u001b[0m\u001b[0mmonotonic\u001b[0m\u001b[0;34m(\u001b[0m\u001b[0;34m)\u001b[0m\u001b[0;34m\u001b[0m\u001b[0;34m\u001b[0m\u001b[0m\n\u001b[0;32m--> 113\u001b[0;31m                     \u001b[0;32mif\u001b[0m \u001b[0;32mnot\u001b[0m \u001b[0mself\u001b[0m\u001b[0;34m.\u001b[0m\u001b[0m_poll\u001b[0m\u001b[0;34m(\u001b[0m\u001b[0mtimeout\u001b[0m\u001b[0;34m)\u001b[0m\u001b[0;34m:\u001b[0m\u001b[0;34m\u001b[0m\u001b[0;34m\u001b[0m\u001b[0m\n\u001b[0m\u001b[1;32m    114\u001b[0m                         \u001b[0;32mraise\u001b[0m \u001b[0mEmpty\u001b[0m\u001b[0;34m\u001b[0m\u001b[0;34m\u001b[0m\u001b[0m\n\u001b[1;32m    115\u001b[0m                 \u001b[0;32melif\u001b[0m \u001b[0;32mnot\u001b[0m \u001b[0mself\u001b[0m\u001b[0;34m.\u001b[0m\u001b[0m_poll\u001b[0m\u001b[0;34m(\u001b[0m\u001b[0;34m)\u001b[0m\u001b[0;34m:\u001b[0m\u001b[0;34m\u001b[0m\u001b[0;34m\u001b[0m\u001b[0m\n",
            "\u001b[0;32m/usr/lib/python3.12/multiprocessing/connection.py\u001b[0m in \u001b[0;36mpoll\u001b[0;34m(self, timeout)\u001b[0m\n\u001b[1;32m    255\u001b[0m         \u001b[0mself\u001b[0m\u001b[0;34m.\u001b[0m\u001b[0m_check_closed\u001b[0m\u001b[0;34m(\u001b[0m\u001b[0;34m)\u001b[0m\u001b[0;34m\u001b[0m\u001b[0;34m\u001b[0m\u001b[0m\n\u001b[1;32m    256\u001b[0m         \u001b[0mself\u001b[0m\u001b[0;34m.\u001b[0m\u001b[0m_check_readable\u001b[0m\u001b[0;34m(\u001b[0m\u001b[0;34m)\u001b[0m\u001b[0;34m\u001b[0m\u001b[0;34m\u001b[0m\u001b[0m\n\u001b[0;32m--> 257\u001b[0;31m         \u001b[0;32mreturn\u001b[0m \u001b[0mself\u001b[0m\u001b[0;34m.\u001b[0m\u001b[0m_poll\u001b[0m\u001b[0;34m(\u001b[0m\u001b[0mtimeout\u001b[0m\u001b[0;34m)\u001b[0m\u001b[0;34m\u001b[0m\u001b[0;34m\u001b[0m\u001b[0m\n\u001b[0m\u001b[1;32m    258\u001b[0m \u001b[0;34m\u001b[0m\u001b[0m\n\u001b[1;32m    259\u001b[0m     \u001b[0;32mdef\u001b[0m \u001b[0m__enter__\u001b[0m\u001b[0;34m(\u001b[0m\u001b[0mself\u001b[0m\u001b[0;34m)\u001b[0m\u001b[0;34m:\u001b[0m\u001b[0;34m\u001b[0m\u001b[0;34m\u001b[0m\u001b[0m\n",
            "\u001b[0;32m/usr/lib/python3.12/multiprocessing/connection.py\u001b[0m in \u001b[0;36m_poll\u001b[0;34m(self, timeout)\u001b[0m\n\u001b[1;32m    438\u001b[0m \u001b[0;34m\u001b[0m\u001b[0m\n\u001b[1;32m    439\u001b[0m     \u001b[0;32mdef\u001b[0m \u001b[0m_poll\u001b[0m\u001b[0;34m(\u001b[0m\u001b[0mself\u001b[0m\u001b[0;34m,\u001b[0m \u001b[0mtimeout\u001b[0m\u001b[0;34m)\u001b[0m\u001b[0;34m:\u001b[0m\u001b[0;34m\u001b[0m\u001b[0;34m\u001b[0m\u001b[0m\n\u001b[0;32m--> 440\u001b[0;31m         \u001b[0mr\u001b[0m \u001b[0;34m=\u001b[0m \u001b[0mwait\u001b[0m\u001b[0;34m(\u001b[0m\u001b[0;34m[\u001b[0m\u001b[0mself\u001b[0m\u001b[0;34m]\u001b[0m\u001b[0;34m,\u001b[0m \u001b[0mtimeout\u001b[0m\u001b[0;34m)\u001b[0m\u001b[0;34m\u001b[0m\u001b[0;34m\u001b[0m\u001b[0m\n\u001b[0m\u001b[1;32m    441\u001b[0m         \u001b[0;32mreturn\u001b[0m \u001b[0mbool\u001b[0m\u001b[0;34m(\u001b[0m\u001b[0mr\u001b[0m\u001b[0;34m)\u001b[0m\u001b[0;34m\u001b[0m\u001b[0;34m\u001b[0m\u001b[0m\n\u001b[1;32m    442\u001b[0m \u001b[0;34m\u001b[0m\u001b[0m\n",
            "\u001b[0;32m/usr/lib/python3.12/multiprocessing/connection.py\u001b[0m in \u001b[0;36mwait\u001b[0;34m(object_list, timeout)\u001b[0m\n\u001b[1;32m   1134\u001b[0m \u001b[0;34m\u001b[0m\u001b[0m\n\u001b[1;32m   1135\u001b[0m             \u001b[0;32mwhile\u001b[0m \u001b[0;32mTrue\u001b[0m\u001b[0;34m:\u001b[0m\u001b[0;34m\u001b[0m\u001b[0;34m\u001b[0m\u001b[0m\n\u001b[0;32m-> 1136\u001b[0;31m                 \u001b[0mready\u001b[0m \u001b[0;34m=\u001b[0m \u001b[0mselector\u001b[0m\u001b[0;34m.\u001b[0m\u001b[0mselect\u001b[0m\u001b[0;34m(\u001b[0m\u001b[0mtimeout\u001b[0m\u001b[0;34m)\u001b[0m\u001b[0;34m\u001b[0m\u001b[0;34m\u001b[0m\u001b[0m\n\u001b[0m\u001b[1;32m   1137\u001b[0m                 \u001b[0;32mif\u001b[0m \u001b[0mready\u001b[0m\u001b[0;34m:\u001b[0m\u001b[0;34m\u001b[0m\u001b[0;34m\u001b[0m\u001b[0m\n\u001b[1;32m   1138\u001b[0m                     \u001b[0;32mreturn\u001b[0m \u001b[0;34m[\u001b[0m\u001b[0mkey\u001b[0m\u001b[0;34m.\u001b[0m\u001b[0mfileobj\u001b[0m \u001b[0;32mfor\u001b[0m \u001b[0;34m(\u001b[0m\u001b[0mkey\u001b[0m\u001b[0;34m,\u001b[0m \u001b[0mevents\u001b[0m\u001b[0;34m)\u001b[0m \u001b[0;32min\u001b[0m \u001b[0mready\u001b[0m\u001b[0;34m]\u001b[0m\u001b[0;34m\u001b[0m\u001b[0;34m\u001b[0m\u001b[0m\n",
            "\u001b[0;32m/usr/lib/python3.12/selectors.py\u001b[0m in \u001b[0;36mselect\u001b[0;34m(self, timeout)\u001b[0m\n\u001b[1;32m    413\u001b[0m         \u001b[0mready\u001b[0m \u001b[0;34m=\u001b[0m \u001b[0;34m[\u001b[0m\u001b[0;34m]\u001b[0m\u001b[0;34m\u001b[0m\u001b[0;34m\u001b[0m\u001b[0m\n\u001b[1;32m    414\u001b[0m         \u001b[0;32mtry\u001b[0m\u001b[0;34m:\u001b[0m\u001b[0;34m\u001b[0m\u001b[0;34m\u001b[0m\u001b[0m\n\u001b[0;32m--> 415\u001b[0;31m             \u001b[0mfd_event_list\u001b[0m \u001b[0;34m=\u001b[0m \u001b[0mself\u001b[0m\u001b[0;34m.\u001b[0m\u001b[0m_selector\u001b[0m\u001b[0;34m.\u001b[0m\u001b[0mpoll\u001b[0m\u001b[0;34m(\u001b[0m\u001b[0mtimeout\u001b[0m\u001b[0;34m)\u001b[0m\u001b[0;34m\u001b[0m\u001b[0;34m\u001b[0m\u001b[0m\n\u001b[0m\u001b[1;32m    416\u001b[0m         \u001b[0;32mexcept\u001b[0m \u001b[0mInterruptedError\u001b[0m\u001b[0;34m:\u001b[0m\u001b[0;34m\u001b[0m\u001b[0;34m\u001b[0m\u001b[0m\n\u001b[1;32m    417\u001b[0m             \u001b[0;32mreturn\u001b[0m \u001b[0mready\u001b[0m\u001b[0;34m\u001b[0m\u001b[0;34m\u001b[0m\u001b[0m\n",
            "\u001b[0;31mKeyboardInterrupt\u001b[0m: "
          ]
        }
      ],
      "source": [
        "best_val_mae = np.inf\n",
        "\n",
        "curr_epoch = 0\n",
        "\n",
        "losses = pd.DataFrame(columns=[\"epoch\", \"tr_mae\", \"val_mae\"])\n",
        "if os.path.exists(\"../checkpoints/Dropout3DCNN_best_model.pth\"):\n",
        "    state_dict = th.load(\"../checkpoints/Dropout3DCNN_best_model.pth\", weights_only=False)\n",
        "    curr_epoch = state_dict[\"epoch\"]\n",
        "    best_val_mae = state_dict[\"best_val_mae\"]\n",
        "    network.load_state_dict(state_dict[\"model_state_dict\"])\n",
        "    optimizer.load_state_dict(state_dict[\"optimizer_state_dict\"])\n",
        "    losses = pd.read_csv(\"../results/Dropout3DCNN_results.csv\")\n",
        "    losses = losses[losses[\"epoch\"] <= curr_epoch]\n",
        "\n",
        "for epoch in range(curr_epoch+1, 200):\n",
        "    tr_loss = train_epoch(network, train_dl, optimizer)\n",
        "    val_mae, val_std = eval_model(network, val_dl)\n",
        "    print(f'Epoch {epoch+1}: train loss {tr_loss:.3f}, val MAE {val_mae:.3f} ± {val_std:.3f}')\n",
        "    if val_mae < best_val_mae:\n",
        "        best_val_mae = val_mae\n",
        "        print(f\"New lowest reached: {best_val_mae:.3f}. Saving checkpoint\")\n",
        "        checkpoint = {\n",
        "            'epoch': epoch,                         # last epoch\n",
        "            'model_state_dict': network.state_dict(), # model parameters\n",
        "            'optimizer_state_dict': optimizer.state_dict(),  # optimizer state\n",
        "            'best_val_mae': best_val_mae\n",
        "        }\n",
        "        os.makedirs(\"../checkpoints\", exist_ok=True)\n",
        "        th.save(checkpoint, f'../checkpoints/Dropout3DCNN_best_model.pth')\n",
        "    losses.loc[len(losses)] = {\"tr_mae\": tr_loss, \"val_mae\": val_mae, \"epoch\": epoch}\n",
        "    os.makedirs(\"../results\", exist_ok=True)\n",
        "    losses.to_csv(\"../results/Dropout3DCNN_results.csv\", index=False)"
      ]
    },
    {
      "cell_type": "code",
      "source": [
        "if os.path.exists(\"../checkpoints/Dropout3DCNN_best_model.pth\"):\n",
        "    state_dict = th.load(\"../checkpoints/Dropout3DCNN_best_model.pth\", weights_only=False)\n",
        "    curr_epoch = state_dict[\"epoch\"]\n",
        "    best_val_mae = state_dict[\"best_val_mae\"]\n",
        "    network.load_state_dict(state_dict[\"model_state_dict\"])\n",
        "    optimizer.load_state_dict(state_dict[\"optimizer_state_dict\"])\n",
        "    losses = pd.read_csv(\"../results/Dropout3DCNN_results.csv\")"
      ],
      "metadata": {
        "id": "dARKkrhqvgRe"
      },
      "id": "dARKkrhqvgRe",
      "execution_count": 52,
      "outputs": []
    },
    {
      "cell_type": "code",
      "source": [
        "test_ds = MRIDataset(\n",
        "    test_set,\n",
        "    transform=transforms\n",
        ")\n",
        "\n",
        "test_dl = DataLoader(test_ds, batch_size=12,\n",
        "                        num_workers=0,\n",
        "                        pin_memory=True,\n",
        "                        persistent_workers=False,\n",
        "                        prefetch_factor=None)\n",
        "\n",
        "test_mae, test_std = eval_model(network, test_dl)\n",
        "print(f'Test MAE {test_mae:.3f} ± {test_std:.3f}')"
      ],
      "metadata": {
        "id": "GD062JWjvmjo",
        "outputId": "fb59034c-6ffe-4eae-fe86-86ce7f8facab",
        "colab": {
          "base_uri": "https://localhost:8080/"
        }
      },
      "id": "GD062JWjvmjo",
      "execution_count": 33,
      "outputs": [
        {
          "output_type": "stream",
          "name": "stdout",
          "text": [
            "Test MAE 19.532 ± 10.345\n"
          ]
        }
      ]
    },
    {
      "cell_type": "code",
      "source": [
        "vec_losses = losses[[\"epoch\", \"tr_mae\", \"val_mae\"]].values\n",
        "\n",
        "plt.plot(vec_losses[:, 0], vec_losses[:, 1], label=\"train loss\")\n",
        "plt.plot(vec_losses[:, 0], vec_losses[:, 2], label=\"validation loss\")\n",
        "plt.legend()\n",
        "plt.show()"
      ],
      "metadata": {
        "id": "XJ-U7XeYvtA2",
        "outputId": "5845656e-0aec-4cc3-e34c-1ef9dd841c67",
        "colab": {
          "base_uri": "https://localhost:8080/",
          "height": 430
        }
      },
      "id": "XJ-U7XeYvtA2",
      "execution_count": 34,
      "outputs": [
        {
          "output_type": "display_data",
          "data": {
            "text/plain": [
              "<Figure size 640x480 with 1 Axes>"
            ],
            "image/png": "[encoded data removed]"
          },
          "metadata": {}
        }
      ]
    },
    {
      "cell_type": "markdown",
      "source": [
        "Just adding the dropout allowed us to reach an incredibly good results, but we see the first problems of our network finally showing up. As we can see, the validation and training losses are becoming comparable and they are reaching a common plateau. However, this could _not_ due to the limitation of the network, but still justifiable with the learning rate. To get a clear glimpse of what it is happening, it is important to consider how the network is training.\n",
        "\n",
        "Remember that we train a generic CNN via _gradient descent_ algorithm. Mathematically speaking, we are doing the following:\n",
        "\n",
        "$\\theta \\leftarrow \\theta - \\eta \\, \\nabla_{\\theta} \\mathcal{L}(y, \\hat{y})$\n",
        "\n",
        "where $\\theta$ are the parameters of the CNN. If the learning rate is too high, what happens is that our network creates updates that traverse the loss landscape too boldly. This may translate to the plateau we see. To understand if this is the case, let's take a lot at the gradient of our training. Let's add 2 parameters:\n",
        "- a scheduler to module the learning rate\n",
        "- an option to plot the norm of the gradients"
      ],
      "metadata": {
        "id": "6dECotV1vwR-"
      },
      "id": "6dECotV1vwR-"
    },
    {
      "cell_type": "code",
      "source": [
        "def grad_norm(model):\n",
        "    \"\"\"Compute total L2 norm of gradients over all parameters.\"\"\"\n",
        "    total_norm = 0.0\n",
        "    for p in model.parameters():\n",
        "        if p.grad is not None:\n",
        "            param_norm = p.grad.data.norm(2).item()\n",
        "            total_norm += param_norm ** 2\n",
        "    return total_norm ** 0.5\n",
        "\n",
        "def train_epoch(model, loader, optimizer, update=True, log_norm=False, scheduler=None):\n",
        "    model.train()\n",
        "    running = 0.0\n",
        "\n",
        "    if log_norm:\n",
        "      grad_norm_sum = 0.0\n",
        "      grad_norm_count = 0\n",
        "      max_grad_norm = 0.0\n",
        "\n",
        "    for batch in tqdm.tqdm(loader):\n",
        "        img = batch[\"t1n\"].to(device)\n",
        "        age = batch[\"age\"].to(device).view(-1, 1)\n",
        "        pred = model(img).view(-1, 1)\n",
        "        loss = loss_fn(pred, age)\n",
        "        optimizer.zero_grad()\n",
        "        loss.backward()\n",
        "\n",
        "        if update:\n",
        "          optimizer.step()\n",
        "\n",
        "        else:\n",
        "          loss = loss.detach()\n",
        "        running += loss.item() * img.size(0)\n",
        "\n",
        "        if log_norm:\n",
        "            gn = grad_norm(model)\n",
        "            grad_norm_sum += gn\n",
        "            grad_norm_count += 1\n",
        "            if gn > max_grad_norm:\n",
        "                max_grad_norm = gn\n",
        "\n",
        "    if log_norm and grad_norm_count > 0:\n",
        "        avg_grad_norm = grad_norm_sum / grad_norm_count\n",
        "        print(f\"Average grad norm={avg_grad_norm:.6f}  Maximum value={max_grad_norm:.6f}\")\n",
        "    if update:\n",
        "        if scheduler is not None:\n",
        "          if isinstance(scheduler, th.optim.lr_scheduler.ReduceLROnPlateau):\n",
        "            scheduler.step(loss)\n",
        "          else:\n",
        "            scheduler.step()\n",
        "\n",
        "    return running / len(loader.dataset)"
      ],
      "metadata": {
        "id": "nP9GtAtdQe3Z"
      },
      "id": "nP9GtAtdQe3Z",
      "execution_count": 58,
      "outputs": []
    },
    {
      "cell_type": "markdown",
      "source": [
        "First, let's check the effect of the gradient"
      ],
      "metadata": {
        "id": "WVc8o8yXTEsa"
      },
      "id": "WVc8o8yXTEsa"
    },
    {
      "cell_type": "code",
      "source": [
        "train_epoch(network, train_dl, optimizer, update=False, log_norm=True)"
      ],
      "metadata": {
        "id": "UT2xu9v-TD6r",
        "outputId": "d6708942-e454-48ca-f801-ad06b0136996",
        "colab": {
          "base_uri": "https://localhost:8080/"
        }
      },
      "id": "UT2xu9v-TD6r",
      "execution_count": 53,
      "outputs": [
        {
          "output_type": "stream",
          "name": "stderr",
          "text": [
            "100%|██████████| 9/9 [00:11<00:00,  1.27s/it]"
          ]
        },
        {
          "output_type": "stream",
          "name": "stdout",
          "text": [
            "Average grad norm=11.510117  Maximum value=25.345370\n"
          ]
        },
        {
          "output_type": "stream",
          "name": "stderr",
          "text": [
            "\n"
          ]
        },
        {
          "output_type": "execute_result",
          "data": {
            "text/plain": [
              "13.743687610236966"
            ]
          },
          "metadata": {},
          "execution_count": 53
        }
      ]
    },
    {
      "cell_type": "markdown",
      "source": [
        "We create a scheduler that reduces linearly the learning rate."
      ],
      "metadata": {
        "id": "9h73nO4iQqEV"
      },
      "id": "9h73nO4iQqEV"
    },
    {
      "cell_type": "markdown",
      "source": [
        "As we can see, an huge gradient is computed, which may be the culprit of our problem. Let's try to start a new training considering now our scheduler"
      ],
      "metadata": {
        "id": "_Lk_A9_vXIzg"
      },
      "id": "_Lk_A9_vXIzg"
    },
    {
      "cell_type": "code",
      "source": [
        "scheduler = th.optim.lr_scheduler.LinearLR(optimizer, start_factor=1e-2, end_factor=1e-5, total_iters=30)"
      ],
      "metadata": {
        "id": "GZKhA6icQ0V8"
      },
      "id": "GZKhA6icQ0V8",
      "execution_count": 60,
      "outputs": []
    },
    {
      "cell_type": "code",
      "source": [
        "network = Dropout3DCNN().to(device=device)\n",
        "optimizer = th.optim.AdamW(network.parameters(), lr=5e-3)\n",
        "loss_fn = nn.L1Loss() # We are interested to minimise the MAE"
      ],
      "metadata": {
        "id": "U0CRsgD6XZlb"
      },
      "id": "U0CRsgD6XZlb",
      "execution_count": 61,
      "outputs": []
    },
    {
      "cell_type": "code",
      "source": [
        "best_val_mae = np.inf\n",
        "\n",
        "curr_epoch = 0\n",
        "\n",
        "losses = pd.DataFrame(columns=[\"epoch\", \"tr_mae\", \"val_mae\"])\n",
        "if os.path.exists(\"../checkpoints/Dropout3DCNN_best_model_scheduler=Linear.pth\"):\n",
        "    state_dict = th.load(\"../checkpoints/Dropout3DCNN_best_model_scheduler=Linear.pth\", weights_only=False)\n",
        "    curr_epoch = state_dict[\"epoch\"]\n",
        "    best_val_mae = state_dict[\"best_val_mae\"]\n",
        "    network.load_state_dict(state_dict[\"model_state_dict\"])\n",
        "    optimizer.load_state_dict(state_dict[\"optimizer_state_dict\"])\n",
        "    losses = pd.read_csv(\"../results/Dropout3DCNN_results_scheduler=Linear.csv\")\n",
        "    losses = losses[losses[\"epoch\"] <= curr_epoch]\n",
        "\n",
        "for epoch in range(curr_epoch+1, 200):\n",
        "    tr_loss = train_epoch(network, train_dl, optimizer, update=True, log_norm=True, scheduler=scheduler)\n",
        "    val_mae, val_std = eval_model(network, val_dl)\n",
        "    print(f'Epoch {epoch+1}: train loss {tr_loss:.3f}, val MAE {val_mae:.3f} ± {val_std:.3f}')\n",
        "    if val_mae < best_val_mae:\n",
        "        best_val_mae = val_mae\n",
        "        print(f\"New lowest reached: {best_val_mae:.3f}. Saving checkpoint\")\n",
        "        checkpoint = {\n",
        "            'epoch': epoch,                         # last epoch\n",
        "            'model_state_dict': network.state_dict(), # model parameters\n",
        "            'optimizer_state_dict': optimizer.state_dict(),  # optimizer state\n",
        "            'best_val_mae': best_val_mae\n",
        "        }\n",
        "        os.makedirs(\"../checkpoints\", exist_ok=True)\n",
        "        th.save(checkpoint, f'../checkpoints/Dropout3DCNN_best_model_scheduler=Linear.pth')\n",
        "    losses.loc[len(losses)] = {\"tr_mae\": tr_loss, \"val_mae\": val_mae, \"epoch\": epoch}\n",
        "    os.makedirs(\"../results\", exist_ok=True)\n",
        "    losses.to_csv(\"../results/Dropout3DCNN_results_scheduler=Linear.csv\", index=False)"
      ],
      "metadata": {
        "id": "nkN9vMXVXa5S",
        "outputId": "8759c879-e993-44b9-d130-a65058b12f5d",
        "colab": {
          "base_uri": "https://localhost:8080/"
        }
      },
      "id": "nkN9vMXVXa5S",
      "execution_count": null,
      "outputs": [
        {
          "output_type": "stream",
          "name": "stderr",
          "text": [
            "100%|██████████| 9/9 [00:11<00:00,  1.25s/it]"
          ]
        },
        {
          "output_type": "stream",
          "name": "stdout",
          "text": [
            "Average grad norm=2.758683  Maximum value=3.704002\n"
          ]
        },
        {
          "output_type": "stream",
          "name": "stderr",
          "text": [
            "\n"
          ]
        },
        {
          "output_type": "stream",
          "name": "stdout",
          "text": [
            "Epoch 2: train loss 48.618, val MAE 48.842 ± 16.297\n",
            "New lowest reached: 48.842. Saving checkpoint\n"
          ]
        },
        {
          "output_type": "stream",
          "name": "stderr",
          "text": [
            "100%|██████████| 9/9 [00:11<00:00,  1.29s/it]\n"
          ]
        },
        {
          "output_type": "stream",
          "name": "stdout",
          "text": [
            "Average grad norm=4.766636  Maximum value=6.060052\n",
            "Epoch 3: train loss 46.748, val MAE 47.319 ± 16.285\n",
            "New lowest reached: 47.319. Saving checkpoint\n"
          ]
        },
        {
          "output_type": "stream",
          "name": "stderr",
          "text": [
            "100%|██████████| 9/9 [00:11<00:00,  1.24s/it]\n"
          ]
        },
        {
          "output_type": "stream",
          "name": "stdout",
          "text": [
            "Average grad norm=7.550014  Maximum value=9.076336\n",
            "Epoch 4: train loss 43.620, val MAE 44.142 ± 16.297\n",
            "New lowest reached: 44.142. Saving checkpoint\n"
          ]
        },
        {
          "output_type": "stream",
          "name": "stderr",
          "text": [
            "100%|██████████| 9/9 [00:10<00:00,  1.19s/it]\n"
          ]
        },
        {
          "output_type": "stream",
          "name": "stdout",
          "text": [
            "Average grad norm=11.227791  Maximum value=13.339164\n",
            "Epoch 5: train loss 37.897, val MAE 38.520 ± 16.330\n",
            "New lowest reached: 38.520. Saving checkpoint\n"
          ]
        },
        {
          "output_type": "stream",
          "name": "stderr",
          "text": [
            "100%|██████████| 9/9 [00:11<00:00,  1.27s/it]\n"
          ]
        },
        {
          "output_type": "stream",
          "name": "stdout",
          "text": [
            "Average grad norm=16.152320  Maximum value=26.251271\n",
            "Epoch 6: train loss 29.404, val MAE 28.559 ± 16.491\n",
            "New lowest reached: 28.559. Saving checkpoint\n"
          ]
        },
        {
          "output_type": "stream",
          "name": "stderr",
          "text": [
            "100%|██████████| 9/9 [00:11<00:00,  1.26s/it]\n"
          ]
        },
        {
          "output_type": "stream",
          "name": "stdout",
          "text": [
            "Average grad norm=15.488219  Maximum value=31.438987\n",
            "Epoch 7: train loss 20.605, val MAE 26.540 ± 15.976\n",
            "New lowest reached: 26.540. Saving checkpoint\n"
          ]
        },
        {
          "output_type": "stream",
          "name": "stderr",
          "text": [
            "100%|██████████| 9/9 [00:10<00:00,  1.19s/it]\n"
          ]
        },
        {
          "output_type": "stream",
          "name": "stdout",
          "text": [
            "Average grad norm=16.041559  Maximum value=33.173354\n",
            "Epoch 8: train loss 15.160, val MAE 19.412 ± 13.167\n",
            "New lowest reached: 19.412. Saving checkpoint\n"
          ]
        },
        {
          "output_type": "stream",
          "name": "stderr",
          "text": [
            " 22%|██▏       | 2/9 [00:04<00:13,  1.99s/it]"
          ]
        }
      ]
    }
  ],
  "metadata": {
    "kernelspec": {
      "display_name": "Python 3",
      "name": "python3"
    },
    "language_info": {
      "codemirror_mode": {
        "name": "ipython",
        "version": 3
      },
      "file_extension": ".py",
      "mimetype": "text/x-python",
      "name": "python",
      "nbconvert_exporter": "python",
      "pygments_lexer": "ipython3",
      "version": "3.10.14"
    },
    "colab": {
      "provenance": [],
      "gpuType": "T4"
    },
    "accelerator": "GPU"
  },
  "nbformat": 4,
  "nbformat_minor": 5
}